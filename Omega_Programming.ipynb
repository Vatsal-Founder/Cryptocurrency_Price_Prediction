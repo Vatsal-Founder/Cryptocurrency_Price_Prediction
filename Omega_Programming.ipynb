{
 "cells": [
  {
   "cell_type": "markdown",
   "id": "3aab094c",
   "metadata": {},
   "source": [
    "# Importing Libraries"
   ]
  },
  {
   "cell_type": "code",
   "execution_count": 38,
   "id": "3295fc4f",
   "metadata": {},
   "outputs": [],
   "source": [
    "\n",
    "\n",
    "import pandas as pd\n",
    "import numpy as np\n",
    "import csv\n",
    "import datetime\n",
    "import time\n",
    "import math\n",
    "import matplotlib.pyplot as plot\n",
    "import plotly.graph_objects as go\n",
    "from itertools import cycle\n",
    "import plotly.express as px\n",
    "from plotly.subplots import make_subplots\n",
    "\n",
    "\n",
    "from xgboost import XGBRegressor\n",
    "from sklearn.metrics import mean_squared_error, mean_absolute_error, explained_variance_score, r2_score \n",
    "from sklearn.metrics import mean_poisson_deviance, mean_gamma_deviance, accuracy_score\n",
    "from sklearn.preprocessing import MinMaxScaler\n",
    "\n",
    "\n",
    "import tensorflow as tf\n",
    "from tensorflow.keras.models import Sequential\n",
    "from tensorflow.keras.layers import Dense, Dropout\n",
    "from tensorflow.keras.layers import LSTM\n",
    "\n",
    "from sklearn import preprocessing\n",
    "from numpy import array\n"
   ]
  },
  {
   "cell_type": "markdown",
   "id": "240dc1f7",
   "metadata": {},
   "source": [
    "# Building Model (XGBoost and LSTM)"
   ]
  },
  {
   "cell_type": "code",
   "execution_count": 39,
   "id": "2f0cb3a7",
   "metadata": {},
   "outputs": [],
   "source": [
    "class Crypto:\n",
    "    \n",
    "    def __init__(self,data,closedf):\n",
    "        self.data = []\n",
    "        self.closedf=[]\n",
    "    \n",
    "    def load_data():\n",
    "        global data\n",
    "        data=pd.read_csv('Bitcoin.csv' )\n",
    "        return data\n",
    "    \n",
    "    def clean_data():\n",
    "        global data\n",
    "        print('Total Null Values:',data.isnull().values.sum())\n",
    "        print('Total NA values:',data.isnull().values.any())\n",
    "        data['Date'] = pd.to_datetime(data['Date'], format='%Y-%m-%d')\n",
    "        return data.info()\n",
    "        \n",
    "    def model_preparation():\n",
    "        global closedf\n",
    "        global scaler\n",
    "        global close_stock\n",
    "        closedf = data[['Date','Close']]\n",
    "        closedf = closedf[closedf['Date'] > '2020-09-01']\n",
    "        close_stock = closedf.copy()\n",
    "        print(\"Total data for prediction: \",closedf.shape[0])\n",
    "        \n",
    "        #Normalization\n",
    "        del closedf['Date']\n",
    "        scaler = preprocessing.MinMaxScaler(feature_range=(0, 1))\n",
    "        closedf=scaler.fit_transform(np.array(closedf).reshape(-1,1))\n",
    "        print(closedf.shape)\n",
    "        \n",
    "        \n",
    "    #XBOOST\n",
    "    def splitData():\n",
    "        global X_train, Y_train\n",
    "        global X_test, Y_test\n",
    "        global time_step, test_data, training_data\n",
    "        #Seperating Training Data and Test Data\n",
    "        training_size = int(len(closedf)*0.70) #70 percent for training data\n",
    "        test_size = len(closedf) - training_size #remaining 30 percent for test data\n",
    "        training_data , test_data = closedf[0:training_size,:], closedf[training_size:len(closedf), :1]\n",
    "        print(\"Training Data: \", training_data.shape)\n",
    "        print(\"Test Data: \", test_data.shape)\n",
    "        #Preparing Training Data for time series analysis\n",
    "        # convert an array of values into a dataset matrix\n",
    "        def create_dataset(dataset, time_step=1):\n",
    "            Xdata, Ydata = [], []\n",
    "            for i in range(len(dataset)-time_step-1):\n",
    "                p = dataset[i:(i+time_step), 0]\n",
    "                Xdata.append(p)\n",
    "                Ydata.append(dataset[i + time_step, 0])\n",
    "            return np.array(Xdata), np.array(Ydata)\n",
    "        time_step = 21\n",
    "        X_train, Y_train = create_dataset(training_data, time_step)\n",
    "        X_test, Y_test = create_dataset(test_data, time_step)\n",
    "\n",
    "        print(\"X_train: \", X_train.shape)\n",
    "        print(\"Y_train: \", Y_train.shape)\n",
    "        print(\"X_test: \", X_test.shape)\n",
    "        print(\"Y_test\", Y_test.shape)\n",
    "        \n",
    "        return create_dataset\n",
    "\n",
    "    def plotTrainTest():\n",
    "        global close_stock\n",
    "        fig, ax = plt.subplots(figsize=(15, 6))\n",
    "        sns.lineplot(x = close_stock['Date'][:354], y = close_stock['Close'][:354], color = 'black')\n",
    "        sns.lineplot(x = close_stock['Date'][354:], y = close_stock['Close'][354:], color = 'red')\n",
    "\n",
    "        #Adding graph title etc.\n",
    "        ax.set_title('Train & Test data', fontsize = 20, loc='center', fontdict=dict(weight='bold'))\n",
    "        ax.set_xlabel('Date', fontsize = 16, fontdict=dict(weight='bold'))\n",
    "        ax.set_ylabel('Weekly Sales', fontsize = 16, fontdict=dict(weight='bold'))\n",
    "        plt.tick_params(axis='y', which='major', labelsize=16)\n",
    "        plt.tick_params(axis='x', which='major', labelsize=16)\n",
    "        plt.legend(loc='upper right' ,labels = ('train', 'test'))\n",
    "        plt.show()\n",
    "       \n",
    "    def xgboostModel():\n",
    "        global X_train, Y_train\n",
    "        global X_test, Y_test\n",
    "        global scaler, time_step\n",
    "        global xg_model\n",
    "        \n",
    "        #Building XGBoost Model\n",
    "        xg_model = XGBRegressor(n_estimators = 1000)\n",
    "        xg_model.fit(X_train, Y_train, verbose = False)\n",
    "        prediction = xg_model.predict(X_test)\n",
    "        \n",
    "        print(\"Mean Absolute Error - MAE : \" + str(mean_absolute_error(Y_test, prediction)))\n",
    "        print(\"Root Mean squared Error - RMSE : \" + str(math.sqrt(mean_squared_error(Y_test, prediction))))\n",
    "       \n",
    "        \n",
    "        training_predict=xg_model.predict(X_train)\n",
    "        test_predict=xg_model.predict(X_test)\n",
    "\n",
    "        training_predict = training_predict.reshape(-1,1)\n",
    "        test_predict = test_predict.reshape(-1,1)\n",
    "\n",
    "\n",
    "        # Transform back to original form\n",
    "\n",
    "        training_predict = scaler.inverse_transform(training_predict)\n",
    "        test_predict = scaler.inverse_transform(test_predict)\n",
    "        original_Ytrain = scaler.inverse_transform(Y_train.reshape(-1,1)) \n",
    "        original_Ytest = scaler.inverse_transform(Y_test.reshape(-1,1))\n",
    "        print(\"Train data explained variance regression score:\", explained_variance_score(original_Ytrain, training_predict))\n",
    "        print(\"Test data explained variance regression score:\", explained_variance_score(original_Ytest, test_predict))\n",
    "        print(\"Train data R2 score:\", r2_score(original_Ytrain, training_predict))\n",
    "        print(\"Test data R2 score:\", r2_score(original_Ytest, test_predict))\n",
    "                \n",
    "        \n",
    "        \n",
    "        # shift train predictions for plotting\n",
    "\n",
    "        look_back=time_step\n",
    "        trainPredictPlot = np.empty_like(closedf)\n",
    "        trainPredictPlot[:, :] = np.nan\n",
    "        trainPredictPlot[look_back:len(training_predict)+look_back, :] = training_predict\n",
    "        print(\"Train predicted data: \", trainPredictPlot.shape)\n",
    "\n",
    "        # shift test predictions for plotting\n",
    "        testPredictPlot = np.empty_like(closedf)\n",
    "        testPredictPlot[:, :] = np.nan\n",
    "        testPredictPlot[len(training_predict)+(look_back*2)+1:len(closedf)-1, :] = test_predict\n",
    "        print(\"Test predicted data: \", testPredictPlot.shape)\n",
    "\n",
    "        names = cycle(['Original close price','Train predicted close price','Test predicted close price'])\n",
    "\n",
    "        plotdf = pd.DataFrame({'date': close_stock['Date'],\n",
    "                               'original_close': close_stock['Close'],\n",
    "                              'train_predicted_close': trainPredictPlot.reshape(1,-1)[0].tolist(),\n",
    "                              'test_predicted_close': testPredictPlot.reshape(1,-1)[0].tolist()})\n",
    "\n",
    "        fig = px.line(plotdf,x=plotdf['date'], y=[plotdf['original_close'],plotdf['train_predicted_close'],\n",
    "                                                  plotdf['test_predicted_close']],\n",
    "                      labels={'value':'Close price','date': 'Date'})\n",
    "        fig.update_layout(title_text='Comparison between Original Close Price Vs Predicted Close Price',\n",
    "                          plot_bgcolor='white', font_size=15, font_color='black',legend_title_text='Close Price')\n",
    "        fig.for_each_trace(lambda t:  t.update(name = next(names)))\n",
    "\n",
    "        fig.update_xaxes(showgrid=False)\n",
    "        fig.update_yaxes(showgrid=False)\n",
    "        fig.show()\n",
    "        \n",
    "        return\n",
    "        \n",
    "    def xgboostPrediction():\n",
    "        global test_data, time_step\n",
    "        global X_input\n",
    "        global xg_model\n",
    "        \n",
    "        #Prediction of next 10 days\n",
    "        X_input = test_data[len(test_data)-time_step:].reshape(1,-1)\n",
    "        input_temp = list(X_input)\n",
    "        input_temp = input_temp[0].tolist()\n",
    "\n",
    "        from numpy import array\n",
    "\n",
    "        lst_output = []\n",
    "        steps = time_step\n",
    "        i = 0\n",
    "        pred_days = 10\n",
    "        while(i < pred_days):\n",
    "\n",
    "            if(len(input_temp) > steps):\n",
    "\n",
    "                X_input = np.array(input_temp[1:])\n",
    "                #print(\"{} day input {}\".format(i,x_input))\n",
    "                X_input=X_input.reshape(1,-1)\n",
    "\n",
    "                yhat = xg_model.predict(X_input)\n",
    "                #print(\"{} day output {}\".format(i,yhat))\n",
    "                input_temp.extend(yhat.tolist())\n",
    "                input_temp=input_temp[1:]\n",
    "\n",
    "                lst_output.extend(yhat.tolist())\n",
    "                i = i + 1\n",
    "\n",
    "            else:\n",
    "                yhat = xg_model.predict(X_input)\n",
    "\n",
    "                input_temp.extend(yhat.tolist())\n",
    "                lst_output.extend(yhat.tolist())\n",
    "\n",
    "                i = i + 1\n",
    "\n",
    "        print(\"Output of next predicted days: \", len(lst_output))\n",
    "\n",
    "        last_days = np.arange(1, time_step + 1)\n",
    "        day_pred = np.arange(time_step + 1, time_step + pred_days + 1)\n",
    "        temp_matrix = np.empty((len(last_days) + pred_days + 1, 1))\n",
    "        temp_matrix[:] = np.nan\n",
    "        temp_matrix = temp_matrix.reshape(1,-1).tolist()[0]\n",
    "\n",
    "        Original_last_days_value = temp_matrix\n",
    "        Predicted_next_days_value = temp_matrix\n",
    "\n",
    "        Original_last_days_value[0:time_step+1] = scaler.inverse_transform(closedf[len(closedf)-time_step:]).reshape(1,-1).tolist()[0]\n",
    "        Predicted_next_days_value[time_step+1:] = scaler.inverse_transform(np.array(lst_output).reshape(-1,1)).reshape(1,-1).tolist()[0]\n",
    "\n",
    "        #print(Original_last_days_value[0:time_step+1])\n",
    "        #print(Predicted_next_days_value[time_step+1:])\n",
    "        new_pred_plot = pd.DataFrame({\n",
    "            'Original_Last_Days_Value':Original_last_days_value,\n",
    "            'Predicted_Next_Days_Value':Predicted_next_days_value\n",
    "        })\n",
    "\n",
    "        names = cycle(['Last 15 days close price','Predicted next 10 days close price'])\n",
    "\n",
    "        fig = px.line(new_pred_plot,x=new_pred_plot.index, y=[new_pred_plot['Original_Last_Days_Value'], new_pred_plot['Predicted_Next_Days_Value']],\n",
    "                      labels={'value': 'Close price','index': 'Timestamp'})\n",
    "        fig.update_layout(title_text='Compare last 15 days Vs Next 10 days',\n",
    "                          plot_bgcolor='white', font_size=15, font_color='black',legend_title_text='Close Price')\n",
    "        fig.for_each_trace(lambda t:  t.update(name = next(names)))\n",
    "        fig.update_xaxes(showgrid=False)\n",
    "        fig.update_yaxes(showgrid=False)\n",
    "        fig.show()\n",
    "        \n",
    "        xg_model=closedf.tolist()\n",
    "        xg_model.extend((np.array(lst_output).reshape(-1,1)).tolist())\n",
    "        xg_model=scaler.inverse_transform(xg_model).reshape(1,-1).tolist()[0]\n",
    "\n",
    "        names = cycle(['Close Price'])\n",
    "\n",
    "        fig = px.line(xg_model,labels={'value': 'Close price','index': 'Timestamp'})\n",
    "        fig.update_layout(title_text='Plotting whole closing price with prediction',\n",
    "                          plot_bgcolor='white', font_size=15, font_color='black',legend_title_text='Stock')\n",
    "        fig.for_each_trace(lambda t:  t.update(name = next(names)))\n",
    "        fig.update_xaxes(showgrid=False)\n",
    "        fig.update_yaxes(showgrid=False)\n",
    "        fig.show()\n",
    "        return\n",
    "        \n",
    "    #Splitting for LSTM Model    \n",
    "    def splitting_data():\n",
    "        global closedf\n",
    "        global train_data\n",
    "        global test_data\n",
    "        global X_train\n",
    "        global X_test\n",
    "        global y_train\n",
    "        global y_test\n",
    "        global time_step\n",
    "        training_size=int(len(closedf)*0.70)\n",
    "        test_size=len(closedf)-training_size\n",
    "        train_data,test_data=closedf[0:training_size,:],closedf[training_size:len(closedf),:1]\n",
    "        print(\"Train_data: \", train_data.shape)\n",
    "        print(\"Test_data: \", test_data.shape)\n",
    "        def create_dataset(dataset, time_step=1):\n",
    "                dataX, dataY = [], []\n",
    "                for i in range(len(dataset)-time_step-1):\n",
    "                    a = dataset[i:(i+time_step), 0]   ###i=0, 0,1,2,3-----99   100 \n",
    "                    dataX.append(a)\n",
    "                    dataY.append(dataset[i + time_step, 0])\n",
    "                return np.array(dataX), np.array(dataY)\n",
    "        time_step = 15\n",
    "        X_train, y_train = create_dataset(train_data, time_step)\n",
    "        X_test, y_test =create_dataset(test_data, time_step)\n",
    "        print(\"X_train: \", X_train.shape)\n",
    "        print(\"y_train: \", y_train.shape)\n",
    "        print(\"X_test: \", X_test.shape)\n",
    "        print(\"y_test\", y_test.shape)\n",
    "        \n",
    "\n",
    "        return create_dataset\n",
    "    \n",
    "    \n",
    "    def lstm_model():\n",
    "        global X_train\n",
    "        global X_test\n",
    "        global y_train\n",
    "        global y_test\n",
    "        global train_predict\n",
    "        global test_predict\n",
    "        global scaler\n",
    "        global model\n",
    "        # reshape input to be [samples, time steps, features] which is required for LSTM\n",
    "        X_train =X_train.reshape(X_train.shape[0],X_train.shape[1] , 1)\n",
    "        X_test = X_test.reshape(X_test.shape[0],X_test.shape[1] , 1)\n",
    "        print(\"X_train: \", X_train.shape)\n",
    "        print(\"X_test: \", X_test.shape)\n",
    "        print(\"y_train: \", y_train.shape)\n",
    "        print(\"y_test: \", y_test.shape)\n",
    "        model=Sequential()\n",
    "        model.add(LSTM(10,input_shape=(None,1),activation=\"relu\"))\n",
    "        model.add(Dense(1))\n",
    "        model.compile(loss=\"mean_squared_error\",optimizer=\"adam\")\n",
    "        model.fit(X_train,y_train,validation_data=(X_test,y_test),epochs=200,batch_size=32,verbose=1)\n",
    "        \n",
    "        train_predict=model.predict(X_train)\n",
    "        test_predict=model.predict(X_test)\n",
    "        train_predict.shape, test_predict.shape\n",
    "        print(\"Mean Absolute Error - MAE : \" + str(mean_absolute_error(y_test, test_predict)))\n",
    "        print(\"Root Mean squared Error - RMSE : \" + str(math.sqrt(mean_squared_error(y_test,test_predict))))\n",
    "        \n",
    "        \n",
    "        # Transform back to original form\n",
    "        train_predict = scaler.inverse_transform(train_predict)\n",
    "        test_predict = scaler.inverse_transform(test_predict)\n",
    "        original_ytrain = scaler.inverse_transform(y_train.reshape(-1,1)) \n",
    "        original_ytest = scaler.inverse_transform(y_test.reshape(-1,1)) \n",
    "        # Evaluation metrices RMSE and MAE\n",
    "        \n",
    "        \n",
    "        print(\"Train data explained variance regression score:\", explained_variance_score(original_ytrain, train_predict))\n",
    "        print(\"Test data explained variance regression score:\", explained_variance_score(original_ytest, test_predict))\n",
    "        print(\"Train data R2 score:\", r2_score(original_ytrain, train_predict))\n",
    "        print(\"Test data R2 score:\", r2_score(original_ytest, test_predict))\n",
    "        return\n",
    "        \n",
    "    def predict_next_10_days():\n",
    "        global train_predict\n",
    "        global test_predict\n",
    "        global time_step\n",
    "        global last_days\n",
    "        global pred_days\n",
    "        global model\n",
    "        global lst_output\n",
    "        x_input=test_data[len(test_data)-time_step:].reshape(1,-1)\n",
    "        temp_input=list(x_input)\n",
    "        temp_input=temp_input[0].tolist()\n",
    "        lst_output=[]\n",
    "        n_steps=time_step\n",
    "        i=0\n",
    "        pred_days = 10\n",
    "        while(i<pred_days):\n",
    "            if(len(temp_input)>time_step):\n",
    "                x_input=np.array(temp_input[1:])\n",
    "                \n",
    "                x_input = x_input.reshape(1,-1)\n",
    "                x_input = x_input.reshape((1, n_steps, 1))\n",
    "                yhat = model.predict(x_input, verbose=0)\n",
    "                \n",
    "                temp_input.extend(yhat[0].tolist())\n",
    "                temp_input=temp_input[1:]\n",
    "                \n",
    "                lst_output.extend(yhat.tolist())\n",
    "                i=i+1\n",
    "            else:\n",
    "                x_input = x_input.reshape((1, n_steps,1))\n",
    "                yhat = model.predict(x_input, verbose=0)\n",
    "                temp_input.extend(yhat[0].tolist())\n",
    "                lst_output.extend(yhat.tolist())\n",
    "                i=i+1\n",
    "        print(\"Output of predicted next days: \", len(lst_output))\n",
    "        last_days=np.arange(1,time_step+1)\n",
    "        day_pred=np.arange(time_step+1,time_step+pred_days+1)\n",
    "        return\n",
    "        \n",
    "        \n",
    "    def final_lstm_prediction_next10_days():\n",
    "        global pred_days\n",
    "        global last_days\n",
    "        global close_df\n",
    "        global scaler\n",
    "        global lst_output\n",
    "        temp_mat = np.empty((len(last_days)+pred_days+1,1))\n",
    "        temp_mat[:] = np.nan\n",
    "        temp_mat = temp_mat.reshape(1,-1).tolist()[0]\n",
    "        last_original_days_value = temp_mat\n",
    "        next_predicted_days_value = temp_mat\n",
    "        last_original_days_value[0:time_step+1] = scaler.inverse_transform(closedf[len(closedf)-time_step:]).reshape(1,-1).tolist()[0]\n",
    "        next_predicted_days_value[time_step+1:] = scaler.inverse_transform(np.array(lst_output).reshape(-1,1)).reshape(1,-1).tolist()[0]\n",
    "        new_pred_plot = pd.DataFrame({\n",
    "            'last_original_days_value':last_original_days_value,\n",
    "            'next_predicted_days_value':next_predicted_days_value})\n",
    "        names = cycle(['Last 15 days close price','Predicted next 10 days close price'])\n",
    "        fig = px.line(new_pred_plot,x=new_pred_plot.index, y=[new_pred_plot['last_original_days_value'],\n",
    "                                                      new_pred_plot['next_predicted_days_value']],\n",
    "              labels={'value': 'Stock price','index': 'Timestamp'})\n",
    "        fig.update_layout(title_text='Compare last 15 days vs next 10 days',\n",
    "                  plot_bgcolor='white', font_size=15, font_color='black',legend_title_text='Close Price')\n",
    "        fig.for_each_trace(lambda t:  t.update(name = next(names)))\n",
    "        fig.update_xaxes(showgrid=False)\n",
    "        fig.update_yaxes(showgrid=False)\n",
    "        fig.show()\n",
    "        lstmdf=closedf.tolist()\n",
    "        lstmdf.extend((np.array(lst_output).reshape(-1,1)).tolist())\n",
    "        lstmdf=scaler.inverse_transform(lstmdf).reshape(1,-1).tolist()[0]\n",
    "        names = cycle(['Close price'])\n",
    "        fig = px.line(lstmdf,labels={'value': 'Stock price','index': 'Timestamp'})\n",
    "        fig.update_layout(title_text='Plotting whole closing stock price with prediction',\n",
    "                  plot_bgcolor='white', font_size=15, font_color='black',legend_title_text='Stock')\n",
    "        fig.for_each_trace(lambda t:  t.update(name = next(names)))\n",
    "        fig.update_xaxes(showgrid=False)\n",
    "        fig.update_yaxes(showgrid=False)\n",
    "        fig.show()\n",
    "        return\n",
    "        \n",
    "        \n",
    "        \n",
    "\n",
    "        \n",
    "        \n",
    "        \n",
    "        \n",
    "        \n",
    "        \n",
    "       \n",
    "        \n",
    "        \n",
    "        "
   ]
  },
  {
   "cell_type": "markdown",
   "id": "48cd7eec",
   "metadata": {},
   "source": [
    "# Results"
   ]
  },
  {
   "cell_type": "code",
   "execution_count": 40,
   "id": "dc603019",
   "metadata": {},
   "outputs": [
    {
     "name": "stdout",
     "output_type": "stream",
     "text": [
      "Total Null Values: 0\n",
      "Total NA values: False\n",
      "<class 'pandas.core.frame.DataFrame'>\n",
      "RangeIndex: 2683 entries, 0 to 2682\n",
      "Data columns (total 7 columns):\n",
      " #   Column     Non-Null Count  Dtype         \n",
      "---  ------     --------------  -----         \n",
      " 0   Date       2683 non-null   datetime64[ns]\n",
      " 1   Open       2683 non-null   float64       \n",
      " 2   High       2683 non-null   float64       \n",
      " 3   Low        2683 non-null   float64       \n",
      " 4   Close      2683 non-null   float64       \n",
      " 5   Adj Close  2683 non-null   float64       \n",
      " 6   Volume     2683 non-null   int64         \n",
      "dtypes: datetime64[ns](1), float64(5), int64(1)\n",
      "memory usage: 146.9 KB\n",
      "Total data for prediction:  506\n",
      "(506, 1)\n",
      "Training Data:  (354, 1)\n",
      "Test Data:  (152, 1)\n",
      "X_train:  (332, 21)\n",
      "Y_train:  (332,)\n",
      "X_test:  (130, 21)\n",
      "Y_test (130,)\n"
     ]
    },
    {
     "data": {
      "text/plain": [
       "<function __main__.Crypto.splitData.<locals>.create_dataset(dataset, time_step=1)>"
      ]
     },
     "execution_count": 40,
     "metadata": {},
     "output_type": "execute_result"
    }
   ],
   "source": [
    "\n",
    "Crypto.load_data()\n",
    "Crypto.clean_data()\n",
    "Crypto.model_preparation()\n",
    "Crypto.splitData()\n",
    "\n",
    "\n",
    "\n"
   ]
  },
  {
   "cell_type": "code",
   "execution_count": 41,
   "id": "226c6d01",
   "metadata": {},
   "outputs": [
    {
     "name": "stdout",
     "output_type": "stream",
     "text": [
      "Mean Absolute Error - MAE : 0.04548250335926976\n",
      "Root Mean squared Error - RMSE : 0.058035861968792964\n",
      "Train data explained variance regression score: 0.9999898464094282\n",
      "Test data explained variance regression score: 0.8465988716948324\n",
      "Train data R2 score: 0.9999898464094282\n",
      "Test data R2 score: 0.8083899018870204\n",
      "Train predicted data:  (506, 1)\n",
      "Test predicted data:  (506, 1)\n"
     ]
    },
    {
     "data": {
      "application/vnd.plotly.v1+json": {
       "config": {
        "plotlyServerURL": "https://plot.ly"
       },
       "data": [
        {
         "hovertemplate": "variable=original_close<br>Date=%{x}<br>Close price=%{y}<extra></extra>",
         "legendgroup": "original_close",
         "line": {
          "color": "#636efa",
          "dash": "solid"
         },
         "marker": {
          "symbol": "circle"
         },
         "mode": "lines",
         "name": "Original close price",
         "showlegend": true,
         "type": "scattergl",
         "x": [
          "2020-09-02T00:00:00",
          "2020-09-03T00:00:00",
          "2020-09-04T00:00:00",
          "2020-09-05T00:00:00",
          "2020-09-06T00:00:00",
          "2020-09-07T00:00:00",
          "2020-09-08T00:00:00",
          "2020-09-09T00:00:00",
          "2020-09-10T00:00:00",
          "2020-09-11T00:00:00",
          "2020-09-12T00:00:00",
          "2020-09-13T00:00:00",
          "2020-09-14T00:00:00",
          "2020-09-15T00:00:00",
          "2020-09-16T00:00:00",
          "2020-09-17T00:00:00",
          "2020-09-18T00:00:00",
          "2020-09-19T00:00:00",
          "2020-09-20T00:00:00",
          "2020-09-21T00:00:00",
          "2020-09-22T00:00:00",
          "2020-09-23T00:00:00",
          "2020-09-24T00:00:00",
          "2020-09-25T00:00:00",
          "2020-09-26T00:00:00",
          "2020-09-27T00:00:00",
          "2020-09-28T00:00:00",
          "2020-09-29T00:00:00",
          "2020-09-30T00:00:00",
          "2020-10-01T00:00:00",
          "2020-10-02T00:00:00",
          "2020-10-03T00:00:00",
          "2020-10-04T00:00:00",
          "2020-10-05T00:00:00",
          "2020-10-06T00:00:00",
          "2020-10-07T00:00:00",
          "2020-10-08T00:00:00",
          "2020-10-09T00:00:00",
          "2020-10-10T00:00:00",
          "2020-10-11T00:00:00",
          "2020-10-12T00:00:00",
          "2020-10-13T00:00:00",
          "2020-10-14T00:00:00",
          "2020-10-15T00:00:00",
          "2020-10-16T00:00:00",
          "2020-10-17T00:00:00",
          "2020-10-18T00:00:00",
          "2020-10-19T00:00:00",
          "2020-10-20T00:00:00",
          "2020-10-21T00:00:00",
          "2020-10-22T00:00:00",
          "2020-10-23T00:00:00",
          "2020-10-24T00:00:00",
          "2020-10-25T00:00:00",
          "2020-10-26T00:00:00",
          "2020-10-27T00:00:00",
          "2020-10-28T00:00:00",
          "2020-10-29T00:00:00",
          "2020-10-30T00:00:00",
          "2020-10-31T00:00:00",
          "2020-11-01T00:00:00",
          "2020-11-02T00:00:00",
          "2020-11-03T00:00:00",
          "2020-11-04T00:00:00",
          "2020-11-05T00:00:00",
          "2020-11-06T00:00:00",
          "2020-11-07T00:00:00",
          "2020-11-08T00:00:00",
          "2020-11-09T00:00:00",
          "2020-11-10T00:00:00",
          "2020-11-11T00:00:00",
          "2020-11-12T00:00:00",
          "2020-11-13T00:00:00",
          "2020-11-14T00:00:00",
          "2020-11-15T00:00:00",
          "2020-11-16T00:00:00",
          "2020-11-17T00:00:00",
          "2020-11-18T00:00:00",
          "2020-11-19T00:00:00",
          "2020-11-20T00:00:00",
          "2020-11-21T00:00:00",
          "2020-11-22T00:00:00",
          "2020-11-23T00:00:00",
          "2020-11-24T00:00:00",
          "2020-11-25T00:00:00",
          "2020-11-26T00:00:00",
          "2020-11-27T00:00:00",
          "2020-11-28T00:00:00",
          "2020-11-29T00:00:00",
          "2020-11-30T00:00:00",
          "2020-12-01T00:00:00",
          "2020-12-02T00:00:00",
          "2020-12-03T00:00:00",
          "2020-12-04T00:00:00",
          "2020-12-05T00:00:00",
          "2020-12-06T00:00:00",
          "2020-12-07T00:00:00",
          "2020-12-08T00:00:00",
          "2020-12-09T00:00:00",
          "2020-12-10T00:00:00",
          "2020-12-11T00:00:00",
          "2020-12-12T00:00:00",
          "2020-12-13T00:00:00",
          "2020-12-14T00:00:00",
          "2020-12-15T00:00:00",
          "2020-12-16T00:00:00",
          "2020-12-17T00:00:00",
          "2020-12-18T00:00:00",
          "2020-12-19T00:00:00",
          "2020-12-20T00:00:00",
          "2020-12-21T00:00:00",
          "2020-12-22T00:00:00",
          "2020-12-23T00:00:00",
          "2020-12-24T00:00:00",
          "2020-12-25T00:00:00",
          "2020-12-26T00:00:00",
          "2020-12-27T00:00:00",
          "2020-12-28T00:00:00",
          "2020-12-29T00:00:00",
          "2020-12-30T00:00:00",
          "2020-12-31T00:00:00",
          "2021-01-01T00:00:00",
          "2021-01-02T00:00:00",
          "2021-01-03T00:00:00",
          "2021-01-04T00:00:00",
          "2021-01-05T00:00:00",
          "2021-01-06T00:00:00",
          "2021-01-07T00:00:00",
          "2021-01-08T00:00:00",
          "2021-01-09T00:00:00",
          "2021-01-10T00:00:00",
          "2021-01-11T00:00:00",
          "2021-01-12T00:00:00",
          "2021-01-13T00:00:00",
          "2021-01-14T00:00:00",
          "2021-01-15T00:00:00",
          "2021-01-16T00:00:00",
          "2021-01-17T00:00:00",
          "2021-01-18T00:00:00",
          "2021-01-19T00:00:00",
          "2021-01-20T00:00:00",
          "2021-01-21T00:00:00",
          "2021-01-22T00:00:00",
          "2021-01-23T00:00:00",
          "2021-01-24T00:00:00",
          "2021-01-25T00:00:00",
          "2021-01-26T00:00:00",
          "2021-01-27T00:00:00",
          "2021-01-28T00:00:00",
          "2021-01-29T00:00:00",
          "2021-01-30T00:00:00",
          "2021-01-31T00:00:00",
          "2021-02-01T00:00:00",
          "2021-02-02T00:00:00",
          "2021-02-03T00:00:00",
          "2021-02-04T00:00:00",
          "2021-02-05T00:00:00",
          "2021-02-06T00:00:00",
          "2021-02-07T00:00:00",
          "2021-02-08T00:00:00",
          "2021-02-09T00:00:00",
          "2021-02-10T00:00:00",
          "2021-02-11T00:00:00",
          "2021-02-12T00:00:00",
          "2021-02-13T00:00:00",
          "2021-02-14T00:00:00",
          "2021-02-15T00:00:00",
          "2021-02-16T00:00:00",
          "2021-02-17T00:00:00",
          "2021-02-18T00:00:00",
          "2021-02-19T00:00:00",
          "2021-02-20T00:00:00",
          "2021-02-21T00:00:00",
          "2021-02-22T00:00:00",
          "2021-02-23T00:00:00",
          "2021-02-24T00:00:00",
          "2021-02-25T00:00:00",
          "2021-02-26T00:00:00",
          "2021-02-27T00:00:00",
          "2021-02-28T00:00:00",
          "2021-03-01T00:00:00",
          "2021-03-02T00:00:00",
          "2021-03-03T00:00:00",
          "2021-03-04T00:00:00",
          "2021-03-05T00:00:00",
          "2021-03-06T00:00:00",
          "2021-03-07T00:00:00",
          "2021-03-08T00:00:00",
          "2021-03-09T00:00:00",
          "2021-03-10T00:00:00",
          "2021-03-11T00:00:00",
          "2021-03-12T00:00:00",
          "2021-03-13T00:00:00",
          "2021-03-14T00:00:00",
          "2021-03-15T00:00:00",
          "2021-03-16T00:00:00",
          "2021-03-17T00:00:00",
          "2021-03-18T00:00:00",
          "2021-03-19T00:00:00",
          "2021-03-20T00:00:00",
          "2021-03-21T00:00:00",
          "2021-03-22T00:00:00",
          "2021-03-23T00:00:00",
          "2021-03-24T00:00:00",
          "2021-03-25T00:00:00",
          "2021-03-26T00:00:00",
          "2021-03-27T00:00:00",
          "2021-03-28T00:00:00",
          "2021-03-29T00:00:00",
          "2021-03-30T00:00:00",
          "2021-03-31T00:00:00",
          "2021-04-01T00:00:00",
          "2021-04-02T00:00:00",
          "2021-04-03T00:00:00",
          "2021-04-04T00:00:00",
          "2021-04-05T00:00:00",
          "2021-04-06T00:00:00",
          "2021-04-07T00:00:00",
          "2021-04-08T00:00:00",
          "2021-04-09T00:00:00",
          "2021-04-10T00:00:00",
          "2021-04-11T00:00:00",
          "2021-04-12T00:00:00",
          "2021-04-13T00:00:00",
          "2021-04-14T00:00:00",
          "2021-04-15T00:00:00",
          "2021-04-16T00:00:00",
          "2021-04-17T00:00:00",
          "2021-04-18T00:00:00",
          "2021-04-19T00:00:00",
          "2021-04-20T00:00:00",
          "2021-04-21T00:00:00",
          "2021-04-22T00:00:00",
          "2021-04-23T00:00:00",
          "2021-04-24T00:00:00",
          "2021-04-25T00:00:00",
          "2021-04-26T00:00:00",
          "2021-04-27T00:00:00",
          "2021-04-28T00:00:00",
          "2021-04-29T00:00:00",
          "2021-04-30T00:00:00",
          "2021-05-01T00:00:00",
          "2021-05-02T00:00:00",
          "2021-05-03T00:00:00",
          "2021-05-04T00:00:00",
          "2021-05-05T00:00:00",
          "2021-05-06T00:00:00",
          "2021-05-07T00:00:00",
          "2021-05-08T00:00:00",
          "2021-05-09T00:00:00",
          "2021-05-10T00:00:00",
          "2021-05-11T00:00:00",
          "2021-05-12T00:00:00",
          "2021-05-13T00:00:00",
          "2021-05-14T00:00:00",
          "2021-05-15T00:00:00",
          "2021-05-16T00:00:00",
          "2021-05-17T00:00:00",
          "2021-05-18T00:00:00",
          "2021-05-19T00:00:00",
          "2021-05-20T00:00:00",
          "2021-05-21T00:00:00",
          "2021-05-22T00:00:00",
          "2021-05-23T00:00:00",
          "2021-05-24T00:00:00",
          "2021-05-25T00:00:00",
          "2021-05-26T00:00:00",
          "2021-05-27T00:00:00",
          "2021-05-28T00:00:00",
          "2021-05-29T00:00:00",
          "2021-05-30T00:00:00",
          "2021-05-31T00:00:00",
          "2021-06-01T00:00:00",
          "2021-06-02T00:00:00",
          "2021-06-03T00:00:00",
          "2021-06-04T00:00:00",
          "2021-06-05T00:00:00",
          "2021-06-06T00:00:00",
          "2021-06-07T00:00:00",
          "2021-06-08T00:00:00",
          "2021-06-09T00:00:00",
          "2021-06-10T00:00:00",
          "2021-06-11T00:00:00",
          "2021-06-12T00:00:00",
          "2021-06-13T00:00:00",
          "2021-06-14T00:00:00",
          "2021-06-15T00:00:00",
          "2021-06-16T00:00:00",
          "2021-06-17T00:00:00",
          "2021-06-18T00:00:00",
          "2021-06-19T00:00:00",
          "2021-06-20T00:00:00",
          "2021-06-21T00:00:00",
          "2021-06-22T00:00:00",
          "2021-06-23T00:00:00",
          "2021-06-24T00:00:00",
          "2021-06-25T00:00:00",
          "2021-06-26T00:00:00",
          "2021-06-27T00:00:00",
          "2021-06-28T00:00:00",
          "2021-06-29T00:00:00",
          "2021-06-30T00:00:00",
          "2021-07-01T00:00:00",
          "2021-07-02T00:00:00",
          "2021-07-03T00:00:00",
          "2021-07-04T00:00:00",
          "2021-07-05T00:00:00",
          "2021-07-06T00:00:00",
          "2021-07-07T00:00:00",
          "2021-07-08T00:00:00",
          "2021-07-09T00:00:00",
          "2021-07-10T00:00:00",
          "2021-07-11T00:00:00",
          "2021-07-12T00:00:00",
          "2021-07-13T00:00:00",
          "2021-07-14T00:00:00",
          "2021-07-15T00:00:00",
          "2021-07-16T00:00:00",
          "2021-07-17T00:00:00",
          "2021-07-18T00:00:00",
          "2021-07-19T00:00:00",
          "2021-07-20T00:00:00",
          "2021-07-21T00:00:00",
          "2021-07-22T00:00:00",
          "2021-07-23T00:00:00",
          "2021-07-24T00:00:00",
          "2021-07-25T00:00:00",
          "2021-07-26T00:00:00",
          "2021-07-27T00:00:00",
          "2021-07-28T00:00:00",
          "2021-07-29T00:00:00",
          "2021-07-30T00:00:00",
          "2021-07-31T00:00:00",
          "2021-08-01T00:00:00",
          "2021-08-02T00:00:00",
          "2021-08-03T00:00:00",
          "2021-08-04T00:00:00",
          "2021-08-05T00:00:00",
          "2021-08-06T00:00:00",
          "2021-08-07T00:00:00",
          "2021-08-08T00:00:00",
          "2021-08-09T00:00:00",
          "2021-08-10T00:00:00",
          "2021-08-11T00:00:00",
          "2021-08-12T00:00:00",
          "2021-08-13T00:00:00",
          "2021-08-14T00:00:00",
          "2021-08-15T00:00:00",
          "2021-08-16T00:00:00",
          "2021-08-17T00:00:00",
          "2021-08-18T00:00:00",
          "2021-08-19T00:00:00",
          "2021-08-20T00:00:00",
          "2021-08-21T00:00:00",
          "2021-08-22T00:00:00",
          "2021-08-23T00:00:00",
          "2021-08-24T00:00:00",
          "2021-08-25T00:00:00",
          "2021-08-26T00:00:00",
          "2021-08-27T00:00:00",
          "2021-08-28T00:00:00",
          "2021-08-29T00:00:00",
          "2021-08-30T00:00:00",
          "2021-08-31T00:00:00",
          "2021-09-01T00:00:00",
          "2021-09-02T00:00:00",
          "2021-09-03T00:00:00",
          "2021-09-04T00:00:00",
          "2021-09-05T00:00:00",
          "2021-09-06T00:00:00",
          "2021-09-07T00:00:00",
          "2021-09-08T00:00:00",
          "2021-09-09T00:00:00",
          "2021-09-10T00:00:00",
          "2021-09-11T00:00:00",
          "2021-09-12T00:00:00",
          "2021-09-13T00:00:00",
          "2021-09-14T00:00:00",
          "2021-09-15T00:00:00",
          "2021-09-16T00:00:00",
          "2021-09-17T00:00:00",
          "2021-09-18T00:00:00",
          "2021-09-19T00:00:00",
          "2021-09-20T00:00:00",
          "2021-09-21T00:00:00",
          "2021-09-22T00:00:00",
          "2021-09-23T00:00:00",
          "2021-09-24T00:00:00",
          "2021-09-25T00:00:00",
          "2021-09-26T00:00:00",
          "2021-09-27T00:00:00",
          "2021-09-28T00:00:00",
          "2021-09-29T00:00:00",
          "2021-09-30T00:00:00",
          "2021-10-01T00:00:00",
          "2021-10-02T00:00:00",
          "2021-10-03T00:00:00",
          "2021-10-04T00:00:00",
          "2021-10-05T00:00:00",
          "2021-10-06T00:00:00",
          "2021-10-07T00:00:00",
          "2021-10-08T00:00:00",
          "2021-10-09T00:00:00",
          "2021-10-10T00:00:00",
          "2021-10-11T00:00:00",
          "2021-10-12T00:00:00",
          "2021-10-13T00:00:00",
          "2021-10-14T00:00:00",
          "2021-10-15T00:00:00",
          "2021-10-16T00:00:00",
          "2021-10-17T00:00:00",
          "2021-10-18T00:00:00",
          "2021-10-19T00:00:00",
          "2021-10-20T00:00:00",
          "2021-10-21T00:00:00",
          "2021-10-22T00:00:00",
          "2021-10-23T00:00:00",
          "2021-10-24T00:00:00",
          "2021-10-25T00:00:00",
          "2021-10-26T00:00:00",
          "2021-10-27T00:00:00",
          "2021-10-28T00:00:00",
          "2021-10-29T00:00:00",
          "2021-10-30T00:00:00",
          "2021-10-31T00:00:00",
          "2021-11-01T00:00:00",
          "2021-11-02T00:00:00",
          "2021-11-03T00:00:00",
          "2021-11-04T00:00:00",
          "2021-11-05T00:00:00",
          "2021-11-06T00:00:00",
          "2021-11-07T00:00:00",
          "2021-11-08T00:00:00",
          "2021-11-09T00:00:00",
          "2021-11-10T00:00:00",
          "2021-11-11T00:00:00",
          "2021-11-12T00:00:00",
          "2021-11-13T00:00:00",
          "2021-11-14T00:00:00",
          "2021-11-15T00:00:00",
          "2021-11-16T00:00:00",
          "2021-11-17T00:00:00",
          "2021-11-18T00:00:00",
          "2021-11-19T00:00:00",
          "2021-11-20T00:00:00",
          "2021-11-21T00:00:00",
          "2021-11-22T00:00:00",
          "2021-11-23T00:00:00",
          "2021-11-24T00:00:00",
          "2021-11-25T00:00:00",
          "2021-11-26T00:00:00",
          "2021-11-27T00:00:00",
          "2021-11-28T00:00:00",
          "2021-11-29T00:00:00",
          "2021-11-30T00:00:00",
          "2021-12-01T00:00:00",
          "2021-12-02T00:00:00",
          "2021-12-03T00:00:00",
          "2021-12-04T00:00:00",
          "2021-12-05T00:00:00",
          "2021-12-06T00:00:00",
          "2021-12-07T00:00:00",
          "2021-12-08T00:00:00",
          "2021-12-09T00:00:00",
          "2021-12-10T00:00:00",
          "2021-12-11T00:00:00",
          "2021-12-12T00:00:00",
          "2021-12-13T00:00:00",
          "2021-12-14T00:00:00",
          "2021-12-15T00:00:00",
          "2021-12-16T00:00:00",
          "2021-12-17T00:00:00",
          "2021-12-18T00:00:00",
          "2021-12-19T00:00:00",
          "2021-12-20T00:00:00",
          "2021-12-21T00:00:00",
          "2021-12-22T00:00:00",
          "2021-12-23T00:00:00",
          "2021-12-24T00:00:00",
          "2021-12-25T00:00:00",
          "2021-12-26T00:00:00",
          "2021-12-27T00:00:00",
          "2021-12-28T00:00:00",
          "2021-12-29T00:00:00",
          "2021-12-30T00:00:00",
          "2021-12-31T00:00:00",
          "2022-01-01T00:00:00",
          "2022-01-02T00:00:00",
          "2022-01-03T00:00:00",
          "2022-01-04T00:00:00",
          "2022-01-05T00:00:00",
          "2022-01-06T00:00:00",
          "2022-01-07T00:00:00",
          "2022-01-08T00:00:00",
          "2022-01-09T00:00:00",
          "2022-01-10T00:00:00",
          "2022-01-11T00:00:00",
          "2022-01-12T00:00:00",
          "2022-01-13T00:00:00",
          "2022-01-14T00:00:00",
          "2022-01-15T00:00:00",
          "2022-01-16T00:00:00",
          "2022-01-17T00:00:00",
          "2022-01-18T00:00:00",
          "2022-01-19T00:00:00",
          "2022-01-20T00:00:00"
         ],
         "xaxis": "x",
         "y": [
          11414.03418,
          10245.296875,
          10511.813477,
          10169.567383,
          10280.351563,
          10369.563477,
          10131.516602,
          10242.347656,
          10363.138672,
          10400.915039,
          10442.170898,
          10323.755859,
          10680.837891,
          10796.951172,
          10974.905273,
          10948.990234,
          10944.585938,
          11094.34668,
          10938.271484,
          10462.259766,
          10538.459961,
          10246.186523,
          10760.066406,
          10692.716797,
          10750.723633,
          10775.269531,
          10709.652344,
          10844.640625,
          10784.491211,
          10619.452148,
          10575.974609,
          10549.329102,
          10669.583008,
          10793.339844,
          10604.40625,
          10668.96875,
          10915.685547,
          11064.458008,
          11296.361328,
          11384.181641,
          11555.363281,
          11425.899414,
          11429.506836,
          11495.349609,
          11322.123047,
          11358.101563,
          11483.359375,
          11742.037109,
          11916.334961,
          12823.689453,
          12965.891602,
          12931.539063,
          13108.0625,
          13031.173828,
          13075.248047,
          13654.21875,
          13271.285156,
          13437.882813,
          13546.522461000002,
          13780.995116999999,
          13737.109375,
          13550.489258000001,
          13950.300781,
          14133.707031,
          15579.848633000001,
          15565.880859,
          14833.753906,
          15479.567383000001,
          15332.31543,
          15290.902344,
          15701.339844,
          16276.34375,
          16317.808594,
          16068.138672,
          15955.587891,
          16716.111328,
          17645.40625,
          17804.005859,
          17817.089844,
          18621.314453,
          18642.232422,
          18370.001953,
          18364.121094,
          19107.464844,
          18732.121094,
          17150.623047,
          17108.402344,
          17717.414063,
          18177.484375,
          19625.835938,
          18802.998047,
          19201.091797,
          19445.398438,
          18699.765625,
          19154.230469,
          19345.121094,
          19191.630859,
          18321.144531,
          18553.916016,
          18264.992188,
          18058.904297,
          18803.65625,
          19142.382813,
          19246.644531,
          19417.076172,
          21310.597656,
          22805.162109,
          23137.960938,
          23869.832031,
          23477.294922,
          22803.082031,
          23783.029297,
          23241.345703,
          23735.949219,
          24664.791016,
          26437.037109,
          26272.294922,
          27084.808594,
          27362.4375,
          28840.953125,
          29001.720702999995,
          29374.152344,
          32127.267577999995,
          32782.023438,
          31971.914063,
          33992.429688,
          36824.363281,
          39371.042969,
          40797.609375,
          40254.546875,
          38356.441406,
          35566.65625,
          33922.960938,
          37316.359375,
          39187.328125,
          36825.367188,
          36178.140625,
          35791.277344,
          36630.074219,
          36069.804688,
          35547.75,
          30825.699219,
          33005.761719,
          32067.642577999995,
          32289.378906,
          32366.392577999995,
          32569.849608999997,
          30432.546875,
          33466.097656,
          34316.386719,
          34269.523438,
          33114.359375,
          33537.175781,
          35510.289063,
          37472.089844,
          36926.066406,
          38144.308594,
          39266.011719,
          38903.441406,
          46196.464844,
          46481.105469,
          44918.183594,
          47909.332031,
          47504.851563,
          47105.515625,
          48717.289063,
          47945.058594,
          49199.871094,
          52149.007813,
          51679.796875,
          55888.132813,
          56099.51953099999,
          57539.945313,
          54207.320313,
          48824.425781,
          49705.332031,
          47093.851563,
          46339.761719,
          46188.453125,
          45137.769531,
          49631.242188,
          48378.988281,
          50538.242188,
          48561.167969,
          48927.304688,
          48912.382813,
          51206.691406,
          52246.523438,
          54824.117188,
          56008.55078099999,
          57805.12109400001,
          57332.08984400001,
          61243.085938,
          59302.31640599999,
          55907.19921900001,
          56804.90234400001,
          58870.89453099999,
          57858.921875,
          58346.65234400001,
          58313.64453099999,
          57523.421875,
          54529.14453099999,
          54738.945313,
          52774.265625,
          51704.160156,
          55137.3125,
          55973.51171900001,
          55950.74609400001,
          57750.19921900001,
          58917.69140599999,
          58918.83203099999,
          59095.80859400001,
          59384.3125,
          57603.890625,
          58758.554688,
          59057.87890599999,
          58192.359375,
          56048.9375,
          58323.953125,
          58245.00390599999,
          59793.234375,
          60204.96484400001,
          59893.453125,
          63503.45703099999,
          63109.695313,
          63314.01171900001,
          61572.789063,
          60683.820313,
          56216.18359400001,
          55724.265625,
          56473.03125,
          53906.08984400001,
          51762.273438,
          51093.652344,
          50050.867188,
          49004.253906,
          54021.75390599999,
          55033.117188,
          54824.703125,
          53555.109375,
          57750.17578099999,
          57828.05078099999,
          56631.078125,
          57200.29296900001,
          53333.539063,
          57424.007813,
          56396.515625,
          57356.40234400001,
          58803.77734400001,
          58232.31640599999,
          55859.796875,
          56704.57421900001,
          49150.535156,
          49716.191406,
          49880.535156,
          46760.1875,
          46456.058594,
          43537.511719,
          42909.402344,
          37002.441406,
          40782.738281,
          37304.691406,
          37536.632813,
          34770.582031,
          38705.980469,
          38402.222656,
          39294.199219,
          38436.96875,
          35697.605469,
          34616.066406,
          35678.128906,
          37332.855469,
          36684.925781,
          37575.179688,
          39208.765625,
          36894.40625,
          35551.957031,
          35862.378906,
          33560.707031,
          33472.632813,
          37345.121094,
          36702.597656,
          37334.398438,
          35552.515625,
          39097.859375,
          40218.476563,
          40406.269531,
          38347.0625,
          38053.503906,
          35787.246094,
          35615.871094,
          35698.296875,
          31676.693358999997,
          32505.660156,
          33723.027344,
          34662.4375,
          31637.779297000005,
          32186.277344,
          34649.644531,
          34434.335938,
          35867.777344,
          35040.835938,
          33572.117188,
          33897.046875,
          34668.546875,
          35287.78125,
          33746.003906,
          34235.195313,
          33855.328125,
          32877.371094,
          33798.011719,
          33520.519531,
          34240.1875,
          33155.847656,
          32702.025391000003,
          32822.347656,
          31780.730469,
          31421.539063,
          31533.068358999997,
          31796.810547000005,
          30817.832031,
          29807.347656,
          32110.693358999997,
          32313.105469,
          33581.550781,
          34292.445313,
          35350.1875,
          37337.535156,
          39406.941406,
          39995.90625,
          40008.421875,
          42235.546875,
          41626.195313,
          39974.894531,
          39201.945313,
          38152.980469,
          39747.503906,
          40869.554688,
          42816.5,
          44555.800781,
          43798.117188,
          46365.402344,
          45585.03125,
          45593.636719,
          44428.289063,
          47793.320313,
          47096.945313,
          47047.003906,
          46004.484375,
          44695.359375,
          44801.1875,
          46717.578125,
          49339.175781,
          48905.492188,
          49321.652344,
          49546.148438,
          47706.117188,
          48960.789063,
          46942.21875,
          49058.667969,
          48902.402344,
          48829.832031,
          47054.984375,
          47166.6875,
          48847.027344,
          49327.722656,
          50025.375,
          49944.625,
          51753.410156,
          52633.535156,
          46811.128906,
          46091.390625,
          46391.421875,
          44883.910156,
          45201.457031,
          46063.269531,
          44963.074219,
          47092.492188,
          48176.347656,
          47783.359375,
          47267.519531,
          48278.363281,
          47260.21875,
          42843.800781,
          40693.675781,
          43574.507813,
          44895.097656,
          42839.75,
          42716.59375,
          43208.539063,
          42235.730469,
          41034.542969,
          41564.363281,
          43790.894531,
          48116.941406,
          47711.488281,
          48199.953125,
          49112.902344,
          51514.8125,
          55361.44921900001,
          53805.984375,
          53967.84765599999,
          54968.22265599999,
          54771.578125,
          57484.789063,
          56041.05859400001,
          57401.09765599999,
          57321.523438,
          61593.94921900001,
          60892.179688,
          61553.617188,
          62026.078125,
          64261.992188,
          65992.835938,
          62210.171875,
          60692.265625,
          61393.617188,
          60930.835938,
          63039.82421900001,
          60363.79296900001,
          58482.38671900001,
          60622.13671900001,
          62227.96484400001,
          61888.83203099999,
          61318.95703099999,
          61004.40625,
          63226.40234400001,
          62970.046875,
          61452.23046900001,
          61125.67578099999,
          61527.48046900001,
          63326.98828099999,
          67566.828125,
          66971.828125,
          64995.23046900001,
          64949.960938,
          64155.94140599999,
          64469.52734400001,
          65466.83984400001,
          63557.87109400001,
          60161.24609400001,
          60368.01171900001,
          56942.13671900001,
          58119.578125,
          59697.195313,
          58730.476563,
          56289.289063,
          57569.07421900001,
          56280.42578099999,
          57274.679688,
          53569.765625,
          54815.078125,
          57248.45703099999,
          57806.56640599999,
          57005.42578099999,
          57229.828125,
          56477.81640599999,
          53598.246094,
          49200.703125,
          49368.847656,
          50582.625,
          50700.085938,
          50504.796875,
          47672.121094,
          47243.304688,
          49362.507813,
          50098.335938,
          46737.480469,
          46612.632813,
          48896.722656,
          47665.425781,
          46202.144531,
          46848.777344,
          46707.015625,
          46880.277344,
          48936.613281,
          48628.511719,
          50784.539063,
          50822.195313,
          50429.859375,
          50809.515625,
          50640.417969,
          47588.855469,
          46444.710938,
          47178.125,
          46306.445313,
          47686.8125,
          47345.21875,
          46458.117188,
          45897.574219,
          43569.003906,
          43160.929688,
          41557.902344,
          41733.941406,
          41911.601563,
          41821.261719,
          42735.855469,
          43949.101563,
          42591.570313,
          43099.699219,
          43177.398438,
          43113.878906,
          42250.550781,
          42375.632813,
          41744.328125,
          41933.546875
         ],
         "yaxis": "y"
        },
        {
         "hovertemplate": "variable=train_predicted_close<br>Date=%{x}<br>Close price=%{y}<extra></extra>",
         "legendgroup": "train_predicted_close",
         "line": {
          "color": "#EF553B",
          "dash": "solid"
         },
         "marker": {
          "symbol": "circle"
         },
         "mode": "lines",
         "name": "Train predicted close price",
         "showlegend": true,
         "type": "scattergl",
         "x": [
          "2020-09-02T00:00:00",
          "2020-09-03T00:00:00",
          "2020-09-04T00:00:00",
          "2020-09-05T00:00:00",
          "2020-09-06T00:00:00",
          "2020-09-07T00:00:00",
          "2020-09-08T00:00:00",
          "2020-09-09T00:00:00",
          "2020-09-10T00:00:00",
          "2020-09-11T00:00:00",
          "2020-09-12T00:00:00",
          "2020-09-13T00:00:00",
          "2020-09-14T00:00:00",
          "2020-09-15T00:00:00",
          "2020-09-16T00:00:00",
          "2020-09-17T00:00:00",
          "2020-09-18T00:00:00",
          "2020-09-19T00:00:00",
          "2020-09-20T00:00:00",
          "2020-09-21T00:00:00",
          "2020-09-22T00:00:00",
          "2020-09-23T00:00:00",
          "2020-09-24T00:00:00",
          "2020-09-25T00:00:00",
          "2020-09-26T00:00:00",
          "2020-09-27T00:00:00",
          "2020-09-28T00:00:00",
          "2020-09-29T00:00:00",
          "2020-09-30T00:00:00",
          "2020-10-01T00:00:00",
          "2020-10-02T00:00:00",
          "2020-10-03T00:00:00",
          "2020-10-04T00:00:00",
          "2020-10-05T00:00:00",
          "2020-10-06T00:00:00",
          "2020-10-07T00:00:00",
          "2020-10-08T00:00:00",
          "2020-10-09T00:00:00",
          "2020-10-10T00:00:00",
          "2020-10-11T00:00:00",
          "2020-10-12T00:00:00",
          "2020-10-13T00:00:00",
          "2020-10-14T00:00:00",
          "2020-10-15T00:00:00",
          "2020-10-16T00:00:00",
          "2020-10-17T00:00:00",
          "2020-10-18T00:00:00",
          "2020-10-19T00:00:00",
          "2020-10-20T00:00:00",
          "2020-10-21T00:00:00",
          "2020-10-22T00:00:00",
          "2020-10-23T00:00:00",
          "2020-10-24T00:00:00",
          "2020-10-25T00:00:00",
          "2020-10-26T00:00:00",
          "2020-10-27T00:00:00",
          "2020-10-28T00:00:00",
          "2020-10-29T00:00:00",
          "2020-10-30T00:00:00",
          "2020-10-31T00:00:00",
          "2020-11-01T00:00:00",
          "2020-11-02T00:00:00",
          "2020-11-03T00:00:00",
          "2020-11-04T00:00:00",
          "2020-11-05T00:00:00",
          "2020-11-06T00:00:00",
          "2020-11-07T00:00:00",
          "2020-11-08T00:00:00",
          "2020-11-09T00:00:00",
          "2020-11-10T00:00:00",
          "2020-11-11T00:00:00",
          "2020-11-12T00:00:00",
          "2020-11-13T00:00:00",
          "2020-11-14T00:00:00",
          "2020-11-15T00:00:00",
          "2020-11-16T00:00:00",
          "2020-11-17T00:00:00",
          "2020-11-18T00:00:00",
          "2020-11-19T00:00:00",
          "2020-11-20T00:00:00",
          "2020-11-21T00:00:00",
          "2020-11-22T00:00:00",
          "2020-11-23T00:00:00",
          "2020-11-24T00:00:00",
          "2020-11-25T00:00:00",
          "2020-11-26T00:00:00",
          "2020-11-27T00:00:00",
          "2020-11-28T00:00:00",
          "2020-11-29T00:00:00",
          "2020-11-30T00:00:00",
          "2020-12-01T00:00:00",
          "2020-12-02T00:00:00",
          "2020-12-03T00:00:00",
          "2020-12-04T00:00:00",
          "2020-12-05T00:00:00",
          "2020-12-06T00:00:00",
          "2020-12-07T00:00:00",
          "2020-12-08T00:00:00",
          "2020-12-09T00:00:00",
          "2020-12-10T00:00:00",
          "2020-12-11T00:00:00",
          "2020-12-12T00:00:00",
          "2020-12-13T00:00:00",
          "2020-12-14T00:00:00",
          "2020-12-15T00:00:00",
          "2020-12-16T00:00:00",
          "2020-12-17T00:00:00",
          "2020-12-18T00:00:00",
          "2020-12-19T00:00:00",
          "2020-12-20T00:00:00",
          "2020-12-21T00:00:00",
          "2020-12-22T00:00:00",
          "2020-12-23T00:00:00",
          "2020-12-24T00:00:00",
          "2020-12-25T00:00:00",
          "2020-12-26T00:00:00",
          "2020-12-27T00:00:00",
          "2020-12-28T00:00:00",
          "2020-12-29T00:00:00",
          "2020-12-30T00:00:00",
          "2020-12-31T00:00:00",
          "2021-01-01T00:00:00",
          "2021-01-02T00:00:00",
          "2021-01-03T00:00:00",
          "2021-01-04T00:00:00",
          "2021-01-05T00:00:00",
          "2021-01-06T00:00:00",
          "2021-01-07T00:00:00",
          "2021-01-08T00:00:00",
          "2021-01-09T00:00:00",
          "2021-01-10T00:00:00",
          "2021-01-11T00:00:00",
          "2021-01-12T00:00:00",
          "2021-01-13T00:00:00",
          "2021-01-14T00:00:00",
          "2021-01-15T00:00:00",
          "2021-01-16T00:00:00",
          "2021-01-17T00:00:00",
          "2021-01-18T00:00:00",
          "2021-01-19T00:00:00",
          "2021-01-20T00:00:00",
          "2021-01-21T00:00:00",
          "2021-01-22T00:00:00",
          "2021-01-23T00:00:00",
          "2021-01-24T00:00:00",
          "2021-01-25T00:00:00",
          "2021-01-26T00:00:00",
          "2021-01-27T00:00:00",
          "2021-01-28T00:00:00",
          "2021-01-29T00:00:00",
          "2021-01-30T00:00:00",
          "2021-01-31T00:00:00",
          "2021-02-01T00:00:00",
          "2021-02-02T00:00:00",
          "2021-02-03T00:00:00",
          "2021-02-04T00:00:00",
          "2021-02-05T00:00:00",
          "2021-02-06T00:00:00",
          "2021-02-07T00:00:00",
          "2021-02-08T00:00:00",
          "2021-02-09T00:00:00",
          "2021-02-10T00:00:00",
          "2021-02-11T00:00:00",
          "2021-02-12T00:00:00",
          "2021-02-13T00:00:00",
          "2021-02-14T00:00:00",
          "2021-02-15T00:00:00",
          "2021-02-16T00:00:00",
          "2021-02-17T00:00:00",
          "2021-02-18T00:00:00",
          "2021-02-19T00:00:00",
          "2021-02-20T00:00:00",
          "2021-02-21T00:00:00",
          "2021-02-22T00:00:00",
          "2021-02-23T00:00:00",
          "2021-02-24T00:00:00",
          "2021-02-25T00:00:00",
          "2021-02-26T00:00:00",
          "2021-02-27T00:00:00",
          "2021-02-28T00:00:00",
          "2021-03-01T00:00:00",
          "2021-03-02T00:00:00",
          "2021-03-03T00:00:00",
          "2021-03-04T00:00:00",
          "2021-03-05T00:00:00",
          "2021-03-06T00:00:00",
          "2021-03-07T00:00:00",
          "2021-03-08T00:00:00",
          "2021-03-09T00:00:00",
          "2021-03-10T00:00:00",
          "2021-03-11T00:00:00",
          "2021-03-12T00:00:00",
          "2021-03-13T00:00:00",
          "2021-03-14T00:00:00",
          "2021-03-15T00:00:00",
          "2021-03-16T00:00:00",
          "2021-03-17T00:00:00",
          "2021-03-18T00:00:00",
          "2021-03-19T00:00:00",
          "2021-03-20T00:00:00",
          "2021-03-21T00:00:00",
          "2021-03-22T00:00:00",
          "2021-03-23T00:00:00",
          "2021-03-24T00:00:00",
          "2021-03-25T00:00:00",
          "2021-03-26T00:00:00",
          "2021-03-27T00:00:00",
          "2021-03-28T00:00:00",
          "2021-03-29T00:00:00",
          "2021-03-30T00:00:00",
          "2021-03-31T00:00:00",
          "2021-04-01T00:00:00",
          "2021-04-02T00:00:00",
          "2021-04-03T00:00:00",
          "2021-04-04T00:00:00",
          "2021-04-05T00:00:00",
          "2021-04-06T00:00:00",
          "2021-04-07T00:00:00",
          "2021-04-08T00:00:00",
          "2021-04-09T00:00:00",
          "2021-04-10T00:00:00",
          "2021-04-11T00:00:00",
          "2021-04-12T00:00:00",
          "2021-04-13T00:00:00",
          "2021-04-14T00:00:00",
          "2021-04-15T00:00:00",
          "2021-04-16T00:00:00",
          "2021-04-17T00:00:00",
          "2021-04-18T00:00:00",
          "2021-04-19T00:00:00",
          "2021-04-20T00:00:00",
          "2021-04-21T00:00:00",
          "2021-04-22T00:00:00",
          "2021-04-23T00:00:00",
          "2021-04-24T00:00:00",
          "2021-04-25T00:00:00",
          "2021-04-26T00:00:00",
          "2021-04-27T00:00:00",
          "2021-04-28T00:00:00",
          "2021-04-29T00:00:00",
          "2021-04-30T00:00:00",
          "2021-05-01T00:00:00",
          "2021-05-02T00:00:00",
          "2021-05-03T00:00:00",
          "2021-05-04T00:00:00",
          "2021-05-05T00:00:00",
          "2021-05-06T00:00:00",
          "2021-05-07T00:00:00",
          "2021-05-08T00:00:00",
          "2021-05-09T00:00:00",
          "2021-05-10T00:00:00",
          "2021-05-11T00:00:00",
          "2021-05-12T00:00:00",
          "2021-05-13T00:00:00",
          "2021-05-14T00:00:00",
          "2021-05-15T00:00:00",
          "2021-05-16T00:00:00",
          "2021-05-17T00:00:00",
          "2021-05-18T00:00:00",
          "2021-05-19T00:00:00",
          "2021-05-20T00:00:00",
          "2021-05-21T00:00:00",
          "2021-05-22T00:00:00",
          "2021-05-23T00:00:00",
          "2021-05-24T00:00:00",
          "2021-05-25T00:00:00",
          "2021-05-26T00:00:00",
          "2021-05-27T00:00:00",
          "2021-05-28T00:00:00",
          "2021-05-29T00:00:00",
          "2021-05-30T00:00:00",
          "2021-05-31T00:00:00",
          "2021-06-01T00:00:00",
          "2021-06-02T00:00:00",
          "2021-06-03T00:00:00",
          "2021-06-04T00:00:00",
          "2021-06-05T00:00:00",
          "2021-06-06T00:00:00",
          "2021-06-07T00:00:00",
          "2021-06-08T00:00:00",
          "2021-06-09T00:00:00",
          "2021-06-10T00:00:00",
          "2021-06-11T00:00:00",
          "2021-06-12T00:00:00",
          "2021-06-13T00:00:00",
          "2021-06-14T00:00:00",
          "2021-06-15T00:00:00",
          "2021-06-16T00:00:00",
          "2021-06-17T00:00:00",
          "2021-06-18T00:00:00",
          "2021-06-19T00:00:00",
          "2021-06-20T00:00:00",
          "2021-06-21T00:00:00",
          "2021-06-22T00:00:00",
          "2021-06-23T00:00:00",
          "2021-06-24T00:00:00",
          "2021-06-25T00:00:00",
          "2021-06-26T00:00:00",
          "2021-06-27T00:00:00",
          "2021-06-28T00:00:00",
          "2021-06-29T00:00:00",
          "2021-06-30T00:00:00",
          "2021-07-01T00:00:00",
          "2021-07-02T00:00:00",
          "2021-07-03T00:00:00",
          "2021-07-04T00:00:00",
          "2021-07-05T00:00:00",
          "2021-07-06T00:00:00",
          "2021-07-07T00:00:00",
          "2021-07-08T00:00:00",
          "2021-07-09T00:00:00",
          "2021-07-10T00:00:00",
          "2021-07-11T00:00:00",
          "2021-07-12T00:00:00",
          "2021-07-13T00:00:00",
          "2021-07-14T00:00:00",
          "2021-07-15T00:00:00",
          "2021-07-16T00:00:00",
          "2021-07-17T00:00:00",
          "2021-07-18T00:00:00",
          "2021-07-19T00:00:00",
          "2021-07-20T00:00:00",
          "2021-07-21T00:00:00",
          "2021-07-22T00:00:00",
          "2021-07-23T00:00:00",
          "2021-07-24T00:00:00",
          "2021-07-25T00:00:00",
          "2021-07-26T00:00:00",
          "2021-07-27T00:00:00",
          "2021-07-28T00:00:00",
          "2021-07-29T00:00:00",
          "2021-07-30T00:00:00",
          "2021-07-31T00:00:00",
          "2021-08-01T00:00:00",
          "2021-08-02T00:00:00",
          "2021-08-03T00:00:00",
          "2021-08-04T00:00:00",
          "2021-08-05T00:00:00",
          "2021-08-06T00:00:00",
          "2021-08-07T00:00:00",
          "2021-08-08T00:00:00",
          "2021-08-09T00:00:00",
          "2021-08-10T00:00:00",
          "2021-08-11T00:00:00",
          "2021-08-12T00:00:00",
          "2021-08-13T00:00:00",
          "2021-08-14T00:00:00",
          "2021-08-15T00:00:00",
          "2021-08-16T00:00:00",
          "2021-08-17T00:00:00",
          "2021-08-18T00:00:00",
          "2021-08-19T00:00:00",
          "2021-08-20T00:00:00",
          "2021-08-21T00:00:00",
          "2021-08-22T00:00:00",
          "2021-08-23T00:00:00",
          "2021-08-24T00:00:00",
          "2021-08-25T00:00:00",
          "2021-08-26T00:00:00",
          "2021-08-27T00:00:00",
          "2021-08-28T00:00:00",
          "2021-08-29T00:00:00",
          "2021-08-30T00:00:00",
          "2021-08-31T00:00:00",
          "2021-09-01T00:00:00",
          "2021-09-02T00:00:00",
          "2021-09-03T00:00:00",
          "2021-09-04T00:00:00",
          "2021-09-05T00:00:00",
          "2021-09-06T00:00:00",
          "2021-09-07T00:00:00",
          "2021-09-08T00:00:00",
          "2021-09-09T00:00:00",
          "2021-09-10T00:00:00",
          "2021-09-11T00:00:00",
          "2021-09-12T00:00:00",
          "2021-09-13T00:00:00",
          "2021-09-14T00:00:00",
          "2021-09-15T00:00:00",
          "2021-09-16T00:00:00",
          "2021-09-17T00:00:00",
          "2021-09-18T00:00:00",
          "2021-09-19T00:00:00",
          "2021-09-20T00:00:00",
          "2021-09-21T00:00:00",
          "2021-09-22T00:00:00",
          "2021-09-23T00:00:00",
          "2021-09-24T00:00:00",
          "2021-09-25T00:00:00",
          "2021-09-26T00:00:00",
          "2021-09-27T00:00:00",
          "2021-09-28T00:00:00",
          "2021-09-29T00:00:00",
          "2021-09-30T00:00:00",
          "2021-10-01T00:00:00",
          "2021-10-02T00:00:00",
          "2021-10-03T00:00:00",
          "2021-10-04T00:00:00",
          "2021-10-05T00:00:00",
          "2021-10-06T00:00:00",
          "2021-10-07T00:00:00",
          "2021-10-08T00:00:00",
          "2021-10-09T00:00:00",
          "2021-10-10T00:00:00",
          "2021-10-11T00:00:00",
          "2021-10-12T00:00:00",
          "2021-10-13T00:00:00",
          "2021-10-14T00:00:00",
          "2021-10-15T00:00:00",
          "2021-10-16T00:00:00",
          "2021-10-17T00:00:00",
          "2021-10-18T00:00:00",
          "2021-10-19T00:00:00",
          "2021-10-20T00:00:00",
          "2021-10-21T00:00:00",
          "2021-10-22T00:00:00",
          "2021-10-23T00:00:00",
          "2021-10-24T00:00:00",
          "2021-10-25T00:00:00",
          "2021-10-26T00:00:00",
          "2021-10-27T00:00:00",
          "2021-10-28T00:00:00",
          "2021-10-29T00:00:00",
          "2021-10-30T00:00:00",
          "2021-10-31T00:00:00",
          "2021-11-01T00:00:00",
          "2021-11-02T00:00:00",
          "2021-11-03T00:00:00",
          "2021-11-04T00:00:00",
          "2021-11-05T00:00:00",
          "2021-11-06T00:00:00",
          "2021-11-07T00:00:00",
          "2021-11-08T00:00:00",
          "2021-11-09T00:00:00",
          "2021-11-10T00:00:00",
          "2021-11-11T00:00:00",
          "2021-11-12T00:00:00",
          "2021-11-13T00:00:00",
          "2021-11-14T00:00:00",
          "2021-11-15T00:00:00",
          "2021-11-16T00:00:00",
          "2021-11-17T00:00:00",
          "2021-11-18T00:00:00",
          "2021-11-19T00:00:00",
          "2021-11-20T00:00:00",
          "2021-11-21T00:00:00",
          "2021-11-22T00:00:00",
          "2021-11-23T00:00:00",
          "2021-11-24T00:00:00",
          "2021-11-25T00:00:00",
          "2021-11-26T00:00:00",
          "2021-11-27T00:00:00",
          "2021-11-28T00:00:00",
          "2021-11-29T00:00:00",
          "2021-11-30T00:00:00",
          "2021-12-01T00:00:00",
          "2021-12-02T00:00:00",
          "2021-12-03T00:00:00",
          "2021-12-04T00:00:00",
          "2021-12-05T00:00:00",
          "2021-12-06T00:00:00",
          "2021-12-07T00:00:00",
          "2021-12-08T00:00:00",
          "2021-12-09T00:00:00",
          "2021-12-10T00:00:00",
          "2021-12-11T00:00:00",
          "2021-12-12T00:00:00",
          "2021-12-13T00:00:00",
          "2021-12-14T00:00:00",
          "2021-12-15T00:00:00",
          "2021-12-16T00:00:00",
          "2021-12-17T00:00:00",
          "2021-12-18T00:00:00",
          "2021-12-19T00:00:00",
          "2021-12-20T00:00:00",
          "2021-12-21T00:00:00",
          "2021-12-22T00:00:00",
          "2021-12-23T00:00:00",
          "2021-12-24T00:00:00",
          "2021-12-25T00:00:00",
          "2021-12-26T00:00:00",
          "2021-12-27T00:00:00",
          "2021-12-28T00:00:00",
          "2021-12-29T00:00:00",
          "2021-12-30T00:00:00",
          "2021-12-31T00:00:00",
          "2022-01-01T00:00:00",
          "2022-01-02T00:00:00",
          "2022-01-03T00:00:00",
          "2022-01-04T00:00:00",
          "2022-01-05T00:00:00",
          "2022-01-06T00:00:00",
          "2022-01-07T00:00:00",
          "2022-01-08T00:00:00",
          "2022-01-09T00:00:00",
          "2022-01-10T00:00:00",
          "2022-01-11T00:00:00",
          "2022-01-12T00:00:00",
          "2022-01-13T00:00:00",
          "2022-01-14T00:00:00",
          "2022-01-15T00:00:00",
          "2022-01-16T00:00:00",
          "2022-01-17T00:00:00",
          "2022-01-18T00:00:00",
          "2022-01-19T00:00:00",
          "2022-01-20T00:00:00"
         ],
         "xaxis": "x",
         "y": [
          null,
          null,
          null,
          null,
          null,
          null,
          null,
          null,
          null,
          null,
          null,
          null,
          null,
          null,
          null,
          null,
          null,
          null,
          null,
          null,
          null,
          10319.873046875,
          10751.3984375,
          10695.5478515625,
          10754.1337890625,
          10758.3017578125,
          10743.5712890625,
          10817.0458984375,
          10803.78125,
          10627.26953125,
          10582.0458984375,
          10555.025390625,
          10696.921875,
          10802.6220703125,
          10628.634765625,
          10667.0078125,
          10918.46484375,
          11065.90234375,
          11235.5361328125,
          11409.4267578125,
          11483.5615234375,
          11430.9794921875,
          11450.533203125,
          11456.759765625,
          11345.173828125,
          11361.66796875,
          11456.759765625,
          11672.53515625,
          11957.1572265625,
          12861.6572265625,
          12939.66796875,
          12940.9736328125,
          13046.6435546875,
          13026.1455078125,
          13048.21484375,
          13642.7783203125,
          13391.841796875,
          13449.9560546875,
          13553.275390625,
          13795.513671875,
          13721.87890625,
          13551.376953125,
          13938.5732421875,
          14104.396484375,
          15494.666015625,
          15494.666015625,
          14884.857421875,
          15467.90234375,
          15322.037109375,
          15288.5302734375,
          15644.990234375,
          16305.67578125,
          16356.9775390625,
          16156.05859375,
          16064.013671875,
          16729.142578125,
          17547.224609375,
          17824.498046875,
          17824.498046875,
          18562.439453125,
          18615.931640625,
          18393.890625,
          18358.24609375,
          19013.796875,
          18758.212890625,
          17341.564453125,
          17110.14453125,
          17682.294921875,
          18191.25,
          19566.12890625,
          18834.283203125,
          19176.798828125,
          19450.12890625,
          18789.138671875,
          19137.072265625,
          19320.57421875,
          19225.01171875,
          18355.32421875,
          18534.5390625,
          18345.84375,
          18094.287109375,
          18837.912109375,
          19141.595703125,
          19249.125,
          19400.599609375,
          21248.501953125,
          22760.88671875,
          23168.103515625,
          23823.541015625,
          23470.78515625,
          22891.453125,
          23779.90625,
          23222.873046875,
          23756.419921875,
          24611.9375,
          26390.337890625,
          26274.080078125,
          27095.93359375,
          27436.912109375,
          28838.388671875,
          28967.49609375,
          29320.498046875,
          32135.72265625,
          32795.6171875,
          32103.005859375,
          33955.06640625,
          36840.625,
          39394.78125,
          40705.78125,
          40231.84375,
          38358.9921875,
          35631.96875,
          33948.20703125,
          37305.19921875,
          39114.015625,
          36868.69921875,
          36189.13671875,
          35829.734375,
          36612.83203125,
          36063.15625,
          35532.50390625,
          30853.033203125,
          32989.70703125,
          32125.888671875,
          32286.740234375,
          32349.90625,
          32557.466796875,
          30477.583984375,
          33475.609375,
          34306.91015625,
          34239.234375,
          33132.73046875,
          33578.2265625,
          35492.03515625,
          37420.4140625,
          36932.1328125,
          38150.5,
          39242.25390625,
          38910.5859375,
          46000.79296875,
          46483.375,
          44981.4453125,
          47827.875,
          47498.890625,
          47104.7265625,
          48689.98828125,
          48014.91015625,
          49187.69921875,
          52106.97265625,
          51708.609375,
          55696.66796875,
          56147.9296875,
          57512.4765625,
          54265.83203125,
          48902.8125,
          49692.734375,
          47129.140625,
          46317.7734375,
          46167.77734375,
          45156,
          49482.45703125,
          48440.7421875,
          50530.5234375,
          48563.18359375,
          48925.9296875,
          48920.6640625,
          51121.11328125,
          52303.98828125,
          54785.21875,
          56015.98828125,
          57777.8046875,
          57360.8515625,
          61124.98828125,
          59319.92578125,
          55915.36328125,
          56801.44921875,
          58842.78515625,
          57856.65625,
          58310.1640625,
          58300.421875,
          57514.44140625,
          54535.08984375,
          54715.671875,
          52790.1015625,
          51732.01171875,
          55125.63671875,
          55966.828125,
          55943.4921875,
          57742.74609375,
          58887.1953125,
          58917.1640625,
          59070.23828125,
          59350.71875,
          57643.4140625,
          58749.203125,
          59051.49609375,
          58177.13671875,
          56093.2265625,
          58282.98046875,
          58250.390625,
          59718.74609375,
          60240.078125,
          59908.03515625,
          63420.8515625,
          63113.3046875,
          63282.62890625,
          61580.4453125,
          60673.03125,
          56237.58203125,
          55738.14453125,
          56471.48828125,
          53892.01953125,
          51771.9375,
          51093.35546875,
          50052.84375,
          49077.69921875,
          53970.25390625,
          55032.93359375,
          54829.8046875,
          53601.0390625,
          57704.05078125,
          57802.51953125,
          56664.6875,
          57212.30859375,
          53347.48046875,
          57332.60546875,
          56421.3984375,
          57376.1171875,
          58734.22265625,
          58258.46484375,
          55945.65234375,
          56691.25,
          49306.2890625,
          49758.2890625,
          49851.8125,
          46792.26953125,
          46508.53125,
          43559.8671875,
          42910.11328125,
          37017.68359375,
          40752.55078125,
          37290.63671875,
          37504.3359375,
          34827.41015625,
          38681.5234375,
          38417.69921875,
          39276.625,
          38422.99609375,
          35757.10546875,
          34634.55859375,
          35680.11328125,
          37306.328125,
          36710.70703125,
          37538.66015625,
          39065.421875,
          37034.96875,
          35573.69921875,
          35799.6796875,
          33582.140625,
          33530.5234375,
          37266.29296875,
          36675.0078125,
          37258.34375,
          35585.48828125,
          38989.5859375,
          40181.86328125,
          40359.98828125,
          38493.74609375,
          37972.08984375,
          35803.5,
          35591.8984375,
          35756.26953125,
          31805.775390625,
          32501.583984375,
          33730.74609375,
          34639.625,
          31747.298828125,
          32191.64453125,
          34569.68359375,
          34422.75390625,
          35847.26171875,
          35030.63671875,
          33612.46484375,
          33911.984375,
          34677.53125,
          35243.5625,
          33773.07421875,
          34212.828125,
          33861.44921875,
          32932.9453125,
          33765.0859375,
          33507.41796875,
          34222.7265625,
          33176.93359375,
          32711.173828125,
          32834.82421875,
          31816.94921875,
          31444.2421875,
          31547.916015625,
          31770.30859375,
          30855.736328125,
          29893.861328125,
          32091.578125,
          32305.921875,
          33530.453125,
          34300.49609375,
          35292.75390625,
          37319.828125,
          39380.515625,
          40061.3984375,
          40025.171875,
          42246.3515625,
          41599.95703125,
          39985.08203125,
          39198.7421875,
          38143.47265625,
          39730.3359375,
          40877.51953125,
          42870.6328125,
          44491.5,
          43844.87890625,
          46310.6640625,
          45630.8984375,
          45559.07421875,
          44512.1640625,
          47669.5390625,
          47086.79296875,
          47100.765625,
          46028.99609375,
          44782.8125,
          44796.1640625,
          46843.45703125,
          49243.20703125,
          null,
          null,
          null,
          null,
          null,
          null,
          null,
          null,
          null,
          null,
          null,
          null,
          null,
          null,
          null,
          null,
          null,
          null,
          null,
          null,
          null,
          null,
          null,
          null,
          null,
          null,
          null,
          null,
          null,
          null,
          null,
          null,
          null,
          null,
          null,
          null,
          null,
          null,
          null,
          null,
          null,
          null,
          null,
          null,
          null,
          null,
          null,
          null,
          null,
          null,
          null,
          null,
          null,
          null,
          null,
          null,
          null,
          null,
          null,
          null,
          null,
          null,
          null,
          null,
          null,
          null,
          null,
          null,
          null,
          null,
          null,
          null,
          null,
          null,
          null,
          null,
          null,
          null,
          null,
          null,
          null,
          null,
          null,
          null,
          null,
          null,
          null,
          null,
          null,
          null,
          null,
          null,
          null,
          null,
          null,
          null,
          null,
          null,
          null,
          null,
          null,
          null,
          null,
          null,
          null,
          null,
          null,
          null,
          null,
          null,
          null,
          null,
          null,
          null,
          null,
          null,
          null,
          null,
          null,
          null,
          null,
          null,
          null,
          null,
          null,
          null,
          null,
          null,
          null,
          null,
          null,
          null,
          null,
          null,
          null,
          null,
          null,
          null,
          null,
          null,
          null,
          null,
          null,
          null,
          null,
          null,
          null,
          null,
          null,
          null,
          null,
          null,
          null
         ],
         "yaxis": "y"
        },
        {
         "hovertemplate": "variable=test_predicted_close<br>Date=%{x}<br>Close price=%{y}<extra></extra>",
         "legendgroup": "test_predicted_close",
         "line": {
          "color": "#00cc96",
          "dash": "solid"
         },
         "marker": {
          "symbol": "circle"
         },
         "mode": "lines",
         "name": "Test predicted close price",
         "showlegend": true,
         "type": "scattergl",
         "x": [
          "2020-09-02T00:00:00",
          "2020-09-03T00:00:00",
          "2020-09-04T00:00:00",
          "2020-09-05T00:00:00",
          "2020-09-06T00:00:00",
          "2020-09-07T00:00:00",
          "2020-09-08T00:00:00",
          "2020-09-09T00:00:00",
          "2020-09-10T00:00:00",
          "2020-09-11T00:00:00",
          "2020-09-12T00:00:00",
          "2020-09-13T00:00:00",
          "2020-09-14T00:00:00",
          "2020-09-15T00:00:00",
          "2020-09-16T00:00:00",
          "2020-09-17T00:00:00",
          "2020-09-18T00:00:00",
          "2020-09-19T00:00:00",
          "2020-09-20T00:00:00",
          "2020-09-21T00:00:00",
          "2020-09-22T00:00:00",
          "2020-09-23T00:00:00",
          "2020-09-24T00:00:00",
          "2020-09-25T00:00:00",
          "2020-09-26T00:00:00",
          "2020-09-27T00:00:00",
          "2020-09-28T00:00:00",
          "2020-09-29T00:00:00",
          "2020-09-30T00:00:00",
          "2020-10-01T00:00:00",
          "2020-10-02T00:00:00",
          "2020-10-03T00:00:00",
          "2020-10-04T00:00:00",
          "2020-10-05T00:00:00",
          "2020-10-06T00:00:00",
          "2020-10-07T00:00:00",
          "2020-10-08T00:00:00",
          "2020-10-09T00:00:00",
          "2020-10-10T00:00:00",
          "2020-10-11T00:00:00",
          "2020-10-12T00:00:00",
          "2020-10-13T00:00:00",
          "2020-10-14T00:00:00",
          "2020-10-15T00:00:00",
          "2020-10-16T00:00:00",
          "2020-10-17T00:00:00",
          "2020-10-18T00:00:00",
          "2020-10-19T00:00:00",
          "2020-10-20T00:00:00",
          "2020-10-21T00:00:00",
          "2020-10-22T00:00:00",
          "2020-10-23T00:00:00",
          "2020-10-24T00:00:00",
          "2020-10-25T00:00:00",
          "2020-10-26T00:00:00",
          "2020-10-27T00:00:00",
          "2020-10-28T00:00:00",
          "2020-10-29T00:00:00",
          "2020-10-30T00:00:00",
          "2020-10-31T00:00:00",
          "2020-11-01T00:00:00",
          "2020-11-02T00:00:00",
          "2020-11-03T00:00:00",
          "2020-11-04T00:00:00",
          "2020-11-05T00:00:00",
          "2020-11-06T00:00:00",
          "2020-11-07T00:00:00",
          "2020-11-08T00:00:00",
          "2020-11-09T00:00:00",
          "2020-11-10T00:00:00",
          "2020-11-11T00:00:00",
          "2020-11-12T00:00:00",
          "2020-11-13T00:00:00",
          "2020-11-14T00:00:00",
          "2020-11-15T00:00:00",
          "2020-11-16T00:00:00",
          "2020-11-17T00:00:00",
          "2020-11-18T00:00:00",
          "2020-11-19T00:00:00",
          "2020-11-20T00:00:00",
          "2020-11-21T00:00:00",
          "2020-11-22T00:00:00",
          "2020-11-23T00:00:00",
          "2020-11-24T00:00:00",
          "2020-11-25T00:00:00",
          "2020-11-26T00:00:00",
          "2020-11-27T00:00:00",
          "2020-11-28T00:00:00",
          "2020-11-29T00:00:00",
          "2020-11-30T00:00:00",
          "2020-12-01T00:00:00",
          "2020-12-02T00:00:00",
          "2020-12-03T00:00:00",
          "2020-12-04T00:00:00",
          "2020-12-05T00:00:00",
          "2020-12-06T00:00:00",
          "2020-12-07T00:00:00",
          "2020-12-08T00:00:00",
          "2020-12-09T00:00:00",
          "2020-12-10T00:00:00",
          "2020-12-11T00:00:00",
          "2020-12-12T00:00:00",
          "2020-12-13T00:00:00",
          "2020-12-14T00:00:00",
          "2020-12-15T00:00:00",
          "2020-12-16T00:00:00",
          "2020-12-17T00:00:00",
          "2020-12-18T00:00:00",
          "2020-12-19T00:00:00",
          "2020-12-20T00:00:00",
          "2020-12-21T00:00:00",
          "2020-12-22T00:00:00",
          "2020-12-23T00:00:00",
          "2020-12-24T00:00:00",
          "2020-12-25T00:00:00",
          "2020-12-26T00:00:00",
          "2020-12-27T00:00:00",
          "2020-12-28T00:00:00",
          "2020-12-29T00:00:00",
          "2020-12-30T00:00:00",
          "2020-12-31T00:00:00",
          "2021-01-01T00:00:00",
          "2021-01-02T00:00:00",
          "2021-01-03T00:00:00",
          "2021-01-04T00:00:00",
          "2021-01-05T00:00:00",
          "2021-01-06T00:00:00",
          "2021-01-07T00:00:00",
          "2021-01-08T00:00:00",
          "2021-01-09T00:00:00",
          "2021-01-10T00:00:00",
          "2021-01-11T00:00:00",
          "2021-01-12T00:00:00",
          "2021-01-13T00:00:00",
          "2021-01-14T00:00:00",
          "2021-01-15T00:00:00",
          "2021-01-16T00:00:00",
          "2021-01-17T00:00:00",
          "2021-01-18T00:00:00",
          "2021-01-19T00:00:00",
          "2021-01-20T00:00:00",
          "2021-01-21T00:00:00",
          "2021-01-22T00:00:00",
          "2021-01-23T00:00:00",
          "2021-01-24T00:00:00",
          "2021-01-25T00:00:00",
          "2021-01-26T00:00:00",
          "2021-01-27T00:00:00",
          "2021-01-28T00:00:00",
          "2021-01-29T00:00:00",
          "2021-01-30T00:00:00",
          "2021-01-31T00:00:00",
          "2021-02-01T00:00:00",
          "2021-02-02T00:00:00",
          "2021-02-03T00:00:00",
          "2021-02-04T00:00:00",
          "2021-02-05T00:00:00",
          "2021-02-06T00:00:00",
          "2021-02-07T00:00:00",
          "2021-02-08T00:00:00",
          "2021-02-09T00:00:00",
          "2021-02-10T00:00:00",
          "2021-02-11T00:00:00",
          "2021-02-12T00:00:00",
          "2021-02-13T00:00:00",
          "2021-02-14T00:00:00",
          "2021-02-15T00:00:00",
          "2021-02-16T00:00:00",
          "2021-02-17T00:00:00",
          "2021-02-18T00:00:00",
          "2021-02-19T00:00:00",
          "2021-02-20T00:00:00",
          "2021-02-21T00:00:00",
          "2021-02-22T00:00:00",
          "2021-02-23T00:00:00",
          "2021-02-24T00:00:00",
          "2021-02-25T00:00:00",
          "2021-02-26T00:00:00",
          "2021-02-27T00:00:00",
          "2021-02-28T00:00:00",
          "2021-03-01T00:00:00",
          "2021-03-02T00:00:00",
          "2021-03-03T00:00:00",
          "2021-03-04T00:00:00",
          "2021-03-05T00:00:00",
          "2021-03-06T00:00:00",
          "2021-03-07T00:00:00",
          "2021-03-08T00:00:00",
          "2021-03-09T00:00:00",
          "2021-03-10T00:00:00",
          "2021-03-11T00:00:00",
          "2021-03-12T00:00:00",
          "2021-03-13T00:00:00",
          "2021-03-14T00:00:00",
          "2021-03-15T00:00:00",
          "2021-03-16T00:00:00",
          "2021-03-17T00:00:00",
          "2021-03-18T00:00:00",
          "2021-03-19T00:00:00",
          "2021-03-20T00:00:00",
          "2021-03-21T00:00:00",
          "2021-03-22T00:00:00",
          "2021-03-23T00:00:00",
          "2021-03-24T00:00:00",
          "2021-03-25T00:00:00",
          "2021-03-26T00:00:00",
          "2021-03-27T00:00:00",
          "2021-03-28T00:00:00",
          "2021-03-29T00:00:00",
          "2021-03-30T00:00:00",
          "2021-03-31T00:00:00",
          "2021-04-01T00:00:00",
          "2021-04-02T00:00:00",
          "2021-04-03T00:00:00",
          "2021-04-04T00:00:00",
          "2021-04-05T00:00:00",
          "2021-04-06T00:00:00",
          "2021-04-07T00:00:00",
          "2021-04-08T00:00:00",
          "2021-04-09T00:00:00",
          "2021-04-10T00:00:00",
          "2021-04-11T00:00:00",
          "2021-04-12T00:00:00",
          "2021-04-13T00:00:00",
          "2021-04-14T00:00:00",
          "2021-04-15T00:00:00",
          "2021-04-16T00:00:00",
          "2021-04-17T00:00:00",
          "2021-04-18T00:00:00",
          "2021-04-19T00:00:00",
          "2021-04-20T00:00:00",
          "2021-04-21T00:00:00",
          "2021-04-22T00:00:00",
          "2021-04-23T00:00:00",
          "2021-04-24T00:00:00",
          "2021-04-25T00:00:00",
          "2021-04-26T00:00:00",
          "2021-04-27T00:00:00",
          "2021-04-28T00:00:00",
          "2021-04-29T00:00:00",
          "2021-04-30T00:00:00",
          "2021-05-01T00:00:00",
          "2021-05-02T00:00:00",
          "2021-05-03T00:00:00",
          "2021-05-04T00:00:00",
          "2021-05-05T00:00:00",
          "2021-05-06T00:00:00",
          "2021-05-07T00:00:00",
          "2021-05-08T00:00:00",
          "2021-05-09T00:00:00",
          "2021-05-10T00:00:00",
          "2021-05-11T00:00:00",
          "2021-05-12T00:00:00",
          "2021-05-13T00:00:00",
          "2021-05-14T00:00:00",
          "2021-05-15T00:00:00",
          "2021-05-16T00:00:00",
          "2021-05-17T00:00:00",
          "2021-05-18T00:00:00",
          "2021-05-19T00:00:00",
          "2021-05-20T00:00:00",
          "2021-05-21T00:00:00",
          "2021-05-22T00:00:00",
          "2021-05-23T00:00:00",
          "2021-05-24T00:00:00",
          "2021-05-25T00:00:00",
          "2021-05-26T00:00:00",
          "2021-05-27T00:00:00",
          "2021-05-28T00:00:00",
          "2021-05-29T00:00:00",
          "2021-05-30T00:00:00",
          "2021-05-31T00:00:00",
          "2021-06-01T00:00:00",
          "2021-06-02T00:00:00",
          "2021-06-03T00:00:00",
          "2021-06-04T00:00:00",
          "2021-06-05T00:00:00",
          "2021-06-06T00:00:00",
          "2021-06-07T00:00:00",
          "2021-06-08T00:00:00",
          "2021-06-09T00:00:00",
          "2021-06-10T00:00:00",
          "2021-06-11T00:00:00",
          "2021-06-12T00:00:00",
          "2021-06-13T00:00:00",
          "2021-06-14T00:00:00",
          "2021-06-15T00:00:00",
          "2021-06-16T00:00:00",
          "2021-06-17T00:00:00",
          "2021-06-18T00:00:00",
          "2021-06-19T00:00:00",
          "2021-06-20T00:00:00",
          "2021-06-21T00:00:00",
          "2021-06-22T00:00:00",
          "2021-06-23T00:00:00",
          "2021-06-24T00:00:00",
          "2021-06-25T00:00:00",
          "2021-06-26T00:00:00",
          "2021-06-27T00:00:00",
          "2021-06-28T00:00:00",
          "2021-06-29T00:00:00",
          "2021-06-30T00:00:00",
          "2021-07-01T00:00:00",
          "2021-07-02T00:00:00",
          "2021-07-03T00:00:00",
          "2021-07-04T00:00:00",
          "2021-07-05T00:00:00",
          "2021-07-06T00:00:00",
          "2021-07-07T00:00:00",
          "2021-07-08T00:00:00",
          "2021-07-09T00:00:00",
          "2021-07-10T00:00:00",
          "2021-07-11T00:00:00",
          "2021-07-12T00:00:00",
          "2021-07-13T00:00:00",
          "2021-07-14T00:00:00",
          "2021-07-15T00:00:00",
          "2021-07-16T00:00:00",
          "2021-07-17T00:00:00",
          "2021-07-18T00:00:00",
          "2021-07-19T00:00:00",
          "2021-07-20T00:00:00",
          "2021-07-21T00:00:00",
          "2021-07-22T00:00:00",
          "2021-07-23T00:00:00",
          "2021-07-24T00:00:00",
          "2021-07-25T00:00:00",
          "2021-07-26T00:00:00",
          "2021-07-27T00:00:00",
          "2021-07-28T00:00:00",
          "2021-07-29T00:00:00",
          "2021-07-30T00:00:00",
          "2021-07-31T00:00:00",
          "2021-08-01T00:00:00",
          "2021-08-02T00:00:00",
          "2021-08-03T00:00:00",
          "2021-08-04T00:00:00",
          "2021-08-05T00:00:00",
          "2021-08-06T00:00:00",
          "2021-08-07T00:00:00",
          "2021-08-08T00:00:00",
          "2021-08-09T00:00:00",
          "2021-08-10T00:00:00",
          "2021-08-11T00:00:00",
          "2021-08-12T00:00:00",
          "2021-08-13T00:00:00",
          "2021-08-14T00:00:00",
          "2021-08-15T00:00:00",
          "2021-08-16T00:00:00",
          "2021-08-17T00:00:00",
          "2021-08-18T00:00:00",
          "2021-08-19T00:00:00",
          "2021-08-20T00:00:00",
          "2021-08-21T00:00:00",
          "2021-08-22T00:00:00",
          "2021-08-23T00:00:00",
          "2021-08-24T00:00:00",
          "2021-08-25T00:00:00",
          "2021-08-26T00:00:00",
          "2021-08-27T00:00:00",
          "2021-08-28T00:00:00",
          "2021-08-29T00:00:00",
          "2021-08-30T00:00:00",
          "2021-08-31T00:00:00",
          "2021-09-01T00:00:00",
          "2021-09-02T00:00:00",
          "2021-09-03T00:00:00",
          "2021-09-04T00:00:00",
          "2021-09-05T00:00:00",
          "2021-09-06T00:00:00",
          "2021-09-07T00:00:00",
          "2021-09-08T00:00:00",
          "2021-09-09T00:00:00",
          "2021-09-10T00:00:00",
          "2021-09-11T00:00:00",
          "2021-09-12T00:00:00",
          "2021-09-13T00:00:00",
          "2021-09-14T00:00:00",
          "2021-09-15T00:00:00",
          "2021-09-16T00:00:00",
          "2021-09-17T00:00:00",
          "2021-09-18T00:00:00",
          "2021-09-19T00:00:00",
          "2021-09-20T00:00:00",
          "2021-09-21T00:00:00",
          "2021-09-22T00:00:00",
          "2021-09-23T00:00:00",
          "2021-09-24T00:00:00",
          "2021-09-25T00:00:00",
          "2021-09-26T00:00:00",
          "2021-09-27T00:00:00",
          "2021-09-28T00:00:00",
          "2021-09-29T00:00:00",
          "2021-09-30T00:00:00",
          "2021-10-01T00:00:00",
          "2021-10-02T00:00:00",
          "2021-10-03T00:00:00",
          "2021-10-04T00:00:00",
          "2021-10-05T00:00:00",
          "2021-10-06T00:00:00",
          "2021-10-07T00:00:00",
          "2021-10-08T00:00:00",
          "2021-10-09T00:00:00",
          "2021-10-10T00:00:00",
          "2021-10-11T00:00:00",
          "2021-10-12T00:00:00",
          "2021-10-13T00:00:00",
          "2021-10-14T00:00:00",
          "2021-10-15T00:00:00",
          "2021-10-16T00:00:00",
          "2021-10-17T00:00:00",
          "2021-10-18T00:00:00",
          "2021-10-19T00:00:00",
          "2021-10-20T00:00:00",
          "2021-10-21T00:00:00",
          "2021-10-22T00:00:00",
          "2021-10-23T00:00:00",
          "2021-10-24T00:00:00",
          "2021-10-25T00:00:00",
          "2021-10-26T00:00:00",
          "2021-10-27T00:00:00",
          "2021-10-28T00:00:00",
          "2021-10-29T00:00:00",
          "2021-10-30T00:00:00",
          "2021-10-31T00:00:00",
          "2021-11-01T00:00:00",
          "2021-11-02T00:00:00",
          "2021-11-03T00:00:00",
          "2021-11-04T00:00:00",
          "2021-11-05T00:00:00",
          "2021-11-06T00:00:00",
          "2021-11-07T00:00:00",
          "2021-11-08T00:00:00",
          "2021-11-09T00:00:00",
          "2021-11-10T00:00:00",
          "2021-11-11T00:00:00",
          "2021-11-12T00:00:00",
          "2021-11-13T00:00:00",
          "2021-11-14T00:00:00",
          "2021-11-15T00:00:00",
          "2021-11-16T00:00:00",
          "2021-11-17T00:00:00",
          "2021-11-18T00:00:00",
          "2021-11-19T00:00:00",
          "2021-11-20T00:00:00",
          "2021-11-21T00:00:00",
          "2021-11-22T00:00:00",
          "2021-11-23T00:00:00",
          "2021-11-24T00:00:00",
          "2021-11-25T00:00:00",
          "2021-11-26T00:00:00",
          "2021-11-27T00:00:00",
          "2021-11-28T00:00:00",
          "2021-11-29T00:00:00",
          "2021-11-30T00:00:00",
          "2021-12-01T00:00:00",
          "2021-12-02T00:00:00",
          "2021-12-03T00:00:00",
          "2021-12-04T00:00:00",
          "2021-12-05T00:00:00",
          "2021-12-06T00:00:00",
          "2021-12-07T00:00:00",
          "2021-12-08T00:00:00",
          "2021-12-09T00:00:00",
          "2021-12-10T00:00:00",
          "2021-12-11T00:00:00",
          "2021-12-12T00:00:00",
          "2021-12-13T00:00:00",
          "2021-12-14T00:00:00",
          "2021-12-15T00:00:00",
          "2021-12-16T00:00:00",
          "2021-12-17T00:00:00",
          "2021-12-18T00:00:00",
          "2021-12-19T00:00:00",
          "2021-12-20T00:00:00",
          "2021-12-21T00:00:00",
          "2021-12-22T00:00:00",
          "2021-12-23T00:00:00",
          "2021-12-24T00:00:00",
          "2021-12-25T00:00:00",
          "2021-12-26T00:00:00",
          "2021-12-27T00:00:00",
          "2021-12-28T00:00:00",
          "2021-12-29T00:00:00",
          "2021-12-30T00:00:00",
          "2021-12-31T00:00:00",
          "2022-01-01T00:00:00",
          "2022-01-02T00:00:00",
          "2022-01-03T00:00:00",
          "2022-01-04T00:00:00",
          "2022-01-05T00:00:00",
          "2022-01-06T00:00:00",
          "2022-01-07T00:00:00",
          "2022-01-08T00:00:00",
          "2022-01-09T00:00:00",
          "2022-01-10T00:00:00",
          "2022-01-11T00:00:00",
          "2022-01-12T00:00:00",
          "2022-01-13T00:00:00",
          "2022-01-14T00:00:00",
          "2022-01-15T00:00:00",
          "2022-01-16T00:00:00",
          "2022-01-17T00:00:00",
          "2022-01-18T00:00:00",
          "2022-01-19T00:00:00",
          "2022-01-20T00:00:00"
         ],
         "xaxis": "x",
         "y": [
          null,
          null,
          null,
          null,
          null,
          null,
          null,
          null,
          null,
          null,
          null,
          null,
          null,
          null,
          null,
          null,
          null,
          null,
          null,
          null,
          null,
          null,
          null,
          null,
          null,
          null,
          null,
          null,
          null,
          null,
          null,
          null,
          null,
          null,
          null,
          null,
          null,
          null,
          null,
          null,
          null,
          null,
          null,
          null,
          null,
          null,
          null,
          null,
          null,
          null,
          null,
          null,
          null,
          null,
          null,
          null,
          null,
          null,
          null,
          null,
          null,
          null,
          null,
          null,
          null,
          null,
          null,
          null,
          null,
          null,
          null,
          null,
          null,
          null,
          null,
          null,
          null,
          null,
          null,
          null,
          null,
          null,
          null,
          null,
          null,
          null,
          null,
          null,
          null,
          null,
          null,
          null,
          null,
          null,
          null,
          null,
          null,
          null,
          null,
          null,
          null,
          null,
          null,
          null,
          null,
          null,
          null,
          null,
          null,
          null,
          null,
          null,
          null,
          null,
          null,
          null,
          null,
          null,
          null,
          null,
          null,
          null,
          null,
          null,
          null,
          null,
          null,
          null,
          null,
          null,
          null,
          null,
          null,
          null,
          null,
          null,
          null,
          null,
          null,
          null,
          null,
          null,
          null,
          null,
          null,
          null,
          null,
          null,
          null,
          null,
          null,
          null,
          null,
          null,
          null,
          null,
          null,
          null,
          null,
          null,
          null,
          null,
          null,
          null,
          null,
          null,
          null,
          null,
          null,
          null,
          null,
          null,
          null,
          null,
          null,
          null,
          null,
          null,
          null,
          null,
          null,
          null,
          null,
          null,
          null,
          null,
          null,
          null,
          null,
          null,
          null,
          null,
          null,
          null,
          null,
          null,
          null,
          null,
          null,
          null,
          null,
          null,
          null,
          null,
          null,
          null,
          null,
          null,
          null,
          null,
          null,
          null,
          null,
          null,
          null,
          null,
          null,
          null,
          null,
          null,
          null,
          null,
          null,
          null,
          null,
          null,
          null,
          null,
          null,
          null,
          null,
          null,
          null,
          null,
          null,
          null,
          null,
          null,
          null,
          null,
          null,
          null,
          null,
          null,
          null,
          null,
          null,
          null,
          null,
          null,
          null,
          null,
          null,
          null,
          null,
          null,
          null,
          null,
          null,
          null,
          null,
          null,
          null,
          null,
          null,
          null,
          null,
          null,
          null,
          null,
          null,
          null,
          null,
          null,
          null,
          null,
          null,
          null,
          null,
          null,
          null,
          null,
          null,
          null,
          null,
          null,
          null,
          null,
          null,
          null,
          null,
          null,
          null,
          null,
          null,
          null,
          null,
          null,
          null,
          null,
          null,
          null,
          null,
          null,
          null,
          null,
          null,
          null,
          null,
          null,
          null,
          null,
          null,
          null,
          null,
          null,
          null,
          null,
          null,
          null,
          null,
          null,
          null,
          null,
          null,
          null,
          null,
          null,
          null,
          null,
          null,
          null,
          null,
          null,
          null,
          null,
          null,
          null,
          null,
          null,
          null,
          null,
          null,
          null,
          null,
          null,
          null,
          null,
          null,
          null,
          null,
          null,
          null,
          null,
          null,
          null,
          null,
          null,
          null,
          null,
          null,
          null,
          null,
          null,
          null,
          null,
          null,
          null,
          null,
          null,
          null,
          null,
          null,
          null,
          null,
          46967.578125,
          46433.53515625,
          46621.80078125,
          46996.28125,
          48535.87109375,
          47768.75390625,
          47683.8515625,
          49446.109375,
          49705.8828125,
          41824.484375,
          40985.61328125,
          44430.515625,
          46920.9921875,
          40706.984375,
          38771.0390625,
          38698.140625,
          38526.84375,
          38703.30078125,
          38690.33203125,
          45151.91796875,
          47528.171875,
          47931.80859375,
          48961.44140625,
          48907.08984375,
          53073.95703125,
          57362.0390625,
          55318.80859375,
          55110.3203125,
          56210.78515625,
          54973.64453125,
          55966.484375,
          56960.28515625,
          55807.2734375,
          55471.5625,
          59143.140625,
          59066.63671875,
          59424.56640625,
          59411.8515625,
          59516.0390625,
          59660.8046875,
          60617.69921875,
          59434.6171875,
          58933.8203125,
          59214.75390625,
          60022.31640625,
          59973.078125,
          57951.24609375,
          60759.3359375,
          59126.87890625,
          60711.203125,
          60802.96875,
          58563.015625,
          57671.3359375,
          59307.37109375,
          59087.4296875,
          59087.4296875,
          57524.16796875,
          57487.421875,
          57519.74609375,
          55933.65625,
          57449.80078125,
          57299.5703125,
          57718.296875,
          57482.1171875,
          58265.55078125,
          57504.3125,
          57354.0859375,
          57354.0859375,
          53964.75390625,
          54589.3671875,
          57054.4453125,
          56776.9453125,
          54079.25,
          54116.8359375,
          55860.58984375,
          57332.12109375,
          55111.8125,
          54661.09765625,
          53926.66015625,
          54825.3046875,
          53955.5390625,
          54403.984375,
          55115.08984375,
          53058.08984375,
          50098.328125,
          50395.16015625,
          49085.96484375,
          50024.55078125,
          50772.9453125,
          48018.6171875,
          46237.25390625,
          50028.38671875,
          50214,
          47389.03515625,
          47009.3515625,
          50115.421875,
          47772.18359375,
          46251.83984375,
          45873.390625,
          45479.91015625,
          47160.69921875,
          49999.57421875,
          49014.2109375,
          48500.15234375,
          49820.66015625,
          50007.52734375,
          51617.0703125,
          51582.8046875,
          49682.6796875,
          46451.8046875,
          49074.3828125,
          47239.8515625,
          48324.33203125,
          49340.73828125,
          46429.3984375,
          48070.09375,
          42139.20703125,
          40080.33203125,
          40368.58203125,
          38592.1875,
          38213.14453125,
          38304.4140625,
          38377.24609375,
          45317.40625,
          38884.0703125,
          38942.55078125,
          38887.1640625,
          38866.80859375,
          38815.796875,
          38795.74609375,
          null
         ],
         "yaxis": "y"
        }
       ],
       "layout": {
        "font": {
         "color": "black",
         "size": 15
        },
        "legend": {
         "title": {
          "text": "Close Price"
         },
         "tracegroupgap": 0
        },
        "margin": {
         "t": 60
        },
        "plot_bgcolor": "white",
        "template": {
         "data": {
          "bar": [
           {
            "error_x": {
             "color": "#2a3f5f"
            },
            "error_y": {
             "color": "#2a3f5f"
            },
            "marker": {
             "line": {
              "color": "#E5ECF6",
              "width": 0.5
             },
             "pattern": {
              "fillmode": "overlay",
              "size": 10,
              "solidity": 0.2
             }
            },
            "type": "bar"
           }
          ],
          "barpolar": [
           {
            "marker": {
             "line": {
              "color": "#E5ECF6",
              "width": 0.5
             },
             "pattern": {
              "fillmode": "overlay",
              "size": 10,
              "solidity": 0.2
             }
            },
            "type": "barpolar"
           }
          ],
          "carpet": [
           {
            "aaxis": {
             "endlinecolor": "#2a3f5f",
             "gridcolor": "white",
             "linecolor": "white",
             "minorgridcolor": "white",
             "startlinecolor": "#2a3f5f"
            },
            "baxis": {
             "endlinecolor": "#2a3f5f",
             "gridcolor": "white",
             "linecolor": "white",
             "minorgridcolor": "white",
             "startlinecolor": "#2a3f5f"
            },
            "type": "carpet"
           }
          ],
          "choropleth": [
           {
            "colorbar": {
             "outlinewidth": 0,
             "ticks": ""
            },
            "type": "choropleth"
           }
          ],
          "contour": [
           {
            "colorbar": {
             "outlinewidth": 0,
             "ticks": ""
            },
            "colorscale": [
             [
              0,
              "#0d0887"
             ],
             [
              0.1111111111111111,
              "#46039f"
             ],
             [
              0.2222222222222222,
              "#7201a8"
             ],
             [
              0.3333333333333333,
              "#9c179e"
             ],
             [
              0.4444444444444444,
              "#bd3786"
             ],
             [
              0.5555555555555556,
              "#d8576b"
             ],
             [
              0.6666666666666666,
              "#ed7953"
             ],
             [
              0.7777777777777778,
              "#fb9f3a"
             ],
             [
              0.8888888888888888,
              "#fdca26"
             ],
             [
              1,
              "#f0f921"
             ]
            ],
            "type": "contour"
           }
          ],
          "contourcarpet": [
           {
            "colorbar": {
             "outlinewidth": 0,
             "ticks": ""
            },
            "type": "contourcarpet"
           }
          ],
          "heatmap": [
           {
            "colorbar": {
             "outlinewidth": 0,
             "ticks": ""
            },
            "colorscale": [
             [
              0,
              "#0d0887"
             ],
             [
              0.1111111111111111,
              "#46039f"
             ],
             [
              0.2222222222222222,
              "#7201a8"
             ],
             [
              0.3333333333333333,
              "#9c179e"
             ],
             [
              0.4444444444444444,
              "#bd3786"
             ],
             [
              0.5555555555555556,
              "#d8576b"
             ],
             [
              0.6666666666666666,
              "#ed7953"
             ],
             [
              0.7777777777777778,
              "#fb9f3a"
             ],
             [
              0.8888888888888888,
              "#fdca26"
             ],
             [
              1,
              "#f0f921"
             ]
            ],
            "type": "heatmap"
           }
          ],
          "heatmapgl": [
           {
            "colorbar": {
             "outlinewidth": 0,
             "ticks": ""
            },
            "colorscale": [
             [
              0,
              "#0d0887"
             ],
             [
              0.1111111111111111,
              "#46039f"
             ],
             [
              0.2222222222222222,
              "#7201a8"
             ],
             [
              0.3333333333333333,
              "#9c179e"
             ],
             [
              0.4444444444444444,
              "#bd3786"
             ],
             [
              0.5555555555555556,
              "#d8576b"
             ],
             [
              0.6666666666666666,
              "#ed7953"
             ],
             [
              0.7777777777777778,
              "#fb9f3a"
             ],
             [
              0.8888888888888888,
              "#fdca26"
             ],
             [
              1,
              "#f0f921"
             ]
            ],
            "type": "heatmapgl"
           }
          ],
          "histogram": [
           {
            "marker": {
             "pattern": {
              "fillmode": "overlay",
              "size": 10,
              "solidity": 0.2
             }
            },
            "type": "histogram"
           }
          ],
          "histogram2d": [
           {
            "colorbar": {
             "outlinewidth": 0,
             "ticks": ""
            },
            "colorscale": [
             [
              0,
              "#0d0887"
             ],
             [
              0.1111111111111111,
              "#46039f"
             ],
             [
              0.2222222222222222,
              "#7201a8"
             ],
             [
              0.3333333333333333,
              "#9c179e"
             ],
             [
              0.4444444444444444,
              "#bd3786"
             ],
             [
              0.5555555555555556,
              "#d8576b"
             ],
             [
              0.6666666666666666,
              "#ed7953"
             ],
             [
              0.7777777777777778,
              "#fb9f3a"
             ],
             [
              0.8888888888888888,
              "#fdca26"
             ],
             [
              1,
              "#f0f921"
             ]
            ],
            "type": "histogram2d"
           }
          ],
          "histogram2dcontour": [
           {
            "colorbar": {
             "outlinewidth": 0,
             "ticks": ""
            },
            "colorscale": [
             [
              0,
              "#0d0887"
             ],
             [
              0.1111111111111111,
              "#46039f"
             ],
             [
              0.2222222222222222,
              "#7201a8"
             ],
             [
              0.3333333333333333,
              "#9c179e"
             ],
             [
              0.4444444444444444,
              "#bd3786"
             ],
             [
              0.5555555555555556,
              "#d8576b"
             ],
             [
              0.6666666666666666,
              "#ed7953"
             ],
             [
              0.7777777777777778,
              "#fb9f3a"
             ],
             [
              0.8888888888888888,
              "#fdca26"
             ],
             [
              1,
              "#f0f921"
             ]
            ],
            "type": "histogram2dcontour"
           }
          ],
          "mesh3d": [
           {
            "colorbar": {
             "outlinewidth": 0,
             "ticks": ""
            },
            "type": "mesh3d"
           }
          ],
          "parcoords": [
           {
            "line": {
             "colorbar": {
              "outlinewidth": 0,
              "ticks": ""
             }
            },
            "type": "parcoords"
           }
          ],
          "pie": [
           {
            "automargin": true,
            "type": "pie"
           }
          ],
          "scatter": [
           {
            "fillpattern": {
             "fillmode": "overlay",
             "size": 10,
             "solidity": 0.2
            },
            "type": "scatter"
           }
          ],
          "scatter3d": [
           {
            "line": {
             "colorbar": {
              "outlinewidth": 0,
              "ticks": ""
             }
            },
            "marker": {
             "colorbar": {
              "outlinewidth": 0,
              "ticks": ""
             }
            },
            "type": "scatter3d"
           }
          ],
          "scattercarpet": [
           {
            "marker": {
             "colorbar": {
              "outlinewidth": 0,
              "ticks": ""
             }
            },
            "type": "scattercarpet"
           }
          ],
          "scattergeo": [
           {
            "marker": {
             "colorbar": {
              "outlinewidth": 0,
              "ticks": ""
             }
            },
            "type": "scattergeo"
           }
          ],
          "scattergl": [
           {
            "marker": {
             "colorbar": {
              "outlinewidth": 0,
              "ticks": ""
             }
            },
            "type": "scattergl"
           }
          ],
          "scattermapbox": [
           {
            "marker": {
             "colorbar": {
              "outlinewidth": 0,
              "ticks": ""
             }
            },
            "type": "scattermapbox"
           }
          ],
          "scatterpolar": [
           {
            "marker": {
             "colorbar": {
              "outlinewidth": 0,
              "ticks": ""
             }
            },
            "type": "scatterpolar"
           }
          ],
          "scatterpolargl": [
           {
            "marker": {
             "colorbar": {
              "outlinewidth": 0,
              "ticks": ""
             }
            },
            "type": "scatterpolargl"
           }
          ],
          "scatterternary": [
           {
            "marker": {
             "colorbar": {
              "outlinewidth": 0,
              "ticks": ""
             }
            },
            "type": "scatterternary"
           }
          ],
          "surface": [
           {
            "colorbar": {
             "outlinewidth": 0,
             "ticks": ""
            },
            "colorscale": [
             [
              0,
              "#0d0887"
             ],
             [
              0.1111111111111111,
              "#46039f"
             ],
             [
              0.2222222222222222,
              "#7201a8"
             ],
             [
              0.3333333333333333,
              "#9c179e"
             ],
             [
              0.4444444444444444,
              "#bd3786"
             ],
             [
              0.5555555555555556,
              "#d8576b"
             ],
             [
              0.6666666666666666,
              "#ed7953"
             ],
             [
              0.7777777777777778,
              "#fb9f3a"
             ],
             [
              0.8888888888888888,
              "#fdca26"
             ],
             [
              1,
              "#f0f921"
             ]
            ],
            "type": "surface"
           }
          ],
          "table": [
           {
            "cells": {
             "fill": {
              "color": "#EBF0F8"
             },
             "line": {
              "color": "white"
             }
            },
            "header": {
             "fill": {
              "color": "#C8D4E3"
             },
             "line": {
              "color": "white"
             }
            },
            "type": "table"
           }
          ]
         },
         "layout": {
          "annotationdefaults": {
           "arrowcolor": "#2a3f5f",
           "arrowhead": 0,
           "arrowwidth": 1
          },
          "autotypenumbers": "strict",
          "coloraxis": {
           "colorbar": {
            "outlinewidth": 0,
            "ticks": ""
           }
          },
          "colorscale": {
           "diverging": [
            [
             0,
             "#8e0152"
            ],
            [
             0.1,
             "#c51b7d"
            ],
            [
             0.2,
             "#de77ae"
            ],
            [
             0.3,
             "#f1b6da"
            ],
            [
             0.4,
             "#fde0ef"
            ],
            [
             0.5,
             "#f7f7f7"
            ],
            [
             0.6,
             "#e6f5d0"
            ],
            [
             0.7,
             "#b8e186"
            ],
            [
             0.8,
             "#7fbc41"
            ],
            [
             0.9,
             "#4d9221"
            ],
            [
             1,
             "#276419"
            ]
           ],
           "sequential": [
            [
             0,
             "#0d0887"
            ],
            [
             0.1111111111111111,
             "#46039f"
            ],
            [
             0.2222222222222222,
             "#7201a8"
            ],
            [
             0.3333333333333333,
             "#9c179e"
            ],
            [
             0.4444444444444444,
             "#bd3786"
            ],
            [
             0.5555555555555556,
             "#d8576b"
            ],
            [
             0.6666666666666666,
             "#ed7953"
            ],
            [
             0.7777777777777778,
             "#fb9f3a"
            ],
            [
             0.8888888888888888,
             "#fdca26"
            ],
            [
             1,
             "#f0f921"
            ]
           ],
           "sequentialminus": [
            [
             0,
             "#0d0887"
            ],
            [
             0.1111111111111111,
             "#46039f"
            ],
            [
             0.2222222222222222,
             "#7201a8"
            ],
            [
             0.3333333333333333,
             "#9c179e"
            ],
            [
             0.4444444444444444,
             "#bd3786"
            ],
            [
             0.5555555555555556,
             "#d8576b"
            ],
            [
             0.6666666666666666,
             "#ed7953"
            ],
            [
             0.7777777777777778,
             "#fb9f3a"
            ],
            [
             0.8888888888888888,
             "#fdca26"
            ],
            [
             1,
             "#f0f921"
            ]
           ]
          },
          "colorway": [
           "#636efa",
           "#EF553B",
           "#00cc96",
           "#ab63fa",
           "#FFA15A",
           "#19d3f3",
           "#FF6692",
           "#B6E880",
           "#FF97FF",
           "#FECB52"
          ],
          "font": {
           "color": "#2a3f5f"
          },
          "geo": {
           "bgcolor": "white",
           "lakecolor": "white",
           "landcolor": "#E5ECF6",
           "showlakes": true,
           "showland": true,
           "subunitcolor": "white"
          },
          "hoverlabel": {
           "align": "left"
          },
          "hovermode": "closest",
          "mapbox": {
           "style": "light"
          },
          "paper_bgcolor": "white",
          "plot_bgcolor": "#E5ECF6",
          "polar": {
           "angularaxis": {
            "gridcolor": "white",
            "linecolor": "white",
            "ticks": ""
           },
           "bgcolor": "#E5ECF6",
           "radialaxis": {
            "gridcolor": "white",
            "linecolor": "white",
            "ticks": ""
           }
          },
          "scene": {
           "xaxis": {
            "backgroundcolor": "#E5ECF6",
            "gridcolor": "white",
            "gridwidth": 2,
            "linecolor": "white",
            "showbackground": true,
            "ticks": "",
            "zerolinecolor": "white"
           },
           "yaxis": {
            "backgroundcolor": "#E5ECF6",
            "gridcolor": "white",
            "gridwidth": 2,
            "linecolor": "white",
            "showbackground": true,
            "ticks": "",
            "zerolinecolor": "white"
           },
           "zaxis": {
            "backgroundcolor": "#E5ECF6",
            "gridcolor": "white",
            "gridwidth": 2,
            "linecolor": "white",
            "showbackground": true,
            "ticks": "",
            "zerolinecolor": "white"
           }
          },
          "shapedefaults": {
           "line": {
            "color": "#2a3f5f"
           }
          },
          "ternary": {
           "aaxis": {
            "gridcolor": "white",
            "linecolor": "white",
            "ticks": ""
           },
           "baxis": {
            "gridcolor": "white",
            "linecolor": "white",
            "ticks": ""
           },
           "bgcolor": "#E5ECF6",
           "caxis": {
            "gridcolor": "white",
            "linecolor": "white",
            "ticks": ""
           }
          },
          "title": {
           "x": 0.05
          },
          "xaxis": {
           "automargin": true,
           "gridcolor": "white",
           "linecolor": "white",
           "ticks": "",
           "title": {
            "standoff": 15
           },
           "zerolinecolor": "white",
           "zerolinewidth": 2
          },
          "yaxis": {
           "automargin": true,
           "gridcolor": "white",
           "linecolor": "white",
           "ticks": "",
           "title": {
            "standoff": 15
           },
           "zerolinecolor": "white",
           "zerolinewidth": 2
          }
         }
        },
        "title": {
         "text": "Comparison between Original Close Price Vs Predicted Close Price"
        },
        "xaxis": {
         "anchor": "y",
         "domain": [
          0,
          1
         ],
         "showgrid": false,
         "title": {
          "text": "Date"
         }
        },
        "yaxis": {
         "anchor": "x",
         "domain": [
          0,
          1
         ],
         "showgrid": false,
         "title": {
          "text": "Close price"
         }
        }
       }
      },
      "text/html": [
       "<div>                            <div id=\"3948002d-71f2-491f-846f-c12146342f86\" class=\"plotly-graph-div\" style=\"height:525px; width:100%;\"></div>            <script type=\"text/javascript\">                require([\"plotly\"], function(Plotly) {                    window.PLOTLYENV=window.PLOTLYENV || {};                                    if (document.getElementById(\"3948002d-71f2-491f-846f-c12146342f86\")) {                    Plotly.newPlot(                        \"3948002d-71f2-491f-846f-c12146342f86\",                        [{\"hovertemplate\":\"variable=original_close<br>Date=%{x}<br>Close price=%{y}<extra></extra>\",\"legendgroup\":\"original_close\",\"line\":{\"color\":\"#636efa\",\"dash\":\"solid\"},\"marker\":{\"symbol\":\"circle\"},\"mode\":\"lines\",\"name\":\"Original close price\",\"showlegend\":true,\"x\":[\"2020-09-02T00:00:00\",\"2020-09-03T00:00:00\",\"2020-09-04T00:00:00\",\"2020-09-05T00:00:00\",\"2020-09-06T00:00:00\",\"2020-09-07T00:00:00\",\"2020-09-08T00:00:00\",\"2020-09-09T00:00:00\",\"2020-09-10T00:00:00\",\"2020-09-11T00:00:00\",\"2020-09-12T00:00:00\",\"2020-09-13T00:00:00\",\"2020-09-14T00:00:00\",\"2020-09-15T00:00:00\",\"2020-09-16T00:00:00\",\"2020-09-17T00:00:00\",\"2020-09-18T00:00:00\",\"2020-09-19T00:00:00\",\"2020-09-20T00:00:00\",\"2020-09-21T00:00:00\",\"2020-09-22T00:00:00\",\"2020-09-23T00:00:00\",\"2020-09-24T00:00:00\",\"2020-09-25T00:00:00\",\"2020-09-26T00:00:00\",\"2020-09-27T00:00:00\",\"2020-09-28T00:00:00\",\"2020-09-29T00:00:00\",\"2020-09-30T00:00:00\",\"2020-10-01T00:00:00\",\"2020-10-02T00:00:00\",\"2020-10-03T00:00:00\",\"2020-10-04T00:00:00\",\"2020-10-05T00:00:00\",\"2020-10-06T00:00:00\",\"2020-10-07T00:00:00\",\"2020-10-08T00:00:00\",\"2020-10-09T00:00:00\",\"2020-10-10T00:00:00\",\"2020-10-11T00:00:00\",\"2020-10-12T00:00:00\",\"2020-10-13T00:00:00\",\"2020-10-14T00:00:00\",\"2020-10-15T00:00:00\",\"2020-10-16T00:00:00\",\"2020-10-17T00:00:00\",\"2020-10-18T00:00:00\",\"2020-10-19T00:00:00\",\"2020-10-20T00:00:00\",\"2020-10-21T00:00:00\",\"2020-10-22T00:00:00\",\"2020-10-23T00:00:00\",\"2020-10-24T00:00:00\",\"2020-10-25T00:00:00\",\"2020-10-26T00:00:00\",\"2020-10-27T00:00:00\",\"2020-10-28T00:00:00\",\"2020-10-29T00:00:00\",\"2020-10-30T00:00:00\",\"2020-10-31T00:00:00\",\"2020-11-01T00:00:00\",\"2020-11-02T00:00:00\",\"2020-11-03T00:00:00\",\"2020-11-04T00:00:00\",\"2020-11-05T00:00:00\",\"2020-11-06T00:00:00\",\"2020-11-07T00:00:00\",\"2020-11-08T00:00:00\",\"2020-11-09T00:00:00\",\"2020-11-10T00:00:00\",\"2020-11-11T00:00:00\",\"2020-11-12T00:00:00\",\"2020-11-13T00:00:00\",\"2020-11-14T00:00:00\",\"2020-11-15T00:00:00\",\"2020-11-16T00:00:00\",\"2020-11-17T00:00:00\",\"2020-11-18T00:00:00\",\"2020-11-19T00:00:00\",\"2020-11-20T00:00:00\",\"2020-11-21T00:00:00\",\"2020-11-22T00:00:00\",\"2020-11-23T00:00:00\",\"2020-11-24T00:00:00\",\"2020-11-25T00:00:00\",\"2020-11-26T00:00:00\",\"2020-11-27T00:00:00\",\"2020-11-28T00:00:00\",\"2020-11-29T00:00:00\",\"2020-11-30T00:00:00\",\"2020-12-01T00:00:00\",\"2020-12-02T00:00:00\",\"2020-12-03T00:00:00\",\"2020-12-04T00:00:00\",\"2020-12-05T00:00:00\",\"2020-12-06T00:00:00\",\"2020-12-07T00:00:00\",\"2020-12-08T00:00:00\",\"2020-12-09T00:00:00\",\"2020-12-10T00:00:00\",\"2020-12-11T00:00:00\",\"2020-12-12T00:00:00\",\"2020-12-13T00:00:00\",\"2020-12-14T00:00:00\",\"2020-12-15T00:00:00\",\"2020-12-16T00:00:00\",\"2020-12-17T00:00:00\",\"2020-12-18T00:00:00\",\"2020-12-19T00:00:00\",\"2020-12-20T00:00:00\",\"2020-12-21T00:00:00\",\"2020-12-22T00:00:00\",\"2020-12-23T00:00:00\",\"2020-12-24T00:00:00\",\"2020-12-25T00:00:00\",\"2020-12-26T00:00:00\",\"2020-12-27T00:00:00\",\"2020-12-28T00:00:00\",\"2020-12-29T00:00:00\",\"2020-12-30T00:00:00\",\"2020-12-31T00:00:00\",\"2021-01-01T00:00:00\",\"2021-01-02T00:00:00\",\"2021-01-03T00:00:00\",\"2021-01-04T00:00:00\",\"2021-01-05T00:00:00\",\"2021-01-06T00:00:00\",\"2021-01-07T00:00:00\",\"2021-01-08T00:00:00\",\"2021-01-09T00:00:00\",\"2021-01-10T00:00:00\",\"2021-01-11T00:00:00\",\"2021-01-12T00:00:00\",\"2021-01-13T00:00:00\",\"2021-01-14T00:00:00\",\"2021-01-15T00:00:00\",\"2021-01-16T00:00:00\",\"2021-01-17T00:00:00\",\"2021-01-18T00:00:00\",\"2021-01-19T00:00:00\",\"2021-01-20T00:00:00\",\"2021-01-21T00:00:00\",\"2021-01-22T00:00:00\",\"2021-01-23T00:00:00\",\"2021-01-24T00:00:00\",\"2021-01-25T00:00:00\",\"2021-01-26T00:00:00\",\"2021-01-27T00:00:00\",\"2021-01-28T00:00:00\",\"2021-01-29T00:00:00\",\"2021-01-30T00:00:00\",\"2021-01-31T00:00:00\",\"2021-02-01T00:00:00\",\"2021-02-02T00:00:00\",\"2021-02-03T00:00:00\",\"2021-02-04T00:00:00\",\"2021-02-05T00:00:00\",\"2021-02-06T00:00:00\",\"2021-02-07T00:00:00\",\"2021-02-08T00:00:00\",\"2021-02-09T00:00:00\",\"2021-02-10T00:00:00\",\"2021-02-11T00:00:00\",\"2021-02-12T00:00:00\",\"2021-02-13T00:00:00\",\"2021-02-14T00:00:00\",\"2021-02-15T00:00:00\",\"2021-02-16T00:00:00\",\"2021-02-17T00:00:00\",\"2021-02-18T00:00:00\",\"2021-02-19T00:00:00\",\"2021-02-20T00:00:00\",\"2021-02-21T00:00:00\",\"2021-02-22T00:00:00\",\"2021-02-23T00:00:00\",\"2021-02-24T00:00:00\",\"2021-02-25T00:00:00\",\"2021-02-26T00:00:00\",\"2021-02-27T00:00:00\",\"2021-02-28T00:00:00\",\"2021-03-01T00:00:00\",\"2021-03-02T00:00:00\",\"2021-03-03T00:00:00\",\"2021-03-04T00:00:00\",\"2021-03-05T00:00:00\",\"2021-03-06T00:00:00\",\"2021-03-07T00:00:00\",\"2021-03-08T00:00:00\",\"2021-03-09T00:00:00\",\"2021-03-10T00:00:00\",\"2021-03-11T00:00:00\",\"2021-03-12T00:00:00\",\"2021-03-13T00:00:00\",\"2021-03-14T00:00:00\",\"2021-03-15T00:00:00\",\"2021-03-16T00:00:00\",\"2021-03-17T00:00:00\",\"2021-03-18T00:00:00\",\"2021-03-19T00:00:00\",\"2021-03-20T00:00:00\",\"2021-03-21T00:00:00\",\"2021-03-22T00:00:00\",\"2021-03-23T00:00:00\",\"2021-03-24T00:00:00\",\"2021-03-25T00:00:00\",\"2021-03-26T00:00:00\",\"2021-03-27T00:00:00\",\"2021-03-28T00:00:00\",\"2021-03-29T00:00:00\",\"2021-03-30T00:00:00\",\"2021-03-31T00:00:00\",\"2021-04-01T00:00:00\",\"2021-04-02T00:00:00\",\"2021-04-03T00:00:00\",\"2021-04-04T00:00:00\",\"2021-04-05T00:00:00\",\"2021-04-06T00:00:00\",\"2021-04-07T00:00:00\",\"2021-04-08T00:00:00\",\"2021-04-09T00:00:00\",\"2021-04-10T00:00:00\",\"2021-04-11T00:00:00\",\"2021-04-12T00:00:00\",\"2021-04-13T00:00:00\",\"2021-04-14T00:00:00\",\"2021-04-15T00:00:00\",\"2021-04-16T00:00:00\",\"2021-04-17T00:00:00\",\"2021-04-18T00:00:00\",\"2021-04-19T00:00:00\",\"2021-04-20T00:00:00\",\"2021-04-21T00:00:00\",\"2021-04-22T00:00:00\",\"2021-04-23T00:00:00\",\"2021-04-24T00:00:00\",\"2021-04-25T00:00:00\",\"2021-04-26T00:00:00\",\"2021-04-27T00:00:00\",\"2021-04-28T00:00:00\",\"2021-04-29T00:00:00\",\"2021-04-30T00:00:00\",\"2021-05-01T00:00:00\",\"2021-05-02T00:00:00\",\"2021-05-03T00:00:00\",\"2021-05-04T00:00:00\",\"2021-05-05T00:00:00\",\"2021-05-06T00:00:00\",\"2021-05-07T00:00:00\",\"2021-05-08T00:00:00\",\"2021-05-09T00:00:00\",\"2021-05-10T00:00:00\",\"2021-05-11T00:00:00\",\"2021-05-12T00:00:00\",\"2021-05-13T00:00:00\",\"2021-05-14T00:00:00\",\"2021-05-15T00:00:00\",\"2021-05-16T00:00:00\",\"2021-05-17T00:00:00\",\"2021-05-18T00:00:00\",\"2021-05-19T00:00:00\",\"2021-05-20T00:00:00\",\"2021-05-21T00:00:00\",\"2021-05-22T00:00:00\",\"2021-05-23T00:00:00\",\"2021-05-24T00:00:00\",\"2021-05-25T00:00:00\",\"2021-05-26T00:00:00\",\"2021-05-27T00:00:00\",\"2021-05-28T00:00:00\",\"2021-05-29T00:00:00\",\"2021-05-30T00:00:00\",\"2021-05-31T00:00:00\",\"2021-06-01T00:00:00\",\"2021-06-02T00:00:00\",\"2021-06-03T00:00:00\",\"2021-06-04T00:00:00\",\"2021-06-05T00:00:00\",\"2021-06-06T00:00:00\",\"2021-06-07T00:00:00\",\"2021-06-08T00:00:00\",\"2021-06-09T00:00:00\",\"2021-06-10T00:00:00\",\"2021-06-11T00:00:00\",\"2021-06-12T00:00:00\",\"2021-06-13T00:00:00\",\"2021-06-14T00:00:00\",\"2021-06-15T00:00:00\",\"2021-06-16T00:00:00\",\"2021-06-17T00:00:00\",\"2021-06-18T00:00:00\",\"2021-06-19T00:00:00\",\"2021-06-20T00:00:00\",\"2021-06-21T00:00:00\",\"2021-06-22T00:00:00\",\"2021-06-23T00:00:00\",\"2021-06-24T00:00:00\",\"2021-06-25T00:00:00\",\"2021-06-26T00:00:00\",\"2021-06-27T00:00:00\",\"2021-06-28T00:00:00\",\"2021-06-29T00:00:00\",\"2021-06-30T00:00:00\",\"2021-07-01T00:00:00\",\"2021-07-02T00:00:00\",\"2021-07-03T00:00:00\",\"2021-07-04T00:00:00\",\"2021-07-05T00:00:00\",\"2021-07-06T00:00:00\",\"2021-07-07T00:00:00\",\"2021-07-08T00:00:00\",\"2021-07-09T00:00:00\",\"2021-07-10T00:00:00\",\"2021-07-11T00:00:00\",\"2021-07-12T00:00:00\",\"2021-07-13T00:00:00\",\"2021-07-14T00:00:00\",\"2021-07-15T00:00:00\",\"2021-07-16T00:00:00\",\"2021-07-17T00:00:00\",\"2021-07-18T00:00:00\",\"2021-07-19T00:00:00\",\"2021-07-20T00:00:00\",\"2021-07-21T00:00:00\",\"2021-07-22T00:00:00\",\"2021-07-23T00:00:00\",\"2021-07-24T00:00:00\",\"2021-07-25T00:00:00\",\"2021-07-26T00:00:00\",\"2021-07-27T00:00:00\",\"2021-07-28T00:00:00\",\"2021-07-29T00:00:00\",\"2021-07-30T00:00:00\",\"2021-07-31T00:00:00\",\"2021-08-01T00:00:00\",\"2021-08-02T00:00:00\",\"2021-08-03T00:00:00\",\"2021-08-04T00:00:00\",\"2021-08-05T00:00:00\",\"2021-08-06T00:00:00\",\"2021-08-07T00:00:00\",\"2021-08-08T00:00:00\",\"2021-08-09T00:00:00\",\"2021-08-10T00:00:00\",\"2021-08-11T00:00:00\",\"2021-08-12T00:00:00\",\"2021-08-13T00:00:00\",\"2021-08-14T00:00:00\",\"2021-08-15T00:00:00\",\"2021-08-16T00:00:00\",\"2021-08-17T00:00:00\",\"2021-08-18T00:00:00\",\"2021-08-19T00:00:00\",\"2021-08-20T00:00:00\",\"2021-08-21T00:00:00\",\"2021-08-22T00:00:00\",\"2021-08-23T00:00:00\",\"2021-08-24T00:00:00\",\"2021-08-25T00:00:00\",\"2021-08-26T00:00:00\",\"2021-08-27T00:00:00\",\"2021-08-28T00:00:00\",\"2021-08-29T00:00:00\",\"2021-08-30T00:00:00\",\"2021-08-31T00:00:00\",\"2021-09-01T00:00:00\",\"2021-09-02T00:00:00\",\"2021-09-03T00:00:00\",\"2021-09-04T00:00:00\",\"2021-09-05T00:00:00\",\"2021-09-06T00:00:00\",\"2021-09-07T00:00:00\",\"2021-09-08T00:00:00\",\"2021-09-09T00:00:00\",\"2021-09-10T00:00:00\",\"2021-09-11T00:00:00\",\"2021-09-12T00:00:00\",\"2021-09-13T00:00:00\",\"2021-09-14T00:00:00\",\"2021-09-15T00:00:00\",\"2021-09-16T00:00:00\",\"2021-09-17T00:00:00\",\"2021-09-18T00:00:00\",\"2021-09-19T00:00:00\",\"2021-09-20T00:00:00\",\"2021-09-21T00:00:00\",\"2021-09-22T00:00:00\",\"2021-09-23T00:00:00\",\"2021-09-24T00:00:00\",\"2021-09-25T00:00:00\",\"2021-09-26T00:00:00\",\"2021-09-27T00:00:00\",\"2021-09-28T00:00:00\",\"2021-09-29T00:00:00\",\"2021-09-30T00:00:00\",\"2021-10-01T00:00:00\",\"2021-10-02T00:00:00\",\"2021-10-03T00:00:00\",\"2021-10-04T00:00:00\",\"2021-10-05T00:00:00\",\"2021-10-06T00:00:00\",\"2021-10-07T00:00:00\",\"2021-10-08T00:00:00\",\"2021-10-09T00:00:00\",\"2021-10-10T00:00:00\",\"2021-10-11T00:00:00\",\"2021-10-12T00:00:00\",\"2021-10-13T00:00:00\",\"2021-10-14T00:00:00\",\"2021-10-15T00:00:00\",\"2021-10-16T00:00:00\",\"2021-10-17T00:00:00\",\"2021-10-18T00:00:00\",\"2021-10-19T00:00:00\",\"2021-10-20T00:00:00\",\"2021-10-21T00:00:00\",\"2021-10-22T00:00:00\",\"2021-10-23T00:00:00\",\"2021-10-24T00:00:00\",\"2021-10-25T00:00:00\",\"2021-10-26T00:00:00\",\"2021-10-27T00:00:00\",\"2021-10-28T00:00:00\",\"2021-10-29T00:00:00\",\"2021-10-30T00:00:00\",\"2021-10-31T00:00:00\",\"2021-11-01T00:00:00\",\"2021-11-02T00:00:00\",\"2021-11-03T00:00:00\",\"2021-11-04T00:00:00\",\"2021-11-05T00:00:00\",\"2021-11-06T00:00:00\",\"2021-11-07T00:00:00\",\"2021-11-08T00:00:00\",\"2021-11-09T00:00:00\",\"2021-11-10T00:00:00\",\"2021-11-11T00:00:00\",\"2021-11-12T00:00:00\",\"2021-11-13T00:00:00\",\"2021-11-14T00:00:00\",\"2021-11-15T00:00:00\",\"2021-11-16T00:00:00\",\"2021-11-17T00:00:00\",\"2021-11-18T00:00:00\",\"2021-11-19T00:00:00\",\"2021-11-20T00:00:00\",\"2021-11-21T00:00:00\",\"2021-11-22T00:00:00\",\"2021-11-23T00:00:00\",\"2021-11-24T00:00:00\",\"2021-11-25T00:00:00\",\"2021-11-26T00:00:00\",\"2021-11-27T00:00:00\",\"2021-11-28T00:00:00\",\"2021-11-29T00:00:00\",\"2021-11-30T00:00:00\",\"2021-12-01T00:00:00\",\"2021-12-02T00:00:00\",\"2021-12-03T00:00:00\",\"2021-12-04T00:00:00\",\"2021-12-05T00:00:00\",\"2021-12-06T00:00:00\",\"2021-12-07T00:00:00\",\"2021-12-08T00:00:00\",\"2021-12-09T00:00:00\",\"2021-12-10T00:00:00\",\"2021-12-11T00:00:00\",\"2021-12-12T00:00:00\",\"2021-12-13T00:00:00\",\"2021-12-14T00:00:00\",\"2021-12-15T00:00:00\",\"2021-12-16T00:00:00\",\"2021-12-17T00:00:00\",\"2021-12-18T00:00:00\",\"2021-12-19T00:00:00\",\"2021-12-20T00:00:00\",\"2021-12-21T00:00:00\",\"2021-12-22T00:00:00\",\"2021-12-23T00:00:00\",\"2021-12-24T00:00:00\",\"2021-12-25T00:00:00\",\"2021-12-26T00:00:00\",\"2021-12-27T00:00:00\",\"2021-12-28T00:00:00\",\"2021-12-29T00:00:00\",\"2021-12-30T00:00:00\",\"2021-12-31T00:00:00\",\"2022-01-01T00:00:00\",\"2022-01-02T00:00:00\",\"2022-01-03T00:00:00\",\"2022-01-04T00:00:00\",\"2022-01-05T00:00:00\",\"2022-01-06T00:00:00\",\"2022-01-07T00:00:00\",\"2022-01-08T00:00:00\",\"2022-01-09T00:00:00\",\"2022-01-10T00:00:00\",\"2022-01-11T00:00:00\",\"2022-01-12T00:00:00\",\"2022-01-13T00:00:00\",\"2022-01-14T00:00:00\",\"2022-01-15T00:00:00\",\"2022-01-16T00:00:00\",\"2022-01-17T00:00:00\",\"2022-01-18T00:00:00\",\"2022-01-19T00:00:00\",\"2022-01-20T00:00:00\"],\"xaxis\":\"x\",\"y\":[11414.03418,10245.296875,10511.813477,10169.567383,10280.351563,10369.563477,10131.516602,10242.347656,10363.138672,10400.915039,10442.170898,10323.755859,10680.837891,10796.951172,10974.905273,10948.990234,10944.585938,11094.34668,10938.271484,10462.259766,10538.459961,10246.186523,10760.066406,10692.716797,10750.723633,10775.269531,10709.652344,10844.640625,10784.491211,10619.452148,10575.974609,10549.329102,10669.583008,10793.339844,10604.40625,10668.96875,10915.685547,11064.458008,11296.361328,11384.181641,11555.363281,11425.899414,11429.506836,11495.349609,11322.123047,11358.101563,11483.359375,11742.037109,11916.334961,12823.689453,12965.891602,12931.539063,13108.0625,13031.173828,13075.248047,13654.21875,13271.285156,13437.882813,13546.522461000002,13780.995116999999,13737.109375,13550.489258000001,13950.300781,14133.707031,15579.848633000001,15565.880859,14833.753906,15479.567383000001,15332.31543,15290.902344,15701.339844,16276.34375,16317.808594,16068.138672,15955.587891,16716.111328,17645.40625,17804.005859,17817.089844,18621.314453,18642.232422,18370.001953,18364.121094,19107.464844,18732.121094,17150.623047,17108.402344,17717.414063,18177.484375,19625.835938,18802.998047,19201.091797,19445.398438,18699.765625,19154.230469,19345.121094,19191.630859,18321.144531,18553.916016,18264.992188,18058.904297,18803.65625,19142.382813,19246.644531,19417.076172,21310.597656,22805.162109,23137.960938,23869.832031,23477.294922,22803.082031,23783.029297,23241.345703,23735.949219,24664.791016,26437.037109,26272.294922,27084.808594,27362.4375,28840.953125,29001.720702999995,29374.152344,32127.267577999995,32782.023438,31971.914063,33992.429688,36824.363281,39371.042969,40797.609375,40254.546875,38356.441406,35566.65625,33922.960938,37316.359375,39187.328125,36825.367188,36178.140625,35791.277344,36630.074219,36069.804688,35547.75,30825.699219,33005.761719,32067.642577999995,32289.378906,32366.392577999995,32569.849608999997,30432.546875,33466.097656,34316.386719,34269.523438,33114.359375,33537.175781,35510.289063,37472.089844,36926.066406,38144.308594,39266.011719,38903.441406,46196.464844,46481.105469,44918.183594,47909.332031,47504.851563,47105.515625,48717.289063,47945.058594,49199.871094,52149.007813,51679.796875,55888.132813,56099.51953099999,57539.945313,54207.320313,48824.425781,49705.332031,47093.851563,46339.761719,46188.453125,45137.769531,49631.242188,48378.988281,50538.242188,48561.167969,48927.304688,48912.382813,51206.691406,52246.523438,54824.117188,56008.55078099999,57805.12109400001,57332.08984400001,61243.085938,59302.31640599999,55907.19921900001,56804.90234400001,58870.89453099999,57858.921875,58346.65234400001,58313.64453099999,57523.421875,54529.14453099999,54738.945313,52774.265625,51704.160156,55137.3125,55973.51171900001,55950.74609400001,57750.19921900001,58917.69140599999,58918.83203099999,59095.80859400001,59384.3125,57603.890625,58758.554688,59057.87890599999,58192.359375,56048.9375,58323.953125,58245.00390599999,59793.234375,60204.96484400001,59893.453125,63503.45703099999,63109.695313,63314.01171900001,61572.789063,60683.820313,56216.18359400001,55724.265625,56473.03125,53906.08984400001,51762.273438,51093.652344,50050.867188,49004.253906,54021.75390599999,55033.117188,54824.703125,53555.109375,57750.17578099999,57828.05078099999,56631.078125,57200.29296900001,53333.539063,57424.007813,56396.515625,57356.40234400001,58803.77734400001,58232.31640599999,55859.796875,56704.57421900001,49150.535156,49716.191406,49880.535156,46760.1875,46456.058594,43537.511719,42909.402344,37002.441406,40782.738281,37304.691406,37536.632813,34770.582031,38705.980469,38402.222656,39294.199219,38436.96875,35697.605469,34616.066406,35678.128906,37332.855469,36684.925781,37575.179688,39208.765625,36894.40625,35551.957031,35862.378906,33560.707031,33472.632813,37345.121094,36702.597656,37334.398438,35552.515625,39097.859375,40218.476563,40406.269531,38347.0625,38053.503906,35787.246094,35615.871094,35698.296875,31676.693358999997,32505.660156,33723.027344,34662.4375,31637.779297000005,32186.277344,34649.644531,34434.335938,35867.777344,35040.835938,33572.117188,33897.046875,34668.546875,35287.78125,33746.003906,34235.195313,33855.328125,32877.371094,33798.011719,33520.519531,34240.1875,33155.847656,32702.025391000003,32822.347656,31780.730469,31421.539063,31533.068358999997,31796.810547000005,30817.832031,29807.347656,32110.693358999997,32313.105469,33581.550781,34292.445313,35350.1875,37337.535156,39406.941406,39995.90625,40008.421875,42235.546875,41626.195313,39974.894531,39201.945313,38152.980469,39747.503906,40869.554688,42816.5,44555.800781,43798.117188,46365.402344,45585.03125,45593.636719,44428.289063,47793.320313,47096.945313,47047.003906,46004.484375,44695.359375,44801.1875,46717.578125,49339.175781,48905.492188,49321.652344,49546.148438,47706.117188,48960.789063,46942.21875,49058.667969,48902.402344,48829.832031,47054.984375,47166.6875,48847.027344,49327.722656,50025.375,49944.625,51753.410156,52633.535156,46811.128906,46091.390625,46391.421875,44883.910156,45201.457031,46063.269531,44963.074219,47092.492188,48176.347656,47783.359375,47267.519531,48278.363281,47260.21875,42843.800781,40693.675781,43574.507813,44895.097656,42839.75,42716.59375,43208.539063,42235.730469,41034.542969,41564.363281,43790.894531,48116.941406,47711.488281,48199.953125,49112.902344,51514.8125,55361.44921900001,53805.984375,53967.84765599999,54968.22265599999,54771.578125,57484.789063,56041.05859400001,57401.09765599999,57321.523438,61593.94921900001,60892.179688,61553.617188,62026.078125,64261.992188,65992.835938,62210.171875,60692.265625,61393.617188,60930.835938,63039.82421900001,60363.79296900001,58482.38671900001,60622.13671900001,62227.96484400001,61888.83203099999,61318.95703099999,61004.40625,63226.40234400001,62970.046875,61452.23046900001,61125.67578099999,61527.48046900001,63326.98828099999,67566.828125,66971.828125,64995.23046900001,64949.960938,64155.94140599999,64469.52734400001,65466.83984400001,63557.87109400001,60161.24609400001,60368.01171900001,56942.13671900001,58119.578125,59697.195313,58730.476563,56289.289063,57569.07421900001,56280.42578099999,57274.679688,53569.765625,54815.078125,57248.45703099999,57806.56640599999,57005.42578099999,57229.828125,56477.81640599999,53598.246094,49200.703125,49368.847656,50582.625,50700.085938,50504.796875,47672.121094,47243.304688,49362.507813,50098.335938,46737.480469,46612.632813,48896.722656,47665.425781,46202.144531,46848.777344,46707.015625,46880.277344,48936.613281,48628.511719,50784.539063,50822.195313,50429.859375,50809.515625,50640.417969,47588.855469,46444.710938,47178.125,46306.445313,47686.8125,47345.21875,46458.117188,45897.574219,43569.003906,43160.929688,41557.902344,41733.941406,41911.601563,41821.261719,42735.855469,43949.101563,42591.570313,43099.699219,43177.398438,43113.878906,42250.550781,42375.632813,41744.328125,41933.546875],\"yaxis\":\"y\",\"type\":\"scattergl\"},{\"hovertemplate\":\"variable=train_predicted_close<br>Date=%{x}<br>Close price=%{y}<extra></extra>\",\"legendgroup\":\"train_predicted_close\",\"line\":{\"color\":\"#EF553B\",\"dash\":\"solid\"},\"marker\":{\"symbol\":\"circle\"},\"mode\":\"lines\",\"name\":\"Train predicted close price\",\"showlegend\":true,\"x\":[\"2020-09-02T00:00:00\",\"2020-09-03T00:00:00\",\"2020-09-04T00:00:00\",\"2020-09-05T00:00:00\",\"2020-09-06T00:00:00\",\"2020-09-07T00:00:00\",\"2020-09-08T00:00:00\",\"2020-09-09T00:00:00\",\"2020-09-10T00:00:00\",\"2020-09-11T00:00:00\",\"2020-09-12T00:00:00\",\"2020-09-13T00:00:00\",\"2020-09-14T00:00:00\",\"2020-09-15T00:00:00\",\"2020-09-16T00:00:00\",\"2020-09-17T00:00:00\",\"2020-09-18T00:00:00\",\"2020-09-19T00:00:00\",\"2020-09-20T00:00:00\",\"2020-09-21T00:00:00\",\"2020-09-22T00:00:00\",\"2020-09-23T00:00:00\",\"2020-09-24T00:00:00\",\"2020-09-25T00:00:00\",\"2020-09-26T00:00:00\",\"2020-09-27T00:00:00\",\"2020-09-28T00:00:00\",\"2020-09-29T00:00:00\",\"2020-09-30T00:00:00\",\"2020-10-01T00:00:00\",\"2020-10-02T00:00:00\",\"2020-10-03T00:00:00\",\"2020-10-04T00:00:00\",\"2020-10-05T00:00:00\",\"2020-10-06T00:00:00\",\"2020-10-07T00:00:00\",\"2020-10-08T00:00:00\",\"2020-10-09T00:00:00\",\"2020-10-10T00:00:00\",\"2020-10-11T00:00:00\",\"2020-10-12T00:00:00\",\"2020-10-13T00:00:00\",\"2020-10-14T00:00:00\",\"2020-10-15T00:00:00\",\"2020-10-16T00:00:00\",\"2020-10-17T00:00:00\",\"2020-10-18T00:00:00\",\"2020-10-19T00:00:00\",\"2020-10-20T00:00:00\",\"2020-10-21T00:00:00\",\"2020-10-22T00:00:00\",\"2020-10-23T00:00:00\",\"2020-10-24T00:00:00\",\"2020-10-25T00:00:00\",\"2020-10-26T00:00:00\",\"2020-10-27T00:00:00\",\"2020-10-28T00:00:00\",\"2020-10-29T00:00:00\",\"2020-10-30T00:00:00\",\"2020-10-31T00:00:00\",\"2020-11-01T00:00:00\",\"2020-11-02T00:00:00\",\"2020-11-03T00:00:00\",\"2020-11-04T00:00:00\",\"2020-11-05T00:00:00\",\"2020-11-06T00:00:00\",\"2020-11-07T00:00:00\",\"2020-11-08T00:00:00\",\"2020-11-09T00:00:00\",\"2020-11-10T00:00:00\",\"2020-11-11T00:00:00\",\"2020-11-12T00:00:00\",\"2020-11-13T00:00:00\",\"2020-11-14T00:00:00\",\"2020-11-15T00:00:00\",\"2020-11-16T00:00:00\",\"2020-11-17T00:00:00\",\"2020-11-18T00:00:00\",\"2020-11-19T00:00:00\",\"2020-11-20T00:00:00\",\"2020-11-21T00:00:00\",\"2020-11-22T00:00:00\",\"2020-11-23T00:00:00\",\"2020-11-24T00:00:00\",\"2020-11-25T00:00:00\",\"2020-11-26T00:00:00\",\"2020-11-27T00:00:00\",\"2020-11-28T00:00:00\",\"2020-11-29T00:00:00\",\"2020-11-30T00:00:00\",\"2020-12-01T00:00:00\",\"2020-12-02T00:00:00\",\"2020-12-03T00:00:00\",\"2020-12-04T00:00:00\",\"2020-12-05T00:00:00\",\"2020-12-06T00:00:00\",\"2020-12-07T00:00:00\",\"2020-12-08T00:00:00\",\"2020-12-09T00:00:00\",\"2020-12-10T00:00:00\",\"2020-12-11T00:00:00\",\"2020-12-12T00:00:00\",\"2020-12-13T00:00:00\",\"2020-12-14T00:00:00\",\"2020-12-15T00:00:00\",\"2020-12-16T00:00:00\",\"2020-12-17T00:00:00\",\"2020-12-18T00:00:00\",\"2020-12-19T00:00:00\",\"2020-12-20T00:00:00\",\"2020-12-21T00:00:00\",\"2020-12-22T00:00:00\",\"2020-12-23T00:00:00\",\"2020-12-24T00:00:00\",\"2020-12-25T00:00:00\",\"2020-12-26T00:00:00\",\"2020-12-27T00:00:00\",\"2020-12-28T00:00:00\",\"2020-12-29T00:00:00\",\"2020-12-30T00:00:00\",\"2020-12-31T00:00:00\",\"2021-01-01T00:00:00\",\"2021-01-02T00:00:00\",\"2021-01-03T00:00:00\",\"2021-01-04T00:00:00\",\"2021-01-05T00:00:00\",\"2021-01-06T00:00:00\",\"2021-01-07T00:00:00\",\"2021-01-08T00:00:00\",\"2021-01-09T00:00:00\",\"2021-01-10T00:00:00\",\"2021-01-11T00:00:00\",\"2021-01-12T00:00:00\",\"2021-01-13T00:00:00\",\"2021-01-14T00:00:00\",\"2021-01-15T00:00:00\",\"2021-01-16T00:00:00\",\"2021-01-17T00:00:00\",\"2021-01-18T00:00:00\",\"2021-01-19T00:00:00\",\"2021-01-20T00:00:00\",\"2021-01-21T00:00:00\",\"2021-01-22T00:00:00\",\"2021-01-23T00:00:00\",\"2021-01-24T00:00:00\",\"2021-01-25T00:00:00\",\"2021-01-26T00:00:00\",\"2021-01-27T00:00:00\",\"2021-01-28T00:00:00\",\"2021-01-29T00:00:00\",\"2021-01-30T00:00:00\",\"2021-01-31T00:00:00\",\"2021-02-01T00:00:00\",\"2021-02-02T00:00:00\",\"2021-02-03T00:00:00\",\"2021-02-04T00:00:00\",\"2021-02-05T00:00:00\",\"2021-02-06T00:00:00\",\"2021-02-07T00:00:00\",\"2021-02-08T00:00:00\",\"2021-02-09T00:00:00\",\"2021-02-10T00:00:00\",\"2021-02-11T00:00:00\",\"2021-02-12T00:00:00\",\"2021-02-13T00:00:00\",\"2021-02-14T00:00:00\",\"2021-02-15T00:00:00\",\"2021-02-16T00:00:00\",\"2021-02-17T00:00:00\",\"2021-02-18T00:00:00\",\"2021-02-19T00:00:00\",\"2021-02-20T00:00:00\",\"2021-02-21T00:00:00\",\"2021-02-22T00:00:00\",\"2021-02-23T00:00:00\",\"2021-02-24T00:00:00\",\"2021-02-25T00:00:00\",\"2021-02-26T00:00:00\",\"2021-02-27T00:00:00\",\"2021-02-28T00:00:00\",\"2021-03-01T00:00:00\",\"2021-03-02T00:00:00\",\"2021-03-03T00:00:00\",\"2021-03-04T00:00:00\",\"2021-03-05T00:00:00\",\"2021-03-06T00:00:00\",\"2021-03-07T00:00:00\",\"2021-03-08T00:00:00\",\"2021-03-09T00:00:00\",\"2021-03-10T00:00:00\",\"2021-03-11T00:00:00\",\"2021-03-12T00:00:00\",\"2021-03-13T00:00:00\",\"2021-03-14T00:00:00\",\"2021-03-15T00:00:00\",\"2021-03-16T00:00:00\",\"2021-03-17T00:00:00\",\"2021-03-18T00:00:00\",\"2021-03-19T00:00:00\",\"2021-03-20T00:00:00\",\"2021-03-21T00:00:00\",\"2021-03-22T00:00:00\",\"2021-03-23T00:00:00\",\"2021-03-24T00:00:00\",\"2021-03-25T00:00:00\",\"2021-03-26T00:00:00\",\"2021-03-27T00:00:00\",\"2021-03-28T00:00:00\",\"2021-03-29T00:00:00\",\"2021-03-30T00:00:00\",\"2021-03-31T00:00:00\",\"2021-04-01T00:00:00\",\"2021-04-02T00:00:00\",\"2021-04-03T00:00:00\",\"2021-04-04T00:00:00\",\"2021-04-05T00:00:00\",\"2021-04-06T00:00:00\",\"2021-04-07T00:00:00\",\"2021-04-08T00:00:00\",\"2021-04-09T00:00:00\",\"2021-04-10T00:00:00\",\"2021-04-11T00:00:00\",\"2021-04-12T00:00:00\",\"2021-04-13T00:00:00\",\"2021-04-14T00:00:00\",\"2021-04-15T00:00:00\",\"2021-04-16T00:00:00\",\"2021-04-17T00:00:00\",\"2021-04-18T00:00:00\",\"2021-04-19T00:00:00\",\"2021-04-20T00:00:00\",\"2021-04-21T00:00:00\",\"2021-04-22T00:00:00\",\"2021-04-23T00:00:00\",\"2021-04-24T00:00:00\",\"2021-04-25T00:00:00\",\"2021-04-26T00:00:00\",\"2021-04-27T00:00:00\",\"2021-04-28T00:00:00\",\"2021-04-29T00:00:00\",\"2021-04-30T00:00:00\",\"2021-05-01T00:00:00\",\"2021-05-02T00:00:00\",\"2021-05-03T00:00:00\",\"2021-05-04T00:00:00\",\"2021-05-05T00:00:00\",\"2021-05-06T00:00:00\",\"2021-05-07T00:00:00\",\"2021-05-08T00:00:00\",\"2021-05-09T00:00:00\",\"2021-05-10T00:00:00\",\"2021-05-11T00:00:00\",\"2021-05-12T00:00:00\",\"2021-05-13T00:00:00\",\"2021-05-14T00:00:00\",\"2021-05-15T00:00:00\",\"2021-05-16T00:00:00\",\"2021-05-17T00:00:00\",\"2021-05-18T00:00:00\",\"2021-05-19T00:00:00\",\"2021-05-20T00:00:00\",\"2021-05-21T00:00:00\",\"2021-05-22T00:00:00\",\"2021-05-23T00:00:00\",\"2021-05-24T00:00:00\",\"2021-05-25T00:00:00\",\"2021-05-26T00:00:00\",\"2021-05-27T00:00:00\",\"2021-05-28T00:00:00\",\"2021-05-29T00:00:00\",\"2021-05-30T00:00:00\",\"2021-05-31T00:00:00\",\"2021-06-01T00:00:00\",\"2021-06-02T00:00:00\",\"2021-06-03T00:00:00\",\"2021-06-04T00:00:00\",\"2021-06-05T00:00:00\",\"2021-06-06T00:00:00\",\"2021-06-07T00:00:00\",\"2021-06-08T00:00:00\",\"2021-06-09T00:00:00\",\"2021-06-10T00:00:00\",\"2021-06-11T00:00:00\",\"2021-06-12T00:00:00\",\"2021-06-13T00:00:00\",\"2021-06-14T00:00:00\",\"2021-06-15T00:00:00\",\"2021-06-16T00:00:00\",\"2021-06-17T00:00:00\",\"2021-06-18T00:00:00\",\"2021-06-19T00:00:00\",\"2021-06-20T00:00:00\",\"2021-06-21T00:00:00\",\"2021-06-22T00:00:00\",\"2021-06-23T00:00:00\",\"2021-06-24T00:00:00\",\"2021-06-25T00:00:00\",\"2021-06-26T00:00:00\",\"2021-06-27T00:00:00\",\"2021-06-28T00:00:00\",\"2021-06-29T00:00:00\",\"2021-06-30T00:00:00\",\"2021-07-01T00:00:00\",\"2021-07-02T00:00:00\",\"2021-07-03T00:00:00\",\"2021-07-04T00:00:00\",\"2021-07-05T00:00:00\",\"2021-07-06T00:00:00\",\"2021-07-07T00:00:00\",\"2021-07-08T00:00:00\",\"2021-07-09T00:00:00\",\"2021-07-10T00:00:00\",\"2021-07-11T00:00:00\",\"2021-07-12T00:00:00\",\"2021-07-13T00:00:00\",\"2021-07-14T00:00:00\",\"2021-07-15T00:00:00\",\"2021-07-16T00:00:00\",\"2021-07-17T00:00:00\",\"2021-07-18T00:00:00\",\"2021-07-19T00:00:00\",\"2021-07-20T00:00:00\",\"2021-07-21T00:00:00\",\"2021-07-22T00:00:00\",\"2021-07-23T00:00:00\",\"2021-07-24T00:00:00\",\"2021-07-25T00:00:00\",\"2021-07-26T00:00:00\",\"2021-07-27T00:00:00\",\"2021-07-28T00:00:00\",\"2021-07-29T00:00:00\",\"2021-07-30T00:00:00\",\"2021-07-31T00:00:00\",\"2021-08-01T00:00:00\",\"2021-08-02T00:00:00\",\"2021-08-03T00:00:00\",\"2021-08-04T00:00:00\",\"2021-08-05T00:00:00\",\"2021-08-06T00:00:00\",\"2021-08-07T00:00:00\",\"2021-08-08T00:00:00\",\"2021-08-09T00:00:00\",\"2021-08-10T00:00:00\",\"2021-08-11T00:00:00\",\"2021-08-12T00:00:00\",\"2021-08-13T00:00:00\",\"2021-08-14T00:00:00\",\"2021-08-15T00:00:00\",\"2021-08-16T00:00:00\",\"2021-08-17T00:00:00\",\"2021-08-18T00:00:00\",\"2021-08-19T00:00:00\",\"2021-08-20T00:00:00\",\"2021-08-21T00:00:00\",\"2021-08-22T00:00:00\",\"2021-08-23T00:00:00\",\"2021-08-24T00:00:00\",\"2021-08-25T00:00:00\",\"2021-08-26T00:00:00\",\"2021-08-27T00:00:00\",\"2021-08-28T00:00:00\",\"2021-08-29T00:00:00\",\"2021-08-30T00:00:00\",\"2021-08-31T00:00:00\",\"2021-09-01T00:00:00\",\"2021-09-02T00:00:00\",\"2021-09-03T00:00:00\",\"2021-09-04T00:00:00\",\"2021-09-05T00:00:00\",\"2021-09-06T00:00:00\",\"2021-09-07T00:00:00\",\"2021-09-08T00:00:00\",\"2021-09-09T00:00:00\",\"2021-09-10T00:00:00\",\"2021-09-11T00:00:00\",\"2021-09-12T00:00:00\",\"2021-09-13T00:00:00\",\"2021-09-14T00:00:00\",\"2021-09-15T00:00:00\",\"2021-09-16T00:00:00\",\"2021-09-17T00:00:00\",\"2021-09-18T00:00:00\",\"2021-09-19T00:00:00\",\"2021-09-20T00:00:00\",\"2021-09-21T00:00:00\",\"2021-09-22T00:00:00\",\"2021-09-23T00:00:00\",\"2021-09-24T00:00:00\",\"2021-09-25T00:00:00\",\"2021-09-26T00:00:00\",\"2021-09-27T00:00:00\",\"2021-09-28T00:00:00\",\"2021-09-29T00:00:00\",\"2021-09-30T00:00:00\",\"2021-10-01T00:00:00\",\"2021-10-02T00:00:00\",\"2021-10-03T00:00:00\",\"2021-10-04T00:00:00\",\"2021-10-05T00:00:00\",\"2021-10-06T00:00:00\",\"2021-10-07T00:00:00\",\"2021-10-08T00:00:00\",\"2021-10-09T00:00:00\",\"2021-10-10T00:00:00\",\"2021-10-11T00:00:00\",\"2021-10-12T00:00:00\",\"2021-10-13T00:00:00\",\"2021-10-14T00:00:00\",\"2021-10-15T00:00:00\",\"2021-10-16T00:00:00\",\"2021-10-17T00:00:00\",\"2021-10-18T00:00:00\",\"2021-10-19T00:00:00\",\"2021-10-20T00:00:00\",\"2021-10-21T00:00:00\",\"2021-10-22T00:00:00\",\"2021-10-23T00:00:00\",\"2021-10-24T00:00:00\",\"2021-10-25T00:00:00\",\"2021-10-26T00:00:00\",\"2021-10-27T00:00:00\",\"2021-10-28T00:00:00\",\"2021-10-29T00:00:00\",\"2021-10-30T00:00:00\",\"2021-10-31T00:00:00\",\"2021-11-01T00:00:00\",\"2021-11-02T00:00:00\",\"2021-11-03T00:00:00\",\"2021-11-04T00:00:00\",\"2021-11-05T00:00:00\",\"2021-11-06T00:00:00\",\"2021-11-07T00:00:00\",\"2021-11-08T00:00:00\",\"2021-11-09T00:00:00\",\"2021-11-10T00:00:00\",\"2021-11-11T00:00:00\",\"2021-11-12T00:00:00\",\"2021-11-13T00:00:00\",\"2021-11-14T00:00:00\",\"2021-11-15T00:00:00\",\"2021-11-16T00:00:00\",\"2021-11-17T00:00:00\",\"2021-11-18T00:00:00\",\"2021-11-19T00:00:00\",\"2021-11-20T00:00:00\",\"2021-11-21T00:00:00\",\"2021-11-22T00:00:00\",\"2021-11-23T00:00:00\",\"2021-11-24T00:00:00\",\"2021-11-25T00:00:00\",\"2021-11-26T00:00:00\",\"2021-11-27T00:00:00\",\"2021-11-28T00:00:00\",\"2021-11-29T00:00:00\",\"2021-11-30T00:00:00\",\"2021-12-01T00:00:00\",\"2021-12-02T00:00:00\",\"2021-12-03T00:00:00\",\"2021-12-04T00:00:00\",\"2021-12-05T00:00:00\",\"2021-12-06T00:00:00\",\"2021-12-07T00:00:00\",\"2021-12-08T00:00:00\",\"2021-12-09T00:00:00\",\"2021-12-10T00:00:00\",\"2021-12-11T00:00:00\",\"2021-12-12T00:00:00\",\"2021-12-13T00:00:00\",\"2021-12-14T00:00:00\",\"2021-12-15T00:00:00\",\"2021-12-16T00:00:00\",\"2021-12-17T00:00:00\",\"2021-12-18T00:00:00\",\"2021-12-19T00:00:00\",\"2021-12-20T00:00:00\",\"2021-12-21T00:00:00\",\"2021-12-22T00:00:00\",\"2021-12-23T00:00:00\",\"2021-12-24T00:00:00\",\"2021-12-25T00:00:00\",\"2021-12-26T00:00:00\",\"2021-12-27T00:00:00\",\"2021-12-28T00:00:00\",\"2021-12-29T00:00:00\",\"2021-12-30T00:00:00\",\"2021-12-31T00:00:00\",\"2022-01-01T00:00:00\",\"2022-01-02T00:00:00\",\"2022-01-03T00:00:00\",\"2022-01-04T00:00:00\",\"2022-01-05T00:00:00\",\"2022-01-06T00:00:00\",\"2022-01-07T00:00:00\",\"2022-01-08T00:00:00\",\"2022-01-09T00:00:00\",\"2022-01-10T00:00:00\",\"2022-01-11T00:00:00\",\"2022-01-12T00:00:00\",\"2022-01-13T00:00:00\",\"2022-01-14T00:00:00\",\"2022-01-15T00:00:00\",\"2022-01-16T00:00:00\",\"2022-01-17T00:00:00\",\"2022-01-18T00:00:00\",\"2022-01-19T00:00:00\",\"2022-01-20T00:00:00\"],\"xaxis\":\"x\",\"y\":[null,null,null,null,null,null,null,null,null,null,null,null,null,null,null,null,null,null,null,null,null,10319.873046875,10751.3984375,10695.5478515625,10754.1337890625,10758.3017578125,10743.5712890625,10817.0458984375,10803.78125,10627.26953125,10582.0458984375,10555.025390625,10696.921875,10802.6220703125,10628.634765625,10667.0078125,10918.46484375,11065.90234375,11235.5361328125,11409.4267578125,11483.5615234375,11430.9794921875,11450.533203125,11456.759765625,11345.173828125,11361.66796875,11456.759765625,11672.53515625,11957.1572265625,12861.6572265625,12939.66796875,12940.9736328125,13046.6435546875,13026.1455078125,13048.21484375,13642.7783203125,13391.841796875,13449.9560546875,13553.275390625,13795.513671875,13721.87890625,13551.376953125,13938.5732421875,14104.396484375,15494.666015625,15494.666015625,14884.857421875,15467.90234375,15322.037109375,15288.5302734375,15644.990234375,16305.67578125,16356.9775390625,16156.05859375,16064.013671875,16729.142578125,17547.224609375,17824.498046875,17824.498046875,18562.439453125,18615.931640625,18393.890625,18358.24609375,19013.796875,18758.212890625,17341.564453125,17110.14453125,17682.294921875,18191.25,19566.12890625,18834.283203125,19176.798828125,19450.12890625,18789.138671875,19137.072265625,19320.57421875,19225.01171875,18355.32421875,18534.5390625,18345.84375,18094.287109375,18837.912109375,19141.595703125,19249.125,19400.599609375,21248.501953125,22760.88671875,23168.103515625,23823.541015625,23470.78515625,22891.453125,23779.90625,23222.873046875,23756.419921875,24611.9375,26390.337890625,26274.080078125,27095.93359375,27436.912109375,28838.388671875,28967.49609375,29320.498046875,32135.72265625,32795.6171875,32103.005859375,33955.06640625,36840.625,39394.78125,40705.78125,40231.84375,38358.9921875,35631.96875,33948.20703125,37305.19921875,39114.015625,36868.69921875,36189.13671875,35829.734375,36612.83203125,36063.15625,35532.50390625,30853.033203125,32989.70703125,32125.888671875,32286.740234375,32349.90625,32557.466796875,30477.583984375,33475.609375,34306.91015625,34239.234375,33132.73046875,33578.2265625,35492.03515625,37420.4140625,36932.1328125,38150.5,39242.25390625,38910.5859375,46000.79296875,46483.375,44981.4453125,47827.875,47498.890625,47104.7265625,48689.98828125,48014.91015625,49187.69921875,52106.97265625,51708.609375,55696.66796875,56147.9296875,57512.4765625,54265.83203125,48902.8125,49692.734375,47129.140625,46317.7734375,46167.77734375,45156.0,49482.45703125,48440.7421875,50530.5234375,48563.18359375,48925.9296875,48920.6640625,51121.11328125,52303.98828125,54785.21875,56015.98828125,57777.8046875,57360.8515625,61124.98828125,59319.92578125,55915.36328125,56801.44921875,58842.78515625,57856.65625,58310.1640625,58300.421875,57514.44140625,54535.08984375,54715.671875,52790.1015625,51732.01171875,55125.63671875,55966.828125,55943.4921875,57742.74609375,58887.1953125,58917.1640625,59070.23828125,59350.71875,57643.4140625,58749.203125,59051.49609375,58177.13671875,56093.2265625,58282.98046875,58250.390625,59718.74609375,60240.078125,59908.03515625,63420.8515625,63113.3046875,63282.62890625,61580.4453125,60673.03125,56237.58203125,55738.14453125,56471.48828125,53892.01953125,51771.9375,51093.35546875,50052.84375,49077.69921875,53970.25390625,55032.93359375,54829.8046875,53601.0390625,57704.05078125,57802.51953125,56664.6875,57212.30859375,53347.48046875,57332.60546875,56421.3984375,57376.1171875,58734.22265625,58258.46484375,55945.65234375,56691.25,49306.2890625,49758.2890625,49851.8125,46792.26953125,46508.53125,43559.8671875,42910.11328125,37017.68359375,40752.55078125,37290.63671875,37504.3359375,34827.41015625,38681.5234375,38417.69921875,39276.625,38422.99609375,35757.10546875,34634.55859375,35680.11328125,37306.328125,36710.70703125,37538.66015625,39065.421875,37034.96875,35573.69921875,35799.6796875,33582.140625,33530.5234375,37266.29296875,36675.0078125,37258.34375,35585.48828125,38989.5859375,40181.86328125,40359.98828125,38493.74609375,37972.08984375,35803.5,35591.8984375,35756.26953125,31805.775390625,32501.583984375,33730.74609375,34639.625,31747.298828125,32191.64453125,34569.68359375,34422.75390625,35847.26171875,35030.63671875,33612.46484375,33911.984375,34677.53125,35243.5625,33773.07421875,34212.828125,33861.44921875,32932.9453125,33765.0859375,33507.41796875,34222.7265625,33176.93359375,32711.173828125,32834.82421875,31816.94921875,31444.2421875,31547.916015625,31770.30859375,30855.736328125,29893.861328125,32091.578125,32305.921875,33530.453125,34300.49609375,35292.75390625,37319.828125,39380.515625,40061.3984375,40025.171875,42246.3515625,41599.95703125,39985.08203125,39198.7421875,38143.47265625,39730.3359375,40877.51953125,42870.6328125,44491.5,43844.87890625,46310.6640625,45630.8984375,45559.07421875,44512.1640625,47669.5390625,47086.79296875,47100.765625,46028.99609375,44782.8125,44796.1640625,46843.45703125,49243.20703125,null,null,null,null,null,null,null,null,null,null,null,null,null,null,null,null,null,null,null,null,null,null,null,null,null,null,null,null,null,null,null,null,null,null,null,null,null,null,null,null,null,null,null,null,null,null,null,null,null,null,null,null,null,null,null,null,null,null,null,null,null,null,null,null,null,null,null,null,null,null,null,null,null,null,null,null,null,null,null,null,null,null,null,null,null,null,null,null,null,null,null,null,null,null,null,null,null,null,null,null,null,null,null,null,null,null,null,null,null,null,null,null,null,null,null,null,null,null,null,null,null,null,null,null,null,null,null,null,null,null,null,null,null,null,null,null,null,null,null,null,null,null,null,null,null,null,null,null,null,null,null,null,null],\"yaxis\":\"y\",\"type\":\"scattergl\"},{\"hovertemplate\":\"variable=test_predicted_close<br>Date=%{x}<br>Close price=%{y}<extra></extra>\",\"legendgroup\":\"test_predicted_close\",\"line\":{\"color\":\"#00cc96\",\"dash\":\"solid\"},\"marker\":{\"symbol\":\"circle\"},\"mode\":\"lines\",\"name\":\"Test predicted close price\",\"showlegend\":true,\"x\":[\"2020-09-02T00:00:00\",\"2020-09-03T00:00:00\",\"2020-09-04T00:00:00\",\"2020-09-05T00:00:00\",\"2020-09-06T00:00:00\",\"2020-09-07T00:00:00\",\"2020-09-08T00:00:00\",\"2020-09-09T00:00:00\",\"2020-09-10T00:00:00\",\"2020-09-11T00:00:00\",\"2020-09-12T00:00:00\",\"2020-09-13T00:00:00\",\"2020-09-14T00:00:00\",\"2020-09-15T00:00:00\",\"2020-09-16T00:00:00\",\"2020-09-17T00:00:00\",\"2020-09-18T00:00:00\",\"2020-09-19T00:00:00\",\"2020-09-20T00:00:00\",\"2020-09-21T00:00:00\",\"2020-09-22T00:00:00\",\"2020-09-23T00:00:00\",\"2020-09-24T00:00:00\",\"2020-09-25T00:00:00\",\"2020-09-26T00:00:00\",\"2020-09-27T00:00:00\",\"2020-09-28T00:00:00\",\"2020-09-29T00:00:00\",\"2020-09-30T00:00:00\",\"2020-10-01T00:00:00\",\"2020-10-02T00:00:00\",\"2020-10-03T00:00:00\",\"2020-10-04T00:00:00\",\"2020-10-05T00:00:00\",\"2020-10-06T00:00:00\",\"2020-10-07T00:00:00\",\"2020-10-08T00:00:00\",\"2020-10-09T00:00:00\",\"2020-10-10T00:00:00\",\"2020-10-11T00:00:00\",\"2020-10-12T00:00:00\",\"2020-10-13T00:00:00\",\"2020-10-14T00:00:00\",\"2020-10-15T00:00:00\",\"2020-10-16T00:00:00\",\"2020-10-17T00:00:00\",\"2020-10-18T00:00:00\",\"2020-10-19T00:00:00\",\"2020-10-20T00:00:00\",\"2020-10-21T00:00:00\",\"2020-10-22T00:00:00\",\"2020-10-23T00:00:00\",\"2020-10-24T00:00:00\",\"2020-10-25T00:00:00\",\"2020-10-26T00:00:00\",\"2020-10-27T00:00:00\",\"2020-10-28T00:00:00\",\"2020-10-29T00:00:00\",\"2020-10-30T00:00:00\",\"2020-10-31T00:00:00\",\"2020-11-01T00:00:00\",\"2020-11-02T00:00:00\",\"2020-11-03T00:00:00\",\"2020-11-04T00:00:00\",\"2020-11-05T00:00:00\",\"2020-11-06T00:00:00\",\"2020-11-07T00:00:00\",\"2020-11-08T00:00:00\",\"2020-11-09T00:00:00\",\"2020-11-10T00:00:00\",\"2020-11-11T00:00:00\",\"2020-11-12T00:00:00\",\"2020-11-13T00:00:00\",\"2020-11-14T00:00:00\",\"2020-11-15T00:00:00\",\"2020-11-16T00:00:00\",\"2020-11-17T00:00:00\",\"2020-11-18T00:00:00\",\"2020-11-19T00:00:00\",\"2020-11-20T00:00:00\",\"2020-11-21T00:00:00\",\"2020-11-22T00:00:00\",\"2020-11-23T00:00:00\",\"2020-11-24T00:00:00\",\"2020-11-25T00:00:00\",\"2020-11-26T00:00:00\",\"2020-11-27T00:00:00\",\"2020-11-28T00:00:00\",\"2020-11-29T00:00:00\",\"2020-11-30T00:00:00\",\"2020-12-01T00:00:00\",\"2020-12-02T00:00:00\",\"2020-12-03T00:00:00\",\"2020-12-04T00:00:00\",\"2020-12-05T00:00:00\",\"2020-12-06T00:00:00\",\"2020-12-07T00:00:00\",\"2020-12-08T00:00:00\",\"2020-12-09T00:00:00\",\"2020-12-10T00:00:00\",\"2020-12-11T00:00:00\",\"2020-12-12T00:00:00\",\"2020-12-13T00:00:00\",\"2020-12-14T00:00:00\",\"2020-12-15T00:00:00\",\"2020-12-16T00:00:00\",\"2020-12-17T00:00:00\",\"2020-12-18T00:00:00\",\"2020-12-19T00:00:00\",\"2020-12-20T00:00:00\",\"2020-12-21T00:00:00\",\"2020-12-22T00:00:00\",\"2020-12-23T00:00:00\",\"2020-12-24T00:00:00\",\"2020-12-25T00:00:00\",\"2020-12-26T00:00:00\",\"2020-12-27T00:00:00\",\"2020-12-28T00:00:00\",\"2020-12-29T00:00:00\",\"2020-12-30T00:00:00\",\"2020-12-31T00:00:00\",\"2021-01-01T00:00:00\",\"2021-01-02T00:00:00\",\"2021-01-03T00:00:00\",\"2021-01-04T00:00:00\",\"2021-01-05T00:00:00\",\"2021-01-06T00:00:00\",\"2021-01-07T00:00:00\",\"2021-01-08T00:00:00\",\"2021-01-09T00:00:00\",\"2021-01-10T00:00:00\",\"2021-01-11T00:00:00\",\"2021-01-12T00:00:00\",\"2021-01-13T00:00:00\",\"2021-01-14T00:00:00\",\"2021-01-15T00:00:00\",\"2021-01-16T00:00:00\",\"2021-01-17T00:00:00\",\"2021-01-18T00:00:00\",\"2021-01-19T00:00:00\",\"2021-01-20T00:00:00\",\"2021-01-21T00:00:00\",\"2021-01-22T00:00:00\",\"2021-01-23T00:00:00\",\"2021-01-24T00:00:00\",\"2021-01-25T00:00:00\",\"2021-01-26T00:00:00\",\"2021-01-27T00:00:00\",\"2021-01-28T00:00:00\",\"2021-01-29T00:00:00\",\"2021-01-30T00:00:00\",\"2021-01-31T00:00:00\",\"2021-02-01T00:00:00\",\"2021-02-02T00:00:00\",\"2021-02-03T00:00:00\",\"2021-02-04T00:00:00\",\"2021-02-05T00:00:00\",\"2021-02-06T00:00:00\",\"2021-02-07T00:00:00\",\"2021-02-08T00:00:00\",\"2021-02-09T00:00:00\",\"2021-02-10T00:00:00\",\"2021-02-11T00:00:00\",\"2021-02-12T00:00:00\",\"2021-02-13T00:00:00\",\"2021-02-14T00:00:00\",\"2021-02-15T00:00:00\",\"2021-02-16T00:00:00\",\"2021-02-17T00:00:00\",\"2021-02-18T00:00:00\",\"2021-02-19T00:00:00\",\"2021-02-20T00:00:00\",\"2021-02-21T00:00:00\",\"2021-02-22T00:00:00\",\"2021-02-23T00:00:00\",\"2021-02-24T00:00:00\",\"2021-02-25T00:00:00\",\"2021-02-26T00:00:00\",\"2021-02-27T00:00:00\",\"2021-02-28T00:00:00\",\"2021-03-01T00:00:00\",\"2021-03-02T00:00:00\",\"2021-03-03T00:00:00\",\"2021-03-04T00:00:00\",\"2021-03-05T00:00:00\",\"2021-03-06T00:00:00\",\"2021-03-07T00:00:00\",\"2021-03-08T00:00:00\",\"2021-03-09T00:00:00\",\"2021-03-10T00:00:00\",\"2021-03-11T00:00:00\",\"2021-03-12T00:00:00\",\"2021-03-13T00:00:00\",\"2021-03-14T00:00:00\",\"2021-03-15T00:00:00\",\"2021-03-16T00:00:00\",\"2021-03-17T00:00:00\",\"2021-03-18T00:00:00\",\"2021-03-19T00:00:00\",\"2021-03-20T00:00:00\",\"2021-03-21T00:00:00\",\"2021-03-22T00:00:00\",\"2021-03-23T00:00:00\",\"2021-03-24T00:00:00\",\"2021-03-25T00:00:00\",\"2021-03-26T00:00:00\",\"2021-03-27T00:00:00\",\"2021-03-28T00:00:00\",\"2021-03-29T00:00:00\",\"2021-03-30T00:00:00\",\"2021-03-31T00:00:00\",\"2021-04-01T00:00:00\",\"2021-04-02T00:00:00\",\"2021-04-03T00:00:00\",\"2021-04-04T00:00:00\",\"2021-04-05T00:00:00\",\"2021-04-06T00:00:00\",\"2021-04-07T00:00:00\",\"2021-04-08T00:00:00\",\"2021-04-09T00:00:00\",\"2021-04-10T00:00:00\",\"2021-04-11T00:00:00\",\"2021-04-12T00:00:00\",\"2021-04-13T00:00:00\",\"2021-04-14T00:00:00\",\"2021-04-15T00:00:00\",\"2021-04-16T00:00:00\",\"2021-04-17T00:00:00\",\"2021-04-18T00:00:00\",\"2021-04-19T00:00:00\",\"2021-04-20T00:00:00\",\"2021-04-21T00:00:00\",\"2021-04-22T00:00:00\",\"2021-04-23T00:00:00\",\"2021-04-24T00:00:00\",\"2021-04-25T00:00:00\",\"2021-04-26T00:00:00\",\"2021-04-27T00:00:00\",\"2021-04-28T00:00:00\",\"2021-04-29T00:00:00\",\"2021-04-30T00:00:00\",\"2021-05-01T00:00:00\",\"2021-05-02T00:00:00\",\"2021-05-03T00:00:00\",\"2021-05-04T00:00:00\",\"2021-05-05T00:00:00\",\"2021-05-06T00:00:00\",\"2021-05-07T00:00:00\",\"2021-05-08T00:00:00\",\"2021-05-09T00:00:00\",\"2021-05-10T00:00:00\",\"2021-05-11T00:00:00\",\"2021-05-12T00:00:00\",\"2021-05-13T00:00:00\",\"2021-05-14T00:00:00\",\"2021-05-15T00:00:00\",\"2021-05-16T00:00:00\",\"2021-05-17T00:00:00\",\"2021-05-18T00:00:00\",\"2021-05-19T00:00:00\",\"2021-05-20T00:00:00\",\"2021-05-21T00:00:00\",\"2021-05-22T00:00:00\",\"2021-05-23T00:00:00\",\"2021-05-24T00:00:00\",\"2021-05-25T00:00:00\",\"2021-05-26T00:00:00\",\"2021-05-27T00:00:00\",\"2021-05-28T00:00:00\",\"2021-05-29T00:00:00\",\"2021-05-30T00:00:00\",\"2021-05-31T00:00:00\",\"2021-06-01T00:00:00\",\"2021-06-02T00:00:00\",\"2021-06-03T00:00:00\",\"2021-06-04T00:00:00\",\"2021-06-05T00:00:00\",\"2021-06-06T00:00:00\",\"2021-06-07T00:00:00\",\"2021-06-08T00:00:00\",\"2021-06-09T00:00:00\",\"2021-06-10T00:00:00\",\"2021-06-11T00:00:00\",\"2021-06-12T00:00:00\",\"2021-06-13T00:00:00\",\"2021-06-14T00:00:00\",\"2021-06-15T00:00:00\",\"2021-06-16T00:00:00\",\"2021-06-17T00:00:00\",\"2021-06-18T00:00:00\",\"2021-06-19T00:00:00\",\"2021-06-20T00:00:00\",\"2021-06-21T00:00:00\",\"2021-06-22T00:00:00\",\"2021-06-23T00:00:00\",\"2021-06-24T00:00:00\",\"2021-06-25T00:00:00\",\"2021-06-26T00:00:00\",\"2021-06-27T00:00:00\",\"2021-06-28T00:00:00\",\"2021-06-29T00:00:00\",\"2021-06-30T00:00:00\",\"2021-07-01T00:00:00\",\"2021-07-02T00:00:00\",\"2021-07-03T00:00:00\",\"2021-07-04T00:00:00\",\"2021-07-05T00:00:00\",\"2021-07-06T00:00:00\",\"2021-07-07T00:00:00\",\"2021-07-08T00:00:00\",\"2021-07-09T00:00:00\",\"2021-07-10T00:00:00\",\"2021-07-11T00:00:00\",\"2021-07-12T00:00:00\",\"2021-07-13T00:00:00\",\"2021-07-14T00:00:00\",\"2021-07-15T00:00:00\",\"2021-07-16T00:00:00\",\"2021-07-17T00:00:00\",\"2021-07-18T00:00:00\",\"2021-07-19T00:00:00\",\"2021-07-20T00:00:00\",\"2021-07-21T00:00:00\",\"2021-07-22T00:00:00\",\"2021-07-23T00:00:00\",\"2021-07-24T00:00:00\",\"2021-07-25T00:00:00\",\"2021-07-26T00:00:00\",\"2021-07-27T00:00:00\",\"2021-07-28T00:00:00\",\"2021-07-29T00:00:00\",\"2021-07-30T00:00:00\",\"2021-07-31T00:00:00\",\"2021-08-01T00:00:00\",\"2021-08-02T00:00:00\",\"2021-08-03T00:00:00\",\"2021-08-04T00:00:00\",\"2021-08-05T00:00:00\",\"2021-08-06T00:00:00\",\"2021-08-07T00:00:00\",\"2021-08-08T00:00:00\",\"2021-08-09T00:00:00\",\"2021-08-10T00:00:00\",\"2021-08-11T00:00:00\",\"2021-08-12T00:00:00\",\"2021-08-13T00:00:00\",\"2021-08-14T00:00:00\",\"2021-08-15T00:00:00\",\"2021-08-16T00:00:00\",\"2021-08-17T00:00:00\",\"2021-08-18T00:00:00\",\"2021-08-19T00:00:00\",\"2021-08-20T00:00:00\",\"2021-08-21T00:00:00\",\"2021-08-22T00:00:00\",\"2021-08-23T00:00:00\",\"2021-08-24T00:00:00\",\"2021-08-25T00:00:00\",\"2021-08-26T00:00:00\",\"2021-08-27T00:00:00\",\"2021-08-28T00:00:00\",\"2021-08-29T00:00:00\",\"2021-08-30T00:00:00\",\"2021-08-31T00:00:00\",\"2021-09-01T00:00:00\",\"2021-09-02T00:00:00\",\"2021-09-03T00:00:00\",\"2021-09-04T00:00:00\",\"2021-09-05T00:00:00\",\"2021-09-06T00:00:00\",\"2021-09-07T00:00:00\",\"2021-09-08T00:00:00\",\"2021-09-09T00:00:00\",\"2021-09-10T00:00:00\",\"2021-09-11T00:00:00\",\"2021-09-12T00:00:00\",\"2021-09-13T00:00:00\",\"2021-09-14T00:00:00\",\"2021-09-15T00:00:00\",\"2021-09-16T00:00:00\",\"2021-09-17T00:00:00\",\"2021-09-18T00:00:00\",\"2021-09-19T00:00:00\",\"2021-09-20T00:00:00\",\"2021-09-21T00:00:00\",\"2021-09-22T00:00:00\",\"2021-09-23T00:00:00\",\"2021-09-24T00:00:00\",\"2021-09-25T00:00:00\",\"2021-09-26T00:00:00\",\"2021-09-27T00:00:00\",\"2021-09-28T00:00:00\",\"2021-09-29T00:00:00\",\"2021-09-30T00:00:00\",\"2021-10-01T00:00:00\",\"2021-10-02T00:00:00\",\"2021-10-03T00:00:00\",\"2021-10-04T00:00:00\",\"2021-10-05T00:00:00\",\"2021-10-06T00:00:00\",\"2021-10-07T00:00:00\",\"2021-10-08T00:00:00\",\"2021-10-09T00:00:00\",\"2021-10-10T00:00:00\",\"2021-10-11T00:00:00\",\"2021-10-12T00:00:00\",\"2021-10-13T00:00:00\",\"2021-10-14T00:00:00\",\"2021-10-15T00:00:00\",\"2021-10-16T00:00:00\",\"2021-10-17T00:00:00\",\"2021-10-18T00:00:00\",\"2021-10-19T00:00:00\",\"2021-10-20T00:00:00\",\"2021-10-21T00:00:00\",\"2021-10-22T00:00:00\",\"2021-10-23T00:00:00\",\"2021-10-24T00:00:00\",\"2021-10-25T00:00:00\",\"2021-10-26T00:00:00\",\"2021-10-27T00:00:00\",\"2021-10-28T00:00:00\",\"2021-10-29T00:00:00\",\"2021-10-30T00:00:00\",\"2021-10-31T00:00:00\",\"2021-11-01T00:00:00\",\"2021-11-02T00:00:00\",\"2021-11-03T00:00:00\",\"2021-11-04T00:00:00\",\"2021-11-05T00:00:00\",\"2021-11-06T00:00:00\",\"2021-11-07T00:00:00\",\"2021-11-08T00:00:00\",\"2021-11-09T00:00:00\",\"2021-11-10T00:00:00\",\"2021-11-11T00:00:00\",\"2021-11-12T00:00:00\",\"2021-11-13T00:00:00\",\"2021-11-14T00:00:00\",\"2021-11-15T00:00:00\",\"2021-11-16T00:00:00\",\"2021-11-17T00:00:00\",\"2021-11-18T00:00:00\",\"2021-11-19T00:00:00\",\"2021-11-20T00:00:00\",\"2021-11-21T00:00:00\",\"2021-11-22T00:00:00\",\"2021-11-23T00:00:00\",\"2021-11-24T00:00:00\",\"2021-11-25T00:00:00\",\"2021-11-26T00:00:00\",\"2021-11-27T00:00:00\",\"2021-11-28T00:00:00\",\"2021-11-29T00:00:00\",\"2021-11-30T00:00:00\",\"2021-12-01T00:00:00\",\"2021-12-02T00:00:00\",\"2021-12-03T00:00:00\",\"2021-12-04T00:00:00\",\"2021-12-05T00:00:00\",\"2021-12-06T00:00:00\",\"2021-12-07T00:00:00\",\"2021-12-08T00:00:00\",\"2021-12-09T00:00:00\",\"2021-12-10T00:00:00\",\"2021-12-11T00:00:00\",\"2021-12-12T00:00:00\",\"2021-12-13T00:00:00\",\"2021-12-14T00:00:00\",\"2021-12-15T00:00:00\",\"2021-12-16T00:00:00\",\"2021-12-17T00:00:00\",\"2021-12-18T00:00:00\",\"2021-12-19T00:00:00\",\"2021-12-20T00:00:00\",\"2021-12-21T00:00:00\",\"2021-12-22T00:00:00\",\"2021-12-23T00:00:00\",\"2021-12-24T00:00:00\",\"2021-12-25T00:00:00\",\"2021-12-26T00:00:00\",\"2021-12-27T00:00:00\",\"2021-12-28T00:00:00\",\"2021-12-29T00:00:00\",\"2021-12-30T00:00:00\",\"2021-12-31T00:00:00\",\"2022-01-01T00:00:00\",\"2022-01-02T00:00:00\",\"2022-01-03T00:00:00\",\"2022-01-04T00:00:00\",\"2022-01-05T00:00:00\",\"2022-01-06T00:00:00\",\"2022-01-07T00:00:00\",\"2022-01-08T00:00:00\",\"2022-01-09T00:00:00\",\"2022-01-10T00:00:00\",\"2022-01-11T00:00:00\",\"2022-01-12T00:00:00\",\"2022-01-13T00:00:00\",\"2022-01-14T00:00:00\",\"2022-01-15T00:00:00\",\"2022-01-16T00:00:00\",\"2022-01-17T00:00:00\",\"2022-01-18T00:00:00\",\"2022-01-19T00:00:00\",\"2022-01-20T00:00:00\"],\"xaxis\":\"x\",\"y\":[null,null,null,null,null,null,null,null,null,null,null,null,null,null,null,null,null,null,null,null,null,null,null,null,null,null,null,null,null,null,null,null,null,null,null,null,null,null,null,null,null,null,null,null,null,null,null,null,null,null,null,null,null,null,null,null,null,null,null,null,null,null,null,null,null,null,null,null,null,null,null,null,null,null,null,null,null,null,null,null,null,null,null,null,null,null,null,null,null,null,null,null,null,null,null,null,null,null,null,null,null,null,null,null,null,null,null,null,null,null,null,null,null,null,null,null,null,null,null,null,null,null,null,null,null,null,null,null,null,null,null,null,null,null,null,null,null,null,null,null,null,null,null,null,null,null,null,null,null,null,null,null,null,null,null,null,null,null,null,null,null,null,null,null,null,null,null,null,null,null,null,null,null,null,null,null,null,null,null,null,null,null,null,null,null,null,null,null,null,null,null,null,null,null,null,null,null,null,null,null,null,null,null,null,null,null,null,null,null,null,null,null,null,null,null,null,null,null,null,null,null,null,null,null,null,null,null,null,null,null,null,null,null,null,null,null,null,null,null,null,null,null,null,null,null,null,null,null,null,null,null,null,null,null,null,null,null,null,null,null,null,null,null,null,null,null,null,null,null,null,null,null,null,null,null,null,null,null,null,null,null,null,null,null,null,null,null,null,null,null,null,null,null,null,null,null,null,null,null,null,null,null,null,null,null,null,null,null,null,null,null,null,null,null,null,null,null,null,null,null,null,null,null,null,null,null,null,null,null,null,null,null,null,null,null,null,null,null,null,null,null,null,null,null,null,null,null,null,null,null,null,null,null,null,null,null,null,null,null,null,null,null,null,null,null,null,null,null,null,null,null,null,null,null,null,46967.578125,46433.53515625,46621.80078125,46996.28125,48535.87109375,47768.75390625,47683.8515625,49446.109375,49705.8828125,41824.484375,40985.61328125,44430.515625,46920.9921875,40706.984375,38771.0390625,38698.140625,38526.84375,38703.30078125,38690.33203125,45151.91796875,47528.171875,47931.80859375,48961.44140625,48907.08984375,53073.95703125,57362.0390625,55318.80859375,55110.3203125,56210.78515625,54973.64453125,55966.484375,56960.28515625,55807.2734375,55471.5625,59143.140625,59066.63671875,59424.56640625,59411.8515625,59516.0390625,59660.8046875,60617.69921875,59434.6171875,58933.8203125,59214.75390625,60022.31640625,59973.078125,57951.24609375,60759.3359375,59126.87890625,60711.203125,60802.96875,58563.015625,57671.3359375,59307.37109375,59087.4296875,59087.4296875,57524.16796875,57487.421875,57519.74609375,55933.65625,57449.80078125,57299.5703125,57718.296875,57482.1171875,58265.55078125,57504.3125,57354.0859375,57354.0859375,53964.75390625,54589.3671875,57054.4453125,56776.9453125,54079.25,54116.8359375,55860.58984375,57332.12109375,55111.8125,54661.09765625,53926.66015625,54825.3046875,53955.5390625,54403.984375,55115.08984375,53058.08984375,50098.328125,50395.16015625,49085.96484375,50024.55078125,50772.9453125,48018.6171875,46237.25390625,50028.38671875,50214.0,47389.03515625,47009.3515625,50115.421875,47772.18359375,46251.83984375,45873.390625,45479.91015625,47160.69921875,49999.57421875,49014.2109375,48500.15234375,49820.66015625,50007.52734375,51617.0703125,51582.8046875,49682.6796875,46451.8046875,49074.3828125,47239.8515625,48324.33203125,49340.73828125,46429.3984375,48070.09375,42139.20703125,40080.33203125,40368.58203125,38592.1875,38213.14453125,38304.4140625,38377.24609375,45317.40625,38884.0703125,38942.55078125,38887.1640625,38866.80859375,38815.796875,38795.74609375,null],\"yaxis\":\"y\",\"type\":\"scattergl\"}],                        {\"template\":{\"data\":{\"histogram2dcontour\":[{\"type\":\"histogram2dcontour\",\"colorbar\":{\"outlinewidth\":0,\"ticks\":\"\"},\"colorscale\":[[0.0,\"#0d0887\"],[0.1111111111111111,\"#46039f\"],[0.2222222222222222,\"#7201a8\"],[0.3333333333333333,\"#9c179e\"],[0.4444444444444444,\"#bd3786\"],[0.5555555555555556,\"#d8576b\"],[0.6666666666666666,\"#ed7953\"],[0.7777777777777778,\"#fb9f3a\"],[0.8888888888888888,\"#fdca26\"],[1.0,\"#f0f921\"]]}],\"choropleth\":[{\"type\":\"choropleth\",\"colorbar\":{\"outlinewidth\":0,\"ticks\":\"\"}}],\"histogram2d\":[{\"type\":\"histogram2d\",\"colorbar\":{\"outlinewidth\":0,\"ticks\":\"\"},\"colorscale\":[[0.0,\"#0d0887\"],[0.1111111111111111,\"#46039f\"],[0.2222222222222222,\"#7201a8\"],[0.3333333333333333,\"#9c179e\"],[0.4444444444444444,\"#bd3786\"],[0.5555555555555556,\"#d8576b\"],[0.6666666666666666,\"#ed7953\"],[0.7777777777777778,\"#fb9f3a\"],[0.8888888888888888,\"#fdca26\"],[1.0,\"#f0f921\"]]}],\"heatmap\":[{\"type\":\"heatmap\",\"colorbar\":{\"outlinewidth\":0,\"ticks\":\"\"},\"colorscale\":[[0.0,\"#0d0887\"],[0.1111111111111111,\"#46039f\"],[0.2222222222222222,\"#7201a8\"],[0.3333333333333333,\"#9c179e\"],[0.4444444444444444,\"#bd3786\"],[0.5555555555555556,\"#d8576b\"],[0.6666666666666666,\"#ed7953\"],[0.7777777777777778,\"#fb9f3a\"],[0.8888888888888888,\"#fdca26\"],[1.0,\"#f0f921\"]]}],\"heatmapgl\":[{\"type\":\"heatmapgl\",\"colorbar\":{\"outlinewidth\":0,\"ticks\":\"\"},\"colorscale\":[[0.0,\"#0d0887\"],[0.1111111111111111,\"#46039f\"],[0.2222222222222222,\"#7201a8\"],[0.3333333333333333,\"#9c179e\"],[0.4444444444444444,\"#bd3786\"],[0.5555555555555556,\"#d8576b\"],[0.6666666666666666,\"#ed7953\"],[0.7777777777777778,\"#fb9f3a\"],[0.8888888888888888,\"#fdca26\"],[1.0,\"#f0f921\"]]}],\"contourcarpet\":[{\"type\":\"contourcarpet\",\"colorbar\":{\"outlinewidth\":0,\"ticks\":\"\"}}],\"contour\":[{\"type\":\"contour\",\"colorbar\":{\"outlinewidth\":0,\"ticks\":\"\"},\"colorscale\":[[0.0,\"#0d0887\"],[0.1111111111111111,\"#46039f\"],[0.2222222222222222,\"#7201a8\"],[0.3333333333333333,\"#9c179e\"],[0.4444444444444444,\"#bd3786\"],[0.5555555555555556,\"#d8576b\"],[0.6666666666666666,\"#ed7953\"],[0.7777777777777778,\"#fb9f3a\"],[0.8888888888888888,\"#fdca26\"],[1.0,\"#f0f921\"]]}],\"surface\":[{\"type\":\"surface\",\"colorbar\":{\"outlinewidth\":0,\"ticks\":\"\"},\"colorscale\":[[0.0,\"#0d0887\"],[0.1111111111111111,\"#46039f\"],[0.2222222222222222,\"#7201a8\"],[0.3333333333333333,\"#9c179e\"],[0.4444444444444444,\"#bd3786\"],[0.5555555555555556,\"#d8576b\"],[0.6666666666666666,\"#ed7953\"],[0.7777777777777778,\"#fb9f3a\"],[0.8888888888888888,\"#fdca26\"],[1.0,\"#f0f921\"]]}],\"mesh3d\":[{\"type\":\"mesh3d\",\"colorbar\":{\"outlinewidth\":0,\"ticks\":\"\"}}],\"scatter\":[{\"fillpattern\":{\"fillmode\":\"overlay\",\"size\":10,\"solidity\":0.2},\"type\":\"scatter\"}],\"parcoords\":[{\"type\":\"parcoords\",\"line\":{\"colorbar\":{\"outlinewidth\":0,\"ticks\":\"\"}}}],\"scatterpolargl\":[{\"type\":\"scatterpolargl\",\"marker\":{\"colorbar\":{\"outlinewidth\":0,\"ticks\":\"\"}}}],\"bar\":[{\"error_x\":{\"color\":\"#2a3f5f\"},\"error_y\":{\"color\":\"#2a3f5f\"},\"marker\":{\"line\":{\"color\":\"#E5ECF6\",\"width\":0.5},\"pattern\":{\"fillmode\":\"overlay\",\"size\":10,\"solidity\":0.2}},\"type\":\"bar\"}],\"scattergeo\":[{\"type\":\"scattergeo\",\"marker\":{\"colorbar\":{\"outlinewidth\":0,\"ticks\":\"\"}}}],\"scatterpolar\":[{\"type\":\"scatterpolar\",\"marker\":{\"colorbar\":{\"outlinewidth\":0,\"ticks\":\"\"}}}],\"histogram\":[{\"marker\":{\"pattern\":{\"fillmode\":\"overlay\",\"size\":10,\"solidity\":0.2}},\"type\":\"histogram\"}],\"scattergl\":[{\"type\":\"scattergl\",\"marker\":{\"colorbar\":{\"outlinewidth\":0,\"ticks\":\"\"}}}],\"scatter3d\":[{\"type\":\"scatter3d\",\"line\":{\"colorbar\":{\"outlinewidth\":0,\"ticks\":\"\"}},\"marker\":{\"colorbar\":{\"outlinewidth\":0,\"ticks\":\"\"}}}],\"scattermapbox\":[{\"type\":\"scattermapbox\",\"marker\":{\"colorbar\":{\"outlinewidth\":0,\"ticks\":\"\"}}}],\"scatterternary\":[{\"type\":\"scatterternary\",\"marker\":{\"colorbar\":{\"outlinewidth\":0,\"ticks\":\"\"}}}],\"scattercarpet\":[{\"type\":\"scattercarpet\",\"marker\":{\"colorbar\":{\"outlinewidth\":0,\"ticks\":\"\"}}}],\"carpet\":[{\"aaxis\":{\"endlinecolor\":\"#2a3f5f\",\"gridcolor\":\"white\",\"linecolor\":\"white\",\"minorgridcolor\":\"white\",\"startlinecolor\":\"#2a3f5f\"},\"baxis\":{\"endlinecolor\":\"#2a3f5f\",\"gridcolor\":\"white\",\"linecolor\":\"white\",\"minorgridcolor\":\"white\",\"startlinecolor\":\"#2a3f5f\"},\"type\":\"carpet\"}],\"table\":[{\"cells\":{\"fill\":{\"color\":\"#EBF0F8\"},\"line\":{\"color\":\"white\"}},\"header\":{\"fill\":{\"color\":\"#C8D4E3\"},\"line\":{\"color\":\"white\"}},\"type\":\"table\"}],\"barpolar\":[{\"marker\":{\"line\":{\"color\":\"#E5ECF6\",\"width\":0.5},\"pattern\":{\"fillmode\":\"overlay\",\"size\":10,\"solidity\":0.2}},\"type\":\"barpolar\"}],\"pie\":[{\"automargin\":true,\"type\":\"pie\"}]},\"layout\":{\"autotypenumbers\":\"strict\",\"colorway\":[\"#636efa\",\"#EF553B\",\"#00cc96\",\"#ab63fa\",\"#FFA15A\",\"#19d3f3\",\"#FF6692\",\"#B6E880\",\"#FF97FF\",\"#FECB52\"],\"font\":{\"color\":\"#2a3f5f\"},\"hovermode\":\"closest\",\"hoverlabel\":{\"align\":\"left\"},\"paper_bgcolor\":\"white\",\"plot_bgcolor\":\"#E5ECF6\",\"polar\":{\"bgcolor\":\"#E5ECF6\",\"angularaxis\":{\"gridcolor\":\"white\",\"linecolor\":\"white\",\"ticks\":\"\"},\"radialaxis\":{\"gridcolor\":\"white\",\"linecolor\":\"white\",\"ticks\":\"\"}},\"ternary\":{\"bgcolor\":\"#E5ECF6\",\"aaxis\":{\"gridcolor\":\"white\",\"linecolor\":\"white\",\"ticks\":\"\"},\"baxis\":{\"gridcolor\":\"white\",\"linecolor\":\"white\",\"ticks\":\"\"},\"caxis\":{\"gridcolor\":\"white\",\"linecolor\":\"white\",\"ticks\":\"\"}},\"coloraxis\":{\"colorbar\":{\"outlinewidth\":0,\"ticks\":\"\"}},\"colorscale\":{\"sequential\":[[0.0,\"#0d0887\"],[0.1111111111111111,\"#46039f\"],[0.2222222222222222,\"#7201a8\"],[0.3333333333333333,\"#9c179e\"],[0.4444444444444444,\"#bd3786\"],[0.5555555555555556,\"#d8576b\"],[0.6666666666666666,\"#ed7953\"],[0.7777777777777778,\"#fb9f3a\"],[0.8888888888888888,\"#fdca26\"],[1.0,\"#f0f921\"]],\"sequentialminus\":[[0.0,\"#0d0887\"],[0.1111111111111111,\"#46039f\"],[0.2222222222222222,\"#7201a8\"],[0.3333333333333333,\"#9c179e\"],[0.4444444444444444,\"#bd3786\"],[0.5555555555555556,\"#d8576b\"],[0.6666666666666666,\"#ed7953\"],[0.7777777777777778,\"#fb9f3a\"],[0.8888888888888888,\"#fdca26\"],[1.0,\"#f0f921\"]],\"diverging\":[[0,\"#8e0152\"],[0.1,\"#c51b7d\"],[0.2,\"#de77ae\"],[0.3,\"#f1b6da\"],[0.4,\"#fde0ef\"],[0.5,\"#f7f7f7\"],[0.6,\"#e6f5d0\"],[0.7,\"#b8e186\"],[0.8,\"#7fbc41\"],[0.9,\"#4d9221\"],[1,\"#276419\"]]},\"xaxis\":{\"gridcolor\":\"white\",\"linecolor\":\"white\",\"ticks\":\"\",\"title\":{\"standoff\":15},\"zerolinecolor\":\"white\",\"automargin\":true,\"zerolinewidth\":2},\"yaxis\":{\"gridcolor\":\"white\",\"linecolor\":\"white\",\"ticks\":\"\",\"title\":{\"standoff\":15},\"zerolinecolor\":\"white\",\"automargin\":true,\"zerolinewidth\":2},\"scene\":{\"xaxis\":{\"backgroundcolor\":\"#E5ECF6\",\"gridcolor\":\"white\",\"linecolor\":\"white\",\"showbackground\":true,\"ticks\":\"\",\"zerolinecolor\":\"white\",\"gridwidth\":2},\"yaxis\":{\"backgroundcolor\":\"#E5ECF6\",\"gridcolor\":\"white\",\"linecolor\":\"white\",\"showbackground\":true,\"ticks\":\"\",\"zerolinecolor\":\"white\",\"gridwidth\":2},\"zaxis\":{\"backgroundcolor\":\"#E5ECF6\",\"gridcolor\":\"white\",\"linecolor\":\"white\",\"showbackground\":true,\"ticks\":\"\",\"zerolinecolor\":\"white\",\"gridwidth\":2}},\"shapedefaults\":{\"line\":{\"color\":\"#2a3f5f\"}},\"annotationdefaults\":{\"arrowcolor\":\"#2a3f5f\",\"arrowhead\":0,\"arrowwidth\":1},\"geo\":{\"bgcolor\":\"white\",\"landcolor\":\"#E5ECF6\",\"subunitcolor\":\"white\",\"showland\":true,\"showlakes\":true,\"lakecolor\":\"white\"},\"title\":{\"x\":0.05},\"mapbox\":{\"style\":\"light\"}}},\"xaxis\":{\"anchor\":\"y\",\"domain\":[0.0,1.0],\"title\":{\"text\":\"Date\"},\"showgrid\":false},\"yaxis\":{\"anchor\":\"x\",\"domain\":[0.0,1.0],\"title\":{\"text\":\"Close price\"},\"showgrid\":false},\"legend\":{\"title\":{\"text\":\"Close Price\"},\"tracegroupgap\":0},\"margin\":{\"t\":60},\"title\":{\"text\":\"Comparison between Original Close Price Vs Predicted Close Price\"},\"font\":{\"size\":15,\"color\":\"black\"},\"plot_bgcolor\":\"white\"},                        {\"responsive\": true}                    ).then(function(){\n",
       "                            \n",
       "var gd = document.getElementById('3948002d-71f2-491f-846f-c12146342f86');\n",
       "var x = new MutationObserver(function (mutations, observer) {{\n",
       "        var display = window.getComputedStyle(gd).display;\n",
       "        if (!display || display === 'none') {{\n",
       "            console.log([gd, 'removed!']);\n",
       "            Plotly.purge(gd);\n",
       "            observer.disconnect();\n",
       "        }}\n",
       "}});\n",
       "\n",
       "// Listen for the removal of the full notebook cells\n",
       "var notebookContainer = gd.closest('#notebook-container');\n",
       "if (notebookContainer) {{\n",
       "    x.observe(notebookContainer, {childList: true});\n",
       "}}\n",
       "\n",
       "// Listen for the clearing of the current output cell\n",
       "var outputEl = gd.closest('.output');\n",
       "if (outputEl) {{\n",
       "    x.observe(outputEl, {childList: true});\n",
       "}}\n",
       "\n",
       "                        })                };                });            </script>        </div>"
      ]
     },
     "metadata": {},
     "output_type": "display_data"
    }
   ],
   "source": [
    "Crypto.xgboostModel()\n"
   ]
  },
  {
   "cell_type": "code",
   "execution_count": 42,
   "id": "601a7f2e",
   "metadata": {},
   "outputs": [
    {
     "name": "stdout",
     "output_type": "stream",
     "text": [
      "Output of next predicted days:  10\n"
     ]
    },
    {
     "data": {
      "application/vnd.plotly.v1+json": {
       "config": {
        "plotlyServerURL": "https://plot.ly"
       },
       "data": [
        {
         "hovertemplate": "variable=Original_Last_Days_Value<br>Timestamp=%{x}<br>Close price=%{y}<extra></extra>",
         "legendgroup": "Original_Last_Days_Value",
         "line": {
          "color": "#636efa",
          "dash": "solid"
         },
         "marker": {
          "symbol": "circle"
         },
         "mode": "lines",
         "name": "Last 15 days close price",
         "orientation": "v",
         "showlegend": true,
         "type": "scatter",
         "x": [
          0,
          1,
          2,
          3,
          4,
          5,
          6,
          7,
          8,
          9,
          10,
          11,
          12,
          13,
          14,
          15,
          16,
          17,
          18,
          19,
          20,
          21,
          22,
          23,
          24,
          25,
          26,
          27,
          28,
          29,
          30,
          31
         ],
         "xaxis": "x",
         "y": [
          46306.445313,
          47686.8125,
          47345.21875,
          46458.117188,
          45897.574219,
          43569.003906,
          43160.929688,
          41557.902344,
          41733.941406,
          41911.601563,
          41821.261719,
          42735.855469,
          43949.101563,
          42591.570313,
          43099.699219,
          43177.398438,
          43113.878906,
          42250.550781,
          42375.632813,
          41744.328125,
          41933.546875,
          null,
          38815.797526337636,
          38011.282167582576,
          37765.626728288495,
          37847.47535833222,
          37031.58400369138,
          36286.172130031155,
          35357.71045197342,
          36277.343152183,
          35666.75548736114,
          36426.4703736036
         ],
         "yaxis": "y"
        },
        {
         "hovertemplate": "variable=Predicted_Next_Days_Value<br>Timestamp=%{x}<br>Close price=%{y}<extra></extra>",
         "legendgroup": "Predicted_Next_Days_Value",
         "line": {
          "color": "#EF553B",
          "dash": "solid"
         },
         "marker": {
          "symbol": "circle"
         },
         "mode": "lines",
         "name": "Predicted next 10 days close price",
         "orientation": "v",
         "showlegend": true,
         "type": "scatter",
         "x": [
          0,
          1,
          2,
          3,
          4,
          5,
          6,
          7,
          8,
          9,
          10,
          11,
          12,
          13,
          14,
          15,
          16,
          17,
          18,
          19,
          20,
          21,
          22,
          23,
          24,
          25,
          26,
          27,
          28,
          29,
          30,
          31
         ],
         "xaxis": "x",
         "y": [
          46306.445313,
          47686.8125,
          47345.21875,
          46458.117188,
          45897.574219,
          43569.003906,
          43160.929688,
          41557.902344,
          41733.941406,
          41911.601563,
          41821.261719,
          42735.855469,
          43949.101563,
          42591.570313,
          43099.699219,
          43177.398438,
          43113.878906,
          42250.550781,
          42375.632813,
          41744.328125,
          41933.546875,
          null,
          38815.797526337636,
          38011.282167582576,
          37765.626728288495,
          37847.47535833222,
          37031.58400369138,
          36286.172130031155,
          35357.71045197342,
          36277.343152183,
          35666.75548736114,
          36426.4703736036
         ],
         "yaxis": "y"
        }
       ],
       "layout": {
        "font": {
         "color": "black",
         "size": 15
        },
        "legend": {
         "title": {
          "text": "Close Price"
         },
         "tracegroupgap": 0
        },
        "margin": {
         "t": 60
        },
        "plot_bgcolor": "white",
        "template": {
         "data": {
          "bar": [
           {
            "error_x": {
             "color": "#2a3f5f"
            },
            "error_y": {
             "color": "#2a3f5f"
            },
            "marker": {
             "line": {
              "color": "#E5ECF6",
              "width": 0.5
             },
             "pattern": {
              "fillmode": "overlay",
              "size": 10,
              "solidity": 0.2
             }
            },
            "type": "bar"
           }
          ],
          "barpolar": [
           {
            "marker": {
             "line": {
              "color": "#E5ECF6",
              "width": 0.5
             },
             "pattern": {
              "fillmode": "overlay",
              "size": 10,
              "solidity": 0.2
             }
            },
            "type": "barpolar"
           }
          ],
          "carpet": [
           {
            "aaxis": {
             "endlinecolor": "#2a3f5f",
             "gridcolor": "white",
             "linecolor": "white",
             "minorgridcolor": "white",
             "startlinecolor": "#2a3f5f"
            },
            "baxis": {
             "endlinecolor": "#2a3f5f",
             "gridcolor": "white",
             "linecolor": "white",
             "minorgridcolor": "white",
             "startlinecolor": "#2a3f5f"
            },
            "type": "carpet"
           }
          ],
          "choropleth": [
           {
            "colorbar": {
             "outlinewidth": 0,
             "ticks": ""
            },
            "type": "choropleth"
           }
          ],
          "contour": [
           {
            "colorbar": {
             "outlinewidth": 0,
             "ticks": ""
            },
            "colorscale": [
             [
              0,
              "#0d0887"
             ],
             [
              0.1111111111111111,
              "#46039f"
             ],
             [
              0.2222222222222222,
              "#7201a8"
             ],
             [
              0.3333333333333333,
              "#9c179e"
             ],
             [
              0.4444444444444444,
              "#bd3786"
             ],
             [
              0.5555555555555556,
              "#d8576b"
             ],
             [
              0.6666666666666666,
              "#ed7953"
             ],
             [
              0.7777777777777778,
              "#fb9f3a"
             ],
             [
              0.8888888888888888,
              "#fdca26"
             ],
             [
              1,
              "#f0f921"
             ]
            ],
            "type": "contour"
           }
          ],
          "contourcarpet": [
           {
            "colorbar": {
             "outlinewidth": 0,
             "ticks": ""
            },
            "type": "contourcarpet"
           }
          ],
          "heatmap": [
           {
            "colorbar": {
             "outlinewidth": 0,
             "ticks": ""
            },
            "colorscale": [
             [
              0,
              "#0d0887"
             ],
             [
              0.1111111111111111,
              "#46039f"
             ],
             [
              0.2222222222222222,
              "#7201a8"
             ],
             [
              0.3333333333333333,
              "#9c179e"
             ],
             [
              0.4444444444444444,
              "#bd3786"
             ],
             [
              0.5555555555555556,
              "#d8576b"
             ],
             [
              0.6666666666666666,
              "#ed7953"
             ],
             [
              0.7777777777777778,
              "#fb9f3a"
             ],
             [
              0.8888888888888888,
              "#fdca26"
             ],
             [
              1,
              "#f0f921"
             ]
            ],
            "type": "heatmap"
           }
          ],
          "heatmapgl": [
           {
            "colorbar": {
             "outlinewidth": 0,
             "ticks": ""
            },
            "colorscale": [
             [
              0,
              "#0d0887"
             ],
             [
              0.1111111111111111,
              "#46039f"
             ],
             [
              0.2222222222222222,
              "#7201a8"
             ],
             [
              0.3333333333333333,
              "#9c179e"
             ],
             [
              0.4444444444444444,
              "#bd3786"
             ],
             [
              0.5555555555555556,
              "#d8576b"
             ],
             [
              0.6666666666666666,
              "#ed7953"
             ],
             [
              0.7777777777777778,
              "#fb9f3a"
             ],
             [
              0.8888888888888888,
              "#fdca26"
             ],
             [
              1,
              "#f0f921"
             ]
            ],
            "type": "heatmapgl"
           }
          ],
          "histogram": [
           {
            "marker": {
             "pattern": {
              "fillmode": "overlay",
              "size": 10,
              "solidity": 0.2
             }
            },
            "type": "histogram"
           }
          ],
          "histogram2d": [
           {
            "colorbar": {
             "outlinewidth": 0,
             "ticks": ""
            },
            "colorscale": [
             [
              0,
              "#0d0887"
             ],
             [
              0.1111111111111111,
              "#46039f"
             ],
             [
              0.2222222222222222,
              "#7201a8"
             ],
             [
              0.3333333333333333,
              "#9c179e"
             ],
             [
              0.4444444444444444,
              "#bd3786"
             ],
             [
              0.5555555555555556,
              "#d8576b"
             ],
             [
              0.6666666666666666,
              "#ed7953"
             ],
             [
              0.7777777777777778,
              "#fb9f3a"
             ],
             [
              0.8888888888888888,
              "#fdca26"
             ],
             [
              1,
              "#f0f921"
             ]
            ],
            "type": "histogram2d"
           }
          ],
          "histogram2dcontour": [
           {
            "colorbar": {
             "outlinewidth": 0,
             "ticks": ""
            },
            "colorscale": [
             [
              0,
              "#0d0887"
             ],
             [
              0.1111111111111111,
              "#46039f"
             ],
             [
              0.2222222222222222,
              "#7201a8"
             ],
             [
              0.3333333333333333,
              "#9c179e"
             ],
             [
              0.4444444444444444,
              "#bd3786"
             ],
             [
              0.5555555555555556,
              "#d8576b"
             ],
             [
              0.6666666666666666,
              "#ed7953"
             ],
             [
              0.7777777777777778,
              "#fb9f3a"
             ],
             [
              0.8888888888888888,
              "#fdca26"
             ],
             [
              1,
              "#f0f921"
             ]
            ],
            "type": "histogram2dcontour"
           }
          ],
          "mesh3d": [
           {
            "colorbar": {
             "outlinewidth": 0,
             "ticks": ""
            },
            "type": "mesh3d"
           }
          ],
          "parcoords": [
           {
            "line": {
             "colorbar": {
              "outlinewidth": 0,
              "ticks": ""
             }
            },
            "type": "parcoords"
           }
          ],
          "pie": [
           {
            "automargin": true,
            "type": "pie"
           }
          ],
          "scatter": [
           {
            "fillpattern": {
             "fillmode": "overlay",
             "size": 10,
             "solidity": 0.2
            },
            "type": "scatter"
           }
          ],
          "scatter3d": [
           {
            "line": {
             "colorbar": {
              "outlinewidth": 0,
              "ticks": ""
             }
            },
            "marker": {
             "colorbar": {
              "outlinewidth": 0,
              "ticks": ""
             }
            },
            "type": "scatter3d"
           }
          ],
          "scattercarpet": [
           {
            "marker": {
             "colorbar": {
              "outlinewidth": 0,
              "ticks": ""
             }
            },
            "type": "scattercarpet"
           }
          ],
          "scattergeo": [
           {
            "marker": {
             "colorbar": {
              "outlinewidth": 0,
              "ticks": ""
             }
            },
            "type": "scattergeo"
           }
          ],
          "scattergl": [
           {
            "marker": {
             "colorbar": {
              "outlinewidth": 0,
              "ticks": ""
             }
            },
            "type": "scattergl"
           }
          ],
          "scattermapbox": [
           {
            "marker": {
             "colorbar": {
              "outlinewidth": 0,
              "ticks": ""
             }
            },
            "type": "scattermapbox"
           }
          ],
          "scatterpolar": [
           {
            "marker": {
             "colorbar": {
              "outlinewidth": 0,
              "ticks": ""
             }
            },
            "type": "scatterpolar"
           }
          ],
          "scatterpolargl": [
           {
            "marker": {
             "colorbar": {
              "outlinewidth": 0,
              "ticks": ""
             }
            },
            "type": "scatterpolargl"
           }
          ],
          "scatterternary": [
           {
            "marker": {
             "colorbar": {
              "outlinewidth": 0,
              "ticks": ""
             }
            },
            "type": "scatterternary"
           }
          ],
          "surface": [
           {
            "colorbar": {
             "outlinewidth": 0,
             "ticks": ""
            },
            "colorscale": [
             [
              0,
              "#0d0887"
             ],
             [
              0.1111111111111111,
              "#46039f"
             ],
             [
              0.2222222222222222,
              "#7201a8"
             ],
             [
              0.3333333333333333,
              "#9c179e"
             ],
             [
              0.4444444444444444,
              "#bd3786"
             ],
             [
              0.5555555555555556,
              "#d8576b"
             ],
             [
              0.6666666666666666,
              "#ed7953"
             ],
             [
              0.7777777777777778,
              "#fb9f3a"
             ],
             [
              0.8888888888888888,
              "#fdca26"
             ],
             [
              1,
              "#f0f921"
             ]
            ],
            "type": "surface"
           }
          ],
          "table": [
           {
            "cells": {
             "fill": {
              "color": "#EBF0F8"
             },
             "line": {
              "color": "white"
             }
            },
            "header": {
             "fill": {
              "color": "#C8D4E3"
             },
             "line": {
              "color": "white"
             }
            },
            "type": "table"
           }
          ]
         },
         "layout": {
          "annotationdefaults": {
           "arrowcolor": "#2a3f5f",
           "arrowhead": 0,
           "arrowwidth": 1
          },
          "autotypenumbers": "strict",
          "coloraxis": {
           "colorbar": {
            "outlinewidth": 0,
            "ticks": ""
           }
          },
          "colorscale": {
           "diverging": [
            [
             0,
             "#8e0152"
            ],
            [
             0.1,
             "#c51b7d"
            ],
            [
             0.2,
             "#de77ae"
            ],
            [
             0.3,
             "#f1b6da"
            ],
            [
             0.4,
             "#fde0ef"
            ],
            [
             0.5,
             "#f7f7f7"
            ],
            [
             0.6,
             "#e6f5d0"
            ],
            [
             0.7,
             "#b8e186"
            ],
            [
             0.8,
             "#7fbc41"
            ],
            [
             0.9,
             "#4d9221"
            ],
            [
             1,
             "#276419"
            ]
           ],
           "sequential": [
            [
             0,
             "#0d0887"
            ],
            [
             0.1111111111111111,
             "#46039f"
            ],
            [
             0.2222222222222222,
             "#7201a8"
            ],
            [
             0.3333333333333333,
             "#9c179e"
            ],
            [
             0.4444444444444444,
             "#bd3786"
            ],
            [
             0.5555555555555556,
             "#d8576b"
            ],
            [
             0.6666666666666666,
             "#ed7953"
            ],
            [
             0.7777777777777778,
             "#fb9f3a"
            ],
            [
             0.8888888888888888,
             "#fdca26"
            ],
            [
             1,
             "#f0f921"
            ]
           ],
           "sequentialminus": [
            [
             0,
             "#0d0887"
            ],
            [
             0.1111111111111111,
             "#46039f"
            ],
            [
             0.2222222222222222,
             "#7201a8"
            ],
            [
             0.3333333333333333,
             "#9c179e"
            ],
            [
             0.4444444444444444,
             "#bd3786"
            ],
            [
             0.5555555555555556,
             "#d8576b"
            ],
            [
             0.6666666666666666,
             "#ed7953"
            ],
            [
             0.7777777777777778,
             "#fb9f3a"
            ],
            [
             0.8888888888888888,
             "#fdca26"
            ],
            [
             1,
             "#f0f921"
            ]
           ]
          },
          "colorway": [
           "#636efa",
           "#EF553B",
           "#00cc96",
           "#ab63fa",
           "#FFA15A",
           "#19d3f3",
           "#FF6692",
           "#B6E880",
           "#FF97FF",
           "#FECB52"
          ],
          "font": {
           "color": "#2a3f5f"
          },
          "geo": {
           "bgcolor": "white",
           "lakecolor": "white",
           "landcolor": "#E5ECF6",
           "showlakes": true,
           "showland": true,
           "subunitcolor": "white"
          },
          "hoverlabel": {
           "align": "left"
          },
          "hovermode": "closest",
          "mapbox": {
           "style": "light"
          },
          "paper_bgcolor": "white",
          "plot_bgcolor": "#E5ECF6",
          "polar": {
           "angularaxis": {
            "gridcolor": "white",
            "linecolor": "white",
            "ticks": ""
           },
           "bgcolor": "#E5ECF6",
           "radialaxis": {
            "gridcolor": "white",
            "linecolor": "white",
            "ticks": ""
           }
          },
          "scene": {
           "xaxis": {
            "backgroundcolor": "#E5ECF6",
            "gridcolor": "white",
            "gridwidth": 2,
            "linecolor": "white",
            "showbackground": true,
            "ticks": "",
            "zerolinecolor": "white"
           },
           "yaxis": {
            "backgroundcolor": "#E5ECF6",
            "gridcolor": "white",
            "gridwidth": 2,
            "linecolor": "white",
            "showbackground": true,
            "ticks": "",
            "zerolinecolor": "white"
           },
           "zaxis": {
            "backgroundcolor": "#E5ECF6",
            "gridcolor": "white",
            "gridwidth": 2,
            "linecolor": "white",
            "showbackground": true,
            "ticks": "",
            "zerolinecolor": "white"
           }
          },
          "shapedefaults": {
           "line": {
            "color": "#2a3f5f"
           }
          },
          "ternary": {
           "aaxis": {
            "gridcolor": "white",
            "linecolor": "white",
            "ticks": ""
           },
           "baxis": {
            "gridcolor": "white",
            "linecolor": "white",
            "ticks": ""
           },
           "bgcolor": "#E5ECF6",
           "caxis": {
            "gridcolor": "white",
            "linecolor": "white",
            "ticks": ""
           }
          },
          "title": {
           "x": 0.05
          },
          "xaxis": {
           "automargin": true,
           "gridcolor": "white",
           "linecolor": "white",
           "ticks": "",
           "title": {
            "standoff": 15
           },
           "zerolinecolor": "white",
           "zerolinewidth": 2
          },
          "yaxis": {
           "automargin": true,
           "gridcolor": "white",
           "linecolor": "white",
           "ticks": "",
           "title": {
            "standoff": 15
           },
           "zerolinecolor": "white",
           "zerolinewidth": 2
          }
         }
        },
        "title": {
         "text": "Compare last 15 days Vs Next 10 days"
        },
        "xaxis": {
         "anchor": "y",
         "domain": [
          0,
          1
         ],
         "showgrid": false,
         "title": {
          "text": "Timestamp"
         }
        },
        "yaxis": {
         "anchor": "x",
         "domain": [
          0,
          1
         ],
         "showgrid": false,
         "title": {
          "text": "Close price"
         }
        }
       }
      },
      "text/html": [
       "<div>                            <div id=\"c34ebcfb-e6e9-4627-be59-8cae1340c941\" class=\"plotly-graph-div\" style=\"height:525px; width:100%;\"></div>            <script type=\"text/javascript\">                require([\"plotly\"], function(Plotly) {                    window.PLOTLYENV=window.PLOTLYENV || {};                                    if (document.getElementById(\"c34ebcfb-e6e9-4627-be59-8cae1340c941\")) {                    Plotly.newPlot(                        \"c34ebcfb-e6e9-4627-be59-8cae1340c941\",                        [{\"hovertemplate\":\"variable=Original_Last_Days_Value<br>Timestamp=%{x}<br>Close price=%{y}<extra></extra>\",\"legendgroup\":\"Original_Last_Days_Value\",\"line\":{\"color\":\"#636efa\",\"dash\":\"solid\"},\"marker\":{\"symbol\":\"circle\"},\"mode\":\"lines\",\"name\":\"Last 15 days close price\",\"orientation\":\"v\",\"showlegend\":true,\"x\":[0,1,2,3,4,5,6,7,8,9,10,11,12,13,14,15,16,17,18,19,20,21,22,23,24,25,26,27,28,29,30,31],\"xaxis\":\"x\",\"y\":[46306.445313,47686.8125,47345.21875,46458.117188,45897.574219,43569.003906,43160.929688,41557.902344,41733.941406,41911.601563,41821.261719,42735.855469,43949.101563,42591.570313,43099.699219,43177.398438,43113.878906,42250.550781,42375.632813,41744.328125,41933.546875,null,38815.797526337636,38011.282167582576,37765.626728288495,37847.47535833222,37031.58400369138,36286.172130031155,35357.71045197342,36277.343152183,35666.75548736114,36426.4703736036],\"yaxis\":\"y\",\"type\":\"scatter\"},{\"hovertemplate\":\"variable=Predicted_Next_Days_Value<br>Timestamp=%{x}<br>Close price=%{y}<extra></extra>\",\"legendgroup\":\"Predicted_Next_Days_Value\",\"line\":{\"color\":\"#EF553B\",\"dash\":\"solid\"},\"marker\":{\"symbol\":\"circle\"},\"mode\":\"lines\",\"name\":\"Predicted next 10 days close price\",\"orientation\":\"v\",\"showlegend\":true,\"x\":[0,1,2,3,4,5,6,7,8,9,10,11,12,13,14,15,16,17,18,19,20,21,22,23,24,25,26,27,28,29,30,31],\"xaxis\":\"x\",\"y\":[46306.445313,47686.8125,47345.21875,46458.117188,45897.574219,43569.003906,43160.929688,41557.902344,41733.941406,41911.601563,41821.261719,42735.855469,43949.101563,42591.570313,43099.699219,43177.398438,43113.878906,42250.550781,42375.632813,41744.328125,41933.546875,null,38815.797526337636,38011.282167582576,37765.626728288495,37847.47535833222,37031.58400369138,36286.172130031155,35357.71045197342,36277.343152183,35666.75548736114,36426.4703736036],\"yaxis\":\"y\",\"type\":\"scatter\"}],                        {\"template\":{\"data\":{\"histogram2dcontour\":[{\"type\":\"histogram2dcontour\",\"colorbar\":{\"outlinewidth\":0,\"ticks\":\"\"},\"colorscale\":[[0.0,\"#0d0887\"],[0.1111111111111111,\"#46039f\"],[0.2222222222222222,\"#7201a8\"],[0.3333333333333333,\"#9c179e\"],[0.4444444444444444,\"#bd3786\"],[0.5555555555555556,\"#d8576b\"],[0.6666666666666666,\"#ed7953\"],[0.7777777777777778,\"#fb9f3a\"],[0.8888888888888888,\"#fdca26\"],[1.0,\"#f0f921\"]]}],\"choropleth\":[{\"type\":\"choropleth\",\"colorbar\":{\"outlinewidth\":0,\"ticks\":\"\"}}],\"histogram2d\":[{\"type\":\"histogram2d\",\"colorbar\":{\"outlinewidth\":0,\"ticks\":\"\"},\"colorscale\":[[0.0,\"#0d0887\"],[0.1111111111111111,\"#46039f\"],[0.2222222222222222,\"#7201a8\"],[0.3333333333333333,\"#9c179e\"],[0.4444444444444444,\"#bd3786\"],[0.5555555555555556,\"#d8576b\"],[0.6666666666666666,\"#ed7953\"],[0.7777777777777778,\"#fb9f3a\"],[0.8888888888888888,\"#fdca26\"],[1.0,\"#f0f921\"]]}],\"heatmap\":[{\"type\":\"heatmap\",\"colorbar\":{\"outlinewidth\":0,\"ticks\":\"\"},\"colorscale\":[[0.0,\"#0d0887\"],[0.1111111111111111,\"#46039f\"],[0.2222222222222222,\"#7201a8\"],[0.3333333333333333,\"#9c179e\"],[0.4444444444444444,\"#bd3786\"],[0.5555555555555556,\"#d8576b\"],[0.6666666666666666,\"#ed7953\"],[0.7777777777777778,\"#fb9f3a\"],[0.8888888888888888,\"#fdca26\"],[1.0,\"#f0f921\"]]}],\"heatmapgl\":[{\"type\":\"heatmapgl\",\"colorbar\":{\"outlinewidth\":0,\"ticks\":\"\"},\"colorscale\":[[0.0,\"#0d0887\"],[0.1111111111111111,\"#46039f\"],[0.2222222222222222,\"#7201a8\"],[0.3333333333333333,\"#9c179e\"],[0.4444444444444444,\"#bd3786\"],[0.5555555555555556,\"#d8576b\"],[0.6666666666666666,\"#ed7953\"],[0.7777777777777778,\"#fb9f3a\"],[0.8888888888888888,\"#fdca26\"],[1.0,\"#f0f921\"]]}],\"contourcarpet\":[{\"type\":\"contourcarpet\",\"colorbar\":{\"outlinewidth\":0,\"ticks\":\"\"}}],\"contour\":[{\"type\":\"contour\",\"colorbar\":{\"outlinewidth\":0,\"ticks\":\"\"},\"colorscale\":[[0.0,\"#0d0887\"],[0.1111111111111111,\"#46039f\"],[0.2222222222222222,\"#7201a8\"],[0.3333333333333333,\"#9c179e\"],[0.4444444444444444,\"#bd3786\"],[0.5555555555555556,\"#d8576b\"],[0.6666666666666666,\"#ed7953\"],[0.7777777777777778,\"#fb9f3a\"],[0.8888888888888888,\"#fdca26\"],[1.0,\"#f0f921\"]]}],\"surface\":[{\"type\":\"surface\",\"colorbar\":{\"outlinewidth\":0,\"ticks\":\"\"},\"colorscale\":[[0.0,\"#0d0887\"],[0.1111111111111111,\"#46039f\"],[0.2222222222222222,\"#7201a8\"],[0.3333333333333333,\"#9c179e\"],[0.4444444444444444,\"#bd3786\"],[0.5555555555555556,\"#d8576b\"],[0.6666666666666666,\"#ed7953\"],[0.7777777777777778,\"#fb9f3a\"],[0.8888888888888888,\"#fdca26\"],[1.0,\"#f0f921\"]]}],\"mesh3d\":[{\"type\":\"mesh3d\",\"colorbar\":{\"outlinewidth\":0,\"ticks\":\"\"}}],\"scatter\":[{\"fillpattern\":{\"fillmode\":\"overlay\",\"size\":10,\"solidity\":0.2},\"type\":\"scatter\"}],\"parcoords\":[{\"type\":\"parcoords\",\"line\":{\"colorbar\":{\"outlinewidth\":0,\"ticks\":\"\"}}}],\"scatterpolargl\":[{\"type\":\"scatterpolargl\",\"marker\":{\"colorbar\":{\"outlinewidth\":0,\"ticks\":\"\"}}}],\"bar\":[{\"error_x\":{\"color\":\"#2a3f5f\"},\"error_y\":{\"color\":\"#2a3f5f\"},\"marker\":{\"line\":{\"color\":\"#E5ECF6\",\"width\":0.5},\"pattern\":{\"fillmode\":\"overlay\",\"size\":10,\"solidity\":0.2}},\"type\":\"bar\"}],\"scattergeo\":[{\"type\":\"scattergeo\",\"marker\":{\"colorbar\":{\"outlinewidth\":0,\"ticks\":\"\"}}}],\"scatterpolar\":[{\"type\":\"scatterpolar\",\"marker\":{\"colorbar\":{\"outlinewidth\":0,\"ticks\":\"\"}}}],\"histogram\":[{\"marker\":{\"pattern\":{\"fillmode\":\"overlay\",\"size\":10,\"solidity\":0.2}},\"type\":\"histogram\"}],\"scattergl\":[{\"type\":\"scattergl\",\"marker\":{\"colorbar\":{\"outlinewidth\":0,\"ticks\":\"\"}}}],\"scatter3d\":[{\"type\":\"scatter3d\",\"line\":{\"colorbar\":{\"outlinewidth\":0,\"ticks\":\"\"}},\"marker\":{\"colorbar\":{\"outlinewidth\":0,\"ticks\":\"\"}}}],\"scattermapbox\":[{\"type\":\"scattermapbox\",\"marker\":{\"colorbar\":{\"outlinewidth\":0,\"ticks\":\"\"}}}],\"scatterternary\":[{\"type\":\"scatterternary\",\"marker\":{\"colorbar\":{\"outlinewidth\":0,\"ticks\":\"\"}}}],\"scattercarpet\":[{\"type\":\"scattercarpet\",\"marker\":{\"colorbar\":{\"outlinewidth\":0,\"ticks\":\"\"}}}],\"carpet\":[{\"aaxis\":{\"endlinecolor\":\"#2a3f5f\",\"gridcolor\":\"white\",\"linecolor\":\"white\",\"minorgridcolor\":\"white\",\"startlinecolor\":\"#2a3f5f\"},\"baxis\":{\"endlinecolor\":\"#2a3f5f\",\"gridcolor\":\"white\",\"linecolor\":\"white\",\"minorgridcolor\":\"white\",\"startlinecolor\":\"#2a3f5f\"},\"type\":\"carpet\"}],\"table\":[{\"cells\":{\"fill\":{\"color\":\"#EBF0F8\"},\"line\":{\"color\":\"white\"}},\"header\":{\"fill\":{\"color\":\"#C8D4E3\"},\"line\":{\"color\":\"white\"}},\"type\":\"table\"}],\"barpolar\":[{\"marker\":{\"line\":{\"color\":\"#E5ECF6\",\"width\":0.5},\"pattern\":{\"fillmode\":\"overlay\",\"size\":10,\"solidity\":0.2}},\"type\":\"barpolar\"}],\"pie\":[{\"automargin\":true,\"type\":\"pie\"}]},\"layout\":{\"autotypenumbers\":\"strict\",\"colorway\":[\"#636efa\",\"#EF553B\",\"#00cc96\",\"#ab63fa\",\"#FFA15A\",\"#19d3f3\",\"#FF6692\",\"#B6E880\",\"#FF97FF\",\"#FECB52\"],\"font\":{\"color\":\"#2a3f5f\"},\"hovermode\":\"closest\",\"hoverlabel\":{\"align\":\"left\"},\"paper_bgcolor\":\"white\",\"plot_bgcolor\":\"#E5ECF6\",\"polar\":{\"bgcolor\":\"#E5ECF6\",\"angularaxis\":{\"gridcolor\":\"white\",\"linecolor\":\"white\",\"ticks\":\"\"},\"radialaxis\":{\"gridcolor\":\"white\",\"linecolor\":\"white\",\"ticks\":\"\"}},\"ternary\":{\"bgcolor\":\"#E5ECF6\",\"aaxis\":{\"gridcolor\":\"white\",\"linecolor\":\"white\",\"ticks\":\"\"},\"baxis\":{\"gridcolor\":\"white\",\"linecolor\":\"white\",\"ticks\":\"\"},\"caxis\":{\"gridcolor\":\"white\",\"linecolor\":\"white\",\"ticks\":\"\"}},\"coloraxis\":{\"colorbar\":{\"outlinewidth\":0,\"ticks\":\"\"}},\"colorscale\":{\"sequential\":[[0.0,\"#0d0887\"],[0.1111111111111111,\"#46039f\"],[0.2222222222222222,\"#7201a8\"],[0.3333333333333333,\"#9c179e\"],[0.4444444444444444,\"#bd3786\"],[0.5555555555555556,\"#d8576b\"],[0.6666666666666666,\"#ed7953\"],[0.7777777777777778,\"#fb9f3a\"],[0.8888888888888888,\"#fdca26\"],[1.0,\"#f0f921\"]],\"sequentialminus\":[[0.0,\"#0d0887\"],[0.1111111111111111,\"#46039f\"],[0.2222222222222222,\"#7201a8\"],[0.3333333333333333,\"#9c179e\"],[0.4444444444444444,\"#bd3786\"],[0.5555555555555556,\"#d8576b\"],[0.6666666666666666,\"#ed7953\"],[0.7777777777777778,\"#fb9f3a\"],[0.8888888888888888,\"#fdca26\"],[1.0,\"#f0f921\"]],\"diverging\":[[0,\"#8e0152\"],[0.1,\"#c51b7d\"],[0.2,\"#de77ae\"],[0.3,\"#f1b6da\"],[0.4,\"#fde0ef\"],[0.5,\"#f7f7f7\"],[0.6,\"#e6f5d0\"],[0.7,\"#b8e186\"],[0.8,\"#7fbc41\"],[0.9,\"#4d9221\"],[1,\"#276419\"]]},\"xaxis\":{\"gridcolor\":\"white\",\"linecolor\":\"white\",\"ticks\":\"\",\"title\":{\"standoff\":15},\"zerolinecolor\":\"white\",\"automargin\":true,\"zerolinewidth\":2},\"yaxis\":{\"gridcolor\":\"white\",\"linecolor\":\"white\",\"ticks\":\"\",\"title\":{\"standoff\":15},\"zerolinecolor\":\"white\",\"automargin\":true,\"zerolinewidth\":2},\"scene\":{\"xaxis\":{\"backgroundcolor\":\"#E5ECF6\",\"gridcolor\":\"white\",\"linecolor\":\"white\",\"showbackground\":true,\"ticks\":\"\",\"zerolinecolor\":\"white\",\"gridwidth\":2},\"yaxis\":{\"backgroundcolor\":\"#E5ECF6\",\"gridcolor\":\"white\",\"linecolor\":\"white\",\"showbackground\":true,\"ticks\":\"\",\"zerolinecolor\":\"white\",\"gridwidth\":2},\"zaxis\":{\"backgroundcolor\":\"#E5ECF6\",\"gridcolor\":\"white\",\"linecolor\":\"white\",\"showbackground\":true,\"ticks\":\"\",\"zerolinecolor\":\"white\",\"gridwidth\":2}},\"shapedefaults\":{\"line\":{\"color\":\"#2a3f5f\"}},\"annotationdefaults\":{\"arrowcolor\":\"#2a3f5f\",\"arrowhead\":0,\"arrowwidth\":1},\"geo\":{\"bgcolor\":\"white\",\"landcolor\":\"#E5ECF6\",\"subunitcolor\":\"white\",\"showland\":true,\"showlakes\":true,\"lakecolor\":\"white\"},\"title\":{\"x\":0.05},\"mapbox\":{\"style\":\"light\"}}},\"xaxis\":{\"anchor\":\"y\",\"domain\":[0.0,1.0],\"title\":{\"text\":\"Timestamp\"},\"showgrid\":false},\"yaxis\":{\"anchor\":\"x\",\"domain\":[0.0,1.0],\"title\":{\"text\":\"Close price\"},\"showgrid\":false},\"legend\":{\"title\":{\"text\":\"Close Price\"},\"tracegroupgap\":0},\"margin\":{\"t\":60},\"title\":{\"text\":\"Compare last 15 days Vs Next 10 days\"},\"font\":{\"size\":15,\"color\":\"black\"},\"plot_bgcolor\":\"white\"},                        {\"responsive\": true}                    ).then(function(){\n",
       "                            \n",
       "var gd = document.getElementById('c34ebcfb-e6e9-4627-be59-8cae1340c941');\n",
       "var x = new MutationObserver(function (mutations, observer) {{\n",
       "        var display = window.getComputedStyle(gd).display;\n",
       "        if (!display || display === 'none') {{\n",
       "            console.log([gd, 'removed!']);\n",
       "            Plotly.purge(gd);\n",
       "            observer.disconnect();\n",
       "        }}\n",
       "}});\n",
       "\n",
       "// Listen for the removal of the full notebook cells\n",
       "var notebookContainer = gd.closest('#notebook-container');\n",
       "if (notebookContainer) {{\n",
       "    x.observe(notebookContainer, {childList: true});\n",
       "}}\n",
       "\n",
       "// Listen for the clearing of the current output cell\n",
       "var outputEl = gd.closest('.output');\n",
       "if (outputEl) {{\n",
       "    x.observe(outputEl, {childList: true});\n",
       "}}\n",
       "\n",
       "                        })                };                });            </script>        </div>"
      ]
     },
     "metadata": {},
     "output_type": "display_data"
    },
    {
     "data": {
      "application/vnd.plotly.v1+json": {
       "config": {
        "plotlyServerURL": "https://plot.ly"
       },
       "data": [
        {
         "hovertemplate": "variable=0<br>Timestamp=%{x}<br>Close price=%{y}<extra></extra>",
         "legendgroup": "0",
         "line": {
          "color": "#636efa",
          "dash": "solid"
         },
         "marker": {
          "symbol": "circle"
         },
         "mode": "lines",
         "name": "Close Price",
         "orientation": "v",
         "showlegend": true,
         "type": "scatter",
         "x": [
          0,
          1,
          2,
          3,
          4,
          5,
          6,
          7,
          8,
          9,
          10,
          11,
          12,
          13,
          14,
          15,
          16,
          17,
          18,
          19,
          20,
          21,
          22,
          23,
          24,
          25,
          26,
          27,
          28,
          29,
          30,
          31,
          32,
          33,
          34,
          35,
          36,
          37,
          38,
          39,
          40,
          41,
          42,
          43,
          44,
          45,
          46,
          47,
          48,
          49,
          50,
          51,
          52,
          53,
          54,
          55,
          56,
          57,
          58,
          59,
          60,
          61,
          62,
          63,
          64,
          65,
          66,
          67,
          68,
          69,
          70,
          71,
          72,
          73,
          74,
          75,
          76,
          77,
          78,
          79,
          80,
          81,
          82,
          83,
          84,
          85,
          86,
          87,
          88,
          89,
          90,
          91,
          92,
          93,
          94,
          95,
          96,
          97,
          98,
          99,
          100,
          101,
          102,
          103,
          104,
          105,
          106,
          107,
          108,
          109,
          110,
          111,
          112,
          113,
          114,
          115,
          116,
          117,
          118,
          119,
          120,
          121,
          122,
          123,
          124,
          125,
          126,
          127,
          128,
          129,
          130,
          131,
          132,
          133,
          134,
          135,
          136,
          137,
          138,
          139,
          140,
          141,
          142,
          143,
          144,
          145,
          146,
          147,
          148,
          149,
          150,
          151,
          152,
          153,
          154,
          155,
          156,
          157,
          158,
          159,
          160,
          161,
          162,
          163,
          164,
          165,
          166,
          167,
          168,
          169,
          170,
          171,
          172,
          173,
          174,
          175,
          176,
          177,
          178,
          179,
          180,
          181,
          182,
          183,
          184,
          185,
          186,
          187,
          188,
          189,
          190,
          191,
          192,
          193,
          194,
          195,
          196,
          197,
          198,
          199,
          200,
          201,
          202,
          203,
          204,
          205,
          206,
          207,
          208,
          209,
          210,
          211,
          212,
          213,
          214,
          215,
          216,
          217,
          218,
          219,
          220,
          221,
          222,
          223,
          224,
          225,
          226,
          227,
          228,
          229,
          230,
          231,
          232,
          233,
          234,
          235,
          236,
          237,
          238,
          239,
          240,
          241,
          242,
          243,
          244,
          245,
          246,
          247,
          248,
          249,
          250,
          251,
          252,
          253,
          254,
          255,
          256,
          257,
          258,
          259,
          260,
          261,
          262,
          263,
          264,
          265,
          266,
          267,
          268,
          269,
          270,
          271,
          272,
          273,
          274,
          275,
          276,
          277,
          278,
          279,
          280,
          281,
          282,
          283,
          284,
          285,
          286,
          287,
          288,
          289,
          290,
          291,
          292,
          293,
          294,
          295,
          296,
          297,
          298,
          299,
          300,
          301,
          302,
          303,
          304,
          305,
          306,
          307,
          308,
          309,
          310,
          311,
          312,
          313,
          314,
          315,
          316,
          317,
          318,
          319,
          320,
          321,
          322,
          323,
          324,
          325,
          326,
          327,
          328,
          329,
          330,
          331,
          332,
          333,
          334,
          335,
          336,
          337,
          338,
          339,
          340,
          341,
          342,
          343,
          344,
          345,
          346,
          347,
          348,
          349,
          350,
          351,
          352,
          353,
          354,
          355,
          356,
          357,
          358,
          359,
          360,
          361,
          362,
          363,
          364,
          365,
          366,
          367,
          368,
          369,
          370,
          371,
          372,
          373,
          374,
          375,
          376,
          377,
          378,
          379,
          380,
          381,
          382,
          383,
          384,
          385,
          386,
          387,
          388,
          389,
          390,
          391,
          392,
          393,
          394,
          395,
          396,
          397,
          398,
          399,
          400,
          401,
          402,
          403,
          404,
          405,
          406,
          407,
          408,
          409,
          410,
          411,
          412,
          413,
          414,
          415,
          416,
          417,
          418,
          419,
          420,
          421,
          422,
          423,
          424,
          425,
          426,
          427,
          428,
          429,
          430,
          431,
          432,
          433,
          434,
          435,
          436,
          437,
          438,
          439,
          440,
          441,
          442,
          443,
          444,
          445,
          446,
          447,
          448,
          449,
          450,
          451,
          452,
          453,
          454,
          455,
          456,
          457,
          458,
          459,
          460,
          461,
          462,
          463,
          464,
          465,
          466,
          467,
          468,
          469,
          470,
          471,
          472,
          473,
          474,
          475,
          476,
          477,
          478,
          479,
          480,
          481,
          482,
          483,
          484,
          485,
          486,
          487,
          488,
          489,
          490,
          491,
          492,
          493,
          494,
          495,
          496,
          497,
          498,
          499,
          500,
          501,
          502,
          503,
          504,
          505,
          506,
          507,
          508,
          509,
          510,
          511,
          512,
          513,
          514,
          515
         ],
         "xaxis": "x",
         "y": [
          11414.03418,
          10245.296875,
          10511.813477,
          10169.567383,
          10280.351563,
          10369.563477,
          10131.516602,
          10242.347656,
          10363.138672,
          10400.915039,
          10442.170898,
          10323.755859,
          10680.837891,
          10796.951172,
          10974.905273,
          10948.990234,
          10944.585938,
          11094.34668,
          10938.271484,
          10462.259766,
          10538.459961,
          10246.186523,
          10760.066406,
          10692.716797,
          10750.723633,
          10775.269531,
          10709.652344,
          10844.640625,
          10784.491211,
          10619.452148,
          10575.974609,
          10549.329102,
          10669.583008,
          10793.339844,
          10604.40625,
          10668.96875,
          10915.685547,
          11064.458008,
          11296.361328,
          11384.181641,
          11555.363281,
          11425.899414,
          11429.506836,
          11495.349609,
          11322.123047,
          11358.101563,
          11483.359375,
          11742.037109,
          11916.334961,
          12823.689453,
          12965.891602,
          12931.539063,
          13108.0625,
          13031.173828,
          13075.248047,
          13654.21875,
          13271.285156,
          13437.882813,
          13546.522461000002,
          13780.995116999999,
          13737.109375,
          13550.489258000001,
          13950.300781,
          14133.707031,
          15579.848633000001,
          15565.880859000003,
          14833.753905999998,
          15479.567383000001,
          15332.31543,
          15290.902343999998,
          15701.339843999998,
          16276.34375,
          16317.808594,
          16068.138671999997,
          15955.587891000001,
          16716.111328,
          17645.40625,
          17804.005859,
          17817.089844,
          18621.314453,
          18642.232422,
          18370.001953,
          18364.121094,
          19107.464844,
          18732.121094,
          17150.623047,
          17108.402344,
          17717.414063,
          18177.484375,
          19625.835938,
          18802.998047,
          19201.091797,
          19445.398438,
          18699.765625,
          19154.230469,
          19345.121094,
          19191.630859,
          18321.144531,
          18553.916016,
          18264.992188,
          18058.904297,
          18803.65625,
          19142.382813,
          19246.644531,
          19417.076172,
          21310.597656,
          22805.162109,
          23137.960938,
          23869.832031,
          23477.294922,
          22803.082031,
          23783.029297,
          23241.345703,
          23735.949219,
          24664.791016,
          26437.037109,
          26272.294922,
          27084.808594,
          27362.4375,
          28840.953125,
          29001.720702999995,
          29374.152344,
          32127.267577999995,
          32782.023438,
          31971.914063,
          33992.429688,
          36824.363281,
          39371.042969,
          40797.609375,
          40254.546875,
          38356.441406,
          35566.65625,
          33922.960938,
          37316.359375,
          39187.328125,
          36825.367188,
          36178.140625,
          35791.277344,
          36630.074219,
          36069.804688,
          35547.75,
          30825.699219,
          33005.761719,
          32067.642577999995,
          32289.378906000005,
          32366.392577999995,
          32569.849609,
          30432.546875,
          33466.097656,
          34316.386719,
          34269.523438,
          33114.359375,
          33537.175781,
          35510.289063,
          37472.089844,
          36926.066406,
          38144.308594,
          39266.011719,
          38903.441406,
          46196.464844,
          46481.105469,
          44918.183594,
          47909.332031,
          47504.851563,
          47105.515625,
          48717.289063,
          47945.058594,
          49199.871094,
          52149.007813,
          51679.796875,
          55888.132813,
          56099.51953099999,
          57539.94531299999,
          54207.320313,
          48824.425781,
          49705.332031,
          47093.851563,
          46339.761719,
          46188.453125,
          45137.769531,
          49631.242188,
          48378.988281,
          50538.242188,
          48561.167969,
          48927.304688,
          48912.382813,
          51206.691406,
          52246.523438,
          54824.117188,
          56008.55078099999,
          57805.121094,
          57332.08984400001,
          61243.085938,
          59302.31640599999,
          55907.19921900001,
          56804.90234400001,
          58870.894531,
          57858.92187499999,
          58346.65234400001,
          58313.64453099999,
          57523.421875,
          54529.14453099999,
          54738.945313,
          52774.265625,
          51704.160156,
          55137.3125,
          55973.51171900001,
          55950.74609400001,
          57750.19921900001,
          58917.691406,
          58918.832031,
          59095.80859400001,
          59384.31250000001,
          57603.890625,
          58758.55468799999,
          59057.878906,
          58192.359375,
          56048.9375,
          58323.95312500001,
          58245.00390599998,
          59793.234375,
          60204.964844,
          59893.453125,
          63503.457031,
          63109.695313000004,
          63314.01171900001,
          61572.789063,
          60683.82031299999,
          56216.18359400001,
          55724.265625,
          56473.03125,
          53906.08984400001,
          51762.273438,
          51093.652344,
          50050.867188,
          49004.253906,
          54021.75390599999,
          55033.117188,
          54824.703125,
          53555.109375,
          57750.17578099999,
          57828.05078099998,
          56631.078125,
          57200.29296900001,
          53333.539063,
          57424.007813,
          56396.515625,
          57356.40234400001,
          58803.777344,
          58232.31640599999,
          55859.796875,
          56704.57421900001,
          49150.535156,
          49716.191406,
          49880.535156,
          46760.1875,
          46456.058594,
          43537.511719,
          42909.402344,
          37002.441406,
          40782.738281,
          37304.691406,
          37536.632813,
          34770.582031,
          38705.980469,
          38402.222656,
          39294.199219,
          38436.96875,
          35697.605469,
          34616.066406,
          35678.128906,
          37332.855469,
          36684.925781,
          37575.179688,
          39208.765625,
          36894.40625,
          35551.957031,
          35862.378906,
          33560.707031,
          33472.632813,
          37345.121094,
          36702.597656,
          37334.398438,
          35552.515625,
          39097.859375,
          40218.476563,
          40406.269531,
          38347.0625,
          38053.503906,
          35787.246094,
          35615.871094,
          35698.296875,
          31676.693359,
          32505.660156,
          33723.027344,
          34662.4375,
          31637.77929700001,
          32186.277344,
          34649.644531,
          34434.335938,
          35867.777344,
          35040.835938,
          33572.117188,
          33897.046875,
          34668.546875,
          35287.78125,
          33746.003906,
          34235.195313,
          33855.328125,
          32877.371094,
          33798.011719,
          33520.519531,
          34240.1875,
          33155.847656,
          32702.025391000006,
          32822.347656,
          31780.730469,
          31421.539063,
          31533.068358999994,
          31796.810547,
          30817.832031,
          29807.347656,
          32110.693359,
          32313.105469,
          33581.550781,
          34292.445313,
          35350.1875,
          37337.535156,
          39406.941406,
          39995.90625,
          40008.421875,
          42235.546875,
          41626.195313,
          39974.894531,
          39201.945313,
          38152.980469,
          39747.503906,
          40869.554688,
          42816.5,
          44555.800781,
          43798.117188,
          46365.402344,
          45585.03125,
          45593.636719,
          44428.289063,
          47793.320313,
          47096.945313,
          47047.003906,
          46004.484375,
          44695.359375,
          44801.1875,
          46717.578125,
          49339.175781,
          48905.492188,
          49321.652344,
          49546.148438,
          47706.117188,
          48960.789063,
          46942.21875,
          49058.667969,
          48902.402344,
          48829.832031,
          47054.984375,
          47166.6875,
          48847.027344,
          49327.722656,
          50025.375,
          49944.625,
          51753.410156,
          52633.535156,
          46811.128906,
          46091.390625,
          46391.421875,
          44883.910156,
          45201.457031,
          46063.269531,
          44963.074219,
          47092.492188,
          48176.347656,
          47783.359375,
          47267.519531,
          48278.363281,
          47260.21875,
          42843.800781,
          40693.675781,
          43574.507813,
          44895.097656,
          42839.75,
          42716.59375,
          43208.539063,
          42235.730469,
          41034.542969,
          41564.363281,
          43790.894531,
          48116.941406,
          47711.488281,
          48199.953125,
          49112.902344,
          51514.8125,
          55361.44921900001,
          53805.984375,
          53967.84765599999,
          54968.22265599999,
          54771.578125,
          57484.789063,
          56041.05859400001,
          57401.09765599999,
          57321.523438,
          61593.949219,
          60892.179688,
          61553.617188,
          62026.078125,
          64261.992188,
          65992.835938,
          62210.171875,
          60692.265625,
          61393.617188,
          60930.835938,
          63039.824219,
          60363.79296900001,
          58482.386719,
          60622.13671900002,
          62227.96484400001,
          61888.832031,
          61318.95703099999,
          61004.40625000001,
          63226.402344,
          62970.04687500001,
          61452.230469,
          61125.675781,
          61527.48046900001,
          63326.988281,
          67566.82812499999,
          66971.828125,
          64995.23046900001,
          64949.960938,
          64155.94140599999,
          64469.52734400001,
          65466.83984400001,
          63557.87109400002,
          60161.246094,
          60368.011719,
          56942.13671900001,
          58119.578125,
          59697.195313000004,
          58730.476563,
          56289.289063,
          57569.07421900001,
          56280.42578099999,
          57274.679688,
          53569.765625,
          54815.078125,
          57248.45703099999,
          57806.56640599998,
          57005.42578099999,
          57229.828125,
          56477.81640599999,
          53598.246094,
          49200.703125,
          49368.847656,
          50582.625,
          50700.085938,
          50504.796875,
          47672.121094,
          47243.304688,
          49362.507813,
          50098.335938,
          46737.480469,
          46612.632813,
          48896.722656,
          47665.425781,
          46202.144531,
          46848.777344,
          46707.015625,
          46880.277344,
          48936.613281,
          48628.511719,
          50784.539063,
          50822.195313,
          50429.859375,
          50809.515625,
          50640.417969,
          47588.855469,
          46444.710938,
          47178.125,
          46306.445313,
          47686.8125,
          47345.21875,
          46458.117188,
          45897.574219,
          43569.003906,
          43160.929688,
          41557.902344,
          41733.941406,
          41911.601563,
          41821.261719,
          42735.855469,
          43949.101563,
          42591.570313,
          43099.699219,
          43177.398438,
          43113.878906,
          42250.550781,
          42375.632813,
          41744.328125,
          41933.546875,
          38815.797526337636,
          38011.282167582576,
          37765.626728288495,
          37847.47535833222,
          37031.58400369138,
          36286.172130031155,
          35357.71045197342,
          36277.343152183,
          35666.75548736114,
          36426.4703736036
         ],
         "yaxis": "y"
        }
       ],
       "layout": {
        "font": {
         "color": "black",
         "size": 15
        },
        "legend": {
         "title": {
          "text": "Stock"
         },
         "tracegroupgap": 0
        },
        "margin": {
         "t": 60
        },
        "plot_bgcolor": "white",
        "template": {
         "data": {
          "bar": [
           {
            "error_x": {
             "color": "#2a3f5f"
            },
            "error_y": {
             "color": "#2a3f5f"
            },
            "marker": {
             "line": {
              "color": "#E5ECF6",
              "width": 0.5
             },
             "pattern": {
              "fillmode": "overlay",
              "size": 10,
              "solidity": 0.2
             }
            },
            "type": "bar"
           }
          ],
          "barpolar": [
           {
            "marker": {
             "line": {
              "color": "#E5ECF6",
              "width": 0.5
             },
             "pattern": {
              "fillmode": "overlay",
              "size": 10,
              "solidity": 0.2
             }
            },
            "type": "barpolar"
           }
          ],
          "carpet": [
           {
            "aaxis": {
             "endlinecolor": "#2a3f5f",
             "gridcolor": "white",
             "linecolor": "white",
             "minorgridcolor": "white",
             "startlinecolor": "#2a3f5f"
            },
            "baxis": {
             "endlinecolor": "#2a3f5f",
             "gridcolor": "white",
             "linecolor": "white",
             "minorgridcolor": "white",
             "startlinecolor": "#2a3f5f"
            },
            "type": "carpet"
           }
          ],
          "choropleth": [
           {
            "colorbar": {
             "outlinewidth": 0,
             "ticks": ""
            },
            "type": "choropleth"
           }
          ],
          "contour": [
           {
            "colorbar": {
             "outlinewidth": 0,
             "ticks": ""
            },
            "colorscale": [
             [
              0,
              "#0d0887"
             ],
             [
              0.1111111111111111,
              "#46039f"
             ],
             [
              0.2222222222222222,
              "#7201a8"
             ],
             [
              0.3333333333333333,
              "#9c179e"
             ],
             [
              0.4444444444444444,
              "#bd3786"
             ],
             [
              0.5555555555555556,
              "#d8576b"
             ],
             [
              0.6666666666666666,
              "#ed7953"
             ],
             [
              0.7777777777777778,
              "#fb9f3a"
             ],
             [
              0.8888888888888888,
              "#fdca26"
             ],
             [
              1,
              "#f0f921"
             ]
            ],
            "type": "contour"
           }
          ],
          "contourcarpet": [
           {
            "colorbar": {
             "outlinewidth": 0,
             "ticks": ""
            },
            "type": "contourcarpet"
           }
          ],
          "heatmap": [
           {
            "colorbar": {
             "outlinewidth": 0,
             "ticks": ""
            },
            "colorscale": [
             [
              0,
              "#0d0887"
             ],
             [
              0.1111111111111111,
              "#46039f"
             ],
             [
              0.2222222222222222,
              "#7201a8"
             ],
             [
              0.3333333333333333,
              "#9c179e"
             ],
             [
              0.4444444444444444,
              "#bd3786"
             ],
             [
              0.5555555555555556,
              "#d8576b"
             ],
             [
              0.6666666666666666,
              "#ed7953"
             ],
             [
              0.7777777777777778,
              "#fb9f3a"
             ],
             [
              0.8888888888888888,
              "#fdca26"
             ],
             [
              1,
              "#f0f921"
             ]
            ],
            "type": "heatmap"
           }
          ],
          "heatmapgl": [
           {
            "colorbar": {
             "outlinewidth": 0,
             "ticks": ""
            },
            "colorscale": [
             [
              0,
              "#0d0887"
             ],
             [
              0.1111111111111111,
              "#46039f"
             ],
             [
              0.2222222222222222,
              "#7201a8"
             ],
             [
              0.3333333333333333,
              "#9c179e"
             ],
             [
              0.4444444444444444,
              "#bd3786"
             ],
             [
              0.5555555555555556,
              "#d8576b"
             ],
             [
              0.6666666666666666,
              "#ed7953"
             ],
             [
              0.7777777777777778,
              "#fb9f3a"
             ],
             [
              0.8888888888888888,
              "#fdca26"
             ],
             [
              1,
              "#f0f921"
             ]
            ],
            "type": "heatmapgl"
           }
          ],
          "histogram": [
           {
            "marker": {
             "pattern": {
              "fillmode": "overlay",
              "size": 10,
              "solidity": 0.2
             }
            },
            "type": "histogram"
           }
          ],
          "histogram2d": [
           {
            "colorbar": {
             "outlinewidth": 0,
             "ticks": ""
            },
            "colorscale": [
             [
              0,
              "#0d0887"
             ],
             [
              0.1111111111111111,
              "#46039f"
             ],
             [
              0.2222222222222222,
              "#7201a8"
             ],
             [
              0.3333333333333333,
              "#9c179e"
             ],
             [
              0.4444444444444444,
              "#bd3786"
             ],
             [
              0.5555555555555556,
              "#d8576b"
             ],
             [
              0.6666666666666666,
              "#ed7953"
             ],
             [
              0.7777777777777778,
              "#fb9f3a"
             ],
             [
              0.8888888888888888,
              "#fdca26"
             ],
             [
              1,
              "#f0f921"
             ]
            ],
            "type": "histogram2d"
           }
          ],
          "histogram2dcontour": [
           {
            "colorbar": {
             "outlinewidth": 0,
             "ticks": ""
            },
            "colorscale": [
             [
              0,
              "#0d0887"
             ],
             [
              0.1111111111111111,
              "#46039f"
             ],
             [
              0.2222222222222222,
              "#7201a8"
             ],
             [
              0.3333333333333333,
              "#9c179e"
             ],
             [
              0.4444444444444444,
              "#bd3786"
             ],
             [
              0.5555555555555556,
              "#d8576b"
             ],
             [
              0.6666666666666666,
              "#ed7953"
             ],
             [
              0.7777777777777778,
              "#fb9f3a"
             ],
             [
              0.8888888888888888,
              "#fdca26"
             ],
             [
              1,
              "#f0f921"
             ]
            ],
            "type": "histogram2dcontour"
           }
          ],
          "mesh3d": [
           {
            "colorbar": {
             "outlinewidth": 0,
             "ticks": ""
            },
            "type": "mesh3d"
           }
          ],
          "parcoords": [
           {
            "line": {
             "colorbar": {
              "outlinewidth": 0,
              "ticks": ""
             }
            },
            "type": "parcoords"
           }
          ],
          "pie": [
           {
            "automargin": true,
            "type": "pie"
           }
          ],
          "scatter": [
           {
            "fillpattern": {
             "fillmode": "overlay",
             "size": 10,
             "solidity": 0.2
            },
            "type": "scatter"
           }
          ],
          "scatter3d": [
           {
            "line": {
             "colorbar": {
              "outlinewidth": 0,
              "ticks": ""
             }
            },
            "marker": {
             "colorbar": {
              "outlinewidth": 0,
              "ticks": ""
             }
            },
            "type": "scatter3d"
           }
          ],
          "scattercarpet": [
           {
            "marker": {
             "colorbar": {
              "outlinewidth": 0,
              "ticks": ""
             }
            },
            "type": "scattercarpet"
           }
          ],
          "scattergeo": [
           {
            "marker": {
             "colorbar": {
              "outlinewidth": 0,
              "ticks": ""
             }
            },
            "type": "scattergeo"
           }
          ],
          "scattergl": [
           {
            "marker": {
             "colorbar": {
              "outlinewidth": 0,
              "ticks": ""
             }
            },
            "type": "scattergl"
           }
          ],
          "scattermapbox": [
           {
            "marker": {
             "colorbar": {
              "outlinewidth": 0,
              "ticks": ""
             }
            },
            "type": "scattermapbox"
           }
          ],
          "scatterpolar": [
           {
            "marker": {
             "colorbar": {
              "outlinewidth": 0,
              "ticks": ""
             }
            },
            "type": "scatterpolar"
           }
          ],
          "scatterpolargl": [
           {
            "marker": {
             "colorbar": {
              "outlinewidth": 0,
              "ticks": ""
             }
            },
            "type": "scatterpolargl"
           }
          ],
          "scatterternary": [
           {
            "marker": {
             "colorbar": {
              "outlinewidth": 0,
              "ticks": ""
             }
            },
            "type": "scatterternary"
           }
          ],
          "surface": [
           {
            "colorbar": {
             "outlinewidth": 0,
             "ticks": ""
            },
            "colorscale": [
             [
              0,
              "#0d0887"
             ],
             [
              0.1111111111111111,
              "#46039f"
             ],
             [
              0.2222222222222222,
              "#7201a8"
             ],
             [
              0.3333333333333333,
              "#9c179e"
             ],
             [
              0.4444444444444444,
              "#bd3786"
             ],
             [
              0.5555555555555556,
              "#d8576b"
             ],
             [
              0.6666666666666666,
              "#ed7953"
             ],
             [
              0.7777777777777778,
              "#fb9f3a"
             ],
             [
              0.8888888888888888,
              "#fdca26"
             ],
             [
              1,
              "#f0f921"
             ]
            ],
            "type": "surface"
           }
          ],
          "table": [
           {
            "cells": {
             "fill": {
              "color": "#EBF0F8"
             },
             "line": {
              "color": "white"
             }
            },
            "header": {
             "fill": {
              "color": "#C8D4E3"
             },
             "line": {
              "color": "white"
             }
            },
            "type": "table"
           }
          ]
         },
         "layout": {
          "annotationdefaults": {
           "arrowcolor": "#2a3f5f",
           "arrowhead": 0,
           "arrowwidth": 1
          },
          "autotypenumbers": "strict",
          "coloraxis": {
           "colorbar": {
            "outlinewidth": 0,
            "ticks": ""
           }
          },
          "colorscale": {
           "diverging": [
            [
             0,
             "#8e0152"
            ],
            [
             0.1,
             "#c51b7d"
            ],
            [
             0.2,
             "#de77ae"
            ],
            [
             0.3,
             "#f1b6da"
            ],
            [
             0.4,
             "#fde0ef"
            ],
            [
             0.5,
             "#f7f7f7"
            ],
            [
             0.6,
             "#e6f5d0"
            ],
            [
             0.7,
             "#b8e186"
            ],
            [
             0.8,
             "#7fbc41"
            ],
            [
             0.9,
             "#4d9221"
            ],
            [
             1,
             "#276419"
            ]
           ],
           "sequential": [
            [
             0,
             "#0d0887"
            ],
            [
             0.1111111111111111,
             "#46039f"
            ],
            [
             0.2222222222222222,
             "#7201a8"
            ],
            [
             0.3333333333333333,
             "#9c179e"
            ],
            [
             0.4444444444444444,
             "#bd3786"
            ],
            [
             0.5555555555555556,
             "#d8576b"
            ],
            [
             0.6666666666666666,
             "#ed7953"
            ],
            [
             0.7777777777777778,
             "#fb9f3a"
            ],
            [
             0.8888888888888888,
             "#fdca26"
            ],
            [
             1,
             "#f0f921"
            ]
           ],
           "sequentialminus": [
            [
             0,
             "#0d0887"
            ],
            [
             0.1111111111111111,
             "#46039f"
            ],
            [
             0.2222222222222222,
             "#7201a8"
            ],
            [
             0.3333333333333333,
             "#9c179e"
            ],
            [
             0.4444444444444444,
             "#bd3786"
            ],
            [
             0.5555555555555556,
             "#d8576b"
            ],
            [
             0.6666666666666666,
             "#ed7953"
            ],
            [
             0.7777777777777778,
             "#fb9f3a"
            ],
            [
             0.8888888888888888,
             "#fdca26"
            ],
            [
             1,
             "#f0f921"
            ]
           ]
          },
          "colorway": [
           "#636efa",
           "#EF553B",
           "#00cc96",
           "#ab63fa",
           "#FFA15A",
           "#19d3f3",
           "#FF6692",
           "#B6E880",
           "#FF97FF",
           "#FECB52"
          ],
          "font": {
           "color": "#2a3f5f"
          },
          "geo": {
           "bgcolor": "white",
           "lakecolor": "white",
           "landcolor": "#E5ECF6",
           "showlakes": true,
           "showland": true,
           "subunitcolor": "white"
          },
          "hoverlabel": {
           "align": "left"
          },
          "hovermode": "closest",
          "mapbox": {
           "style": "light"
          },
          "paper_bgcolor": "white",
          "plot_bgcolor": "#E5ECF6",
          "polar": {
           "angularaxis": {
            "gridcolor": "white",
            "linecolor": "white",
            "ticks": ""
           },
           "bgcolor": "#E5ECF6",
           "radialaxis": {
            "gridcolor": "white",
            "linecolor": "white",
            "ticks": ""
           }
          },
          "scene": {
           "xaxis": {
            "backgroundcolor": "#E5ECF6",
            "gridcolor": "white",
            "gridwidth": 2,
            "linecolor": "white",
            "showbackground": true,
            "ticks": "",
            "zerolinecolor": "white"
           },
           "yaxis": {
            "backgroundcolor": "#E5ECF6",
            "gridcolor": "white",
            "gridwidth": 2,
            "linecolor": "white",
            "showbackground": true,
            "ticks": "",
            "zerolinecolor": "white"
           },
           "zaxis": {
            "backgroundcolor": "#E5ECF6",
            "gridcolor": "white",
            "gridwidth": 2,
            "linecolor": "white",
            "showbackground": true,
            "ticks": "",
            "zerolinecolor": "white"
           }
          },
          "shapedefaults": {
           "line": {
            "color": "#2a3f5f"
           }
          },
          "ternary": {
           "aaxis": {
            "gridcolor": "white",
            "linecolor": "white",
            "ticks": ""
           },
           "baxis": {
            "gridcolor": "white",
            "linecolor": "white",
            "ticks": ""
           },
           "bgcolor": "#E5ECF6",
           "caxis": {
            "gridcolor": "white",
            "linecolor": "white",
            "ticks": ""
           }
          },
          "title": {
           "x": 0.05
          },
          "xaxis": {
           "automargin": true,
           "gridcolor": "white",
           "linecolor": "white",
           "ticks": "",
           "title": {
            "standoff": 15
           },
           "zerolinecolor": "white",
           "zerolinewidth": 2
          },
          "yaxis": {
           "automargin": true,
           "gridcolor": "white",
           "linecolor": "white",
           "ticks": "",
           "title": {
            "standoff": 15
           },
           "zerolinecolor": "white",
           "zerolinewidth": 2
          }
         }
        },
        "title": {
         "text": "Plotting whole closing price with prediction"
        },
        "xaxis": {
         "anchor": "y",
         "domain": [
          0,
          1
         ],
         "showgrid": false,
         "title": {
          "text": "Timestamp"
         }
        },
        "yaxis": {
         "anchor": "x",
         "domain": [
          0,
          1
         ],
         "showgrid": false,
         "title": {
          "text": "Close price"
         }
        }
       }
      },
      "text/html": [
       "<div>                            <div id=\"8774aa02-7f37-4b2e-99ba-ea9936f31287\" class=\"plotly-graph-div\" style=\"height:525px; width:100%;\"></div>            <script type=\"text/javascript\">                require([\"plotly\"], function(Plotly) {                    window.PLOTLYENV=window.PLOTLYENV || {};                                    if (document.getElementById(\"8774aa02-7f37-4b2e-99ba-ea9936f31287\")) {                    Plotly.newPlot(                        \"8774aa02-7f37-4b2e-99ba-ea9936f31287\",                        [{\"hovertemplate\":\"variable=0<br>Timestamp=%{x}<br>Close price=%{y}<extra></extra>\",\"legendgroup\":\"0\",\"line\":{\"color\":\"#636efa\",\"dash\":\"solid\"},\"marker\":{\"symbol\":\"circle\"},\"mode\":\"lines\",\"name\":\"Close Price\",\"orientation\":\"v\",\"showlegend\":true,\"x\":[0,1,2,3,4,5,6,7,8,9,10,11,12,13,14,15,16,17,18,19,20,21,22,23,24,25,26,27,28,29,30,31,32,33,34,35,36,37,38,39,40,41,42,43,44,45,46,47,48,49,50,51,52,53,54,55,56,57,58,59,60,61,62,63,64,65,66,67,68,69,70,71,72,73,74,75,76,77,78,79,80,81,82,83,84,85,86,87,88,89,90,91,92,93,94,95,96,97,98,99,100,101,102,103,104,105,106,107,108,109,110,111,112,113,114,115,116,117,118,119,120,121,122,123,124,125,126,127,128,129,130,131,132,133,134,135,136,137,138,139,140,141,142,143,144,145,146,147,148,149,150,151,152,153,154,155,156,157,158,159,160,161,162,163,164,165,166,167,168,169,170,171,172,173,174,175,176,177,178,179,180,181,182,183,184,185,186,187,188,189,190,191,192,193,194,195,196,197,198,199,200,201,202,203,204,205,206,207,208,209,210,211,212,213,214,215,216,217,218,219,220,221,222,223,224,225,226,227,228,229,230,231,232,233,234,235,236,237,238,239,240,241,242,243,244,245,246,247,248,249,250,251,252,253,254,255,256,257,258,259,260,261,262,263,264,265,266,267,268,269,270,271,272,273,274,275,276,277,278,279,280,281,282,283,284,285,286,287,288,289,290,291,292,293,294,295,296,297,298,299,300,301,302,303,304,305,306,307,308,309,310,311,312,313,314,315,316,317,318,319,320,321,322,323,324,325,326,327,328,329,330,331,332,333,334,335,336,337,338,339,340,341,342,343,344,345,346,347,348,349,350,351,352,353,354,355,356,357,358,359,360,361,362,363,364,365,366,367,368,369,370,371,372,373,374,375,376,377,378,379,380,381,382,383,384,385,386,387,388,389,390,391,392,393,394,395,396,397,398,399,400,401,402,403,404,405,406,407,408,409,410,411,412,413,414,415,416,417,418,419,420,421,422,423,424,425,426,427,428,429,430,431,432,433,434,435,436,437,438,439,440,441,442,443,444,445,446,447,448,449,450,451,452,453,454,455,456,457,458,459,460,461,462,463,464,465,466,467,468,469,470,471,472,473,474,475,476,477,478,479,480,481,482,483,484,485,486,487,488,489,490,491,492,493,494,495,496,497,498,499,500,501,502,503,504,505,506,507,508,509,510,511,512,513,514,515],\"xaxis\":\"x\",\"y\":[11414.03418,10245.296875,10511.813477,10169.567383,10280.351563,10369.563477,10131.516602,10242.347656,10363.138672,10400.915039,10442.170898,10323.755859,10680.837891,10796.951172,10974.905273,10948.990234,10944.585938,11094.34668,10938.271484,10462.259766,10538.459961,10246.186523,10760.066406,10692.716797,10750.723633,10775.269531,10709.652344,10844.640625,10784.491211,10619.452148,10575.974609,10549.329102,10669.583008,10793.339844,10604.40625,10668.96875,10915.685547,11064.458008,11296.361328,11384.181641,11555.363281,11425.899414,11429.506836,11495.349609,11322.123047,11358.101563,11483.359375,11742.037109,11916.334961,12823.689453,12965.891602,12931.539063,13108.0625,13031.173828,13075.248047,13654.21875,13271.285156,13437.882813,13546.522461000002,13780.995116999999,13737.109375,13550.489258000001,13950.300781,14133.707031,15579.848633000001,15565.880859000003,14833.753905999998,15479.567383000001,15332.31543,15290.902343999998,15701.339843999998,16276.34375,16317.808594,16068.138671999997,15955.587891000001,16716.111328,17645.40625,17804.005859,17817.089844,18621.314453,18642.232422,18370.001953,18364.121094,19107.464844,18732.121094,17150.623047,17108.402344,17717.414063,18177.484375,19625.835938,18802.998047,19201.091797,19445.398438,18699.765625,19154.230469,19345.121094,19191.630859,18321.144531,18553.916016,18264.992188,18058.904297,18803.65625,19142.382813,19246.644531,19417.076172,21310.597656,22805.162109,23137.960938,23869.832031,23477.294922,22803.082031,23783.029297,23241.345703,23735.949219,24664.791016,26437.037109,26272.294922,27084.808594,27362.4375,28840.953125,29001.720702999995,29374.152344,32127.267577999995,32782.023438,31971.914063,33992.429688,36824.363281,39371.042969,40797.609375,40254.546875,38356.441406,35566.65625,33922.960938,37316.359375,39187.328125,36825.367188,36178.140625,35791.277344,36630.074219,36069.804688,35547.75,30825.699219,33005.761719,32067.642577999995,32289.378906000005,32366.392577999995,32569.849609,30432.546875,33466.097656,34316.386719,34269.523438,33114.359375,33537.175781,35510.289063,37472.089844,36926.066406,38144.308594,39266.011719,38903.441406,46196.464844,46481.105469,44918.183594,47909.332031,47504.851563,47105.515625,48717.289063,47945.058594,49199.871094,52149.007813,51679.796875,55888.132813,56099.51953099999,57539.94531299999,54207.320313,48824.425781,49705.332031,47093.851563,46339.761719,46188.453125,45137.769531,49631.242188,48378.988281,50538.242188,48561.167969,48927.304688,48912.382813,51206.691406,52246.523438,54824.117188,56008.55078099999,57805.121094,57332.08984400001,61243.085938,59302.31640599999,55907.19921900001,56804.90234400001,58870.894531,57858.92187499999,58346.65234400001,58313.64453099999,57523.421875,54529.14453099999,54738.945313,52774.265625,51704.160156,55137.3125,55973.51171900001,55950.74609400001,57750.19921900001,58917.691406,58918.832031,59095.80859400001,59384.31250000001,57603.890625,58758.55468799999,59057.878906,58192.359375,56048.9375,58323.95312500001,58245.00390599998,59793.234375,60204.964844,59893.453125,63503.457031,63109.695313000004,63314.01171900001,61572.789063,60683.82031299999,56216.18359400001,55724.265625,56473.03125,53906.08984400001,51762.273438,51093.652344,50050.867188,49004.253906,54021.75390599999,55033.117188,54824.703125,53555.109375,57750.17578099999,57828.05078099998,56631.078125,57200.29296900001,53333.539063,57424.007813,56396.515625,57356.40234400001,58803.777344,58232.31640599999,55859.796875,56704.57421900001,49150.535156,49716.191406,49880.535156,46760.1875,46456.058594,43537.511719,42909.402344,37002.441406,40782.738281,37304.691406,37536.632813,34770.582031,38705.980469,38402.222656,39294.199219,38436.96875,35697.605469,34616.066406,35678.128906,37332.855469,36684.925781,37575.179688,39208.765625,36894.40625,35551.957031,35862.378906,33560.707031,33472.632813,37345.121094,36702.597656,37334.398438,35552.515625,39097.859375,40218.476563,40406.269531,38347.0625,38053.503906,35787.246094,35615.871094,35698.296875,31676.693359,32505.660156,33723.027344,34662.4375,31637.77929700001,32186.277344,34649.644531,34434.335938,35867.777344,35040.835938,33572.117188,33897.046875,34668.546875,35287.78125,33746.003906,34235.195313,33855.328125,32877.371094,33798.011719,33520.519531,34240.1875,33155.847656,32702.025391000006,32822.347656,31780.730469,31421.539063,31533.068358999994,31796.810547,30817.832031,29807.347656,32110.693359,32313.105469,33581.550781,34292.445313,35350.1875,37337.535156,39406.941406,39995.90625,40008.421875,42235.546875,41626.195313,39974.894531,39201.945313,38152.980469,39747.503906,40869.554688,42816.5,44555.800781,43798.117188,46365.402344,45585.03125,45593.636719,44428.289063,47793.320313,47096.945313,47047.003906,46004.484375,44695.359375,44801.1875,46717.578125,49339.175781,48905.492188,49321.652344,49546.148438,47706.117188,48960.789063,46942.21875,49058.667969,48902.402344,48829.832031,47054.984375,47166.6875,48847.027344,49327.722656,50025.375,49944.625,51753.410156,52633.535156,46811.128906,46091.390625,46391.421875,44883.910156,45201.457031,46063.269531,44963.074219,47092.492188,48176.347656,47783.359375,47267.519531,48278.363281,47260.21875,42843.800781,40693.675781,43574.507813,44895.097656,42839.75,42716.59375,43208.539063,42235.730469,41034.542969,41564.363281,43790.894531,48116.941406,47711.488281,48199.953125,49112.902344,51514.8125,55361.44921900001,53805.984375,53967.84765599999,54968.22265599999,54771.578125,57484.789063,56041.05859400001,57401.09765599999,57321.523438,61593.949219,60892.179688,61553.617188,62026.078125,64261.992188,65992.835938,62210.171875,60692.265625,61393.617188,60930.835938,63039.824219,60363.79296900001,58482.386719,60622.13671900002,62227.96484400001,61888.832031,61318.95703099999,61004.40625000001,63226.402344,62970.04687500001,61452.230469,61125.675781,61527.48046900001,63326.988281,67566.82812499999,66971.828125,64995.23046900001,64949.960938,64155.94140599999,64469.52734400001,65466.83984400001,63557.87109400002,60161.246094,60368.011719,56942.13671900001,58119.578125,59697.195313000004,58730.476563,56289.289063,57569.07421900001,56280.42578099999,57274.679688,53569.765625,54815.078125,57248.45703099999,57806.56640599998,57005.42578099999,57229.828125,56477.81640599999,53598.246094,49200.703125,49368.847656,50582.625,50700.085938,50504.796875,47672.121094,47243.304688,49362.507813,50098.335938,46737.480469,46612.632813,48896.722656,47665.425781,46202.144531,46848.777344,46707.015625,46880.277344,48936.613281,48628.511719,50784.539063,50822.195313,50429.859375,50809.515625,50640.417969,47588.855469,46444.710938,47178.125,46306.445313,47686.8125,47345.21875,46458.117188,45897.574219,43569.003906,43160.929688,41557.902344,41733.941406,41911.601563,41821.261719,42735.855469,43949.101563,42591.570313,43099.699219,43177.398438,43113.878906,42250.550781,42375.632813,41744.328125,41933.546875,38815.797526337636,38011.282167582576,37765.626728288495,37847.47535833222,37031.58400369138,36286.172130031155,35357.71045197342,36277.343152183,35666.75548736114,36426.4703736036],\"yaxis\":\"y\",\"type\":\"scatter\"}],                        {\"template\":{\"data\":{\"histogram2dcontour\":[{\"type\":\"histogram2dcontour\",\"colorbar\":{\"outlinewidth\":0,\"ticks\":\"\"},\"colorscale\":[[0.0,\"#0d0887\"],[0.1111111111111111,\"#46039f\"],[0.2222222222222222,\"#7201a8\"],[0.3333333333333333,\"#9c179e\"],[0.4444444444444444,\"#bd3786\"],[0.5555555555555556,\"#d8576b\"],[0.6666666666666666,\"#ed7953\"],[0.7777777777777778,\"#fb9f3a\"],[0.8888888888888888,\"#fdca26\"],[1.0,\"#f0f921\"]]}],\"choropleth\":[{\"type\":\"choropleth\",\"colorbar\":{\"outlinewidth\":0,\"ticks\":\"\"}}],\"histogram2d\":[{\"type\":\"histogram2d\",\"colorbar\":{\"outlinewidth\":0,\"ticks\":\"\"},\"colorscale\":[[0.0,\"#0d0887\"],[0.1111111111111111,\"#46039f\"],[0.2222222222222222,\"#7201a8\"],[0.3333333333333333,\"#9c179e\"],[0.4444444444444444,\"#bd3786\"],[0.5555555555555556,\"#d8576b\"],[0.6666666666666666,\"#ed7953\"],[0.7777777777777778,\"#fb9f3a\"],[0.8888888888888888,\"#fdca26\"],[1.0,\"#f0f921\"]]}],\"heatmap\":[{\"type\":\"heatmap\",\"colorbar\":{\"outlinewidth\":0,\"ticks\":\"\"},\"colorscale\":[[0.0,\"#0d0887\"],[0.1111111111111111,\"#46039f\"],[0.2222222222222222,\"#7201a8\"],[0.3333333333333333,\"#9c179e\"],[0.4444444444444444,\"#bd3786\"],[0.5555555555555556,\"#d8576b\"],[0.6666666666666666,\"#ed7953\"],[0.7777777777777778,\"#fb9f3a\"],[0.8888888888888888,\"#fdca26\"],[1.0,\"#f0f921\"]]}],\"heatmapgl\":[{\"type\":\"heatmapgl\",\"colorbar\":{\"outlinewidth\":0,\"ticks\":\"\"},\"colorscale\":[[0.0,\"#0d0887\"],[0.1111111111111111,\"#46039f\"],[0.2222222222222222,\"#7201a8\"],[0.3333333333333333,\"#9c179e\"],[0.4444444444444444,\"#bd3786\"],[0.5555555555555556,\"#d8576b\"],[0.6666666666666666,\"#ed7953\"],[0.7777777777777778,\"#fb9f3a\"],[0.8888888888888888,\"#fdca26\"],[1.0,\"#f0f921\"]]}],\"contourcarpet\":[{\"type\":\"contourcarpet\",\"colorbar\":{\"outlinewidth\":0,\"ticks\":\"\"}}],\"contour\":[{\"type\":\"contour\",\"colorbar\":{\"outlinewidth\":0,\"ticks\":\"\"},\"colorscale\":[[0.0,\"#0d0887\"],[0.1111111111111111,\"#46039f\"],[0.2222222222222222,\"#7201a8\"],[0.3333333333333333,\"#9c179e\"],[0.4444444444444444,\"#bd3786\"],[0.5555555555555556,\"#d8576b\"],[0.6666666666666666,\"#ed7953\"],[0.7777777777777778,\"#fb9f3a\"],[0.8888888888888888,\"#fdca26\"],[1.0,\"#f0f921\"]]}],\"surface\":[{\"type\":\"surface\",\"colorbar\":{\"outlinewidth\":0,\"ticks\":\"\"},\"colorscale\":[[0.0,\"#0d0887\"],[0.1111111111111111,\"#46039f\"],[0.2222222222222222,\"#7201a8\"],[0.3333333333333333,\"#9c179e\"],[0.4444444444444444,\"#bd3786\"],[0.5555555555555556,\"#d8576b\"],[0.6666666666666666,\"#ed7953\"],[0.7777777777777778,\"#fb9f3a\"],[0.8888888888888888,\"#fdca26\"],[1.0,\"#f0f921\"]]}],\"mesh3d\":[{\"type\":\"mesh3d\",\"colorbar\":{\"outlinewidth\":0,\"ticks\":\"\"}}],\"scatter\":[{\"fillpattern\":{\"fillmode\":\"overlay\",\"size\":10,\"solidity\":0.2},\"type\":\"scatter\"}],\"parcoords\":[{\"type\":\"parcoords\",\"line\":{\"colorbar\":{\"outlinewidth\":0,\"ticks\":\"\"}}}],\"scatterpolargl\":[{\"type\":\"scatterpolargl\",\"marker\":{\"colorbar\":{\"outlinewidth\":0,\"ticks\":\"\"}}}],\"bar\":[{\"error_x\":{\"color\":\"#2a3f5f\"},\"error_y\":{\"color\":\"#2a3f5f\"},\"marker\":{\"line\":{\"color\":\"#E5ECF6\",\"width\":0.5},\"pattern\":{\"fillmode\":\"overlay\",\"size\":10,\"solidity\":0.2}},\"type\":\"bar\"}],\"scattergeo\":[{\"type\":\"scattergeo\",\"marker\":{\"colorbar\":{\"outlinewidth\":0,\"ticks\":\"\"}}}],\"scatterpolar\":[{\"type\":\"scatterpolar\",\"marker\":{\"colorbar\":{\"outlinewidth\":0,\"ticks\":\"\"}}}],\"histogram\":[{\"marker\":{\"pattern\":{\"fillmode\":\"overlay\",\"size\":10,\"solidity\":0.2}},\"type\":\"histogram\"}],\"scattergl\":[{\"type\":\"scattergl\",\"marker\":{\"colorbar\":{\"outlinewidth\":0,\"ticks\":\"\"}}}],\"scatter3d\":[{\"type\":\"scatter3d\",\"line\":{\"colorbar\":{\"outlinewidth\":0,\"ticks\":\"\"}},\"marker\":{\"colorbar\":{\"outlinewidth\":0,\"ticks\":\"\"}}}],\"scattermapbox\":[{\"type\":\"scattermapbox\",\"marker\":{\"colorbar\":{\"outlinewidth\":0,\"ticks\":\"\"}}}],\"scatterternary\":[{\"type\":\"scatterternary\",\"marker\":{\"colorbar\":{\"outlinewidth\":0,\"ticks\":\"\"}}}],\"scattercarpet\":[{\"type\":\"scattercarpet\",\"marker\":{\"colorbar\":{\"outlinewidth\":0,\"ticks\":\"\"}}}],\"carpet\":[{\"aaxis\":{\"endlinecolor\":\"#2a3f5f\",\"gridcolor\":\"white\",\"linecolor\":\"white\",\"minorgridcolor\":\"white\",\"startlinecolor\":\"#2a3f5f\"},\"baxis\":{\"endlinecolor\":\"#2a3f5f\",\"gridcolor\":\"white\",\"linecolor\":\"white\",\"minorgridcolor\":\"white\",\"startlinecolor\":\"#2a3f5f\"},\"type\":\"carpet\"}],\"table\":[{\"cells\":{\"fill\":{\"color\":\"#EBF0F8\"},\"line\":{\"color\":\"white\"}},\"header\":{\"fill\":{\"color\":\"#C8D4E3\"},\"line\":{\"color\":\"white\"}},\"type\":\"table\"}],\"barpolar\":[{\"marker\":{\"line\":{\"color\":\"#E5ECF6\",\"width\":0.5},\"pattern\":{\"fillmode\":\"overlay\",\"size\":10,\"solidity\":0.2}},\"type\":\"barpolar\"}],\"pie\":[{\"automargin\":true,\"type\":\"pie\"}]},\"layout\":{\"autotypenumbers\":\"strict\",\"colorway\":[\"#636efa\",\"#EF553B\",\"#00cc96\",\"#ab63fa\",\"#FFA15A\",\"#19d3f3\",\"#FF6692\",\"#B6E880\",\"#FF97FF\",\"#FECB52\"],\"font\":{\"color\":\"#2a3f5f\"},\"hovermode\":\"closest\",\"hoverlabel\":{\"align\":\"left\"},\"paper_bgcolor\":\"white\",\"plot_bgcolor\":\"#E5ECF6\",\"polar\":{\"bgcolor\":\"#E5ECF6\",\"angularaxis\":{\"gridcolor\":\"white\",\"linecolor\":\"white\",\"ticks\":\"\"},\"radialaxis\":{\"gridcolor\":\"white\",\"linecolor\":\"white\",\"ticks\":\"\"}},\"ternary\":{\"bgcolor\":\"#E5ECF6\",\"aaxis\":{\"gridcolor\":\"white\",\"linecolor\":\"white\",\"ticks\":\"\"},\"baxis\":{\"gridcolor\":\"white\",\"linecolor\":\"white\",\"ticks\":\"\"},\"caxis\":{\"gridcolor\":\"white\",\"linecolor\":\"white\",\"ticks\":\"\"}},\"coloraxis\":{\"colorbar\":{\"outlinewidth\":0,\"ticks\":\"\"}},\"colorscale\":{\"sequential\":[[0.0,\"#0d0887\"],[0.1111111111111111,\"#46039f\"],[0.2222222222222222,\"#7201a8\"],[0.3333333333333333,\"#9c179e\"],[0.4444444444444444,\"#bd3786\"],[0.5555555555555556,\"#d8576b\"],[0.6666666666666666,\"#ed7953\"],[0.7777777777777778,\"#fb9f3a\"],[0.8888888888888888,\"#fdca26\"],[1.0,\"#f0f921\"]],\"sequentialminus\":[[0.0,\"#0d0887\"],[0.1111111111111111,\"#46039f\"],[0.2222222222222222,\"#7201a8\"],[0.3333333333333333,\"#9c179e\"],[0.4444444444444444,\"#bd3786\"],[0.5555555555555556,\"#d8576b\"],[0.6666666666666666,\"#ed7953\"],[0.7777777777777778,\"#fb9f3a\"],[0.8888888888888888,\"#fdca26\"],[1.0,\"#f0f921\"]],\"diverging\":[[0,\"#8e0152\"],[0.1,\"#c51b7d\"],[0.2,\"#de77ae\"],[0.3,\"#f1b6da\"],[0.4,\"#fde0ef\"],[0.5,\"#f7f7f7\"],[0.6,\"#e6f5d0\"],[0.7,\"#b8e186\"],[0.8,\"#7fbc41\"],[0.9,\"#4d9221\"],[1,\"#276419\"]]},\"xaxis\":{\"gridcolor\":\"white\",\"linecolor\":\"white\",\"ticks\":\"\",\"title\":{\"standoff\":15},\"zerolinecolor\":\"white\",\"automargin\":true,\"zerolinewidth\":2},\"yaxis\":{\"gridcolor\":\"white\",\"linecolor\":\"white\",\"ticks\":\"\",\"title\":{\"standoff\":15},\"zerolinecolor\":\"white\",\"automargin\":true,\"zerolinewidth\":2},\"scene\":{\"xaxis\":{\"backgroundcolor\":\"#E5ECF6\",\"gridcolor\":\"white\",\"linecolor\":\"white\",\"showbackground\":true,\"ticks\":\"\",\"zerolinecolor\":\"white\",\"gridwidth\":2},\"yaxis\":{\"backgroundcolor\":\"#E5ECF6\",\"gridcolor\":\"white\",\"linecolor\":\"white\",\"showbackground\":true,\"ticks\":\"\",\"zerolinecolor\":\"white\",\"gridwidth\":2},\"zaxis\":{\"backgroundcolor\":\"#E5ECF6\",\"gridcolor\":\"white\",\"linecolor\":\"white\",\"showbackground\":true,\"ticks\":\"\",\"zerolinecolor\":\"white\",\"gridwidth\":2}},\"shapedefaults\":{\"line\":{\"color\":\"#2a3f5f\"}},\"annotationdefaults\":{\"arrowcolor\":\"#2a3f5f\",\"arrowhead\":0,\"arrowwidth\":1},\"geo\":{\"bgcolor\":\"white\",\"landcolor\":\"#E5ECF6\",\"subunitcolor\":\"white\",\"showland\":true,\"showlakes\":true,\"lakecolor\":\"white\"},\"title\":{\"x\":0.05},\"mapbox\":{\"style\":\"light\"}}},\"xaxis\":{\"anchor\":\"y\",\"domain\":[0.0,1.0],\"title\":{\"text\":\"Timestamp\"},\"showgrid\":false},\"yaxis\":{\"anchor\":\"x\",\"domain\":[0.0,1.0],\"title\":{\"text\":\"Close price\"},\"showgrid\":false},\"legend\":{\"title\":{\"text\":\"Stock\"},\"tracegroupgap\":0},\"margin\":{\"t\":60},\"title\":{\"text\":\"Plotting whole closing price with prediction\"},\"font\":{\"size\":15,\"color\":\"black\"},\"plot_bgcolor\":\"white\"},                        {\"responsive\": true}                    ).then(function(){\n",
       "                            \n",
       "var gd = document.getElementById('8774aa02-7f37-4b2e-99ba-ea9936f31287');\n",
       "var x = new MutationObserver(function (mutations, observer) {{\n",
       "        var display = window.getComputedStyle(gd).display;\n",
       "        if (!display || display === 'none') {{\n",
       "            console.log([gd, 'removed!']);\n",
       "            Plotly.purge(gd);\n",
       "            observer.disconnect();\n",
       "        }}\n",
       "}});\n",
       "\n",
       "// Listen for the removal of the full notebook cells\n",
       "var notebookContainer = gd.closest('#notebook-container');\n",
       "if (notebookContainer) {{\n",
       "    x.observe(notebookContainer, {childList: true});\n",
       "}}\n",
       "\n",
       "// Listen for the clearing of the current output cell\n",
       "var outputEl = gd.closest('.output');\n",
       "if (outputEl) {{\n",
       "    x.observe(outputEl, {childList: true});\n",
       "}}\n",
       "\n",
       "                        })                };                });            </script>        </div>"
      ]
     },
     "metadata": {},
     "output_type": "display_data"
    }
   ],
   "source": [
    "Crypto.xgboostPrediction()"
   ]
  },
  {
   "cell_type": "code",
   "execution_count": 43,
   "id": "eb84cce0",
   "metadata": {},
   "outputs": [
    {
     "name": "stdout",
     "output_type": "stream",
     "text": [
      "Train_data:  (354, 1)\n",
      "Test_data:  (152, 1)\n",
      "X_train:  (338, 15)\n",
      "y_train:  (338,)\n",
      "X_test:  (136, 15)\n",
      "y_test (136,)\n"
     ]
    },
    {
     "data": {
      "text/plain": [
       "<function __main__.Crypto.splitting_data.<locals>.create_dataset(dataset, time_step=1)>"
      ]
     },
     "execution_count": 43,
     "metadata": {},
     "output_type": "execute_result"
    }
   ],
   "source": [
    "#LSTM\n",
    "Crypto.splitting_data()\n"
   ]
  },
  {
   "cell_type": "code",
   "execution_count": 44,
   "id": "094f5a6c",
   "metadata": {},
   "outputs": [
    {
     "name": "stdout",
     "output_type": "stream",
     "text": [
      "X_train:  (338, 15, 1)\n",
      "X_test:  (136, 15, 1)\n",
      "y_train:  (338,)\n",
      "y_test:  (136,)\n",
      "Epoch 1/200\n",
      "11/11 [==============================] - 2s 37ms/step - loss: 0.2932 - val_loss: 0.5487\n",
      "Epoch 2/200\n",
      "11/11 [==============================] - 0s 15ms/step - loss: 0.2331 - val_loss: 0.4400\n",
      "Epoch 3/200\n",
      "11/11 [==============================] - 0s 17ms/step - loss: 0.1812 - val_loss: 0.3415\n",
      "Epoch 4/200\n",
      "11/11 [==============================] - 0s 12ms/step - loss: 0.1368 - val_loss: 0.2566\n",
      "Epoch 5/200\n",
      "11/11 [==============================] - 0s 12ms/step - loss: 0.0975 - val_loss: 0.1764\n",
      "Epoch 6/200\n",
      "11/11 [==============================] - 0s 30ms/step - loss: 0.0630 - val_loss: 0.0997\n",
      "Epoch 7/200\n",
      "11/11 [==============================] - 0s 32ms/step - loss: 0.0348 - val_loss: 0.0308\n",
      "Epoch 8/200\n",
      "11/11 [==============================] - 0s 15ms/step - loss: 0.0194 - val_loss: 0.0046\n",
      "Epoch 9/200\n",
      "11/11 [==============================] - 0s 11ms/step - loss: 0.0180 - val_loss: 0.0051\n",
      "Epoch 10/200\n",
      "11/11 [==============================] - 0s 31ms/step - loss: 0.0151 - val_loss: 0.0079\n",
      "Epoch 11/200\n",
      "11/11 [==============================] - 0s 32ms/step - loss: 0.0139 - val_loss: 0.0074\n",
      "Epoch 12/200\n",
      "11/11 [==============================] - 0s 19ms/step - loss: 0.0121 - val_loss: 0.0043\n",
      "Epoch 13/200\n",
      "11/11 [==============================] - 0s 10ms/step - loss: 0.0110 - val_loss: 0.0038\n",
      "Epoch 14/200\n",
      "11/11 [==============================] - 0s 31ms/step - loss: 0.0099 - val_loss: 0.0040\n",
      "Epoch 15/200\n",
      "11/11 [==============================] - 0s 33ms/step - loss: 0.0090 - val_loss: 0.0039\n",
      "Epoch 16/200\n",
      "11/11 [==============================] - 0s 25ms/step - loss: 0.0084 - val_loss: 0.0040\n",
      "Epoch 17/200\n",
      "11/11 [==============================] - 0s 9ms/step - loss: 0.0079 - val_loss: 0.0041\n",
      "Epoch 18/200\n",
      "11/11 [==============================] - 0s 10ms/step - loss: 0.0075 - val_loss: 0.0043\n",
      "Epoch 19/200\n",
      "11/11 [==============================] - 0s 30ms/step - loss: 0.0072 - val_loss: 0.0045\n",
      "Epoch 20/200\n",
      "11/11 [==============================] - 0s 31ms/step - loss: 0.0070 - val_loss: 0.0047\n",
      "Epoch 21/200\n",
      "11/11 [==============================] - 0s 10ms/step - loss: 0.0069 - val_loss: 0.0046\n",
      "Epoch 22/200\n",
      "11/11 [==============================] - 0s 11ms/step - loss: 0.0066 - val_loss: 0.0052\n",
      "Epoch 23/200\n",
      "11/11 [==============================] - 0s 30ms/step - loss: 0.0065 - val_loss: 0.0049\n",
      "Epoch 24/200\n",
      "11/11 [==============================] - 0s 31ms/step - loss: 0.0064 - val_loss: 0.0049\n",
      "Epoch 25/200\n",
      "11/11 [==============================] - 0s 20ms/step - loss: 0.0063 - val_loss: 0.0051\n",
      "Epoch 26/200\n",
      "11/11 [==============================] - 0s 10ms/step - loss: 0.0062 - val_loss: 0.0052\n",
      "Epoch 27/200\n",
      "11/11 [==============================] - 0s 25ms/step - loss: 0.0061 - val_loss: 0.0049\n",
      "Epoch 28/200\n",
      "11/11 [==============================] - 0s 31ms/step - loss: 0.0061 - val_loss: 0.0047\n",
      "Epoch 29/200\n",
      "11/11 [==============================] - 0s 23ms/step - loss: 0.0059 - val_loss: 0.0052\n",
      "Epoch 30/200\n",
      "11/11 [==============================] - 0s 10ms/step - loss: 0.0058 - val_loss: 0.0048\n",
      "Epoch 31/200\n",
      "11/11 [==============================] - 0s 11ms/step - loss: 0.0058 - val_loss: 0.0050\n",
      "Epoch 32/200\n",
      "11/11 [==============================] - 0s 21ms/step - loss: 0.0056 - val_loss: 0.0046\n",
      "Epoch 33/200\n",
      "11/11 [==============================] - 0s 30ms/step - loss: 0.0056 - val_loss: 0.0048\n",
      "Epoch 34/200\n",
      "11/11 [==============================] - 0s 18ms/step - loss: 0.0055 - val_loss: 0.0045\n",
      "Epoch 35/200\n",
      "11/11 [==============================] - 0s 10ms/step - loss: 0.0055 - val_loss: 0.0044\n",
      "Epoch 36/200\n",
      "11/11 [==============================] - 0s 10ms/step - loss: 0.0053 - val_loss: 0.0046\n",
      "Epoch 37/200\n",
      "11/11 [==============================] - 0s 13ms/step - loss: 0.0053 - val_loss: 0.0042\n",
      "Epoch 38/200\n",
      "11/11 [==============================] - 0s 16ms/step - loss: 0.0052 - val_loss: 0.0045\n",
      "Epoch 39/200\n",
      "11/11 [==============================] - 0s 17ms/step - loss: 0.0051 - val_loss: 0.0041\n",
      "Epoch 40/200\n",
      "11/11 [==============================] - 0s 20ms/step - loss: 0.0050 - val_loss: 0.0042\n",
      "Epoch 41/200\n",
      "11/11 [==============================] - 0s 15ms/step - loss: 0.0049 - val_loss: 0.0042\n",
      "Epoch 42/200\n",
      "11/11 [==============================] - 0s 10ms/step - loss: 0.0049 - val_loss: 0.0041\n",
      "Epoch 43/200\n",
      "11/11 [==============================] - 0s 11ms/step - loss: 0.0049 - val_loss: 0.0044\n",
      "Epoch 44/200\n",
      "11/11 [==============================] - 0s 30ms/step - loss: 0.0047 - val_loss: 0.0039\n",
      "Epoch 45/200\n",
      "11/11 [==============================] - 0s 31ms/step - loss: 0.0047 - val_loss: 0.0041\n",
      "Epoch 46/200\n",
      "11/11 [==============================] - 0s 10ms/step - loss: 0.0046 - val_loss: 0.0039\n",
      "Epoch 47/200\n",
      "11/11 [==============================] - 0s 10ms/step - loss: 0.0046 - val_loss: 0.0041\n",
      "Epoch 48/200\n",
      "11/11 [==============================] - 0s 25ms/step - loss: 0.0045 - val_loss: 0.0036\n",
      "Epoch 49/200\n",
      "11/11 [==============================] - 0s 31ms/step - loss: 0.0044 - val_loss: 0.0039\n",
      "Epoch 50/200\n",
      "11/11 [==============================] - 0s 23ms/step - loss: 0.0044 - val_loss: 0.0035\n",
      "Epoch 51/200\n",
      "11/11 [==============================] - 0s 13ms/step - loss: 0.0043 - val_loss: 0.0039\n",
      "Epoch 52/200\n",
      "11/11 [==============================] - 0s 12ms/step - loss: 0.0042 - val_loss: 0.0035\n",
      "Epoch 53/200\n",
      "11/11 [==============================] - 0s 31ms/step - loss: 0.0042 - val_loss: 0.0038\n",
      "Epoch 54/200\n",
      "11/11 [==============================] - 0s 32ms/step - loss: 0.0041 - val_loss: 0.0035\n",
      "Epoch 55/200\n",
      "11/11 [==============================] - 0s 10ms/step - loss: 0.0041 - val_loss: 0.0035\n",
      "Epoch 56/200\n",
      "11/11 [==============================] - 0s 10ms/step - loss: 0.0040 - val_loss: 0.0034\n",
      "Epoch 57/200\n",
      "11/11 [==============================] - 0s 30ms/step - loss: 0.0039 - val_loss: 0.0034\n",
      "Epoch 58/200\n",
      "11/11 [==============================] - 0s 31ms/step - loss: 0.0039 - val_loss: 0.0033\n",
      "Epoch 59/200\n",
      "11/11 [==============================] - 0s 19ms/step - loss: 0.0039 - val_loss: 0.0033\n",
      "Epoch 60/200\n",
      "11/11 [==============================] - 0s 9ms/step - loss: 0.0038 - val_loss: 0.0034\n",
      "Epoch 61/200\n",
      "11/11 [==============================] - 0s 23ms/step - loss: 0.0038 - val_loss: 0.0032\n",
      "Epoch 62/200\n",
      "11/11 [==============================] - 0s 32ms/step - loss: 0.0037 - val_loss: 0.0032\n",
      "Epoch 63/200\n",
      "11/11 [==============================] - 0s 25ms/step - loss: 0.0037 - val_loss: 0.0032\n",
      "Epoch 64/200\n",
      "11/11 [==============================] - 0s 10ms/step - loss: 0.0036 - val_loss: 0.0032\n",
      "Epoch 65/200\n",
      "11/11 [==============================] - 0s 10ms/step - loss: 0.0036 - val_loss: 0.0030\n",
      "Epoch 66/200\n",
      "11/11 [==============================] - 0s 12ms/step - loss: 0.0035 - val_loss: 0.0033\n",
      "Epoch 67/200\n",
      "11/11 [==============================] - 0s 26ms/step - loss: 0.0035 - val_loss: 0.0030\n",
      "Epoch 68/200\n",
      "11/11 [==============================] - 0s 19ms/step - loss: 0.0034 - val_loss: 0.0030\n",
      "Epoch 69/200\n",
      "11/11 [==============================] - 0s 16ms/step - loss: 0.0035 - val_loss: 0.0031\n",
      "Epoch 70/200\n",
      "11/11 [==============================] - 0s 10ms/step - loss: 0.0034 - val_loss: 0.0028\n",
      "Epoch 71/200\n",
      "11/11 [==============================] - 0s 29ms/step - loss: 0.0033 - val_loss: 0.0030\n",
      "Epoch 72/200\n",
      "11/11 [==============================] - 0s 32ms/step - loss: 0.0033 - val_loss: 0.0029\n",
      "Epoch 73/200\n",
      "11/11 [==============================] - 0s 22ms/step - loss: 0.0032 - val_loss: 0.0028\n",
      "Epoch 74/200\n",
      "11/11 [==============================] - 0s 10ms/step - loss: 0.0032 - val_loss: 0.0029\n",
      "Epoch 75/200\n",
      "11/11 [==============================] - 0s 12ms/step - loss: 0.0032 - val_loss: 0.0027\n",
      "Epoch 76/200\n",
      "11/11 [==============================] - 0s 21ms/step - loss: 0.0032 - val_loss: 0.0028\n",
      "Epoch 77/200\n",
      "11/11 [==============================] - 0s 21ms/step - loss: 0.0031 - val_loss: 0.0027\n",
      "Epoch 78/200\n",
      "11/11 [==============================] - 0s 26ms/step - loss: 0.0031 - val_loss: 0.0028\n",
      "Epoch 79/200\n",
      "11/11 [==============================] - 0s 10ms/step - loss: 0.0031 - val_loss: 0.0027\n",
      "Epoch 80/200\n",
      "11/11 [==============================] - 0s 12ms/step - loss: 0.0030 - val_loss: 0.0027\n",
      "Epoch 81/200\n"
     ]
    },
    {
     "name": "stdout",
     "output_type": "stream",
     "text": [
      "11/11 [==============================] - 0s 30ms/step - loss: 0.0030 - val_loss: 0.0026\n",
      "Epoch 82/200\n",
      "11/11 [==============================] - 0s 31ms/step - loss: 0.0030 - val_loss: 0.0027\n",
      "Epoch 83/200\n",
      "11/11 [==============================] - 0s 11ms/step - loss: 0.0029 - val_loss: 0.0026\n",
      "Epoch 84/200\n",
      "11/11 [==============================] - 0s 9ms/step - loss: 0.0029 - val_loss: 0.0026\n",
      "Epoch 85/200\n",
      "11/11 [==============================] - 0s 11ms/step - loss: 0.0029 - val_loss: 0.0026\n",
      "Epoch 86/200\n",
      "11/11 [==============================] - 0s 23ms/step - loss: 0.0029 - val_loss: 0.0025\n",
      "Epoch 87/200\n",
      "11/11 [==============================] - 0s 30ms/step - loss: 0.0029 - val_loss: 0.0027\n",
      "Epoch 88/200\n",
      "11/11 [==============================] - 0s 19ms/step - loss: 0.0029 - val_loss: 0.0024\n",
      "Epoch 89/200\n",
      "11/11 [==============================] - 0s 10ms/step - loss: 0.0028 - val_loss: 0.0026\n",
      "Epoch 90/200\n",
      "11/11 [==============================] - 0s 16ms/step - loss: 0.0027 - val_loss: 0.0025\n",
      "Epoch 91/200\n",
      "11/11 [==============================] - 0s 28ms/step - loss: 0.0027 - val_loss: 0.0024\n",
      "Epoch 92/200\n",
      "11/11 [==============================] - 0s 31ms/step - loss: 0.0027 - val_loss: 0.0025\n",
      "Epoch 93/200\n",
      "11/11 [==============================] - 0s 10ms/step - loss: 0.0027 - val_loss: 0.0024\n",
      "Epoch 94/200\n",
      "11/11 [==============================] - 0s 14ms/step - loss: 0.0027 - val_loss: 0.0024\n",
      "Epoch 95/200\n",
      "11/11 [==============================] - 0s 31ms/step - loss: 0.0026 - val_loss: 0.0024\n",
      "Epoch 96/200\n",
      "11/11 [==============================] - 0s 31ms/step - loss: 0.0026 - val_loss: 0.0024\n",
      "Epoch 97/200\n",
      "11/11 [==============================] - 0s 13ms/step - loss: 0.0026 - val_loss: 0.0025\n",
      "Epoch 98/200\n",
      "11/11 [==============================] - 0s 11ms/step - loss: 0.0026 - val_loss: 0.0023\n",
      "Epoch 99/200\n",
      "11/11 [==============================] - 0s 27ms/step - loss: 0.0025 - val_loss: 0.0024\n",
      "Epoch 100/200\n",
      "11/11 [==============================] - 0s 30ms/step - loss: 0.0025 - val_loss: 0.0024\n",
      "Epoch 101/200\n",
      "11/11 [==============================] - 0s 18ms/step - loss: 0.0025 - val_loss: 0.0023\n",
      "Epoch 102/200\n",
      "11/11 [==============================] - 0s 9ms/step - loss: 0.0025 - val_loss: 0.0023\n",
      "Epoch 103/200\n",
      "11/11 [==============================] - 0s 22ms/step - loss: 0.0025 - val_loss: 0.0023\n",
      "Epoch 104/200\n",
      "11/11 [==============================] - 0s 25ms/step - loss: 0.0025 - val_loss: 0.0023\n",
      "Epoch 105/200\n",
      "11/11 [==============================] - 0s 30ms/step - loss: 0.0025 - val_loss: 0.0022\n",
      "Epoch 106/200\n",
      "11/11 [==============================] - 0s 12ms/step - loss: 0.0024 - val_loss: 0.0023\n",
      "Epoch 107/200\n",
      "11/11 [==============================] - 0s 11ms/step - loss: 0.0024 - val_loss: 0.0022\n",
      "Epoch 108/200\n",
      "11/11 [==============================] - 0s 30ms/step - loss: 0.0024 - val_loss: 0.0023\n",
      "Epoch 109/200\n",
      "11/11 [==============================] - 0s 31ms/step - loss: 0.0024 - val_loss: 0.0022\n",
      "Epoch 110/200\n",
      "11/11 [==============================] - 0s 14ms/step - loss: 0.0024 - val_loss: 0.0023\n",
      "Epoch 111/200\n",
      "11/11 [==============================] - 0s 9ms/step - loss: 0.0023 - val_loss: 0.0022\n",
      "Epoch 112/200\n",
      "11/11 [==============================] - 0s 12ms/step - loss: 0.0023 - val_loss: 0.0022\n",
      "Epoch 113/200\n",
      "11/11 [==============================] - 0s 28ms/step - loss: 0.0023 - val_loss: 0.0022\n",
      "Epoch 114/200\n",
      "11/11 [==============================] - 0s 32ms/step - loss: 0.0023 - val_loss: 0.0022\n",
      "Epoch 115/200\n",
      "11/11 [==============================] - 0s 11ms/step - loss: 0.0023 - val_loss: 0.0022\n",
      "Epoch 116/200\n",
      "11/11 [==============================] - 0s 10ms/step - loss: 0.0023 - val_loss: 0.0021\n",
      "Epoch 117/200\n",
      "11/11 [==============================] - 0s 25ms/step - loss: 0.0023 - val_loss: 0.0022\n",
      "Epoch 118/200\n",
      "11/11 [==============================] - 0s 26ms/step - loss: 0.0022 - val_loss: 0.0022\n",
      "Epoch 119/200\n",
      "11/11 [==============================] - 0s 24ms/step - loss: 0.0022 - val_loss: 0.0021\n",
      "Epoch 120/200\n",
      "11/11 [==============================] - 0s 10ms/step - loss: 0.0023 - val_loss: 0.0021\n",
      "Epoch 121/200\n",
      "11/11 [==============================] - 0s 15ms/step - loss: 0.0022 - val_loss: 0.0022\n",
      "Epoch 122/200\n",
      "11/11 [==============================] - 0s 12ms/step - loss: 0.0022 - val_loss: 0.0021\n",
      "Epoch 123/200\n",
      "11/11 [==============================] - 0s 20ms/step - loss: 0.0022 - val_loss: 0.0021\n",
      "Epoch 124/200\n",
      "11/11 [==============================] - 0s 20ms/step - loss: 0.0022 - val_loss: 0.0021\n",
      "Epoch 125/200\n",
      "11/11 [==============================] - 0s 16ms/step - loss: 0.0022 - val_loss: 0.0021\n",
      "Epoch 126/200\n",
      "11/11 [==============================] - 0s 9ms/step - loss: 0.0021 - val_loss: 0.0021\n",
      "Epoch 127/200\n",
      "11/11 [==============================] - 0s 10ms/step - loss: 0.0021 - val_loss: 0.0021\n",
      "Epoch 128/200\n",
      "11/11 [==============================] - 0s 28ms/step - loss: 0.0021 - val_loss: 0.0021\n",
      "Epoch 129/200\n",
      "11/11 [==============================] - 0s 30ms/step - loss: 0.0021 - val_loss: 0.0021\n",
      "Epoch 130/200\n",
      "11/11 [==============================] - 0s 19ms/step - loss: 0.0021 - val_loss: 0.0020\n",
      "Epoch 131/200\n",
      "11/11 [==============================] - 0s 10ms/step - loss: 0.0021 - val_loss: 0.0021\n",
      "Epoch 132/200\n",
      "11/11 [==============================] - 0s 11ms/step - loss: 0.0022 - val_loss: 0.0020\n",
      "Epoch 133/200\n",
      "11/11 [==============================] - 0s 29ms/step - loss: 0.0021 - val_loss: 0.0021\n",
      "Epoch 134/200\n",
      "11/11 [==============================] - 0s 28ms/step - loss: 0.0021 - val_loss: 0.0020\n",
      "Epoch 135/200\n",
      "11/11 [==============================] - 0s 16ms/step - loss: 0.0021 - val_loss: 0.0020\n",
      "Epoch 136/200\n",
      "11/11 [==============================] - 0s 10ms/step - loss: 0.0020 - val_loss: 0.0020\n",
      "Epoch 137/200\n",
      "11/11 [==============================] - 0s 27ms/step - loss: 0.0020 - val_loss: 0.0020\n",
      "Epoch 138/200\n",
      "11/11 [==============================] - 0s 30ms/step - loss: 0.0020 - val_loss: 0.0020\n",
      "Epoch 139/200\n",
      "11/11 [==============================] - 0s 23ms/step - loss: 0.0020 - val_loss: 0.0020\n",
      "Epoch 140/200\n",
      "11/11 [==============================] - 0s 10ms/step - loss: 0.0020 - val_loss: 0.0020\n",
      "Epoch 141/200\n",
      "11/11 [==============================] - 0s 18ms/step - loss: 0.0020 - val_loss: 0.0020\n",
      "Epoch 142/200\n",
      "11/11 [==============================] - 0s 27ms/step - loss: 0.0020 - val_loss: 0.0020\n",
      "Epoch 143/200\n",
      "11/11 [==============================] - 0s 30ms/step - loss: 0.0020 - val_loss: 0.0019\n",
      "Epoch 144/200\n",
      "11/11 [==============================] - 0s 15ms/step - loss: 0.0020 - val_loss: 0.0020\n",
      "Epoch 145/200\n",
      "11/11 [==============================] - 0s 11ms/step - loss: 0.0020 - val_loss: 0.0019\n",
      "Epoch 146/200\n",
      "11/11 [==============================] - 0s 26ms/step - loss: 0.0020 - val_loss: 0.0019\n",
      "Epoch 147/200\n",
      "11/11 [==============================] - 0s 26ms/step - loss: 0.0020 - val_loss: 0.0019\n",
      "Epoch 148/200\n",
      "11/11 [==============================] - 0s 19ms/step - loss: 0.0020 - val_loss: 0.0019\n",
      "Epoch 149/200\n",
      "11/11 [==============================] - 0s 10ms/step - loss: 0.0019 - val_loss: 0.0019\n",
      "Epoch 150/200\n",
      "11/11 [==============================] - 0s 15ms/step - loss: 0.0019 - val_loss: 0.0019\n",
      "Epoch 151/200\n",
      "11/11 [==============================] - 0s 16ms/step - loss: 0.0019 - val_loss: 0.0019\n",
      "Epoch 152/200\n",
      "11/11 [==============================] - 0s 22ms/step - loss: 0.0019 - val_loss: 0.0019\n",
      "Epoch 153/200\n",
      "11/11 [==============================] - 0s 27ms/step - loss: 0.0019 - val_loss: 0.0019\n",
      "Epoch 154/200\n",
      "11/11 [==============================] - 0s 10ms/step - loss: 0.0019 - val_loss: 0.0019\n",
      "Epoch 155/200\n",
      "11/11 [==============================] - 0s 24ms/step - loss: 0.0019 - val_loss: 0.0019\n",
      "Epoch 156/200\n",
      "11/11 [==============================] - 0s 19ms/step - loss: 0.0019 - val_loss: 0.0019\n",
      "Epoch 157/200\n",
      "11/11 [==============================] - 0s 26ms/step - loss: 0.0019 - val_loss: 0.0019\n",
      "Epoch 158/200\n",
      "11/11 [==============================] - 0s 21ms/step - loss: 0.0019 - val_loss: 0.0019\n",
      "Epoch 159/200\n",
      "11/11 [==============================] - 0s 10ms/step - loss: 0.0019 - val_loss: 0.0019\n",
      "Epoch 160/200\n",
      "11/11 [==============================] - 0s 12ms/step - loss: 0.0018 - val_loss: 0.0018\n",
      "Epoch 161/200\n"
     ]
    },
    {
     "name": "stdout",
     "output_type": "stream",
     "text": [
      "11/11 [==============================] - 0s 17ms/step - loss: 0.0018 - val_loss: 0.0018\n",
      "Epoch 162/200\n",
      "11/11 [==============================] - 0s 17ms/step - loss: 0.0019 - val_loss: 0.0018\n",
      "Epoch 163/200\n",
      "11/11 [==============================] - 0s 17ms/step - loss: 0.0019 - val_loss: 0.0018\n",
      "Epoch 164/200\n",
      "11/11 [==============================] - 0s 14ms/step - loss: 0.0018 - val_loss: 0.0018\n",
      "Epoch 165/200\n",
      "11/11 [==============================] - 0s 10ms/step - loss: 0.0018 - val_loss: 0.0018\n",
      "Epoch 166/200\n",
      "11/11 [==============================] - 0s 10ms/step - loss: 0.0018 - val_loss: 0.0018\n",
      "Epoch 167/200\n",
      "11/11 [==============================] - 0s 10ms/step - loss: 0.0018 - val_loss: 0.0018\n",
      "Epoch 168/200\n",
      "11/11 [==============================] - 0s 10ms/step - loss: 0.0018 - val_loss: 0.0018\n",
      "Epoch 169/200\n",
      "11/11 [==============================] - 0s 10ms/step - loss: 0.0018 - val_loss: 0.0018\n",
      "Epoch 170/200\n",
      "11/11 [==============================] - 0s 21ms/step - loss: 0.0018 - val_loss: 0.0018\n",
      "Epoch 171/200\n",
      "11/11 [==============================] - 0s 20ms/step - loss: 0.0018 - val_loss: 0.0018\n",
      "Epoch 172/200\n",
      "11/11 [==============================] - 0s 9ms/step - loss: 0.0018 - val_loss: 0.0018\n",
      "Epoch 173/200\n",
      "11/11 [==============================] - 0s 24ms/step - loss: 0.0018 - val_loss: 0.0018\n",
      "Epoch 174/200\n",
      "11/11 [==============================] - 0s 27ms/step - loss: 0.0018 - val_loss: 0.0018\n",
      "Epoch 175/200\n",
      "11/11 [==============================] - 0s 32ms/step - loss: 0.0018 - val_loss: 0.0018\n",
      "Epoch 176/200\n",
      "11/11 [==============================] - 0s 14ms/step - loss: 0.0017 - val_loss: 0.0018\n",
      "Epoch 177/200\n",
      "11/11 [==============================] - 0s 9ms/step - loss: 0.0017 - val_loss: 0.0017\n",
      "Epoch 178/200\n",
      "11/11 [==============================] - 0s 10ms/step - loss: 0.0017 - val_loss: 0.0017\n",
      "Epoch 179/200\n",
      "11/11 [==============================] - 0s 10ms/step - loss: 0.0017 - val_loss: 0.0017\n",
      "Epoch 180/200\n",
      "11/11 [==============================] - 0s 17ms/step - loss: 0.0017 - val_loss: 0.0017\n",
      "Epoch 181/200\n",
      "11/11 [==============================] - 0s 22ms/step - loss: 0.0017 - val_loss: 0.0017\n",
      "Epoch 182/200\n",
      "11/11 [==============================] - 0s 12ms/step - loss: 0.0017 - val_loss: 0.0017\n",
      "Epoch 183/200\n",
      "11/11 [==============================] - 0s 13ms/step - loss: 0.0017 - val_loss: 0.0017\n",
      "Epoch 184/200\n",
      "11/11 [==============================] - 0s 29ms/step - loss: 0.0017 - val_loss: 0.0017\n",
      "Epoch 185/200\n",
      "11/11 [==============================] - 0s 31ms/step - loss: 0.0017 - val_loss: 0.0017\n",
      "Epoch 186/200\n",
      "11/11 [==============================] - 0s 18ms/step - loss: 0.0017 - val_loss: 0.0017\n",
      "Epoch 187/200\n",
      "11/11 [==============================] - 0s 9ms/step - loss: 0.0017 - val_loss: 0.0017\n",
      "Epoch 188/200\n",
      "11/11 [==============================] - 0s 25ms/step - loss: 0.0017 - val_loss: 0.0017\n",
      "Epoch 189/200\n",
      "11/11 [==============================] - 0s 27ms/step - loss: 0.0017 - val_loss: 0.0017\n",
      "Epoch 190/200\n",
      "11/11 [==============================] - 0s 28ms/step - loss: 0.0017 - val_loss: 0.0017\n",
      "Epoch 191/200\n",
      "11/11 [==============================] - 0s 10ms/step - loss: 0.0017 - val_loss: 0.0017\n",
      "Epoch 192/200\n",
      "11/11 [==============================] - 0s 10ms/step - loss: 0.0017 - val_loss: 0.0017\n",
      "Epoch 193/200\n",
      "11/11 [==============================] - 0s 30ms/step - loss: 0.0016 - val_loss: 0.0017\n",
      "Epoch 194/200\n",
      "11/11 [==============================] - 0s 31ms/step - loss: 0.0016 - val_loss: 0.0017\n",
      "Epoch 195/200\n",
      "11/11 [==============================] - 0s 17ms/step - loss: 0.0016 - val_loss: 0.0016\n",
      "Epoch 196/200\n",
      "11/11 [==============================] - 0s 9ms/step - loss: 0.0016 - val_loss: 0.0016\n",
      "Epoch 197/200\n",
      "11/11 [==============================] - 0s 11ms/step - loss: 0.0016 - val_loss: 0.0016\n",
      "Epoch 198/200\n",
      "11/11 [==============================] - 0s 29ms/step - loss: 0.0016 - val_loss: 0.0016\n",
      "Epoch 199/200\n",
      "11/11 [==============================] - 0s 27ms/step - loss: 0.0016 - val_loss: 0.0016\n",
      "Epoch 200/200\n",
      "11/11 [==============================] - 0s 25ms/step - loss: 0.0016 - val_loss: 0.0016\n",
      "Mean Absolute Error - MAE : 0.0320272057888394\n",
      "Root Mean squared Error - RMSE : 0.04038631063484652\n",
      "Train data explained variance regression score: 0.9784090616204417\n",
      "Test data explained variance regression score: 0.9064185524819662\n",
      "Train data R2 score: 0.9783186620810232\n",
      "Test data R2 score: 0.9055418640659157\n"
     ]
    }
   ],
   "source": [
    "Crypto.lstm_model()\n"
   ]
  },
  {
   "cell_type": "code",
   "execution_count": 45,
   "id": "25428de6",
   "metadata": {},
   "outputs": [
    {
     "name": "stdout",
     "output_type": "stream",
     "text": [
      "Output of predicted next days:  10\n"
     ]
    }
   ],
   "source": [
    "Crypto.predict_next_10_days()\n"
   ]
  },
  {
   "cell_type": "code",
   "execution_count": 46,
   "id": "25a63eaa",
   "metadata": {},
   "outputs": [
    {
     "data": {
      "application/vnd.plotly.v1+json": {
       "config": {
        "plotlyServerURL": "https://plot.ly"
       },
       "data": [
        {
         "hovertemplate": "variable=last_original_days_value<br>Timestamp=%{x}<br>Stock price=%{y}<extra></extra>",
         "legendgroup": "last_original_days_value",
         "line": {
          "color": "#636efa",
          "dash": "solid"
         },
         "marker": {
          "symbol": "circle"
         },
         "mode": "lines",
         "name": "Last 15 days close price",
         "orientation": "v",
         "showlegend": true,
         "type": "scatter",
         "x": [
          0,
          1,
          2,
          3,
          4,
          5,
          6,
          7,
          8,
          9,
          10,
          11,
          12,
          13,
          14,
          15,
          16,
          17,
          18,
          19,
          20,
          21,
          22,
          23,
          24,
          25
         ],
         "xaxis": "x",
         "y": [
          43160.929688,
          41557.902344,
          41733.941406,
          41911.601563,
          41821.261719,
          42735.855469,
          43949.101563,
          42591.570313,
          43099.699219,
          43177.398438,
          43113.878906,
          42250.550781,
          42375.632813,
          41744.328125,
          41933.546875,
          null,
          42920.92988459854,
          43134.16733020004,
          43309.39121627228,
          43487.6448213812,
          43669.17120773201,
          43852.234705774885,
          44034.699106833104,
          44213.98315875563,
          44393.3117150256,
          44570.10352349196
         ],
         "yaxis": "y"
        },
        {
         "hovertemplate": "variable=next_predicted_days_value<br>Timestamp=%{x}<br>Stock price=%{y}<extra></extra>",
         "legendgroup": "next_predicted_days_value",
         "line": {
          "color": "#EF553B",
          "dash": "solid"
         },
         "marker": {
          "symbol": "circle"
         },
         "mode": "lines",
         "name": "Predicted next 10 days close price",
         "orientation": "v",
         "showlegend": true,
         "type": "scatter",
         "x": [
          0,
          1,
          2,
          3,
          4,
          5,
          6,
          7,
          8,
          9,
          10,
          11,
          12,
          13,
          14,
          15,
          16,
          17,
          18,
          19,
          20,
          21,
          22,
          23,
          24,
          25
         ],
         "xaxis": "x",
         "y": [
          43160.929688,
          41557.902344,
          41733.941406,
          41911.601563,
          41821.261719,
          42735.855469,
          43949.101563,
          42591.570313,
          43099.699219,
          43177.398438,
          43113.878906,
          42250.550781,
          42375.632813,
          41744.328125,
          41933.546875,
          null,
          42920.92988459854,
          43134.16733020004,
          43309.39121627228,
          43487.6448213812,
          43669.17120773201,
          43852.234705774885,
          44034.699106833104,
          44213.98315875563,
          44393.3117150256,
          44570.10352349196
         ],
         "yaxis": "y"
        }
       ],
       "layout": {
        "font": {
         "color": "black",
         "size": 15
        },
        "legend": {
         "title": {
          "text": "Close Price"
         },
         "tracegroupgap": 0
        },
        "margin": {
         "t": 60
        },
        "plot_bgcolor": "white",
        "template": {
         "data": {
          "bar": [
           {
            "error_x": {
             "color": "#2a3f5f"
            },
            "error_y": {
             "color": "#2a3f5f"
            },
            "marker": {
             "line": {
              "color": "#E5ECF6",
              "width": 0.5
             },
             "pattern": {
              "fillmode": "overlay",
              "size": 10,
              "solidity": 0.2
             }
            },
            "type": "bar"
           }
          ],
          "barpolar": [
           {
            "marker": {
             "line": {
              "color": "#E5ECF6",
              "width": 0.5
             },
             "pattern": {
              "fillmode": "overlay",
              "size": 10,
              "solidity": 0.2
             }
            },
            "type": "barpolar"
           }
          ],
          "carpet": [
           {
            "aaxis": {
             "endlinecolor": "#2a3f5f",
             "gridcolor": "white",
             "linecolor": "white",
             "minorgridcolor": "white",
             "startlinecolor": "#2a3f5f"
            },
            "baxis": {
             "endlinecolor": "#2a3f5f",
             "gridcolor": "white",
             "linecolor": "white",
             "minorgridcolor": "white",
             "startlinecolor": "#2a3f5f"
            },
            "type": "carpet"
           }
          ],
          "choropleth": [
           {
            "colorbar": {
             "outlinewidth": 0,
             "ticks": ""
            },
            "type": "choropleth"
           }
          ],
          "contour": [
           {
            "colorbar": {
             "outlinewidth": 0,
             "ticks": ""
            },
            "colorscale": [
             [
              0,
              "#0d0887"
             ],
             [
              0.1111111111111111,
              "#46039f"
             ],
             [
              0.2222222222222222,
              "#7201a8"
             ],
             [
              0.3333333333333333,
              "#9c179e"
             ],
             [
              0.4444444444444444,
              "#bd3786"
             ],
             [
              0.5555555555555556,
              "#d8576b"
             ],
             [
              0.6666666666666666,
              "#ed7953"
             ],
             [
              0.7777777777777778,
              "#fb9f3a"
             ],
             [
              0.8888888888888888,
              "#fdca26"
             ],
             [
              1,
              "#f0f921"
             ]
            ],
            "type": "contour"
           }
          ],
          "contourcarpet": [
           {
            "colorbar": {
             "outlinewidth": 0,
             "ticks": ""
            },
            "type": "contourcarpet"
           }
          ],
          "heatmap": [
           {
            "colorbar": {
             "outlinewidth": 0,
             "ticks": ""
            },
            "colorscale": [
             [
              0,
              "#0d0887"
             ],
             [
              0.1111111111111111,
              "#46039f"
             ],
             [
              0.2222222222222222,
              "#7201a8"
             ],
             [
              0.3333333333333333,
              "#9c179e"
             ],
             [
              0.4444444444444444,
              "#bd3786"
             ],
             [
              0.5555555555555556,
              "#d8576b"
             ],
             [
              0.6666666666666666,
              "#ed7953"
             ],
             [
              0.7777777777777778,
              "#fb9f3a"
             ],
             [
              0.8888888888888888,
              "#fdca26"
             ],
             [
              1,
              "#f0f921"
             ]
            ],
            "type": "heatmap"
           }
          ],
          "heatmapgl": [
           {
            "colorbar": {
             "outlinewidth": 0,
             "ticks": ""
            },
            "colorscale": [
             [
              0,
              "#0d0887"
             ],
             [
              0.1111111111111111,
              "#46039f"
             ],
             [
              0.2222222222222222,
              "#7201a8"
             ],
             [
              0.3333333333333333,
              "#9c179e"
             ],
             [
              0.4444444444444444,
              "#bd3786"
             ],
             [
              0.5555555555555556,
              "#d8576b"
             ],
             [
              0.6666666666666666,
              "#ed7953"
             ],
             [
              0.7777777777777778,
              "#fb9f3a"
             ],
             [
              0.8888888888888888,
              "#fdca26"
             ],
             [
              1,
              "#f0f921"
             ]
            ],
            "type": "heatmapgl"
           }
          ],
          "histogram": [
           {
            "marker": {
             "pattern": {
              "fillmode": "overlay",
              "size": 10,
              "solidity": 0.2
             }
            },
            "type": "histogram"
           }
          ],
          "histogram2d": [
           {
            "colorbar": {
             "outlinewidth": 0,
             "ticks": ""
            },
            "colorscale": [
             [
              0,
              "#0d0887"
             ],
             [
              0.1111111111111111,
              "#46039f"
             ],
             [
              0.2222222222222222,
              "#7201a8"
             ],
             [
              0.3333333333333333,
              "#9c179e"
             ],
             [
              0.4444444444444444,
              "#bd3786"
             ],
             [
              0.5555555555555556,
              "#d8576b"
             ],
             [
              0.6666666666666666,
              "#ed7953"
             ],
             [
              0.7777777777777778,
              "#fb9f3a"
             ],
             [
              0.8888888888888888,
              "#fdca26"
             ],
             [
              1,
              "#f0f921"
             ]
            ],
            "type": "histogram2d"
           }
          ],
          "histogram2dcontour": [
           {
            "colorbar": {
             "outlinewidth": 0,
             "ticks": ""
            },
            "colorscale": [
             [
              0,
              "#0d0887"
             ],
             [
              0.1111111111111111,
              "#46039f"
             ],
             [
              0.2222222222222222,
              "#7201a8"
             ],
             [
              0.3333333333333333,
              "#9c179e"
             ],
             [
              0.4444444444444444,
              "#bd3786"
             ],
             [
              0.5555555555555556,
              "#d8576b"
             ],
             [
              0.6666666666666666,
              "#ed7953"
             ],
             [
              0.7777777777777778,
              "#fb9f3a"
             ],
             [
              0.8888888888888888,
              "#fdca26"
             ],
             [
              1,
              "#f0f921"
             ]
            ],
            "type": "histogram2dcontour"
           }
          ],
          "mesh3d": [
           {
            "colorbar": {
             "outlinewidth": 0,
             "ticks": ""
            },
            "type": "mesh3d"
           }
          ],
          "parcoords": [
           {
            "line": {
             "colorbar": {
              "outlinewidth": 0,
              "ticks": ""
             }
            },
            "type": "parcoords"
           }
          ],
          "pie": [
           {
            "automargin": true,
            "type": "pie"
           }
          ],
          "scatter": [
           {
            "fillpattern": {
             "fillmode": "overlay",
             "size": 10,
             "solidity": 0.2
            },
            "type": "scatter"
           }
          ],
          "scatter3d": [
           {
            "line": {
             "colorbar": {
              "outlinewidth": 0,
              "ticks": ""
             }
            },
            "marker": {
             "colorbar": {
              "outlinewidth": 0,
              "ticks": ""
             }
            },
            "type": "scatter3d"
           }
          ],
          "scattercarpet": [
           {
            "marker": {
             "colorbar": {
              "outlinewidth": 0,
              "ticks": ""
             }
            },
            "type": "scattercarpet"
           }
          ],
          "scattergeo": [
           {
            "marker": {
             "colorbar": {
              "outlinewidth": 0,
              "ticks": ""
             }
            },
            "type": "scattergeo"
           }
          ],
          "scattergl": [
           {
            "marker": {
             "colorbar": {
              "outlinewidth": 0,
              "ticks": ""
             }
            },
            "type": "scattergl"
           }
          ],
          "scattermapbox": [
           {
            "marker": {
             "colorbar": {
              "outlinewidth": 0,
              "ticks": ""
             }
            },
            "type": "scattermapbox"
           }
          ],
          "scatterpolar": [
           {
            "marker": {
             "colorbar": {
              "outlinewidth": 0,
              "ticks": ""
             }
            },
            "type": "scatterpolar"
           }
          ],
          "scatterpolargl": [
           {
            "marker": {
             "colorbar": {
              "outlinewidth": 0,
              "ticks": ""
             }
            },
            "type": "scatterpolargl"
           }
          ],
          "scatterternary": [
           {
            "marker": {
             "colorbar": {
              "outlinewidth": 0,
              "ticks": ""
             }
            },
            "type": "scatterternary"
           }
          ],
          "surface": [
           {
            "colorbar": {
             "outlinewidth": 0,
             "ticks": ""
            },
            "colorscale": [
             [
              0,
              "#0d0887"
             ],
             [
              0.1111111111111111,
              "#46039f"
             ],
             [
              0.2222222222222222,
              "#7201a8"
             ],
             [
              0.3333333333333333,
              "#9c179e"
             ],
             [
              0.4444444444444444,
              "#bd3786"
             ],
             [
              0.5555555555555556,
              "#d8576b"
             ],
             [
              0.6666666666666666,
              "#ed7953"
             ],
             [
              0.7777777777777778,
              "#fb9f3a"
             ],
             [
              0.8888888888888888,
              "#fdca26"
             ],
             [
              1,
              "#f0f921"
             ]
            ],
            "type": "surface"
           }
          ],
          "table": [
           {
            "cells": {
             "fill": {
              "color": "#EBF0F8"
             },
             "line": {
              "color": "white"
             }
            },
            "header": {
             "fill": {
              "color": "#C8D4E3"
             },
             "line": {
              "color": "white"
             }
            },
            "type": "table"
           }
          ]
         },
         "layout": {
          "annotationdefaults": {
           "arrowcolor": "#2a3f5f",
           "arrowhead": 0,
           "arrowwidth": 1
          },
          "autotypenumbers": "strict",
          "coloraxis": {
           "colorbar": {
            "outlinewidth": 0,
            "ticks": ""
           }
          },
          "colorscale": {
           "diverging": [
            [
             0,
             "#8e0152"
            ],
            [
             0.1,
             "#c51b7d"
            ],
            [
             0.2,
             "#de77ae"
            ],
            [
             0.3,
             "#f1b6da"
            ],
            [
             0.4,
             "#fde0ef"
            ],
            [
             0.5,
             "#f7f7f7"
            ],
            [
             0.6,
             "#e6f5d0"
            ],
            [
             0.7,
             "#b8e186"
            ],
            [
             0.8,
             "#7fbc41"
            ],
            [
             0.9,
             "#4d9221"
            ],
            [
             1,
             "#276419"
            ]
           ],
           "sequential": [
            [
             0,
             "#0d0887"
            ],
            [
             0.1111111111111111,
             "#46039f"
            ],
            [
             0.2222222222222222,
             "#7201a8"
            ],
            [
             0.3333333333333333,
             "#9c179e"
            ],
            [
             0.4444444444444444,
             "#bd3786"
            ],
            [
             0.5555555555555556,
             "#d8576b"
            ],
            [
             0.6666666666666666,
             "#ed7953"
            ],
            [
             0.7777777777777778,
             "#fb9f3a"
            ],
            [
             0.8888888888888888,
             "#fdca26"
            ],
            [
             1,
             "#f0f921"
            ]
           ],
           "sequentialminus": [
            [
             0,
             "#0d0887"
            ],
            [
             0.1111111111111111,
             "#46039f"
            ],
            [
             0.2222222222222222,
             "#7201a8"
            ],
            [
             0.3333333333333333,
             "#9c179e"
            ],
            [
             0.4444444444444444,
             "#bd3786"
            ],
            [
             0.5555555555555556,
             "#d8576b"
            ],
            [
             0.6666666666666666,
             "#ed7953"
            ],
            [
             0.7777777777777778,
             "#fb9f3a"
            ],
            [
             0.8888888888888888,
             "#fdca26"
            ],
            [
             1,
             "#f0f921"
            ]
           ]
          },
          "colorway": [
           "#636efa",
           "#EF553B",
           "#00cc96",
           "#ab63fa",
           "#FFA15A",
           "#19d3f3",
           "#FF6692",
           "#B6E880",
           "#FF97FF",
           "#FECB52"
          ],
          "font": {
           "color": "#2a3f5f"
          },
          "geo": {
           "bgcolor": "white",
           "lakecolor": "white",
           "landcolor": "#E5ECF6",
           "showlakes": true,
           "showland": true,
           "subunitcolor": "white"
          },
          "hoverlabel": {
           "align": "left"
          },
          "hovermode": "closest",
          "mapbox": {
           "style": "light"
          },
          "paper_bgcolor": "white",
          "plot_bgcolor": "#E5ECF6",
          "polar": {
           "angularaxis": {
            "gridcolor": "white",
            "linecolor": "white",
            "ticks": ""
           },
           "bgcolor": "#E5ECF6",
           "radialaxis": {
            "gridcolor": "white",
            "linecolor": "white",
            "ticks": ""
           }
          },
          "scene": {
           "xaxis": {
            "backgroundcolor": "#E5ECF6",
            "gridcolor": "white",
            "gridwidth": 2,
            "linecolor": "white",
            "showbackground": true,
            "ticks": "",
            "zerolinecolor": "white"
           },
           "yaxis": {
            "backgroundcolor": "#E5ECF6",
            "gridcolor": "white",
            "gridwidth": 2,
            "linecolor": "white",
            "showbackground": true,
            "ticks": "",
            "zerolinecolor": "white"
           },
           "zaxis": {
            "backgroundcolor": "#E5ECF6",
            "gridcolor": "white",
            "gridwidth": 2,
            "linecolor": "white",
            "showbackground": true,
            "ticks": "",
            "zerolinecolor": "white"
           }
          },
          "shapedefaults": {
           "line": {
            "color": "#2a3f5f"
           }
          },
          "ternary": {
           "aaxis": {
            "gridcolor": "white",
            "linecolor": "white",
            "ticks": ""
           },
           "baxis": {
            "gridcolor": "white",
            "linecolor": "white",
            "ticks": ""
           },
           "bgcolor": "#E5ECF6",
           "caxis": {
            "gridcolor": "white",
            "linecolor": "white",
            "ticks": ""
           }
          },
          "title": {
           "x": 0.05
          },
          "xaxis": {
           "automargin": true,
           "gridcolor": "white",
           "linecolor": "white",
           "ticks": "",
           "title": {
            "standoff": 15
           },
           "zerolinecolor": "white",
           "zerolinewidth": 2
          },
          "yaxis": {
           "automargin": true,
           "gridcolor": "white",
           "linecolor": "white",
           "ticks": "",
           "title": {
            "standoff": 15
           },
           "zerolinecolor": "white",
           "zerolinewidth": 2
          }
         }
        },
        "title": {
         "text": "Compare last 15 days vs next 10 days"
        },
        "xaxis": {
         "anchor": "y",
         "domain": [
          0,
          1
         ],
         "showgrid": false,
         "title": {
          "text": "Timestamp"
         }
        },
        "yaxis": {
         "anchor": "x",
         "domain": [
          0,
          1
         ],
         "showgrid": false,
         "title": {
          "text": "Stock price"
         }
        }
       }
      },
      "text/html": [
       "<div>                            <div id=\"5f69dac4-6b04-447a-9f20-982df166b350\" class=\"plotly-graph-div\" style=\"height:525px; width:100%;\"></div>            <script type=\"text/javascript\">                require([\"plotly\"], function(Plotly) {                    window.PLOTLYENV=window.PLOTLYENV || {};                                    if (document.getElementById(\"5f69dac4-6b04-447a-9f20-982df166b350\")) {                    Plotly.newPlot(                        \"5f69dac4-6b04-447a-9f20-982df166b350\",                        [{\"hovertemplate\":\"variable=last_original_days_value<br>Timestamp=%{x}<br>Stock price=%{y}<extra></extra>\",\"legendgroup\":\"last_original_days_value\",\"line\":{\"color\":\"#636efa\",\"dash\":\"solid\"},\"marker\":{\"symbol\":\"circle\"},\"mode\":\"lines\",\"name\":\"Last 15 days close price\",\"orientation\":\"v\",\"showlegend\":true,\"x\":[0,1,2,3,4,5,6,7,8,9,10,11,12,13,14,15,16,17,18,19,20,21,22,23,24,25],\"xaxis\":\"x\",\"y\":[43160.929688,41557.902344,41733.941406,41911.601563,41821.261719,42735.855469,43949.101563,42591.570313,43099.699219,43177.398438,43113.878906,42250.550781,42375.632813,41744.328125,41933.546875,null,42920.92988459854,43134.16733020004,43309.39121627228,43487.6448213812,43669.17120773201,43852.234705774885,44034.699106833104,44213.98315875563,44393.3117150256,44570.10352349196],\"yaxis\":\"y\",\"type\":\"scatter\"},{\"hovertemplate\":\"variable=next_predicted_days_value<br>Timestamp=%{x}<br>Stock price=%{y}<extra></extra>\",\"legendgroup\":\"next_predicted_days_value\",\"line\":{\"color\":\"#EF553B\",\"dash\":\"solid\"},\"marker\":{\"symbol\":\"circle\"},\"mode\":\"lines\",\"name\":\"Predicted next 10 days close price\",\"orientation\":\"v\",\"showlegend\":true,\"x\":[0,1,2,3,4,5,6,7,8,9,10,11,12,13,14,15,16,17,18,19,20,21,22,23,24,25],\"xaxis\":\"x\",\"y\":[43160.929688,41557.902344,41733.941406,41911.601563,41821.261719,42735.855469,43949.101563,42591.570313,43099.699219,43177.398438,43113.878906,42250.550781,42375.632813,41744.328125,41933.546875,null,42920.92988459854,43134.16733020004,43309.39121627228,43487.6448213812,43669.17120773201,43852.234705774885,44034.699106833104,44213.98315875563,44393.3117150256,44570.10352349196],\"yaxis\":\"y\",\"type\":\"scatter\"}],                        {\"template\":{\"data\":{\"histogram2dcontour\":[{\"type\":\"histogram2dcontour\",\"colorbar\":{\"outlinewidth\":0,\"ticks\":\"\"},\"colorscale\":[[0.0,\"#0d0887\"],[0.1111111111111111,\"#46039f\"],[0.2222222222222222,\"#7201a8\"],[0.3333333333333333,\"#9c179e\"],[0.4444444444444444,\"#bd3786\"],[0.5555555555555556,\"#d8576b\"],[0.6666666666666666,\"#ed7953\"],[0.7777777777777778,\"#fb9f3a\"],[0.8888888888888888,\"#fdca26\"],[1.0,\"#f0f921\"]]}],\"choropleth\":[{\"type\":\"choropleth\",\"colorbar\":{\"outlinewidth\":0,\"ticks\":\"\"}}],\"histogram2d\":[{\"type\":\"histogram2d\",\"colorbar\":{\"outlinewidth\":0,\"ticks\":\"\"},\"colorscale\":[[0.0,\"#0d0887\"],[0.1111111111111111,\"#46039f\"],[0.2222222222222222,\"#7201a8\"],[0.3333333333333333,\"#9c179e\"],[0.4444444444444444,\"#bd3786\"],[0.5555555555555556,\"#d8576b\"],[0.6666666666666666,\"#ed7953\"],[0.7777777777777778,\"#fb9f3a\"],[0.8888888888888888,\"#fdca26\"],[1.0,\"#f0f921\"]]}],\"heatmap\":[{\"type\":\"heatmap\",\"colorbar\":{\"outlinewidth\":0,\"ticks\":\"\"},\"colorscale\":[[0.0,\"#0d0887\"],[0.1111111111111111,\"#46039f\"],[0.2222222222222222,\"#7201a8\"],[0.3333333333333333,\"#9c179e\"],[0.4444444444444444,\"#bd3786\"],[0.5555555555555556,\"#d8576b\"],[0.6666666666666666,\"#ed7953\"],[0.7777777777777778,\"#fb9f3a\"],[0.8888888888888888,\"#fdca26\"],[1.0,\"#f0f921\"]]}],\"heatmapgl\":[{\"type\":\"heatmapgl\",\"colorbar\":{\"outlinewidth\":0,\"ticks\":\"\"},\"colorscale\":[[0.0,\"#0d0887\"],[0.1111111111111111,\"#46039f\"],[0.2222222222222222,\"#7201a8\"],[0.3333333333333333,\"#9c179e\"],[0.4444444444444444,\"#bd3786\"],[0.5555555555555556,\"#d8576b\"],[0.6666666666666666,\"#ed7953\"],[0.7777777777777778,\"#fb9f3a\"],[0.8888888888888888,\"#fdca26\"],[1.0,\"#f0f921\"]]}],\"contourcarpet\":[{\"type\":\"contourcarpet\",\"colorbar\":{\"outlinewidth\":0,\"ticks\":\"\"}}],\"contour\":[{\"type\":\"contour\",\"colorbar\":{\"outlinewidth\":0,\"ticks\":\"\"},\"colorscale\":[[0.0,\"#0d0887\"],[0.1111111111111111,\"#46039f\"],[0.2222222222222222,\"#7201a8\"],[0.3333333333333333,\"#9c179e\"],[0.4444444444444444,\"#bd3786\"],[0.5555555555555556,\"#d8576b\"],[0.6666666666666666,\"#ed7953\"],[0.7777777777777778,\"#fb9f3a\"],[0.8888888888888888,\"#fdca26\"],[1.0,\"#f0f921\"]]}],\"surface\":[{\"type\":\"surface\",\"colorbar\":{\"outlinewidth\":0,\"ticks\":\"\"},\"colorscale\":[[0.0,\"#0d0887\"],[0.1111111111111111,\"#46039f\"],[0.2222222222222222,\"#7201a8\"],[0.3333333333333333,\"#9c179e\"],[0.4444444444444444,\"#bd3786\"],[0.5555555555555556,\"#d8576b\"],[0.6666666666666666,\"#ed7953\"],[0.7777777777777778,\"#fb9f3a\"],[0.8888888888888888,\"#fdca26\"],[1.0,\"#f0f921\"]]}],\"mesh3d\":[{\"type\":\"mesh3d\",\"colorbar\":{\"outlinewidth\":0,\"ticks\":\"\"}}],\"scatter\":[{\"fillpattern\":{\"fillmode\":\"overlay\",\"size\":10,\"solidity\":0.2},\"type\":\"scatter\"}],\"parcoords\":[{\"type\":\"parcoords\",\"line\":{\"colorbar\":{\"outlinewidth\":0,\"ticks\":\"\"}}}],\"scatterpolargl\":[{\"type\":\"scatterpolargl\",\"marker\":{\"colorbar\":{\"outlinewidth\":0,\"ticks\":\"\"}}}],\"bar\":[{\"error_x\":{\"color\":\"#2a3f5f\"},\"error_y\":{\"color\":\"#2a3f5f\"},\"marker\":{\"line\":{\"color\":\"#E5ECF6\",\"width\":0.5},\"pattern\":{\"fillmode\":\"overlay\",\"size\":10,\"solidity\":0.2}},\"type\":\"bar\"}],\"scattergeo\":[{\"type\":\"scattergeo\",\"marker\":{\"colorbar\":{\"outlinewidth\":0,\"ticks\":\"\"}}}],\"scatterpolar\":[{\"type\":\"scatterpolar\",\"marker\":{\"colorbar\":{\"outlinewidth\":0,\"ticks\":\"\"}}}],\"histogram\":[{\"marker\":{\"pattern\":{\"fillmode\":\"overlay\",\"size\":10,\"solidity\":0.2}},\"type\":\"histogram\"}],\"scattergl\":[{\"type\":\"scattergl\",\"marker\":{\"colorbar\":{\"outlinewidth\":0,\"ticks\":\"\"}}}],\"scatter3d\":[{\"type\":\"scatter3d\",\"line\":{\"colorbar\":{\"outlinewidth\":0,\"ticks\":\"\"}},\"marker\":{\"colorbar\":{\"outlinewidth\":0,\"ticks\":\"\"}}}],\"scattermapbox\":[{\"type\":\"scattermapbox\",\"marker\":{\"colorbar\":{\"outlinewidth\":0,\"ticks\":\"\"}}}],\"scatterternary\":[{\"type\":\"scatterternary\",\"marker\":{\"colorbar\":{\"outlinewidth\":0,\"ticks\":\"\"}}}],\"scattercarpet\":[{\"type\":\"scattercarpet\",\"marker\":{\"colorbar\":{\"outlinewidth\":0,\"ticks\":\"\"}}}],\"carpet\":[{\"aaxis\":{\"endlinecolor\":\"#2a3f5f\",\"gridcolor\":\"white\",\"linecolor\":\"white\",\"minorgridcolor\":\"white\",\"startlinecolor\":\"#2a3f5f\"},\"baxis\":{\"endlinecolor\":\"#2a3f5f\",\"gridcolor\":\"white\",\"linecolor\":\"white\",\"minorgridcolor\":\"white\",\"startlinecolor\":\"#2a3f5f\"},\"type\":\"carpet\"}],\"table\":[{\"cells\":{\"fill\":{\"color\":\"#EBF0F8\"},\"line\":{\"color\":\"white\"}},\"header\":{\"fill\":{\"color\":\"#C8D4E3\"},\"line\":{\"color\":\"white\"}},\"type\":\"table\"}],\"barpolar\":[{\"marker\":{\"line\":{\"color\":\"#E5ECF6\",\"width\":0.5},\"pattern\":{\"fillmode\":\"overlay\",\"size\":10,\"solidity\":0.2}},\"type\":\"barpolar\"}],\"pie\":[{\"automargin\":true,\"type\":\"pie\"}]},\"layout\":{\"autotypenumbers\":\"strict\",\"colorway\":[\"#636efa\",\"#EF553B\",\"#00cc96\",\"#ab63fa\",\"#FFA15A\",\"#19d3f3\",\"#FF6692\",\"#B6E880\",\"#FF97FF\",\"#FECB52\"],\"font\":{\"color\":\"#2a3f5f\"},\"hovermode\":\"closest\",\"hoverlabel\":{\"align\":\"left\"},\"paper_bgcolor\":\"white\",\"plot_bgcolor\":\"#E5ECF6\",\"polar\":{\"bgcolor\":\"#E5ECF6\",\"angularaxis\":{\"gridcolor\":\"white\",\"linecolor\":\"white\",\"ticks\":\"\"},\"radialaxis\":{\"gridcolor\":\"white\",\"linecolor\":\"white\",\"ticks\":\"\"}},\"ternary\":{\"bgcolor\":\"#E5ECF6\",\"aaxis\":{\"gridcolor\":\"white\",\"linecolor\":\"white\",\"ticks\":\"\"},\"baxis\":{\"gridcolor\":\"white\",\"linecolor\":\"white\",\"ticks\":\"\"},\"caxis\":{\"gridcolor\":\"white\",\"linecolor\":\"white\",\"ticks\":\"\"}},\"coloraxis\":{\"colorbar\":{\"outlinewidth\":0,\"ticks\":\"\"}},\"colorscale\":{\"sequential\":[[0.0,\"#0d0887\"],[0.1111111111111111,\"#46039f\"],[0.2222222222222222,\"#7201a8\"],[0.3333333333333333,\"#9c179e\"],[0.4444444444444444,\"#bd3786\"],[0.5555555555555556,\"#d8576b\"],[0.6666666666666666,\"#ed7953\"],[0.7777777777777778,\"#fb9f3a\"],[0.8888888888888888,\"#fdca26\"],[1.0,\"#f0f921\"]],\"sequentialminus\":[[0.0,\"#0d0887\"],[0.1111111111111111,\"#46039f\"],[0.2222222222222222,\"#7201a8\"],[0.3333333333333333,\"#9c179e\"],[0.4444444444444444,\"#bd3786\"],[0.5555555555555556,\"#d8576b\"],[0.6666666666666666,\"#ed7953\"],[0.7777777777777778,\"#fb9f3a\"],[0.8888888888888888,\"#fdca26\"],[1.0,\"#f0f921\"]],\"diverging\":[[0,\"#8e0152\"],[0.1,\"#c51b7d\"],[0.2,\"#de77ae\"],[0.3,\"#f1b6da\"],[0.4,\"#fde0ef\"],[0.5,\"#f7f7f7\"],[0.6,\"#e6f5d0\"],[0.7,\"#b8e186\"],[0.8,\"#7fbc41\"],[0.9,\"#4d9221\"],[1,\"#276419\"]]},\"xaxis\":{\"gridcolor\":\"white\",\"linecolor\":\"white\",\"ticks\":\"\",\"title\":{\"standoff\":15},\"zerolinecolor\":\"white\",\"automargin\":true,\"zerolinewidth\":2},\"yaxis\":{\"gridcolor\":\"white\",\"linecolor\":\"white\",\"ticks\":\"\",\"title\":{\"standoff\":15},\"zerolinecolor\":\"white\",\"automargin\":true,\"zerolinewidth\":2},\"scene\":{\"xaxis\":{\"backgroundcolor\":\"#E5ECF6\",\"gridcolor\":\"white\",\"linecolor\":\"white\",\"showbackground\":true,\"ticks\":\"\",\"zerolinecolor\":\"white\",\"gridwidth\":2},\"yaxis\":{\"backgroundcolor\":\"#E5ECF6\",\"gridcolor\":\"white\",\"linecolor\":\"white\",\"showbackground\":true,\"ticks\":\"\",\"zerolinecolor\":\"white\",\"gridwidth\":2},\"zaxis\":{\"backgroundcolor\":\"#E5ECF6\",\"gridcolor\":\"white\",\"linecolor\":\"white\",\"showbackground\":true,\"ticks\":\"\",\"zerolinecolor\":\"white\",\"gridwidth\":2}},\"shapedefaults\":{\"line\":{\"color\":\"#2a3f5f\"}},\"annotationdefaults\":{\"arrowcolor\":\"#2a3f5f\",\"arrowhead\":0,\"arrowwidth\":1},\"geo\":{\"bgcolor\":\"white\",\"landcolor\":\"#E5ECF6\",\"subunitcolor\":\"white\",\"showland\":true,\"showlakes\":true,\"lakecolor\":\"white\"},\"title\":{\"x\":0.05},\"mapbox\":{\"style\":\"light\"}}},\"xaxis\":{\"anchor\":\"y\",\"domain\":[0.0,1.0],\"title\":{\"text\":\"Timestamp\"},\"showgrid\":false},\"yaxis\":{\"anchor\":\"x\",\"domain\":[0.0,1.0],\"title\":{\"text\":\"Stock price\"},\"showgrid\":false},\"legend\":{\"title\":{\"text\":\"Close Price\"},\"tracegroupgap\":0},\"margin\":{\"t\":60},\"title\":{\"text\":\"Compare last 15 days vs next 10 days\"},\"font\":{\"size\":15,\"color\":\"black\"},\"plot_bgcolor\":\"white\"},                        {\"responsive\": true}                    ).then(function(){\n",
       "                            \n",
       "var gd = document.getElementById('5f69dac4-6b04-447a-9f20-982df166b350');\n",
       "var x = new MutationObserver(function (mutations, observer) {{\n",
       "        var display = window.getComputedStyle(gd).display;\n",
       "        if (!display || display === 'none') {{\n",
       "            console.log([gd, 'removed!']);\n",
       "            Plotly.purge(gd);\n",
       "            observer.disconnect();\n",
       "        }}\n",
       "}});\n",
       "\n",
       "// Listen for the removal of the full notebook cells\n",
       "var notebookContainer = gd.closest('#notebook-container');\n",
       "if (notebookContainer) {{\n",
       "    x.observe(notebookContainer, {childList: true});\n",
       "}}\n",
       "\n",
       "// Listen for the clearing of the current output cell\n",
       "var outputEl = gd.closest('.output');\n",
       "if (outputEl) {{\n",
       "    x.observe(outputEl, {childList: true});\n",
       "}}\n",
       "\n",
       "                        })                };                });            </script>        </div>"
      ]
     },
     "metadata": {},
     "output_type": "display_data"
    },
    {
     "data": {
      "application/vnd.plotly.v1+json": {
       "config": {
        "plotlyServerURL": "https://plot.ly"
       },
       "data": [
        {
         "hovertemplate": "variable=0<br>Timestamp=%{x}<br>Stock price=%{y}<extra></extra>",
         "legendgroup": "0",
         "line": {
          "color": "#636efa",
          "dash": "solid"
         },
         "marker": {
          "symbol": "circle"
         },
         "mode": "lines",
         "name": "Close price",
         "orientation": "v",
         "showlegend": true,
         "type": "scatter",
         "x": [
          0,
          1,
          2,
          3,
          4,
          5,
          6,
          7,
          8,
          9,
          10,
          11,
          12,
          13,
          14,
          15,
          16,
          17,
          18,
          19,
          20,
          21,
          22,
          23,
          24,
          25,
          26,
          27,
          28,
          29,
          30,
          31,
          32,
          33,
          34,
          35,
          36,
          37,
          38,
          39,
          40,
          41,
          42,
          43,
          44,
          45,
          46,
          47,
          48,
          49,
          50,
          51,
          52,
          53,
          54,
          55,
          56,
          57,
          58,
          59,
          60,
          61,
          62,
          63,
          64,
          65,
          66,
          67,
          68,
          69,
          70,
          71,
          72,
          73,
          74,
          75,
          76,
          77,
          78,
          79,
          80,
          81,
          82,
          83,
          84,
          85,
          86,
          87,
          88,
          89,
          90,
          91,
          92,
          93,
          94,
          95,
          96,
          97,
          98,
          99,
          100,
          101,
          102,
          103,
          104,
          105,
          106,
          107,
          108,
          109,
          110,
          111,
          112,
          113,
          114,
          115,
          116,
          117,
          118,
          119,
          120,
          121,
          122,
          123,
          124,
          125,
          126,
          127,
          128,
          129,
          130,
          131,
          132,
          133,
          134,
          135,
          136,
          137,
          138,
          139,
          140,
          141,
          142,
          143,
          144,
          145,
          146,
          147,
          148,
          149,
          150,
          151,
          152,
          153,
          154,
          155,
          156,
          157,
          158,
          159,
          160,
          161,
          162,
          163,
          164,
          165,
          166,
          167,
          168,
          169,
          170,
          171,
          172,
          173,
          174,
          175,
          176,
          177,
          178,
          179,
          180,
          181,
          182,
          183,
          184,
          185,
          186,
          187,
          188,
          189,
          190,
          191,
          192,
          193,
          194,
          195,
          196,
          197,
          198,
          199,
          200,
          201,
          202,
          203,
          204,
          205,
          206,
          207,
          208,
          209,
          210,
          211,
          212,
          213,
          214,
          215,
          216,
          217,
          218,
          219,
          220,
          221,
          222,
          223,
          224,
          225,
          226,
          227,
          228,
          229,
          230,
          231,
          232,
          233,
          234,
          235,
          236,
          237,
          238,
          239,
          240,
          241,
          242,
          243,
          244,
          245,
          246,
          247,
          248,
          249,
          250,
          251,
          252,
          253,
          254,
          255,
          256,
          257,
          258,
          259,
          260,
          261,
          262,
          263,
          264,
          265,
          266,
          267,
          268,
          269,
          270,
          271,
          272,
          273,
          274,
          275,
          276,
          277,
          278,
          279,
          280,
          281,
          282,
          283,
          284,
          285,
          286,
          287,
          288,
          289,
          290,
          291,
          292,
          293,
          294,
          295,
          296,
          297,
          298,
          299,
          300,
          301,
          302,
          303,
          304,
          305,
          306,
          307,
          308,
          309,
          310,
          311,
          312,
          313,
          314,
          315,
          316,
          317,
          318,
          319,
          320,
          321,
          322,
          323,
          324,
          325,
          326,
          327,
          328,
          329,
          330,
          331,
          332,
          333,
          334,
          335,
          336,
          337,
          338,
          339,
          340,
          341,
          342,
          343,
          344,
          345,
          346,
          347,
          348,
          349,
          350,
          351,
          352,
          353,
          354,
          355,
          356,
          357,
          358,
          359,
          360,
          361,
          362,
          363,
          364,
          365,
          366,
          367,
          368,
          369,
          370,
          371,
          372,
          373,
          374,
          375,
          376,
          377,
          378,
          379,
          380,
          381,
          382,
          383,
          384,
          385,
          386,
          387,
          388,
          389,
          390,
          391,
          392,
          393,
          394,
          395,
          396,
          397,
          398,
          399,
          400,
          401,
          402,
          403,
          404,
          405,
          406,
          407,
          408,
          409,
          410,
          411,
          412,
          413,
          414,
          415,
          416,
          417,
          418,
          419,
          420,
          421,
          422,
          423,
          424,
          425,
          426,
          427,
          428,
          429,
          430,
          431,
          432,
          433,
          434,
          435,
          436,
          437,
          438,
          439,
          440,
          441,
          442,
          443,
          444,
          445,
          446,
          447,
          448,
          449,
          450,
          451,
          452,
          453,
          454,
          455,
          456,
          457,
          458,
          459,
          460,
          461,
          462,
          463,
          464,
          465,
          466,
          467,
          468,
          469,
          470,
          471,
          472,
          473,
          474,
          475,
          476,
          477,
          478,
          479,
          480,
          481,
          482,
          483,
          484,
          485,
          486,
          487,
          488,
          489,
          490,
          491,
          492,
          493,
          494,
          495,
          496,
          497,
          498,
          499,
          500,
          501,
          502,
          503,
          504,
          505,
          506,
          507,
          508,
          509,
          510,
          511,
          512,
          513,
          514,
          515
         ],
         "xaxis": "x",
         "y": [
          11414.03418,
          10245.296875,
          10511.813477,
          10169.567383,
          10280.351563,
          10369.563477,
          10131.516602,
          10242.347656,
          10363.138672,
          10400.915039,
          10442.170898,
          10323.755859,
          10680.837891,
          10796.951172,
          10974.905273,
          10948.990234,
          10944.585938,
          11094.34668,
          10938.271484,
          10462.259766,
          10538.459961,
          10246.186523,
          10760.066406,
          10692.716797,
          10750.723633,
          10775.269531,
          10709.652344,
          10844.640625,
          10784.491211,
          10619.452148,
          10575.974609,
          10549.329102,
          10669.583008,
          10793.339844,
          10604.40625,
          10668.96875,
          10915.685547,
          11064.458008,
          11296.361328,
          11384.181641,
          11555.363281,
          11425.899414,
          11429.506836,
          11495.349609,
          11322.123047,
          11358.101563,
          11483.359375,
          11742.037109,
          11916.334961,
          12823.689453,
          12965.891602,
          12931.539063,
          13108.0625,
          13031.173828,
          13075.248047,
          13654.21875,
          13271.285156,
          13437.882813,
          13546.522461000002,
          13780.995116999999,
          13737.109375,
          13550.489258000001,
          13950.300781,
          14133.707031,
          15579.848633000001,
          15565.880859000003,
          14833.753905999998,
          15479.567383000001,
          15332.31543,
          15290.902343999998,
          15701.339843999998,
          16276.34375,
          16317.808594,
          16068.138671999997,
          15955.587891000001,
          16716.111328,
          17645.40625,
          17804.005859,
          17817.089844,
          18621.314453,
          18642.232422,
          18370.001953,
          18364.121094,
          19107.464844,
          18732.121094,
          17150.623047,
          17108.402344,
          17717.414063,
          18177.484375,
          19625.835938,
          18802.998047,
          19201.091797,
          19445.398438,
          18699.765625,
          19154.230469,
          19345.121094,
          19191.630859,
          18321.144531,
          18553.916016,
          18264.992188,
          18058.904297,
          18803.65625,
          19142.382813,
          19246.644531,
          19417.076172,
          21310.597656,
          22805.162109,
          23137.960938,
          23869.832031,
          23477.294922,
          22803.082031,
          23783.029297,
          23241.345703,
          23735.949219,
          24664.791016,
          26437.037109,
          26272.294922,
          27084.808594,
          27362.4375,
          28840.953125,
          29001.720702999995,
          29374.152344,
          32127.267577999995,
          32782.023438,
          31971.914063,
          33992.429688,
          36824.363281,
          39371.042969,
          40797.609375,
          40254.546875,
          38356.441406,
          35566.65625,
          33922.960938,
          37316.359375,
          39187.328125,
          36825.367188,
          36178.140625,
          35791.277344,
          36630.074219,
          36069.804688,
          35547.75,
          30825.699219,
          33005.761719,
          32067.642577999995,
          32289.378906000005,
          32366.392577999995,
          32569.849609,
          30432.546875,
          33466.097656,
          34316.386719,
          34269.523438,
          33114.359375,
          33537.175781,
          35510.289063,
          37472.089844,
          36926.066406,
          38144.308594,
          39266.011719,
          38903.441406,
          46196.464844,
          46481.105469,
          44918.183594,
          47909.332031,
          47504.851563,
          47105.515625,
          48717.289063,
          47945.058594,
          49199.871094,
          52149.007813,
          51679.796875,
          55888.132813,
          56099.51953099999,
          57539.94531299999,
          54207.320313,
          48824.425781,
          49705.332031,
          47093.851563,
          46339.761719,
          46188.453125,
          45137.769531,
          49631.242188,
          48378.988281,
          50538.242188,
          48561.167969,
          48927.304688,
          48912.382813,
          51206.691406,
          52246.523438,
          54824.117188,
          56008.55078099999,
          57805.121094,
          57332.08984400001,
          61243.085938,
          59302.31640599999,
          55907.19921900001,
          56804.90234400001,
          58870.894531,
          57858.92187499999,
          58346.65234400001,
          58313.64453099999,
          57523.421875,
          54529.14453099999,
          54738.945313,
          52774.265625,
          51704.160156,
          55137.3125,
          55973.51171900001,
          55950.74609400001,
          57750.19921900001,
          58917.691406,
          58918.832031,
          59095.80859400001,
          59384.31250000001,
          57603.890625,
          58758.55468799999,
          59057.878906,
          58192.359375,
          56048.9375,
          58323.95312500001,
          58245.00390599998,
          59793.234375,
          60204.964844,
          59893.453125,
          63503.457031,
          63109.695313000004,
          63314.01171900001,
          61572.789063,
          60683.82031299999,
          56216.18359400001,
          55724.265625,
          56473.03125,
          53906.08984400001,
          51762.273438,
          51093.652344,
          50050.867188,
          49004.253906,
          54021.75390599999,
          55033.117188,
          54824.703125,
          53555.109375,
          57750.17578099999,
          57828.05078099998,
          56631.078125,
          57200.29296900001,
          53333.539063,
          57424.007813,
          56396.515625,
          57356.40234400001,
          58803.777344,
          58232.31640599999,
          55859.796875,
          56704.57421900001,
          49150.535156,
          49716.191406,
          49880.535156,
          46760.1875,
          46456.058594,
          43537.511719,
          42909.402344,
          37002.441406,
          40782.738281,
          37304.691406,
          37536.632813,
          34770.582031,
          38705.980469,
          38402.222656,
          39294.199219,
          38436.96875,
          35697.605469,
          34616.066406,
          35678.128906,
          37332.855469,
          36684.925781,
          37575.179688,
          39208.765625,
          36894.40625,
          35551.957031,
          35862.378906,
          33560.707031,
          33472.632813,
          37345.121094,
          36702.597656,
          37334.398438,
          35552.515625,
          39097.859375,
          40218.476563,
          40406.269531,
          38347.0625,
          38053.503906,
          35787.246094,
          35615.871094,
          35698.296875,
          31676.693359,
          32505.660156,
          33723.027344,
          34662.4375,
          31637.77929700001,
          32186.277344,
          34649.644531,
          34434.335938,
          35867.777344,
          35040.835938,
          33572.117188,
          33897.046875,
          34668.546875,
          35287.78125,
          33746.003906,
          34235.195313,
          33855.328125,
          32877.371094,
          33798.011719,
          33520.519531,
          34240.1875,
          33155.847656,
          32702.025391000006,
          32822.347656,
          31780.730469,
          31421.539063,
          31533.068358999994,
          31796.810547,
          30817.832031,
          29807.347656,
          32110.693359,
          32313.105469,
          33581.550781,
          34292.445313,
          35350.1875,
          37337.535156,
          39406.941406,
          39995.90625,
          40008.421875,
          42235.546875,
          41626.195313,
          39974.894531,
          39201.945313,
          38152.980469,
          39747.503906,
          40869.554688,
          42816.5,
          44555.800781,
          43798.117188,
          46365.402344,
          45585.03125,
          45593.636719,
          44428.289063,
          47793.320313,
          47096.945313,
          47047.003906,
          46004.484375,
          44695.359375,
          44801.1875,
          46717.578125,
          49339.175781,
          48905.492188,
          49321.652344,
          49546.148438,
          47706.117188,
          48960.789063,
          46942.21875,
          49058.667969,
          48902.402344,
          48829.832031,
          47054.984375,
          47166.6875,
          48847.027344,
          49327.722656,
          50025.375,
          49944.625,
          51753.410156,
          52633.535156,
          46811.128906,
          46091.390625,
          46391.421875,
          44883.910156,
          45201.457031,
          46063.269531,
          44963.074219,
          47092.492188,
          48176.347656,
          47783.359375,
          47267.519531,
          48278.363281,
          47260.21875,
          42843.800781,
          40693.675781,
          43574.507813,
          44895.097656,
          42839.75,
          42716.59375,
          43208.539063,
          42235.730469,
          41034.542969,
          41564.363281,
          43790.894531,
          48116.941406,
          47711.488281,
          48199.953125,
          49112.902344,
          51514.8125,
          55361.44921900001,
          53805.984375,
          53967.84765599999,
          54968.22265599999,
          54771.578125,
          57484.789063,
          56041.05859400001,
          57401.09765599999,
          57321.523438,
          61593.949219,
          60892.179688,
          61553.617188,
          62026.078125,
          64261.992188,
          65992.835938,
          62210.171875,
          60692.265625,
          61393.617188,
          60930.835938,
          63039.824219,
          60363.79296900001,
          58482.386719,
          60622.13671900002,
          62227.96484400001,
          61888.832031,
          61318.95703099999,
          61004.40625000001,
          63226.402344,
          62970.04687500001,
          61452.230469,
          61125.675781,
          61527.48046900001,
          63326.988281,
          67566.82812499999,
          66971.828125,
          64995.23046900001,
          64949.960938,
          64155.94140599999,
          64469.52734400001,
          65466.83984400001,
          63557.87109400002,
          60161.246094,
          60368.011719,
          56942.13671900001,
          58119.578125,
          59697.195313000004,
          58730.476563,
          56289.289063,
          57569.07421900001,
          56280.42578099999,
          57274.679688,
          53569.765625,
          54815.078125,
          57248.45703099999,
          57806.56640599998,
          57005.42578099999,
          57229.828125,
          56477.81640599999,
          53598.246094,
          49200.703125,
          49368.847656,
          50582.625,
          50700.085938,
          50504.796875,
          47672.121094,
          47243.304688,
          49362.507813,
          50098.335938,
          46737.480469,
          46612.632813,
          48896.722656,
          47665.425781,
          46202.144531,
          46848.777344,
          46707.015625,
          46880.277344,
          48936.613281,
          48628.511719,
          50784.539063,
          50822.195313,
          50429.859375,
          50809.515625,
          50640.417969,
          47588.855469,
          46444.710938,
          47178.125,
          46306.445313,
          47686.8125,
          47345.21875,
          46458.117188,
          45897.574219,
          43569.003906,
          43160.929688,
          41557.902344,
          41733.941406,
          41911.601563,
          41821.261719,
          42735.855469,
          43949.101563,
          42591.570313,
          43099.699219,
          43177.398438,
          43113.878906,
          42250.550781,
          42375.632813,
          41744.328125,
          41933.546875,
          42920.92988459854,
          43134.16733020004,
          43309.39121627228,
          43487.6448213812,
          43669.17120773201,
          43852.234705774885,
          44034.699106833104,
          44213.98315875563,
          44393.3117150256,
          44570.10352349196
         ],
         "yaxis": "y"
        }
       ],
       "layout": {
        "font": {
         "color": "black",
         "size": 15
        },
        "legend": {
         "title": {
          "text": "Stock"
         },
         "tracegroupgap": 0
        },
        "margin": {
         "t": 60
        },
        "plot_bgcolor": "white",
        "template": {
         "data": {
          "bar": [
           {
            "error_x": {
             "color": "#2a3f5f"
            },
            "error_y": {
             "color": "#2a3f5f"
            },
            "marker": {
             "line": {
              "color": "#E5ECF6",
              "width": 0.5
             },
             "pattern": {
              "fillmode": "overlay",
              "size": 10,
              "solidity": 0.2
             }
            },
            "type": "bar"
           }
          ],
          "barpolar": [
           {
            "marker": {
             "line": {
              "color": "#E5ECF6",
              "width": 0.5
             },
             "pattern": {
              "fillmode": "overlay",
              "size": 10,
              "solidity": 0.2
             }
            },
            "type": "barpolar"
           }
          ],
          "carpet": [
           {
            "aaxis": {
             "endlinecolor": "#2a3f5f",
             "gridcolor": "white",
             "linecolor": "white",
             "minorgridcolor": "white",
             "startlinecolor": "#2a3f5f"
            },
            "baxis": {
             "endlinecolor": "#2a3f5f",
             "gridcolor": "white",
             "linecolor": "white",
             "minorgridcolor": "white",
             "startlinecolor": "#2a3f5f"
            },
            "type": "carpet"
           }
          ],
          "choropleth": [
           {
            "colorbar": {
             "outlinewidth": 0,
             "ticks": ""
            },
            "type": "choropleth"
           }
          ],
          "contour": [
           {
            "colorbar": {
             "outlinewidth": 0,
             "ticks": ""
            },
            "colorscale": [
             [
              0,
              "#0d0887"
             ],
             [
              0.1111111111111111,
              "#46039f"
             ],
             [
              0.2222222222222222,
              "#7201a8"
             ],
             [
              0.3333333333333333,
              "#9c179e"
             ],
             [
              0.4444444444444444,
              "#bd3786"
             ],
             [
              0.5555555555555556,
              "#d8576b"
             ],
             [
              0.6666666666666666,
              "#ed7953"
             ],
             [
              0.7777777777777778,
              "#fb9f3a"
             ],
             [
              0.8888888888888888,
              "#fdca26"
             ],
             [
              1,
              "#f0f921"
             ]
            ],
            "type": "contour"
           }
          ],
          "contourcarpet": [
           {
            "colorbar": {
             "outlinewidth": 0,
             "ticks": ""
            },
            "type": "contourcarpet"
           }
          ],
          "heatmap": [
           {
            "colorbar": {
             "outlinewidth": 0,
             "ticks": ""
            },
            "colorscale": [
             [
              0,
              "#0d0887"
             ],
             [
              0.1111111111111111,
              "#46039f"
             ],
             [
              0.2222222222222222,
              "#7201a8"
             ],
             [
              0.3333333333333333,
              "#9c179e"
             ],
             [
              0.4444444444444444,
              "#bd3786"
             ],
             [
              0.5555555555555556,
              "#d8576b"
             ],
             [
              0.6666666666666666,
              "#ed7953"
             ],
             [
              0.7777777777777778,
              "#fb9f3a"
             ],
             [
              0.8888888888888888,
              "#fdca26"
             ],
             [
              1,
              "#f0f921"
             ]
            ],
            "type": "heatmap"
           }
          ],
          "heatmapgl": [
           {
            "colorbar": {
             "outlinewidth": 0,
             "ticks": ""
            },
            "colorscale": [
             [
              0,
              "#0d0887"
             ],
             [
              0.1111111111111111,
              "#46039f"
             ],
             [
              0.2222222222222222,
              "#7201a8"
             ],
             [
              0.3333333333333333,
              "#9c179e"
             ],
             [
              0.4444444444444444,
              "#bd3786"
             ],
             [
              0.5555555555555556,
              "#d8576b"
             ],
             [
              0.6666666666666666,
              "#ed7953"
             ],
             [
              0.7777777777777778,
              "#fb9f3a"
             ],
             [
              0.8888888888888888,
              "#fdca26"
             ],
             [
              1,
              "#f0f921"
             ]
            ],
            "type": "heatmapgl"
           }
          ],
          "histogram": [
           {
            "marker": {
             "pattern": {
              "fillmode": "overlay",
              "size": 10,
              "solidity": 0.2
             }
            },
            "type": "histogram"
           }
          ],
          "histogram2d": [
           {
            "colorbar": {
             "outlinewidth": 0,
             "ticks": ""
            },
            "colorscale": [
             [
              0,
              "#0d0887"
             ],
             [
              0.1111111111111111,
              "#46039f"
             ],
             [
              0.2222222222222222,
              "#7201a8"
             ],
             [
              0.3333333333333333,
              "#9c179e"
             ],
             [
              0.4444444444444444,
              "#bd3786"
             ],
             [
              0.5555555555555556,
              "#d8576b"
             ],
             [
              0.6666666666666666,
              "#ed7953"
             ],
             [
              0.7777777777777778,
              "#fb9f3a"
             ],
             [
              0.8888888888888888,
              "#fdca26"
             ],
             [
              1,
              "#f0f921"
             ]
            ],
            "type": "histogram2d"
           }
          ],
          "histogram2dcontour": [
           {
            "colorbar": {
             "outlinewidth": 0,
             "ticks": ""
            },
            "colorscale": [
             [
              0,
              "#0d0887"
             ],
             [
              0.1111111111111111,
              "#46039f"
             ],
             [
              0.2222222222222222,
              "#7201a8"
             ],
             [
              0.3333333333333333,
              "#9c179e"
             ],
             [
              0.4444444444444444,
              "#bd3786"
             ],
             [
              0.5555555555555556,
              "#d8576b"
             ],
             [
              0.6666666666666666,
              "#ed7953"
             ],
             [
              0.7777777777777778,
              "#fb9f3a"
             ],
             [
              0.8888888888888888,
              "#fdca26"
             ],
             [
              1,
              "#f0f921"
             ]
            ],
            "type": "histogram2dcontour"
           }
          ],
          "mesh3d": [
           {
            "colorbar": {
             "outlinewidth": 0,
             "ticks": ""
            },
            "type": "mesh3d"
           }
          ],
          "parcoords": [
           {
            "line": {
             "colorbar": {
              "outlinewidth": 0,
              "ticks": ""
             }
            },
            "type": "parcoords"
           }
          ],
          "pie": [
           {
            "automargin": true,
            "type": "pie"
           }
          ],
          "scatter": [
           {
            "fillpattern": {
             "fillmode": "overlay",
             "size": 10,
             "solidity": 0.2
            },
            "type": "scatter"
           }
          ],
          "scatter3d": [
           {
            "line": {
             "colorbar": {
              "outlinewidth": 0,
              "ticks": ""
             }
            },
            "marker": {
             "colorbar": {
              "outlinewidth": 0,
              "ticks": ""
             }
            },
            "type": "scatter3d"
           }
          ],
          "scattercarpet": [
           {
            "marker": {
             "colorbar": {
              "outlinewidth": 0,
              "ticks": ""
             }
            },
            "type": "scattercarpet"
           }
          ],
          "scattergeo": [
           {
            "marker": {
             "colorbar": {
              "outlinewidth": 0,
              "ticks": ""
             }
            },
            "type": "scattergeo"
           }
          ],
          "scattergl": [
           {
            "marker": {
             "colorbar": {
              "outlinewidth": 0,
              "ticks": ""
             }
            },
            "type": "scattergl"
           }
          ],
          "scattermapbox": [
           {
            "marker": {
             "colorbar": {
              "outlinewidth": 0,
              "ticks": ""
             }
            },
            "type": "scattermapbox"
           }
          ],
          "scatterpolar": [
           {
            "marker": {
             "colorbar": {
              "outlinewidth": 0,
              "ticks": ""
             }
            },
            "type": "scatterpolar"
           }
          ],
          "scatterpolargl": [
           {
            "marker": {
             "colorbar": {
              "outlinewidth": 0,
              "ticks": ""
             }
            },
            "type": "scatterpolargl"
           }
          ],
          "scatterternary": [
           {
            "marker": {
             "colorbar": {
              "outlinewidth": 0,
              "ticks": ""
             }
            },
            "type": "scatterternary"
           }
          ],
          "surface": [
           {
            "colorbar": {
             "outlinewidth": 0,
             "ticks": ""
            },
            "colorscale": [
             [
              0,
              "#0d0887"
             ],
             [
              0.1111111111111111,
              "#46039f"
             ],
             [
              0.2222222222222222,
              "#7201a8"
             ],
             [
              0.3333333333333333,
              "#9c179e"
             ],
             [
              0.4444444444444444,
              "#bd3786"
             ],
             [
              0.5555555555555556,
              "#d8576b"
             ],
             [
              0.6666666666666666,
              "#ed7953"
             ],
             [
              0.7777777777777778,
              "#fb9f3a"
             ],
             [
              0.8888888888888888,
              "#fdca26"
             ],
             [
              1,
              "#f0f921"
             ]
            ],
            "type": "surface"
           }
          ],
          "table": [
           {
            "cells": {
             "fill": {
              "color": "#EBF0F8"
             },
             "line": {
              "color": "white"
             }
            },
            "header": {
             "fill": {
              "color": "#C8D4E3"
             },
             "line": {
              "color": "white"
             }
            },
            "type": "table"
           }
          ]
         },
         "layout": {
          "annotationdefaults": {
           "arrowcolor": "#2a3f5f",
           "arrowhead": 0,
           "arrowwidth": 1
          },
          "autotypenumbers": "strict",
          "coloraxis": {
           "colorbar": {
            "outlinewidth": 0,
            "ticks": ""
           }
          },
          "colorscale": {
           "diverging": [
            [
             0,
             "#8e0152"
            ],
            [
             0.1,
             "#c51b7d"
            ],
            [
             0.2,
             "#de77ae"
            ],
            [
             0.3,
             "#f1b6da"
            ],
            [
             0.4,
             "#fde0ef"
            ],
            [
             0.5,
             "#f7f7f7"
            ],
            [
             0.6,
             "#e6f5d0"
            ],
            [
             0.7,
             "#b8e186"
            ],
            [
             0.8,
             "#7fbc41"
            ],
            [
             0.9,
             "#4d9221"
            ],
            [
             1,
             "#276419"
            ]
           ],
           "sequential": [
            [
             0,
             "#0d0887"
            ],
            [
             0.1111111111111111,
             "#46039f"
            ],
            [
             0.2222222222222222,
             "#7201a8"
            ],
            [
             0.3333333333333333,
             "#9c179e"
            ],
            [
             0.4444444444444444,
             "#bd3786"
            ],
            [
             0.5555555555555556,
             "#d8576b"
            ],
            [
             0.6666666666666666,
             "#ed7953"
            ],
            [
             0.7777777777777778,
             "#fb9f3a"
            ],
            [
             0.8888888888888888,
             "#fdca26"
            ],
            [
             1,
             "#f0f921"
            ]
           ],
           "sequentialminus": [
            [
             0,
             "#0d0887"
            ],
            [
             0.1111111111111111,
             "#46039f"
            ],
            [
             0.2222222222222222,
             "#7201a8"
            ],
            [
             0.3333333333333333,
             "#9c179e"
            ],
            [
             0.4444444444444444,
             "#bd3786"
            ],
            [
             0.5555555555555556,
             "#d8576b"
            ],
            [
             0.6666666666666666,
             "#ed7953"
            ],
            [
             0.7777777777777778,
             "#fb9f3a"
            ],
            [
             0.8888888888888888,
             "#fdca26"
            ],
            [
             1,
             "#f0f921"
            ]
           ]
          },
          "colorway": [
           "#636efa",
           "#EF553B",
           "#00cc96",
           "#ab63fa",
           "#FFA15A",
           "#19d3f3",
           "#FF6692",
           "#B6E880",
           "#FF97FF",
           "#FECB52"
          ],
          "font": {
           "color": "#2a3f5f"
          },
          "geo": {
           "bgcolor": "white",
           "lakecolor": "white",
           "landcolor": "#E5ECF6",
           "showlakes": true,
           "showland": true,
           "subunitcolor": "white"
          },
          "hoverlabel": {
           "align": "left"
          },
          "hovermode": "closest",
          "mapbox": {
           "style": "light"
          },
          "paper_bgcolor": "white",
          "plot_bgcolor": "#E5ECF6",
          "polar": {
           "angularaxis": {
            "gridcolor": "white",
            "linecolor": "white",
            "ticks": ""
           },
           "bgcolor": "#E5ECF6",
           "radialaxis": {
            "gridcolor": "white",
            "linecolor": "white",
            "ticks": ""
           }
          },
          "scene": {
           "xaxis": {
            "backgroundcolor": "#E5ECF6",
            "gridcolor": "white",
            "gridwidth": 2,
            "linecolor": "white",
            "showbackground": true,
            "ticks": "",
            "zerolinecolor": "white"
           },
           "yaxis": {
            "backgroundcolor": "#E5ECF6",
            "gridcolor": "white",
            "gridwidth": 2,
            "linecolor": "white",
            "showbackground": true,
            "ticks": "",
            "zerolinecolor": "white"
           },
           "zaxis": {
            "backgroundcolor": "#E5ECF6",
            "gridcolor": "white",
            "gridwidth": 2,
            "linecolor": "white",
            "showbackground": true,
            "ticks": "",
            "zerolinecolor": "white"
           }
          },
          "shapedefaults": {
           "line": {
            "color": "#2a3f5f"
           }
          },
          "ternary": {
           "aaxis": {
            "gridcolor": "white",
            "linecolor": "white",
            "ticks": ""
           },
           "baxis": {
            "gridcolor": "white",
            "linecolor": "white",
            "ticks": ""
           },
           "bgcolor": "#E5ECF6",
           "caxis": {
            "gridcolor": "white",
            "linecolor": "white",
            "ticks": ""
           }
          },
          "title": {
           "x": 0.05
          },
          "xaxis": {
           "automargin": true,
           "gridcolor": "white",
           "linecolor": "white",
           "ticks": "",
           "title": {
            "standoff": 15
           },
           "zerolinecolor": "white",
           "zerolinewidth": 2
          },
          "yaxis": {
           "automargin": true,
           "gridcolor": "white",
           "linecolor": "white",
           "ticks": "",
           "title": {
            "standoff": 15
           },
           "zerolinecolor": "white",
           "zerolinewidth": 2
          }
         }
        },
        "title": {
         "text": "Plotting whole closing stock price with prediction"
        },
        "xaxis": {
         "anchor": "y",
         "domain": [
          0,
          1
         ],
         "showgrid": false,
         "title": {
          "text": "Timestamp"
         }
        },
        "yaxis": {
         "anchor": "x",
         "domain": [
          0,
          1
         ],
         "showgrid": false,
         "title": {
          "text": "Stock price"
         }
        }
       }
      },
      "text/html": [
       "<div>                            <div id=\"b7f89a31-6c92-46f8-af7b-f879dc7ceb5c\" class=\"plotly-graph-div\" style=\"height:525px; width:100%;\"></div>            <script type=\"text/javascript\">                require([\"plotly\"], function(Plotly) {                    window.PLOTLYENV=window.PLOTLYENV || {};                                    if (document.getElementById(\"b7f89a31-6c92-46f8-af7b-f879dc7ceb5c\")) {                    Plotly.newPlot(                        \"b7f89a31-6c92-46f8-af7b-f879dc7ceb5c\",                        [{\"hovertemplate\":\"variable=0<br>Timestamp=%{x}<br>Stock price=%{y}<extra></extra>\",\"legendgroup\":\"0\",\"line\":{\"color\":\"#636efa\",\"dash\":\"solid\"},\"marker\":{\"symbol\":\"circle\"},\"mode\":\"lines\",\"name\":\"Close price\",\"orientation\":\"v\",\"showlegend\":true,\"x\":[0,1,2,3,4,5,6,7,8,9,10,11,12,13,14,15,16,17,18,19,20,21,22,23,24,25,26,27,28,29,30,31,32,33,34,35,36,37,38,39,40,41,42,43,44,45,46,47,48,49,50,51,52,53,54,55,56,57,58,59,60,61,62,63,64,65,66,67,68,69,70,71,72,73,74,75,76,77,78,79,80,81,82,83,84,85,86,87,88,89,90,91,92,93,94,95,96,97,98,99,100,101,102,103,104,105,106,107,108,109,110,111,112,113,114,115,116,117,118,119,120,121,122,123,124,125,126,127,128,129,130,131,132,133,134,135,136,137,138,139,140,141,142,143,144,145,146,147,148,149,150,151,152,153,154,155,156,157,158,159,160,161,162,163,164,165,166,167,168,169,170,171,172,173,174,175,176,177,178,179,180,181,182,183,184,185,186,187,188,189,190,191,192,193,194,195,196,197,198,199,200,201,202,203,204,205,206,207,208,209,210,211,212,213,214,215,216,217,218,219,220,221,222,223,224,225,226,227,228,229,230,231,232,233,234,235,236,237,238,239,240,241,242,243,244,245,246,247,248,249,250,251,252,253,254,255,256,257,258,259,260,261,262,263,264,265,266,267,268,269,270,271,272,273,274,275,276,277,278,279,280,281,282,283,284,285,286,287,288,289,290,291,292,293,294,295,296,297,298,299,300,301,302,303,304,305,306,307,308,309,310,311,312,313,314,315,316,317,318,319,320,321,322,323,324,325,326,327,328,329,330,331,332,333,334,335,336,337,338,339,340,341,342,343,344,345,346,347,348,349,350,351,352,353,354,355,356,357,358,359,360,361,362,363,364,365,366,367,368,369,370,371,372,373,374,375,376,377,378,379,380,381,382,383,384,385,386,387,388,389,390,391,392,393,394,395,396,397,398,399,400,401,402,403,404,405,406,407,408,409,410,411,412,413,414,415,416,417,418,419,420,421,422,423,424,425,426,427,428,429,430,431,432,433,434,435,436,437,438,439,440,441,442,443,444,445,446,447,448,449,450,451,452,453,454,455,456,457,458,459,460,461,462,463,464,465,466,467,468,469,470,471,472,473,474,475,476,477,478,479,480,481,482,483,484,485,486,487,488,489,490,491,492,493,494,495,496,497,498,499,500,501,502,503,504,505,506,507,508,509,510,511,512,513,514,515],\"xaxis\":\"x\",\"y\":[11414.03418,10245.296875,10511.813477,10169.567383,10280.351563,10369.563477,10131.516602,10242.347656,10363.138672,10400.915039,10442.170898,10323.755859,10680.837891,10796.951172,10974.905273,10948.990234,10944.585938,11094.34668,10938.271484,10462.259766,10538.459961,10246.186523,10760.066406,10692.716797,10750.723633,10775.269531,10709.652344,10844.640625,10784.491211,10619.452148,10575.974609,10549.329102,10669.583008,10793.339844,10604.40625,10668.96875,10915.685547,11064.458008,11296.361328,11384.181641,11555.363281,11425.899414,11429.506836,11495.349609,11322.123047,11358.101563,11483.359375,11742.037109,11916.334961,12823.689453,12965.891602,12931.539063,13108.0625,13031.173828,13075.248047,13654.21875,13271.285156,13437.882813,13546.522461000002,13780.995116999999,13737.109375,13550.489258000001,13950.300781,14133.707031,15579.848633000001,15565.880859000003,14833.753905999998,15479.567383000001,15332.31543,15290.902343999998,15701.339843999998,16276.34375,16317.808594,16068.138671999997,15955.587891000001,16716.111328,17645.40625,17804.005859,17817.089844,18621.314453,18642.232422,18370.001953,18364.121094,19107.464844,18732.121094,17150.623047,17108.402344,17717.414063,18177.484375,19625.835938,18802.998047,19201.091797,19445.398438,18699.765625,19154.230469,19345.121094,19191.630859,18321.144531,18553.916016,18264.992188,18058.904297,18803.65625,19142.382813,19246.644531,19417.076172,21310.597656,22805.162109,23137.960938,23869.832031,23477.294922,22803.082031,23783.029297,23241.345703,23735.949219,24664.791016,26437.037109,26272.294922,27084.808594,27362.4375,28840.953125,29001.720702999995,29374.152344,32127.267577999995,32782.023438,31971.914063,33992.429688,36824.363281,39371.042969,40797.609375,40254.546875,38356.441406,35566.65625,33922.960938,37316.359375,39187.328125,36825.367188,36178.140625,35791.277344,36630.074219,36069.804688,35547.75,30825.699219,33005.761719,32067.642577999995,32289.378906000005,32366.392577999995,32569.849609,30432.546875,33466.097656,34316.386719,34269.523438,33114.359375,33537.175781,35510.289063,37472.089844,36926.066406,38144.308594,39266.011719,38903.441406,46196.464844,46481.105469,44918.183594,47909.332031,47504.851563,47105.515625,48717.289063,47945.058594,49199.871094,52149.007813,51679.796875,55888.132813,56099.51953099999,57539.94531299999,54207.320313,48824.425781,49705.332031,47093.851563,46339.761719,46188.453125,45137.769531,49631.242188,48378.988281,50538.242188,48561.167969,48927.304688,48912.382813,51206.691406,52246.523438,54824.117188,56008.55078099999,57805.121094,57332.08984400001,61243.085938,59302.31640599999,55907.19921900001,56804.90234400001,58870.894531,57858.92187499999,58346.65234400001,58313.64453099999,57523.421875,54529.14453099999,54738.945313,52774.265625,51704.160156,55137.3125,55973.51171900001,55950.74609400001,57750.19921900001,58917.691406,58918.832031,59095.80859400001,59384.31250000001,57603.890625,58758.55468799999,59057.878906,58192.359375,56048.9375,58323.95312500001,58245.00390599998,59793.234375,60204.964844,59893.453125,63503.457031,63109.695313000004,63314.01171900001,61572.789063,60683.82031299999,56216.18359400001,55724.265625,56473.03125,53906.08984400001,51762.273438,51093.652344,50050.867188,49004.253906,54021.75390599999,55033.117188,54824.703125,53555.109375,57750.17578099999,57828.05078099998,56631.078125,57200.29296900001,53333.539063,57424.007813,56396.515625,57356.40234400001,58803.777344,58232.31640599999,55859.796875,56704.57421900001,49150.535156,49716.191406,49880.535156,46760.1875,46456.058594,43537.511719,42909.402344,37002.441406,40782.738281,37304.691406,37536.632813,34770.582031,38705.980469,38402.222656,39294.199219,38436.96875,35697.605469,34616.066406,35678.128906,37332.855469,36684.925781,37575.179688,39208.765625,36894.40625,35551.957031,35862.378906,33560.707031,33472.632813,37345.121094,36702.597656,37334.398438,35552.515625,39097.859375,40218.476563,40406.269531,38347.0625,38053.503906,35787.246094,35615.871094,35698.296875,31676.693359,32505.660156,33723.027344,34662.4375,31637.77929700001,32186.277344,34649.644531,34434.335938,35867.777344,35040.835938,33572.117188,33897.046875,34668.546875,35287.78125,33746.003906,34235.195313,33855.328125,32877.371094,33798.011719,33520.519531,34240.1875,33155.847656,32702.025391000006,32822.347656,31780.730469,31421.539063,31533.068358999994,31796.810547,30817.832031,29807.347656,32110.693359,32313.105469,33581.550781,34292.445313,35350.1875,37337.535156,39406.941406,39995.90625,40008.421875,42235.546875,41626.195313,39974.894531,39201.945313,38152.980469,39747.503906,40869.554688,42816.5,44555.800781,43798.117188,46365.402344,45585.03125,45593.636719,44428.289063,47793.320313,47096.945313,47047.003906,46004.484375,44695.359375,44801.1875,46717.578125,49339.175781,48905.492188,49321.652344,49546.148438,47706.117188,48960.789063,46942.21875,49058.667969,48902.402344,48829.832031,47054.984375,47166.6875,48847.027344,49327.722656,50025.375,49944.625,51753.410156,52633.535156,46811.128906,46091.390625,46391.421875,44883.910156,45201.457031,46063.269531,44963.074219,47092.492188,48176.347656,47783.359375,47267.519531,48278.363281,47260.21875,42843.800781,40693.675781,43574.507813,44895.097656,42839.75,42716.59375,43208.539063,42235.730469,41034.542969,41564.363281,43790.894531,48116.941406,47711.488281,48199.953125,49112.902344,51514.8125,55361.44921900001,53805.984375,53967.84765599999,54968.22265599999,54771.578125,57484.789063,56041.05859400001,57401.09765599999,57321.523438,61593.949219,60892.179688,61553.617188,62026.078125,64261.992188,65992.835938,62210.171875,60692.265625,61393.617188,60930.835938,63039.824219,60363.79296900001,58482.386719,60622.13671900002,62227.96484400001,61888.832031,61318.95703099999,61004.40625000001,63226.402344,62970.04687500001,61452.230469,61125.675781,61527.48046900001,63326.988281,67566.82812499999,66971.828125,64995.23046900001,64949.960938,64155.94140599999,64469.52734400001,65466.83984400001,63557.87109400002,60161.246094,60368.011719,56942.13671900001,58119.578125,59697.195313000004,58730.476563,56289.289063,57569.07421900001,56280.42578099999,57274.679688,53569.765625,54815.078125,57248.45703099999,57806.56640599998,57005.42578099999,57229.828125,56477.81640599999,53598.246094,49200.703125,49368.847656,50582.625,50700.085938,50504.796875,47672.121094,47243.304688,49362.507813,50098.335938,46737.480469,46612.632813,48896.722656,47665.425781,46202.144531,46848.777344,46707.015625,46880.277344,48936.613281,48628.511719,50784.539063,50822.195313,50429.859375,50809.515625,50640.417969,47588.855469,46444.710938,47178.125,46306.445313,47686.8125,47345.21875,46458.117188,45897.574219,43569.003906,43160.929688,41557.902344,41733.941406,41911.601563,41821.261719,42735.855469,43949.101563,42591.570313,43099.699219,43177.398438,43113.878906,42250.550781,42375.632813,41744.328125,41933.546875,42920.92988459854,43134.16733020004,43309.39121627228,43487.6448213812,43669.17120773201,43852.234705774885,44034.699106833104,44213.98315875563,44393.3117150256,44570.10352349196],\"yaxis\":\"y\",\"type\":\"scatter\"}],                        {\"template\":{\"data\":{\"histogram2dcontour\":[{\"type\":\"histogram2dcontour\",\"colorbar\":{\"outlinewidth\":0,\"ticks\":\"\"},\"colorscale\":[[0.0,\"#0d0887\"],[0.1111111111111111,\"#46039f\"],[0.2222222222222222,\"#7201a8\"],[0.3333333333333333,\"#9c179e\"],[0.4444444444444444,\"#bd3786\"],[0.5555555555555556,\"#d8576b\"],[0.6666666666666666,\"#ed7953\"],[0.7777777777777778,\"#fb9f3a\"],[0.8888888888888888,\"#fdca26\"],[1.0,\"#f0f921\"]]}],\"choropleth\":[{\"type\":\"choropleth\",\"colorbar\":{\"outlinewidth\":0,\"ticks\":\"\"}}],\"histogram2d\":[{\"type\":\"histogram2d\",\"colorbar\":{\"outlinewidth\":0,\"ticks\":\"\"},\"colorscale\":[[0.0,\"#0d0887\"],[0.1111111111111111,\"#46039f\"],[0.2222222222222222,\"#7201a8\"],[0.3333333333333333,\"#9c179e\"],[0.4444444444444444,\"#bd3786\"],[0.5555555555555556,\"#d8576b\"],[0.6666666666666666,\"#ed7953\"],[0.7777777777777778,\"#fb9f3a\"],[0.8888888888888888,\"#fdca26\"],[1.0,\"#f0f921\"]]}],\"heatmap\":[{\"type\":\"heatmap\",\"colorbar\":{\"outlinewidth\":0,\"ticks\":\"\"},\"colorscale\":[[0.0,\"#0d0887\"],[0.1111111111111111,\"#46039f\"],[0.2222222222222222,\"#7201a8\"],[0.3333333333333333,\"#9c179e\"],[0.4444444444444444,\"#bd3786\"],[0.5555555555555556,\"#d8576b\"],[0.6666666666666666,\"#ed7953\"],[0.7777777777777778,\"#fb9f3a\"],[0.8888888888888888,\"#fdca26\"],[1.0,\"#f0f921\"]]}],\"heatmapgl\":[{\"type\":\"heatmapgl\",\"colorbar\":{\"outlinewidth\":0,\"ticks\":\"\"},\"colorscale\":[[0.0,\"#0d0887\"],[0.1111111111111111,\"#46039f\"],[0.2222222222222222,\"#7201a8\"],[0.3333333333333333,\"#9c179e\"],[0.4444444444444444,\"#bd3786\"],[0.5555555555555556,\"#d8576b\"],[0.6666666666666666,\"#ed7953\"],[0.7777777777777778,\"#fb9f3a\"],[0.8888888888888888,\"#fdca26\"],[1.0,\"#f0f921\"]]}],\"contourcarpet\":[{\"type\":\"contourcarpet\",\"colorbar\":{\"outlinewidth\":0,\"ticks\":\"\"}}],\"contour\":[{\"type\":\"contour\",\"colorbar\":{\"outlinewidth\":0,\"ticks\":\"\"},\"colorscale\":[[0.0,\"#0d0887\"],[0.1111111111111111,\"#46039f\"],[0.2222222222222222,\"#7201a8\"],[0.3333333333333333,\"#9c179e\"],[0.4444444444444444,\"#bd3786\"],[0.5555555555555556,\"#d8576b\"],[0.6666666666666666,\"#ed7953\"],[0.7777777777777778,\"#fb9f3a\"],[0.8888888888888888,\"#fdca26\"],[1.0,\"#f0f921\"]]}],\"surface\":[{\"type\":\"surface\",\"colorbar\":{\"outlinewidth\":0,\"ticks\":\"\"},\"colorscale\":[[0.0,\"#0d0887\"],[0.1111111111111111,\"#46039f\"],[0.2222222222222222,\"#7201a8\"],[0.3333333333333333,\"#9c179e\"],[0.4444444444444444,\"#bd3786\"],[0.5555555555555556,\"#d8576b\"],[0.6666666666666666,\"#ed7953\"],[0.7777777777777778,\"#fb9f3a\"],[0.8888888888888888,\"#fdca26\"],[1.0,\"#f0f921\"]]}],\"mesh3d\":[{\"type\":\"mesh3d\",\"colorbar\":{\"outlinewidth\":0,\"ticks\":\"\"}}],\"scatter\":[{\"fillpattern\":{\"fillmode\":\"overlay\",\"size\":10,\"solidity\":0.2},\"type\":\"scatter\"}],\"parcoords\":[{\"type\":\"parcoords\",\"line\":{\"colorbar\":{\"outlinewidth\":0,\"ticks\":\"\"}}}],\"scatterpolargl\":[{\"type\":\"scatterpolargl\",\"marker\":{\"colorbar\":{\"outlinewidth\":0,\"ticks\":\"\"}}}],\"bar\":[{\"error_x\":{\"color\":\"#2a3f5f\"},\"error_y\":{\"color\":\"#2a3f5f\"},\"marker\":{\"line\":{\"color\":\"#E5ECF6\",\"width\":0.5},\"pattern\":{\"fillmode\":\"overlay\",\"size\":10,\"solidity\":0.2}},\"type\":\"bar\"}],\"scattergeo\":[{\"type\":\"scattergeo\",\"marker\":{\"colorbar\":{\"outlinewidth\":0,\"ticks\":\"\"}}}],\"scatterpolar\":[{\"type\":\"scatterpolar\",\"marker\":{\"colorbar\":{\"outlinewidth\":0,\"ticks\":\"\"}}}],\"histogram\":[{\"marker\":{\"pattern\":{\"fillmode\":\"overlay\",\"size\":10,\"solidity\":0.2}},\"type\":\"histogram\"}],\"scattergl\":[{\"type\":\"scattergl\",\"marker\":{\"colorbar\":{\"outlinewidth\":0,\"ticks\":\"\"}}}],\"scatter3d\":[{\"type\":\"scatter3d\",\"line\":{\"colorbar\":{\"outlinewidth\":0,\"ticks\":\"\"}},\"marker\":{\"colorbar\":{\"outlinewidth\":0,\"ticks\":\"\"}}}],\"scattermapbox\":[{\"type\":\"scattermapbox\",\"marker\":{\"colorbar\":{\"outlinewidth\":0,\"ticks\":\"\"}}}],\"scatterternary\":[{\"type\":\"scatterternary\",\"marker\":{\"colorbar\":{\"outlinewidth\":0,\"ticks\":\"\"}}}],\"scattercarpet\":[{\"type\":\"scattercarpet\",\"marker\":{\"colorbar\":{\"outlinewidth\":0,\"ticks\":\"\"}}}],\"carpet\":[{\"aaxis\":{\"endlinecolor\":\"#2a3f5f\",\"gridcolor\":\"white\",\"linecolor\":\"white\",\"minorgridcolor\":\"white\",\"startlinecolor\":\"#2a3f5f\"},\"baxis\":{\"endlinecolor\":\"#2a3f5f\",\"gridcolor\":\"white\",\"linecolor\":\"white\",\"minorgridcolor\":\"white\",\"startlinecolor\":\"#2a3f5f\"},\"type\":\"carpet\"}],\"table\":[{\"cells\":{\"fill\":{\"color\":\"#EBF0F8\"},\"line\":{\"color\":\"white\"}},\"header\":{\"fill\":{\"color\":\"#C8D4E3\"},\"line\":{\"color\":\"white\"}},\"type\":\"table\"}],\"barpolar\":[{\"marker\":{\"line\":{\"color\":\"#E5ECF6\",\"width\":0.5},\"pattern\":{\"fillmode\":\"overlay\",\"size\":10,\"solidity\":0.2}},\"type\":\"barpolar\"}],\"pie\":[{\"automargin\":true,\"type\":\"pie\"}]},\"layout\":{\"autotypenumbers\":\"strict\",\"colorway\":[\"#636efa\",\"#EF553B\",\"#00cc96\",\"#ab63fa\",\"#FFA15A\",\"#19d3f3\",\"#FF6692\",\"#B6E880\",\"#FF97FF\",\"#FECB52\"],\"font\":{\"color\":\"#2a3f5f\"},\"hovermode\":\"closest\",\"hoverlabel\":{\"align\":\"left\"},\"paper_bgcolor\":\"white\",\"plot_bgcolor\":\"#E5ECF6\",\"polar\":{\"bgcolor\":\"#E5ECF6\",\"angularaxis\":{\"gridcolor\":\"white\",\"linecolor\":\"white\",\"ticks\":\"\"},\"radialaxis\":{\"gridcolor\":\"white\",\"linecolor\":\"white\",\"ticks\":\"\"}},\"ternary\":{\"bgcolor\":\"#E5ECF6\",\"aaxis\":{\"gridcolor\":\"white\",\"linecolor\":\"white\",\"ticks\":\"\"},\"baxis\":{\"gridcolor\":\"white\",\"linecolor\":\"white\",\"ticks\":\"\"},\"caxis\":{\"gridcolor\":\"white\",\"linecolor\":\"white\",\"ticks\":\"\"}},\"coloraxis\":{\"colorbar\":{\"outlinewidth\":0,\"ticks\":\"\"}},\"colorscale\":{\"sequential\":[[0.0,\"#0d0887\"],[0.1111111111111111,\"#46039f\"],[0.2222222222222222,\"#7201a8\"],[0.3333333333333333,\"#9c179e\"],[0.4444444444444444,\"#bd3786\"],[0.5555555555555556,\"#d8576b\"],[0.6666666666666666,\"#ed7953\"],[0.7777777777777778,\"#fb9f3a\"],[0.8888888888888888,\"#fdca26\"],[1.0,\"#f0f921\"]],\"sequentialminus\":[[0.0,\"#0d0887\"],[0.1111111111111111,\"#46039f\"],[0.2222222222222222,\"#7201a8\"],[0.3333333333333333,\"#9c179e\"],[0.4444444444444444,\"#bd3786\"],[0.5555555555555556,\"#d8576b\"],[0.6666666666666666,\"#ed7953\"],[0.7777777777777778,\"#fb9f3a\"],[0.8888888888888888,\"#fdca26\"],[1.0,\"#f0f921\"]],\"diverging\":[[0,\"#8e0152\"],[0.1,\"#c51b7d\"],[0.2,\"#de77ae\"],[0.3,\"#f1b6da\"],[0.4,\"#fde0ef\"],[0.5,\"#f7f7f7\"],[0.6,\"#e6f5d0\"],[0.7,\"#b8e186\"],[0.8,\"#7fbc41\"],[0.9,\"#4d9221\"],[1,\"#276419\"]]},\"xaxis\":{\"gridcolor\":\"white\",\"linecolor\":\"white\",\"ticks\":\"\",\"title\":{\"standoff\":15},\"zerolinecolor\":\"white\",\"automargin\":true,\"zerolinewidth\":2},\"yaxis\":{\"gridcolor\":\"white\",\"linecolor\":\"white\",\"ticks\":\"\",\"title\":{\"standoff\":15},\"zerolinecolor\":\"white\",\"automargin\":true,\"zerolinewidth\":2},\"scene\":{\"xaxis\":{\"backgroundcolor\":\"#E5ECF6\",\"gridcolor\":\"white\",\"linecolor\":\"white\",\"showbackground\":true,\"ticks\":\"\",\"zerolinecolor\":\"white\",\"gridwidth\":2},\"yaxis\":{\"backgroundcolor\":\"#E5ECF6\",\"gridcolor\":\"white\",\"linecolor\":\"white\",\"showbackground\":true,\"ticks\":\"\",\"zerolinecolor\":\"white\",\"gridwidth\":2},\"zaxis\":{\"backgroundcolor\":\"#E5ECF6\",\"gridcolor\":\"white\",\"linecolor\":\"white\",\"showbackground\":true,\"ticks\":\"\",\"zerolinecolor\":\"white\",\"gridwidth\":2}},\"shapedefaults\":{\"line\":{\"color\":\"#2a3f5f\"}},\"annotationdefaults\":{\"arrowcolor\":\"#2a3f5f\",\"arrowhead\":0,\"arrowwidth\":1},\"geo\":{\"bgcolor\":\"white\",\"landcolor\":\"#E5ECF6\",\"subunitcolor\":\"white\",\"showland\":true,\"showlakes\":true,\"lakecolor\":\"white\"},\"title\":{\"x\":0.05},\"mapbox\":{\"style\":\"light\"}}},\"xaxis\":{\"anchor\":\"y\",\"domain\":[0.0,1.0],\"title\":{\"text\":\"Timestamp\"},\"showgrid\":false},\"yaxis\":{\"anchor\":\"x\",\"domain\":[0.0,1.0],\"title\":{\"text\":\"Stock price\"},\"showgrid\":false},\"legend\":{\"title\":{\"text\":\"Stock\"},\"tracegroupgap\":0},\"margin\":{\"t\":60},\"title\":{\"text\":\"Plotting whole closing stock price with prediction\"},\"font\":{\"size\":15,\"color\":\"black\"},\"plot_bgcolor\":\"white\"},                        {\"responsive\": true}                    ).then(function(){\n",
       "                            \n",
       "var gd = document.getElementById('b7f89a31-6c92-46f8-af7b-f879dc7ceb5c');\n",
       "var x = new MutationObserver(function (mutations, observer) {{\n",
       "        var display = window.getComputedStyle(gd).display;\n",
       "        if (!display || display === 'none') {{\n",
       "            console.log([gd, 'removed!']);\n",
       "            Plotly.purge(gd);\n",
       "            observer.disconnect();\n",
       "        }}\n",
       "}});\n",
       "\n",
       "// Listen for the removal of the full notebook cells\n",
       "var notebookContainer = gd.closest('#notebook-container');\n",
       "if (notebookContainer) {{\n",
       "    x.observe(notebookContainer, {childList: true});\n",
       "}}\n",
       "\n",
       "// Listen for the clearing of the current output cell\n",
       "var outputEl = gd.closest('.output');\n",
       "if (outputEl) {{\n",
       "    x.observe(outputEl, {childList: true});\n",
       "}}\n",
       "\n",
       "                        })                };                });            </script>        </div>"
      ]
     },
     "metadata": {},
     "output_type": "display_data"
    }
   ],
   "source": [
    "Crypto.final_lstm_prediction_next10_days()"
   ]
  }
 ],
 "metadata": {
  "kernelspec": {
   "display_name": "Python 3",
   "language": "python",
   "name": "python3"
  },
  "language_info": {
   "codemirror_mode": {
    "name": "ipython",
    "version": 3
   },
   "file_extension": ".py",
   "mimetype": "text/x-python",
   "name": "python",
   "nbconvert_exporter": "python",
   "pygments_lexer": "ipython3",
   "version": "3.7.9"
  }
 },
 "nbformat": 4,
 "nbformat_minor": 5
}
